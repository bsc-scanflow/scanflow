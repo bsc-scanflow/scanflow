{
 "cells": [
  {
   "cell_type": "code",
   "execution_count": 3,
   "id": "cc47e6a5",
   "metadata": {},
   "outputs": [],
   "source": [
    "import random\n",
    "from scipy.stats import poisson\n",
    "\n",
    "def gen_starttime(totalapp):\n",
    "    #generate random values from Poisson distribution with mean=mu and sample size=size\n",
    "    starttimelist = poisson.rvs(mu=10, size=totalapp)\n",
    "#     print(starttimelist)\n",
    "    return starttimelist\n",
    "    \n",
    "    \n",
    "def gen_nNodes(totalapp):\n",
    "    nNodeslist = [random.randint(1, 4) for p in range(0, totalapp)]\n",
    "    print(nNodeslist)\n",
    "    return nNodeslist\n",
    "    \n",
    "def gen_benchmarkseq(totalapp,benchmarks,benchmarkdistribution,benchmarkcharacteristic):\n",
    "    shuffledbenchmarks=[]\n",
    "    for i, benchmark in enumerate(benchmarks):\n",
    "        for i in range(benchmarkdistribution[i]):\n",
    "            shuffledbenchmarks.append(f\"{benchmark}-{i}\")\n",
    "#     print(shuffledbenchmarks)\n",
    "    random.shuffle(shuffledbenchmarks)\n",
    "    print(shuffledbenchmarks)\n",
    "    \n",
    "    characteristiclist = []\n",
    "    for ben in shuffledbenchmarks:\n",
    "        characteristiclist.append(benchmarkcharacteristic.get(ben.split(\"-\")[0]))\n",
    "    print(characteristiclist)\n",
    "    return shuffledbenchmarks,characteristiclist"
   ]
  },
  {
   "cell_type": "code",
   "execution_count": 4,
   "id": "71213a0f",
   "metadata": {},
   "outputs": [],
   "source": [
    "import csv\n",
    "import subprocess\n",
    "\n",
    "header = ['index','benchmark','times','nTasks','nNodes','starttime','characteristic']\n",
    "\n",
    "def writeCSVExp2Parameters(filename, totalapp, shuffledbenchmarks, nTasks, nNodeslist, startimelist, characteristiclist):\n",
    "\n",
    "    with open(f\"{filename}.csv\", \"w\", encoding=\"UTF8\") as f:\n",
    "        writer = csv.writer(f)\n",
    "        writer.writerow(header)\n",
    "        for i in range(totalapp):\n",
    "#             print(shuffledbenchmarks[i])\n",
    "            splitstr = shuffledbenchmarks[i].split(\"-\")\n",
    "            writer.writerow([i, \n",
    "                             splitstr[0], splitstr[1], \n",
    "                             nTasks, nNodeslist[i],\n",
    "                             starttimelist[i],\n",
    "                             characteristiclist[i]\n",
    "                            ])\n",
    "        "
   ]
  },
  {
   "cell_type": "code",
   "execution_count": 5,
   "id": "384b44e8",
   "metadata": {
    "scrolled": true
   },
   "outputs": [
    {
     "name": "stdout",
     "output_type": "stream",
     "text": [
      "[1, 2, 1, 3, 4, 4, 2, 2, 1, 2, 3, 2, 2, 2, 3, 2, 3, 3, 3, 1, 2, 1, 2, 1, 3, 3, 3, 1, 1, 3, 4, 2, 2, 3, 3, 2, 3, 4, 2, 3, 3, 1, 1, 1, 1, 1, 1, 3, 2, 3, 1, 1, 1, 4, 2, 1, 4, 1, 3, 4]\n",
      "['hpccrandomaccess-3', 'hpccdgemm-3', 'hpccptrans-2', 'hpccdgemm-6', 'hpccptrans-9', 'hpccfft-7', 'hpccrandomaccess-6', 'hpccrandomring-4', 'hpccdgemm-9', 'hpccstream-0', 'hpccstream-7', 'hpccptrans-0', 'hpccptrans-4', 'hpccrandomaccess-2', 'hpccstream-3', 'hpccdgemm-2', 'hpccptrans-7', 'hpccstream-9', 'hpccrandomaccess-5', 'hpccrandomaccess-4', 'hpccrandomring-2', 'hpccfft-6', 'hpccrandomring-9', 'hpccrandomring-3', 'hpccdgemm-8', 'hpccstream-6', 'hpccfft-8', 'hpccstream-4', 'hpccstream-5', 'hpccptrans-5', 'hpccrandomaccess-9', 'hpccstream-2', 'hpccfft-3', 'hpccdgemm-7', 'hpccrandomaccess-8', 'hpccstream-1', 'hpccrandomring-5', 'hpccrandomaccess-7', 'hpccfft-4', 'hpccdgemm-4', 'hpccdgemm-5', 'hpccrandomring-8', 'hpccrandomring-6', 'hpccrandomring-1', 'hpccstream-8', 'hpccdgemm-0', 'hpccrandomring-7', 'hpccptrans-1', 'hpccrandomaccess-1', 'hpccfft-9', 'hpccptrans-3', 'hpccrandomring-0', 'hpccdgemm-1', 'hpccrandomaccess-0', 'hpccptrans-8', 'hpccfft-1', 'hpccfft-5', 'hpccfft-0', 'hpccptrans-6', 'hpccfft-2']\n",
      "['network', 'cpu', 'network', 'cpu', 'network', 'network', 'network', 'network', 'cpu', 'memory', 'memory', 'network', 'network', 'network', 'memory', 'cpu', 'network', 'memory', 'network', 'network', 'network', 'network', 'network', 'network', 'cpu', 'memory', 'network', 'memory', 'memory', 'network', 'network', 'memory', 'network', 'cpu', 'network', 'memory', 'network', 'network', 'network', 'cpu', 'cpu', 'network', 'network', 'network', 'memory', 'cpu', 'network', 'network', 'network', 'network', 'network', 'network', 'cpu', 'network', 'network', 'network', 'network', 'network', 'network', 'network']\n",
      "[2, 2, 4, 4, 1, 4, 2, 1, 3, 1, 1, 1, 1, 2, 3, 3, 3, 4, 1, 4, 4, 2, 1, 4, 3, 3, 4, 4, 4, 4, 3, 4, 2, 4, 3, 1, 1, 2, 4, 1, 2, 2, 4, 1, 4, 4, 4, 4, 2, 4, 3, 1, 1, 1, 1, 3, 3, 2, 3, 1]\n",
      "['hpccfft-4', 'hpccdgemm-0', 'hpccrandomaccess-4', 'hpccrandomaccess-7', 'hpccrandomaccess-1', 'hpccstream-7', 'hpccstream-2', 'hpccfft-9', 'hpccstream-9', 'hpccfft-8', 'hpccfft-0', 'hpccdgemm-3', 'hpccfft-1', 'hpccrandomaccess-9', 'hpccrandomaccess-0', 'hpccstream-6', 'hpccfft-6', 'hpccrandomring-9', 'hpccptrans-0', 'hpccrandomring-2', 'hpccstream-4', 'hpccstream-0', 'hpccdgemm-7', 'hpccrandomring-7', 'hpccdgemm-9', 'hpccfft-5', 'hpccptrans-6', 'hpccptrans-3', 'hpccstream-8', 'hpccrandomaccess-3', 'hpccrandomring-1', 'hpccfft-2', 'hpccfft-7', 'hpccptrans-9', 'hpccrandomaccess-8', 'hpccstream-5', 'hpccrandomaccess-6', 'hpccptrans-7', 'hpccrandomaccess-5', 'hpccdgemm-8', 'hpccptrans-1', 'hpccptrans-5', 'hpccrandomring-0', 'hpccptrans-2', 'hpccrandomaccess-2', 'hpccfft-3', 'hpccstream-3', 'hpccrandomring-6', 'hpccstream-1', 'hpccrandomring-3', 'hpccrandomring-4', 'hpccdgemm-5', 'hpccdgemm-1', 'hpccdgemm-2', 'hpccptrans-4', 'hpccdgemm-4', 'hpccrandomring-8', 'hpccrandomring-5', 'hpccptrans-8', 'hpccdgemm-6']\n",
      "['network', 'cpu', 'network', 'network', 'network', 'memory', 'memory', 'network', 'memory', 'network', 'network', 'cpu', 'network', 'network', 'network', 'memory', 'network', 'network', 'network', 'network', 'memory', 'memory', 'cpu', 'network', 'cpu', 'network', 'network', 'network', 'memory', 'network', 'network', 'network', 'network', 'network', 'network', 'memory', 'network', 'network', 'network', 'cpu', 'network', 'network', 'network', 'network', 'network', 'network', 'memory', 'network', 'memory', 'network', 'network', 'cpu', 'cpu', 'cpu', 'network', 'cpu', 'network', 'network', 'network', 'cpu']\n",
      "[4, 4, 4, 1, 1, 4, 2, 4, 3, 4, 4, 3, 1, 3, 4, 2, 3, 3, 4, 4, 4, 2, 2, 2, 2, 4, 3, 3, 1, 3, 1, 3, 2, 4, 2, 4, 2, 2, 4, 2, 3, 2, 2, 3, 3, 1, 1, 3, 4, 2, 1, 2, 1, 3, 4, 2, 2, 3, 4, 3]\n",
      "['hpccdgemm-1', 'hpccstream-2', 'hpccfft-0', 'hpccfft-7', 'hpccrandomaccess-4', 'hpccrandomaccess-0', 'hpccfft-1', 'hpccstream-7', 'hpccstream-9', 'hpccptrans-5', 'hpccrandomring-3', 'hpccrandomring-0', 'hpccstream-8', 'hpccrandomring-8', 'hpccptrans-8', 'hpccdgemm-2', 'hpccstream-1', 'hpccdgemm-6', 'hpccdgemm-4', 'hpccptrans-4', 'hpccfft-2', 'hpccstream-6', 'hpccptrans-7', 'hpccdgemm-8', 'hpccrandomaccess-7', 'hpccdgemm-7', 'hpccfft-5', 'hpccrandomring-2', 'hpccfft-3', 'hpccfft-8', 'hpccdgemm-3', 'hpccstream-4', 'hpccrandomaccess-5', 'hpccfft-9', 'hpccrandomaccess-3', 'hpccstream-3', 'hpccrandomaccess-9', 'hpccfft-6', 'hpccrandomaccess-6', 'hpccptrans-6', 'hpccrandomaccess-2', 'hpccrandomaccess-8', 'hpccrandomring-9', 'hpccstream-0', 'hpccptrans-0', 'hpccstream-5', 'hpccptrans-2', 'hpccptrans-9', 'hpccrandomring-4', 'hpccrandomring-7', 'hpccrandomring-1', 'hpccdgemm-5', 'hpccptrans-1', 'hpccrandomring-6', 'hpccdgemm-9', 'hpccfft-4', 'hpccrandomaccess-1', 'hpccdgemm-0', 'hpccrandomring-5', 'hpccptrans-3']\n",
      "['cpu', 'memory', 'network', 'network', 'network', 'network', 'network', 'memory', 'memory', 'network', 'network', 'network', 'memory', 'network', 'network', 'cpu', 'memory', 'cpu', 'cpu', 'network', 'network', 'memory', 'network', 'cpu', 'network', 'cpu', 'network', 'network', 'network', 'network', 'cpu', 'memory', 'network', 'network', 'network', 'memory', 'network', 'network', 'network', 'network', 'network', 'network', 'network', 'memory', 'network', 'memory', 'network', 'network', 'network', 'network', 'network', 'cpu', 'network', 'network', 'cpu', 'network', 'network', 'cpu', 'network', 'network']\n",
      "[3, 2, 1, 3, 4, 2, 2, 4, 1, 3, 4, 3, 1, 2, 2, 1, 1, 3, 2, 4, 3, 4, 3, 4, 2, 2, 1, 3, 2, 2, 2, 1, 1, 4, 3, 2, 4, 1, 3, 1, 1, 2, 2, 1, 3, 1, 2, 1, 3, 1, 1, 3, 2, 1, 2, 3, 3, 2, 2, 2]\n",
      "['hpccptrans-3', 'hpccrandomring-8', 'hpccdgemm-7', 'hpccdgemm-8', 'hpccrandomring-7', 'hpccrandomring-0', 'hpccstream-5', 'hpccdgemm-2', 'hpccfft-2', 'hpccdgemm-3', 'hpccstream-0', 'hpccrandomaccess-4', 'hpccptrans-9', 'hpccfft-0', 'hpccstream-8', 'hpccfft-5', 'hpccptrans-7', 'hpccstream-4', 'hpccrandomaccess-5', 'hpccrandomaccess-3', 'hpccrandomaccess-6', 'hpccptrans-6', 'hpccfft-4', 'hpccdgemm-5', 'hpccptrans-5', 'hpccrandomaccess-8', 'hpccfft-8', 'hpccptrans-8', 'hpccdgemm-9', 'hpccrandomring-2', 'hpccfft-9', 'hpccdgemm-6', 'hpccptrans-1', 'hpccdgemm-1', 'hpccdgemm-0', 'hpccstream-1', 'hpccrandomaccess-1', 'hpccfft-6', 'hpccrandomaccess-7', 'hpccptrans-2', 'hpccfft-1', 'hpccdgemm-4', 'hpccrandomring-6', 'hpccrandomring-1', 'hpccfft-7', 'hpccstream-6', 'hpccrandomring-5', 'hpccptrans-4', 'hpccstream-3', 'hpccrandomaccess-0', 'hpccrandomring-4', 'hpccrandomring-9', 'hpccstream-9', 'hpccrandomaccess-9', 'hpccstream-2', 'hpccstream-7', 'hpccptrans-0', 'hpccfft-3', 'hpccrandomaccess-2', 'hpccrandomring-3']\n",
      "['network', 'network', 'cpu', 'cpu', 'network', 'network', 'memory', 'cpu', 'network', 'cpu', 'memory', 'network', 'network', 'network', 'memory', 'network', 'network', 'memory', 'network', 'network', 'network', 'network', 'network', 'cpu', 'network', 'network', 'network', 'network', 'cpu', 'network', 'network', 'cpu', 'network', 'cpu', 'cpu', 'memory', 'network', 'network', 'network', 'network', 'network', 'cpu', 'network', 'network', 'network', 'memory', 'network', 'network', 'memory', 'network', 'network', 'network', 'memory', 'network', 'memory', 'memory', 'network', 'network', 'network', 'network']\n",
      "[2, 4, 4, 4, 2, 3, 2, 1, 3, 2, 3, 4, 2, 1, 2, 1, 3, 4, 2, 3, 3, 4, 3, 4, 4, 1, 1, 3, 4, 1, 2, 4, 3, 2, 4, 2, 3, 2, 3, 2, 4, 4, 1, 3, 2, 4, 1, 3, 3, 2, 3, 1, 3, 2, 4, 3, 1, 1, 1, 3]\n",
      "['hpccfft-8', 'hpccptrans-2', 'hpccrandomaccess-2', 'hpccfft-3', 'hpccrandomaccess-4', 'hpccrandomaccess-5', 'hpccstream-9', 'hpccrandomring-9', 'hpccdgemm-9', 'hpccrandomaccess-0', 'hpccfft-9', 'hpccstream-7', 'hpccstream-3', 'hpccfft-4', 'hpccptrans-1', 'hpccptrans-9', 'hpccdgemm-8', 'hpccdgemm-0', 'hpccptrans-5', 'hpccrandomaccess-7', 'hpccptrans-0', 'hpccptrans-4', 'hpccstream-5', 'hpccrandomaccess-8', 'hpccrandomring-7', 'hpccdgemm-4', 'hpccptrans-7', 'hpccrandomaccess-3', 'hpccdgemm-6', 'hpccrandomring-0', 'hpccfft-2', 'hpccrandomaccess-9', 'hpccrandomring-1', 'hpccrandomaccess-6', 'hpccfft-1', 'hpccfft-7', 'hpccptrans-6', 'hpccrandomring-3', 'hpccdgemm-1', 'hpccstream-1', 'hpccrandomring-6', 'hpccrandomring-8', 'hpccstream-6', 'hpccfft-0', 'hpccfft-5', 'hpccstream-4', 'hpccdgemm-5', 'hpccstream-0', 'hpccdgemm-3', 'hpccdgemm-7', 'hpccrandomring-5', 'hpccstream-2', 'hpccptrans-8', 'hpccrandomring-4', 'hpccptrans-3', 'hpccstream-8', 'hpccrandomaccess-1', 'hpccrandomring-2', 'hpccdgemm-2', 'hpccfft-6']\n",
      "['network', 'network', 'network', 'network', 'network', 'network', 'memory', 'network', 'cpu', 'network', 'network', 'memory', 'memory', 'network', 'network', 'network', 'cpu', 'cpu', 'network', 'network', 'network', 'network', 'memory', 'network', 'network', 'cpu', 'network', 'network', 'cpu', 'network', 'network', 'network', 'network', 'network', 'network', 'network', 'network', 'network', 'cpu', 'memory', 'network', 'network', 'memory', 'network', 'network', 'memory', 'cpu', 'memory', 'cpu', 'cpu', 'network', 'memory', 'network', 'network', 'network', 'memory', 'network', 'network', 'cpu', 'network']\n",
      "[4, 2, 4, 2, 2, 4, 2, 3, 3, 2, 2, 4, 1, 1, 1, 4, 1, 4, 2, 4, 3, 4, 2, 3, 2, 2, 3, 4, 1, 3, 3, 2, 4, 3, 3, 1, 1, 4, 2, 2, 2, 1, 2, 2, 4, 2, 1, 4, 2, 1, 2, 3, 4, 3, 1, 2, 1, 2, 3, 3]\n",
      "['hpccrandomaccess-4', 'hpccstream-2', 'hpccfft-1', 'hpccrandomring-0', 'hpccrandomring-1', 'hpccptrans-8', 'hpccstream-9', 'hpccrandomaccess-5', 'hpccstream-4', 'hpccfft-0', 'hpccdgemm-3', 'hpccrandomaccess-3', 'hpccdgemm-9', 'hpccptrans-1', 'hpccfft-3', 'hpccfft-7', 'hpccdgemm-1', 'hpccptrans-2', 'hpccfft-8', 'hpccfft-2', 'hpccrandomaccess-0', 'hpccstream-0', 'hpccptrans-5', 'hpccdgemm-4', 'hpccrandomring-3', 'hpccstream-8', 'hpccdgemm-0', 'hpccfft-6', 'hpccstream-5', 'hpccptrans-3', 'hpccstream-3', 'hpccrandomaccess-1', 'hpccrandomaccess-9', 'hpccrandomring-4', 'hpccrandomring-6', 'hpccfft-4', 'hpccfft-5', 'hpccfft-9', 'hpccrandomring-2', 'hpccrandomring-9', 'hpccstream-6', 'hpccptrans-0', 'hpccptrans-4', 'hpccdgemm-8', 'hpccrandomring-8', 'hpccrandomaccess-7', 'hpccrandomaccess-2', 'hpccptrans-9', 'hpccdgemm-2', 'hpccrandomring-7', 'hpccrandomaccess-8', 'hpccptrans-6', 'hpccptrans-7', 'hpccdgemm-7', 'hpccstream-7', 'hpccdgemm-6', 'hpccstream-1', 'hpccrandomaccess-6', 'hpccrandomring-5', 'hpccdgemm-5']\n",
      "['network', 'memory', 'network', 'network', 'network', 'network', 'memory', 'network', 'memory', 'network', 'cpu', 'network', 'cpu', 'network', 'network', 'network', 'cpu', 'network', 'network', 'network', 'network', 'memory', 'network', 'cpu', 'network', 'memory', 'cpu', 'network', 'memory', 'network', 'memory', 'network', 'network', 'network', 'network', 'network', 'network', 'network', 'network', 'network', 'memory', 'network', 'network', 'cpu', 'network', 'network', 'network', 'network', 'cpu', 'network', 'network', 'network', 'network', 'cpu', 'memory', 'cpu', 'memory', 'network', 'network', 'cpu']\n",
      "[4, 1, 1, 3, 1, 1, 2, 2, 4, 2, 1, 2, 4, 4, 2, 2, 1, 4, 3, 2, 2, 4, 1, 3, 4, 3, 4, 3, 2, 4, 3, 4, 3, 2, 4, 1, 2, 4, 1, 1, 3, 3, 1, 3, 1, 2, 4, 2, 1, 1, 3, 2, 3, 4, 4, 1, 4, 3, 3, 4]\n",
      "['hpccfft-6', 'hpccstream-3', 'hpccrandomaccess-5', 'hpccrandomring-8', 'hpccrandomring-1', 'hpccrandomring-0', 'hpccdgemm-3', 'hpccfft-5', 'hpccdgemm-2', 'hpccrandomaccess-9', 'hpccrandomring-6', 'hpccfft-8', 'hpccstream-4', 'hpccfft-1', 'hpccstream-9', 'hpccptrans-2', 'hpccfft-2', 'hpccptrans-3', 'hpccrandomaccess-4', 'hpccstream-0', 'hpccrandomaccess-3', 'hpccstream-7', 'hpccrandomring-9', 'hpccfft-9', 'hpccdgemm-8', 'hpccstream-8', 'hpccfft-0', 'hpccrandomaccess-1', 'hpccrandomaccess-8', 'hpccdgemm-4', 'hpccptrans-7', 'hpccstream-1', 'hpccrandomring-3', 'hpccfft-4', 'hpccptrans-5', 'hpccrandomaccess-7', 'hpccdgemm-1', 'hpccrandomring-2', 'hpccdgemm-9', 'hpccdgemm-7', 'hpccfft-7', 'hpccptrans-8', 'hpccstream-5', 'hpccrandomaccess-2', 'hpccrandomring-7', 'hpccrandomring-4', 'hpccdgemm-6', 'hpccdgemm-5', 'hpccptrans-4', 'hpccstream-2', 'hpccptrans-1', 'hpccrandomaccess-0', 'hpccstream-6', 'hpccdgemm-0', 'hpccrandomring-5', 'hpccrandomaccess-6', 'hpccptrans-0', 'hpccptrans-6', 'hpccptrans-9', 'hpccfft-3']\n",
      "['network', 'memory', 'network', 'network', 'network', 'network', 'cpu', 'network', 'cpu', 'network', 'network', 'network', 'memory', 'network', 'memory', 'network', 'network', 'network', 'network', 'memory', 'network', 'memory', 'network', 'network', 'cpu', 'memory', 'network', 'network', 'network', 'cpu', 'network', 'memory', 'network', 'network', 'network', 'network', 'cpu', 'network', 'cpu', 'cpu', 'network', 'network', 'memory', 'network', 'network', 'network', 'cpu', 'cpu', 'network', 'memory', 'network', 'network', 'memory', 'cpu', 'network', 'network', 'network', 'network', 'network', 'network']\n",
      "[4, 2, 1, 1, 4, 2, 3, 2, 4, 3, 2, 2, 4, 1, 3, 2, 4, 1, 3, 2, 2, 3, 4, 4, 1, 3, 3, 1, 2, 3, 3, 2, 4, 4, 2, 4, 4, 1, 2, 1, 3, 2, 1, 2, 1, 3, 4, 1, 4, 4, 1, 2, 2, 4, 2, 3, 4, 3, 3, 2]\n",
      "['hpccrandomaccess-2', 'hpccrandomring-2', 'hpccptrans-3', 'hpccfft-4', 'hpccptrans-6', 'hpccptrans-4', 'hpccptrans-2', 'hpccrandomring-4', 'hpccptrans-1', 'hpccfft-8', 'hpccptrans-9', 'hpccdgemm-8', 'hpccstream-5', 'hpccstream-8', 'hpccfft-1', 'hpccptrans-8', 'hpccstream-3', 'hpccrandomring-1', 'hpccrandomring-7', 'hpccfft-9', 'hpccrandomaccess-6', 'hpccdgemm-4', 'hpccfft-2', 'hpccrandomring-8', 'hpccstream-4', 'hpccstream-2', 'hpccdgemm-0', 'hpccstream-0', 'hpccrandomaccess-5', 'hpccfft-3', 'hpccstream-7', 'hpccptrans-7', 'hpccrandomring-5', 'hpccstream-9', 'hpccdgemm-2', 'hpccfft-6', 'hpccdgemm-9', 'hpccdgemm-3', 'hpccdgemm-5', 'hpccrandomaccess-1', 'hpccrandomaccess-8', 'hpccdgemm-1', 'hpccstream-6', 'hpccfft-0', 'hpccrandomaccess-7', 'hpccfft-5', 'hpccrandomaccess-3', 'hpccdgemm-6', 'hpccrandomaccess-0', 'hpccrandomaccess-9', 'hpccstream-1', 'hpccptrans-0', 'hpccrandomring-6', 'hpccptrans-5', 'hpccfft-7', 'hpccrandomring-9', 'hpccrandomaccess-4', 'hpccrandomring-0', 'hpccdgemm-7', 'hpccrandomring-3']\n",
      "['network', 'network', 'network', 'network', 'network', 'network', 'network', 'network', 'network', 'network', 'network', 'cpu', 'memory', 'memory', 'network', 'network', 'memory', 'network', 'network', 'network', 'network', 'cpu', 'network', 'network', 'memory', 'memory', 'cpu', 'memory', 'network', 'network', 'memory', 'network', 'network', 'memory', 'cpu', 'network', 'cpu', 'cpu', 'cpu', 'network', 'network', 'cpu', 'memory', 'network', 'network', 'network', 'network', 'cpu', 'network', 'network', 'memory', 'network', 'network', 'network', 'network', 'network', 'network', 'network', 'cpu', 'network']\n",
      "[1, 3, 1, 2, 3, 4, 2, 2, 1, 3, 3, 2, 3, 4, 4, 3, 4, 4, 3, 2, 3, 4, 3, 3, 2, 1, 3, 1, 4, 2, 2, 2, 4, 1, 3, 4, 4, 4, 1, 4, 2, 1, 4, 4, 3, 3, 2, 4, 2, 4, 4, 1, 3, 3, 2, 4, 1, 4, 4, 3]\n",
      "['hpccrandomring-2', 'hpccfft-7', 'hpccptrans-6', 'hpccdgemm-9', 'hpccrandomring-7', 'hpccrandomring-1', 'hpccfft-9', 'hpccrandomring-3', 'hpccptrans-4', 'hpccptrans-7', 'hpccptrans-1', 'hpccstream-3', 'hpccrandomring-0', 'hpccstream-8', 'hpccrandomaccess-0', 'hpccfft-3', 'hpccdgemm-8', 'hpccptrans-3', 'hpccdgemm-2', 'hpccdgemm-3', 'hpccrandomaccess-5', 'hpccrandomaccess-2', 'hpccstream-7', 'hpccstream-1', 'hpccrandomaccess-4', 'hpccrandomaccess-8', 'hpccptrans-5', 'hpccrandomring-6', 'hpccdgemm-4', 'hpccstream-6', 'hpccdgemm-6', 'hpccdgemm-0', 'hpccfft-1', 'hpccfft-8', 'hpccrandomring-5', 'hpccrandomaccess-9', 'hpccfft-4', 'hpccstream-4', 'hpccrandomring-8', 'hpccfft-5', 'hpccrandomaccess-7', 'hpccptrans-0', 'hpccptrans-2', 'hpccfft-0', 'hpccrandomring-4', 'hpccrandomaccess-1', 'hpccdgemm-1', 'hpccstream-0', 'hpccstream-5', 'hpccdgemm-7', 'hpccrandomaccess-3', 'hpccptrans-9', 'hpccdgemm-5', 'hpccfft-6', 'hpccstream-9', 'hpccrandomring-9', 'hpccfft-2', 'hpccptrans-8', 'hpccstream-2', 'hpccrandomaccess-6']\n",
      "['network', 'network', 'network', 'cpu', 'network', 'network', 'network', 'network', 'network', 'network', 'network', 'memory', 'network', 'memory', 'network', 'network', 'cpu', 'network', 'cpu', 'cpu', 'network', 'network', 'memory', 'memory', 'network', 'network', 'network', 'network', 'cpu', 'memory', 'cpu', 'cpu', 'network', 'network', 'network', 'network', 'network', 'memory', 'network', 'network', 'network', 'network', 'network', 'network', 'network', 'network', 'cpu', 'memory', 'memory', 'cpu', 'network', 'network', 'cpu', 'network', 'memory', 'network', 'network', 'network', 'memory', 'network']\n",
      "[2, 2, 3, 2, 2, 2, 2, 4, 1, 4, 4, 4, 3, 4, 1, 3, 2, 2, 3, 4, 1, 4, 4, 1, 2, 2, 1, 4, 2, 1, 2, 3, 4, 2, 4, 3, 2, 4, 3, 3, 4, 1, 4, 3, 1, 2, 3, 3, 1, 4, 4, 1, 1, 4, 2, 1, 4, 4, 4, 2]\n",
      "['hpccdgemm-5', 'hpccrandomring-2', 'hpccfft-8', 'hpccrandomaccess-5', 'hpccrandomring-4', 'hpccstream-9', 'hpccfft-5', 'hpccptrans-7', 'hpccrandomring-6', 'hpccptrans-6', 'hpccdgemm-2', 'hpccdgemm-9', 'hpccrandomaccess-3', 'hpccfft-2', 'hpccptrans-8', 'hpccrandomring-9', 'hpccrandomaccess-6', 'hpccrandomring-7', 'hpccptrans-5', 'hpccrandomring-1', 'hpccfft-1', 'hpccptrans-3', 'hpccdgemm-4', 'hpccdgemm-3', 'hpccstream-5', 'hpccrandomring-8', 'hpccstream-8', 'hpccrandomaccess-8', 'hpccdgemm-1', 'hpccrandomaccess-0', 'hpccdgemm-6', 'hpccrandomaccess-1', 'hpccfft-6', 'hpccrandomring-3', 'hpccptrans-4', 'hpccstream-7', 'hpccptrans-2', 'hpccfft-4', 'hpccptrans-9', 'hpccfft-9', 'hpccrandomaccess-9', 'hpccfft-7', 'hpccptrans-0', 'hpccstream-4', 'hpccrandomaccess-7', 'hpccdgemm-0', 'hpccptrans-1', 'hpccrandomring-5', 'hpccdgemm-8', 'hpccfft-3', 'hpccstream-3', 'hpccdgemm-7', 'hpccrandomaccess-2', 'hpccrandomaccess-4', 'hpccstream-6', 'hpccfft-0', 'hpccstream-2', 'hpccrandomring-0', 'hpccstream-1', 'hpccstream-0']\n",
      "['cpu', 'network', 'network', 'network', 'network', 'memory', 'network', 'network', 'network', 'network', 'cpu', 'cpu', 'network', 'network', 'network', 'network', 'network', 'network', 'network', 'network', 'network', 'network', 'cpu', 'cpu', 'memory', 'network', 'memory', 'network', 'cpu', 'network', 'cpu', 'network', 'network', 'network', 'network', 'memory', 'network', 'network', 'network', 'network', 'network', 'network', 'network', 'memory', 'network', 'cpu', 'network', 'network', 'cpu', 'network', 'memory', 'cpu', 'network', 'network', 'memory', 'network', 'memory', 'network', 'memory', 'memory']\n"
     ]
    }
   ],
   "source": [
    "#fixed\n",
    "nTasks = 16\n",
    "#parameters\n",
    "benchmarks = ['hpccfft','hpccdgemm','hpccrandomring','hpccrandomaccess','hpccptrans','hpccstream']\n",
    "totalapp = 60\n",
    "benchmarkdistribution = [10,10,10,10,10,10]\n",
    "benchmarkcharacteristic = {'hpccfft':'network',\n",
    "                           'hpccdgemm':'cpu',\n",
    "                           'hpccrandomring':'network',\n",
    "                           'hpccrandomaccess':'network',\n",
    "                           'hpccptrans':'network',\n",
    "                           'hpccstream':'memory'}\n",
    "\n",
    "for times in range(10):\n",
    "    nNodeslist = gen_nNodes(totalapp)\n",
    "    shuffledbenchmarks, characteristiclist = gen_benchmarkseq(totalapp, benchmarks, benchmarkdistribution, benchmarkcharacteristic)\n",
    "    starttimelist = gen_starttime(totalapp)\n",
    "    writeCSVExp2Parameters(f\"exp2parametersS1-{times}\", \n",
    "                           totalapp,\n",
    "                           shuffledbenchmarks,\n",
    "                           nTasks, nNodeslist, starttimelist, characteristiclist)"
   ]
  },
  {
   "cell_type": "code",
   "execution_count": 4,
   "id": "c64ca5de",
   "metadata": {},
   "outputs": [
    {
     "name": "stdout",
     "output_type": "stream",
     "text": [
      "[10  8  5 10  7  9  7  5 12 15 14 12  7 10  8  9  8  9 11 10 10  8 12  9\n",
      "  5  6 11 14 11 11  8 11 12 12  5  9 11 11 10  8  7 12 19 10 12 12 11  7\n",
      " 11 11 11  7  6  3 11  9  8  6 13  9]\n"
     ]
    },
    {
     "name": "stderr",
     "output_type": "stream",
     "text": [
      "/gpfs/bsc_home/xpliu/anaconda3/lib/python3.8/site-packages/seaborn/distributions.py:2557: FutureWarning: `distplot` is a deprecated function and will be removed in a future version. Please adapt your code to use either `displot` (a figure-level function with similar flexibility) or `histplot` (an axes-level function for histograms).\n",
      "  warnings.warn(msg, FutureWarning)\n"
     ]
    },
    {
     "data": {
      "image/png": "[encoded data removed]",
      "text/plain": [
       "<Figure size 432x288 with 1 Axes>"
      ]
     },
     "metadata": {
      "needs_background": "light"
     },
     "output_type": "display_data"
    }
   ],
   "source": [
    "from numpy import random\n",
    "import matplotlib.pyplot as plt\n",
    "import seaborn as sns\n",
    "# random.poisson(lam=2, size=1000)\n",
    "time = gen_starttime(60)\n",
    "print(time)\n",
    "sns.distplot(time, kde=False)\n",
    "\n",
    "plt.show()"
   ]
  },
  {
   "cell_type": "code",
   "execution_count": null,
   "id": "727f23a0",
   "metadata": {},
   "outputs": [],
   "source": []
  }
 ],
 "metadata": {
  "kernelspec": {
   "display_name": "Python 3",
   "language": "python",
   "name": "python3"
  },
  "language_info": {
   "codemirror_mode": {
    "name": "ipython",
    "version": 3
   },
   "file_extension": ".py",
   "mimetype": "text/x-python",
   "name": "python",
   "nbconvert_exporter": "python",
   "pygments_lexer": "ipython3",
   "version": "3.8.5"
  }
 },
 "nbformat": 4,
 "nbformat_minor": 5
}
