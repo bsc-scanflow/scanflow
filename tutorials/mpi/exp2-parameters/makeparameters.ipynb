{
 "cells": [
  {
   "cell_type": "code",
   "execution_count": 45,
   "id": "cc47e6a5",
   "metadata": {},
   "outputs": [],
   "source": [
    "import random\n",
    "from scipy.stats import poisson\n",
    "\n",
    "def gen_starttime(totalapp):\n",
    "    #generate random values from Poisson distribution with mean=mu and sample size=size\n",
    "#     starttimelist = poisson.rvs(mu=10, size=totalapp)\n",
    "    starttimelist = [random.randint(0, 1200) for p in range(0, totalapp)]\n",
    "    print(starttimelist)\n",
    "    return starttimelist\n",
    "    \n",
    "    \n",
    "def gen_nNodes(totalapp):\n",
    "    nNodeslist = [random.randint(1, 1) for p in range(0, totalapp)]\n",
    "    print(nNodeslist)\n",
    "    return nNodeslist\n",
    "# def gen_nNodes(totalapp):\n",
    "#     nNodeslist = [random.randint(1, 4) for p in range(0, totalapp)]\n",
    "#     print(nNodeslist)\n",
    "#     return nNodeslist\n",
    "    \n",
    "def gen_benchmarkseq(totalapp,benchmarks,benchmarkdistribution,benchmarkcharacteristic):\n",
    "    shuffledbenchmarks=[]\n",
    "    for i, benchmark in enumerate(benchmarks):\n",
    "        for i in range(benchmarkdistribution[i]):\n",
    "            shuffledbenchmarks.append(f\"{benchmark}-{i}\")\n",
    "#     print(shuffledbenchmarks)\n",
    "    random.shuffle(shuffledbenchmarks)\n",
    "    print(shuffledbenchmarks)\n",
    "    \n",
    "    characteristiclist = []\n",
    "    for ben in shuffledbenchmarks:\n",
    "        characteristiclist.append(benchmarkcharacteristic.get(ben.split(\"-\")[0]))\n",
    "    print(characteristiclist)\n",
    "    return shuffledbenchmarks,characteristiclist"
   ]
  },
  {
   "cell_type": "code",
   "execution_count": 46,
   "id": "71213a0f",
   "metadata": {},
   "outputs": [],
   "source": [
    "import csv\n",
    "import subprocess\n",
    "\n",
    "header = ['index','benchmark','times','nTasks','nNodes','starttime','characteristic']\n",
    "\n",
    "def writeCSVExp2Parameters(filename, totalapp, shuffledbenchmarks, nTasks, nNodeslist, startimelist, characteristiclist):\n",
    "\n",
    "    with open(f\"{filename}.csv\", \"w\", encoding=\"UTF8\") as f:\n",
    "        writer = csv.writer(f)\n",
    "        writer.writerow(header)\n",
    "        for i in range(totalapp):\n",
    "#             print(shuffledbenchmarks[i])\n",
    "            splitstr = shuffledbenchmarks[i].split(\"-\")\n",
    "            writer.writerow([i, \n",
    "                             splitstr[0], splitstr[1], \n",
    "                             nTasks, nNodeslist[i],\n",
    "                             starttimelist[i],\n",
    "                             characteristiclist[i]\n",
    "                            ])\n",
    "        "
   ]
  },
  {
   "cell_type": "code",
   "execution_count": 48,
   "id": "384b44e8",
   "metadata": {
    "scrolled": true
   },
   "outputs": [
    {
     "name": "stdout",
     "output_type": "stream",
     "text": [
      "[1, 1, 1, 1, 1, 1, 1, 1, 1, 1, 1, 1, 1, 1, 1, 1, 1, 1, 1, 1]\n",
      "['hpccstream-2', 'hpccstream-0', 'hpccrandomring-3', 'nasep-0', 'hpccdgemm-2', 'hpccstream-3', 'hpccrandomring-2', 'hpccdgemm-3', 'hpccstream-1', 'hpccrandomring-1', 'hpccfft-3', 'nasep-3', 'hpccrandomring-0', 'hpccfft-2', 'nasep-2', 'hpccdgemm-0', 'hpccdgemm-1', 'hpccfft-0', 'nasep-1', 'hpccfft-1']\n",
      "['memory', 'memory', 'network', 'cpu', 'cpu', 'memory', 'network', 'cpu', 'memory', 'network', 'network', 'cpu', 'network', 'network', 'cpu', 'cpu', 'cpu', 'network', 'cpu', 'network']\n",
      "[553, 154, 896, 704, 564, 272, 472, 651, 853, 717, 654, 165, 1167, 47, 385, 478, 142, 810, 567, 255]\n"
     ]
    }
   ],
   "source": [
    "#fixed\n",
    "nTasks = 16\n",
    "#parameters\n",
    "# benchmarks = ['hpccfft','hpccdgemm','hpccrandomring','hpccrandomaccess','hpccptrans','hpccstream']\n",
    "# totalapp = 60\n",
    "# benchmarkdistribution = [10,10,10,10,10,10]\n",
    "benchmarks = ['hpccdgemm','nasep','hpccfft','hpccrandomring','hpccstream']\n",
    "totalapp = 20\n",
    "benchmarkdistribution = [4,4,4,4,4]\n",
    "benchmarkcharacteristic = {'hpccfft':'network',\n",
    "                           'hpccdgemm':'cpu',\n",
    "                           'hpccrandomring':'network',\n",
    "                           'hpccrandomaccess':'network',\n",
    "                           'hpccptrans':'network',\n",
    "                           'hpccstream':'memory',\n",
    "                           'nasep':'cpu'}\n",
    "\n",
    "for times in range(1):\n",
    "    nNodeslist = gen_nNodes(totalapp)\n",
    "    shuffledbenchmarks, characteristiclist = gen_benchmarkseq(totalapp, benchmarks, benchmarkdistribution, benchmarkcharacteristic)\n",
    "    starttimelist = gen_starttime(totalapp)\n",
    "    writeCSVExp2Parameters(f\"exp2parametersS3-{times}\", \n",
    "                           totalapp,\n",
    "                           shuffledbenchmarks,\n",
    "                           nTasks, nNodeslist, starttimelist, characteristiclist)"
   ]
  },
  {
   "cell_type": "code",
   "execution_count": 39,
   "id": "c64ca5de",
   "metadata": {},
   "outputs": [
    {
     "name": "stdout",
     "output_type": "stream",
     "text": [
      "[404, 503, 335, 454, 274, 320, 319, 335, 468, 549, 70, 157, 145, 291, 48, 407, 357, 331, 323, 181]\n",
      "[404, 503, 335, 454, 274, 320, 319, 335, 468, 549, 70, 157, 145, 291, 48, 407, 357, 331, 323, 181]\n"
     ]
    },
    {
     "data": {
      "image/png": "[encoded data removed]",
      "text/plain": [
       "<Figure size 432x288 with 1 Axes>"
      ]
     },
     "metadata": {
      "needs_background": "light"
     },
     "output_type": "display_data"
    }
   ],
   "source": [
    "from numpy import random\n",
    "import matplotlib.pyplot as plt\n",
    "import seaborn as sns\n",
    "# random.poisson(lam=2, size=1000)\n",
    "time = gen_starttime(20)\n",
    "print(time)\n",
    "sns.distplot(time, kde=False)\n",
    "\n",
    "plt.show()"
   ]
  },
  {
   "cell_type": "code",
   "execution_count": null,
   "id": "727f23a0",
   "metadata": {},
   "outputs": [],
   "source": []
  }
 ],
 "metadata": {
  "kernelspec": {
   "display_name": "Python 3",
   "language": "python",
   "name": "python3"
  },
  "language_info": {
   "codemirror_mode": {
    "name": "ipython",
    "version": 3
   },
   "file_extension": ".py",
   "mimetype": "text/x-python",
   "name": "python",
   "nbconvert_exporter": "python",
   "pygments_lexer": "ipython3",
   "version": "3.8.5"
  }
 },
 "nbformat": 4,
 "nbformat_minor": 5
}
