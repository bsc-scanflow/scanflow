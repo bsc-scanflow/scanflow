{
 "cells": [
  {
   "cell_type": "code",
   "execution_count": 7,
   "id": "7cb109d7",
   "metadata": {},
   "outputs": [],
   "source": [
    "from seldon_core.seldon_client import SeldonClient\n",
    "import tensorflow as tf\n",
    "\n",
    "sc = SeldonClient(deployment_name=\"online-inference\", \\\n",
    "                  namespace=\"scanflow-mnist-dataengineer\", \\\n",
    "                  gateway=\"istio\", \\\n",
    "                  gateway_endpoint=\"172.30.0.58:40000\", payload_type='tftensor', transport=\"grpc\", \\\n",
    "                  client_return_type=\"proto\", \\\n",
    "                  grpc_max_send_message_length=419430400, grpc_max_receive_message_length=419430400)\n",
    "sc1 = SeldonClient(deployment_name=\"online-inference\", \\\n",
    "                  namespace=\"scanflow-mnist-dataengineer\", \\\n",
    "                  gateway=\"istio\", \\\n",
    "                  gateway_endpoint=\"172.30.0.58:40000\", payload_type='tftensor', transport=\"grpc\", \\\n",
    "                  client_return_type=\"proto\", \\\n",
    "                  grpc_max_send_message_length=419430400, grpc_max_receive_message_length=419430400)\n",
    "sc2 = SeldonClient(deployment_name=\"online-inference\", \\\n",
    "                  namespace=\"scanflow-mnist-dataengineer\", \\\n",
    "                  gateway=\"istio\", \\\n",
    "                  gateway_endpoint=\"172.30.0.58:40000\", payload_type='tftensor', transport=\"grpc\", \\\n",
    "                  client_return_type=\"proto\", \\\n",
    "                  grpc_max_send_message_length=419430400, grpc_max_receive_message_length=419430400)\n",
    "sc3 = SeldonClient(deployment_name=\"online-inference\", \\\n",
    "                  namespace=\"scanflow-mnist-dataengineer\", \\\n",
    "                  gateway=\"istio\", \\\n",
    "                  gateway_endpoint=\"172.30.0.58:40000\", payload_type='tftensor', transport=\"grpc\", \\\n",
    "                  client_return_type=\"proto\", \\\n",
    "                  grpc_max_send_message_length=419430400, grpc_max_receive_message_length=419430400)\n"
   ]
  },
  {
   "cell_type": "code",
   "execution_count": 8,
   "id": "330d8034",
   "metadata": {},
   "outputs": [
    {
     "name": "stdout",
     "output_type": "stream",
     "text": [
      "(1, 28, 28)\n",
      "(1, 28, 28, 1)\n"
     ]
    },
    {
     "data": {
      "image/png": "[encoded data removed]",
      "text/plain": [
       "<Figure size 432x288 with 1 Axes>"
      ]
     },
     "metadata": {
      "needs_background": "light"
     },
     "output_type": "display_data"
    }
   ],
   "source": [
    "from PIL import Image \n",
    "import numpy as np\n",
    "import matplotlib.pyplot as plt\n",
    "\n",
    "image_shape = (28,28)\n",
    "img = Image.open(\"0-0.png\")\n",
    "plt.imshow(img)\n",
    "img = np.expand_dims(img.resize(image_shape), axis=0)\n",
    "img = np.asarray(img, dtype='float32')\n",
    "# print(img)\n",
    "print(img.shape)\n",
    "imagereshape = img.reshape(1, 28, 28, 1)\n",
    "print(imagereshape.shape)"
   ]
  },
  {
   "cell_type": "code",
   "execution_count": 9,
   "id": "f299f80d",
   "metadata": {},
   "outputs": [
    {
     "name": "stdout",
     "output_type": "stream",
     "text": [
      "0\n",
      "1\n",
      "2\n",
      "3\n",
      "4\n",
      "5\n",
      "6\n",
      "7\n",
      "8\n",
      "9\n",
      "10\n",
      "11\n",
      "12\n",
      "13\n",
      "14\n",
      "15\n",
      "16\n",
      "17\n",
      "18\n",
      "19\n",
      "20\n",
      "21\n",
      "22\n",
      "23\n",
      "24\n",
      "25\n",
      "26\n",
      "27\n",
      "28\n",
      "29\n",
      "30\n",
      "31\n",
      "32\n",
      "33\n",
      "34\n",
      "35\n",
      "36\n",
      "37\n",
      "38\n",
      "39\n",
      "40\n",
      "41\n",
      "42\n",
      "43\n",
      "44\n",
      "45\n",
      "46\n",
      "47\n",
      "48\n",
      "49\n",
      "50\n",
      "51\n",
      "52\n",
      "53\n",
      "54\n",
      "55\n",
      "56\n",
      "57\n",
      "58\n",
      "59\n",
      "60\n",
      "61\n",
      "62\n",
      "63\n",
      "64\n",
      "65\n",
      "66\n",
      "67\n",
      "68\n",
      "69\n",
      "70\n",
      "71\n",
      "72\n",
      "73\n",
      "74\n",
      "75\n",
      "76\n",
      "77\n",
      "78\n",
      "79\n",
      "80\n",
      "81\n",
      "82\n",
      "83\n",
      "84\n",
      "85\n",
      "86\n",
      "87\n",
      "88\n",
      "89\n",
      "90\n",
      "91\n",
      "92\n",
      "93\n",
      "94\n",
      "95\n",
      "96\n",
      "97\n",
      "98\n",
      "99\n"
     ]
    }
   ],
   "source": [
    "import time\n",
    "i = 0\n",
    "while i<100:\n",
    "    sc.predict(data=imagereshape)\n",
    "    sc1.predict(data=imagereshape)\n",
    "    sc2.predict(data=imagereshape)\n",
    "    sc3.predict(data=imagereshape)\n",
    "    time.sleep(3)\n",
    "    print(i)\n",
    "    i = i + 1"
   ]
  },
  {
   "cell_type": "code",
   "execution_count": null,
   "id": "f4a0f1b4",
   "metadata": {},
   "outputs": [],
   "source": []
  },
  {
   "cell_type": "code",
   "execution_count": null,
   "id": "27b84381",
   "metadata": {},
   "outputs": [],
   "source": []
  }
 ],
 "metadata": {
  "kernelspec": {
   "display_name": "Python 3",
   "language": "python",
   "name": "python3"
  },
  "language_info": {
   "codemirror_mode": {
    "name": "ipython",
    "version": 3
   },
   "file_extension": ".py",
   "mimetype": "text/x-python",
   "name": "python",
   "nbconvert_exporter": "python",
   "pygments_lexer": "ipython3",
   "version": "3.8.5"
  }
 },
 "nbformat": 4,
 "nbformat_minor": 5
}
