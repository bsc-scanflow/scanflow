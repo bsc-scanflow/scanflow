{
 "cells": [
  {
   "cell_type": "markdown",
   "metadata": {},
   "source": [
    "# Workflow Advance Configuration(MNIST Inference)\n",
    "\n",
    "****Advance Configuration****: \n",
    "\n",
    "\n",
    "| Configuration | level | details |\n",
    "| :---- | :---- | :---- |\n",
    "| resource requirement | workflow | K8s V1Affinity: Affinity sets the scheduling constraints for all nodes in the io.argoproj.workflow.v1alpha1. Can be overridden by an affinity specified in the node\n",
    "|  | node(executor) | K8s V1ResourceRequirements: resource limits for a executor\n",
    "|  |  | K8s V1Affinity: Affinity sets the scheduling constraints for a executor\n",
    "|  | node(service) | K8s V1ResourceRequirements: resource limits for a service\n",
    "|  | | K8s V1Affinity: Affinity sets the scheduling constraints for a service\n",
    "| scaler | workflow | KedaScaler |\n",
    "\n",
    "- *Steps*\n",
    "    1. Import Scanflow and check the local environment\n",
    "    2. Develop scanflow application (workflows)\n",
    "    3. Build scanflow application\n",
    "    4. Deploy scanflow environment\n",
    "    5. Download production models\n",
    "    6. Submit the metadata and artifacts to the central Scanflow-tracker\n",
    "    7. ****[Inference]****\n",
    "        1. Batch-inference (Argo)\n",
    "        2. Online-inference (Seldon)\n",
    "    8. Clean environment"
   ]
  },
  {
   "cell_type": "markdown",
   "metadata": {},
   "source": [
    "## Steps\n",
    "### Step1: Import Scanflow and check the local environment\n",
    "1. import scanflow\n",
    "    - For defining and building scanflow application, we need to import ScanflowClient\n",
    "    - For deploying scanflow application, we need to import ScanflowDeployerClient\n",
    "    - For saving artifacts, we need to import ScanflowTrackerClient\n",
    "2. check local environment\n",
    "    - For deploying scanflow application\n",
    "        - If user starts the notebook at local and has the privilege to submit object on Kubernetes. We don't need to configure \"SCANFLOW_SERVER_URI\"\n",
    "        - If user starts the notebook inside Kubernetes pod, or the local user does not have privilege to connect Kubernetes. We need to configure \"SCANFLOW_SERVER_URI\"\n",
    "    - For saving deliverables, we need to configure url of Scanflow-tracker on \"SCANFLOW_TRACKER_URI\" and url of Scanflow-local-tracker on \"SCANFLOW_TRACKER_LOCAL_URI\"\n",
    "    - If Scanflow-tracker is using S3 artifact storage, we need to configure S3 url \"MLFLOW_S3_ENDPOINT_URL\", username \"AWS_ACCESS_KEY_ID\" and password \"AWS_SECRET_ACCESS_KEY\""
   ]
  },
  {
   "cell_type": "code",
   "execution_count": 1,
   "metadata": {},
   "outputs": [],
   "source": [
    "import sys\n",
    "import os\n",
    "sys.path.insert(0,'../..')\n",
    "\n",
    "import scanflow\n",
    "from scanflow.client import ScanflowClient\n",
    "from scanflow.client import ScanflowTrackerClient\n",
    "from scanflow.client import ScanflowDeployerClient"
   ]
  },
  {
   "cell_type": "code",
   "execution_count": 2,
   "metadata": {},
   "outputs": [
    {
     "name": "stdout",
     "output_type": "stream",
     "text": [
      "http://172.30.0.50:46666\n",
      "http://172.30.0.50:46667\n",
      "http://172.30.0.50:43447\n",
      "admin\n",
      "admin123\n"
     ]
    }
   ],
   "source": [
    "from scanflow.tools import env\n",
    "print(env.get_env(\"SCANFLOW_SERVER_URI\"))\n",
    "print(env.get_env(\"SCANFLOW_TRACKER_URI\"))\n",
    "#print(env.get_env(\"SCANFLOW_TRACKER_LOCAL_URI\"))\n",
    "print(env.get_env(\"MLFLOW_S3_ENDPOINT_URL\"))\n",
    "print(env.get_env(\"AWS_ACCESS_KEY_ID\"))\n",
    "print(env.get_env(\"AWS_SECRET_ACCESS_KEY\"))"
   ]
  },
  {
   "cell_type": "markdown",
   "metadata": {},
   "source": [
    "### Step2: Develop scanflow application\n",
    "\n",
    "  1. develop component (requirement.txt, script.py)\n",
    "  2. define scanflow workflows (Executor, Dependency, Workflow)\n",
    "  3. define agents to supervise the workflows\n",
    "  4. define scanflow application\n",
    "  ```bash\n",
    "     Application\n",
    "        - List: Workflow(DAG)\n",
    "                  - List: Executor, Service\n",
    "                  - List: Dependency\n",
    "  ```\n",
    "  \n",
    "  \n",
    "     For example:\n",
    "     \n",
    "  ```bash\n",
    "  mnist\n",
    "    - workflows\n",
    "       - load_data\n",
    "         - loaddata.py\n",
    "       - predictor-batch\n",
    "         - predictor.py\n",
    "```\n"
   ]
  },
  {
   "cell_type": "markdown",
   "metadata": {},
   "source": [
    "#### 2.1. Develop scanflow workflows"
   ]
  },
  {
   "cell_type": "code",
   "execution_count": 3,
   "metadata": {},
   "outputs": [],
   "source": [
    "# App folder\n",
    "scanflow_path = \"/gpfs/bsc_home/xpliu/pv/jupyterhubpeini/scanflow\"\n",
    "app_dir = os.path.join(scanflow_path, \"examples/mnist/dataengineer\")\n",
    "app_name = \"mnist\"\n",
    "team_name = \"dataengineer\"\n",
    "\n",
    "# scanflow client\n",
    "client = ScanflowClient(\n",
    "              #if you defined \"SCANFLOW_SERVER_URI\", you dont need to provide this\n",
    "              #scanflow_server_uri=\"http://172.30.0.50:46666\",\n",
    "              verbose=True)"
   ]
  },
  {
   "cell_type": "code",
   "execution_count": 4,
   "metadata": {},
   "outputs": [],
   "source": [
    "#resource requirment\n",
    "resources = client.V1ResourceRequirements(requests={'cpu': '500m', 'memory': '1Gi'},\n",
    "                                          limits={'cpu': '500m', 'memory': '1Gi'})\n",
    "\n",
    "#affinity\n",
    "# https://kubernetes.io/docs/concepts/scheduling-eviction/assign-pod-node/#affinity-and-anti-affinity\n",
    "node_selector_batch = client.V1NodeSelectorTerm(\n",
    "                         match_expressions=[\n",
    "                             client.V1NodeSelectorRequirement(\n",
    "                                 key = 'scheduler',\n",
    "                                 operator = 'In',\n",
    "                                 values = ['batch']\n",
    "                             )\n",
    "                         ]\n",
    "              )\n",
    "\n",
    "node_selector_service = client.V1NodeSelectorTerm(\n",
    "                         match_expressions=[\n",
    "                             client.V1NodeSelectorRequirement(\n",
    "                                 key = 'scheduler',\n",
    "                                 operator = 'In',\n",
    "                                 values = ['service']\n",
    "                             )\n",
    "                         ]\n",
    "              )\n",
    "\n",
    "node_selector_batch = client.V1NodeSelector(node_selector_terms=[node_selector_batch])\n",
    "node_selector_service = client.V1NodeSelector(node_selector_terms=[node_selector_service])\n",
    "\n",
    "node_affinity_batch = client.V1NodeAffinity(\n",
    "    required_during_scheduling_ignored_during_execution=node_selector_batch)\n",
    "node_affinity_service = client.V1NodeAffinity(\n",
    "    required_during_scheduling_ignored_during_execution=node_selector_service)\n",
    "\n",
    "affinity_batch = client.V1Affinity(node_affinity=node_affinity_batch)\n",
    "affinity_service = client.V1Affinity(node_affinity=node_affinity_service)\n",
    "\n",
    "\n",
    "#keda scaler\n",
    "trigger_request_rate = client.ScalerTriggerPrometheus(\n",
    "        serverAddress = 'http://prometheus.istio-system:9090',\n",
    "        metricName = 'istio_requests_total',\n",
    "        query = 'sum(irate(istio_requests_total{connection_security_policy=\"mutual_tls\",destination_service=~\"online-inference-online-inference.scanflow-mnist-dataengineer.svc.cluster.local\",reporter=\"destination\",destination_workload=~\"online-inference-online-inference-0-predictor-online\",destination_workload_namespace=~\"scanflow-mnist-dataengineer\"}[5m]))',\n",
    "        threshold = 1,\n",
    ")\n",
    "\n",
    "kedaSpec = client.KedaSpec(maxReplicaCount=5,\n",
    "                           minReplicaCount=1,\n",
    "                           pollingInterval=10,\n",
    "                           cooldownPeriod=10,\n",
    "                           triggers=[trigger_request_rate])"
   ]
  },
  {
   "cell_type": "code",
   "execution_count": 5,
   "metadata": {},
   "outputs": [],
   "source": [
    "#predictor\n",
    "executor1 = client.ScanflowExecutor(name='load-data', \n",
    "                      mainfile='loaddata.py',\n",
    "                      parameters={'app_name': app_name,\n",
    "                                  'team_name': 'data'},\n",
    "                      resources=resources)\n",
    "\n",
    "executor2 = client.ScanflowExecutor(name='predictor-batch', \n",
    "                      mainfile='predictor.py',\n",
    "                      parameters={'model_name': 'mnist_cnn',\n",
    "                                  'input_data': '/workflow/load-data/mnist/data/mnist_sample/test_images.npy', },\n",
    "                      base_image='modeling-cnn1',\n",
    "                      resources=resources)\n",
    "\n",
    "\n",
    "dependency1 = client.ScanflowDependency(dependee='load-data',\n",
    "                                    depender='predictor-batch')\n",
    "\n",
    "##workflow1 batch-inference\n",
    "## -- load_data\n",
    "##       -- predictor-batch\n",
    "workflow1 = client.ScanflowWorkflow(name='batch-inference', \n",
    "                     nodes=[executor1, executor2],\n",
    "                     edges=[dependency1],\n",
    "                     affinity = affinity_batch,\n",
    "                     output_dir = \"/workflow\")\n",
    "              "
   ]
  },
  {
   "cell_type": "code",
   "execution_count": 6,
   "metadata": {},
   "outputs": [],
   "source": [
    "#predictor online\n",
    "service = client.ScanflowService(name='predictor-online',\n",
    "                                 implementation_type = 'TENSORFLOW_SERVER',\n",
    "                                 modelUri = 's3://scanflow/scanflow-mnist-dataengineer/1/d41424882d314d048c611b7e84960c8e/artifacts/mnist-tf/model',\n",
    "                                 envSecretRefName = 'scanflow-secret',\n",
    "                                 endpoint = {'type': 'GRPC'},\n",
    "                                 parameters=[{'name': 'model_name', 'type':'STRING', 'value':'predictor-online'},\n",
    "                                             {'name': 'model_input', 'type':'STRING', 'value':'input_1'},\n",
    "                                             {'name': 'model_output', 'type':'STRING', 'value':'dense_1'}],\n",
    "                                 resources=resources\n",
    "                                )\n",
    "\n",
    "##workflow2 online-inference\n",
    "##       -- predictor-online\n",
    "workflow2 = client.ScanflowWorkflow(name='online-inference', \n",
    "                     nodes=[service],\n",
    "                     affinity = affinity_service,\n",
    "                     kedaSpec = kedaSpec,\n",
    "                     output_dir = \"/workflow\")"
   ]
  },
  {
   "cell_type": "markdown",
   "metadata": {},
   "source": [
    "#### 2.3. Define scanflow application"
   ]
  },
  {
   "cell_type": "code",
   "execution_count": 7,
   "metadata": {},
   "outputs": [],
   "source": [
    "app = client.ScanflowApplication(app_name = app_name,\n",
    "                                 app_dir = app_dir,\n",
    "                                 team_name = team_name,\n",
    "                                 workflows=[workflow1, workflow2])"
   ]
  },
  {
   "cell_type": "code",
   "execution_count": 8,
   "metadata": {},
   "outputs": [
    {
     "name": "stderr",
     "output_type": "stream",
     "text": [
      "15-Sep-21 15:20:15 -  INFO - workflow batch-inference: {'name': 'batch-inference', 'nodes': [{'name': 'load-data', 'node_type': 'executor', 'mainfile': 'loaddata.py', 'parameters': {'app_name': 'mnist', 'team_name': 'data'}, 'requirements': None, 'dockerfile': None, 'base_image': None, 'env': None, 'image': {'limits': {'cpu': '500m', 'memory': '1Gi'},\n",
      " 'requests': {'cpu': '500m', 'memory': '1Gi'}}, 'resources': None, 'affinity': None}, {'name': 'predictor-batch', 'node_type': 'executor', 'mainfile': 'predictor.py', 'parameters': {'model_name': 'mnist_cnn', 'input_data': '/workflow/load-data/mnist/data/mnist_sample/test_images.npy'}, 'requirements': None, 'dockerfile': None, 'base_image': 'modeling-cnn1', 'env': None, 'image': {'limits': {'cpu': '500m', 'memory': '1Gi'},\n",
      " 'requests': {'cpu': '500m', 'memory': '1Gi'}}, 'resources': None, 'affinity': None}], 'edges': [{'depender': 'predictor-batch', 'dependee': 'load-data', 'edge_type': 'dependency', 'priority': 0}], 'affinity': {'node_affinity': {'preferred_during_scheduling_ignored_during_execution': None,\n",
      "                   'required_during_scheduling_ignored_during_execution': {'node_selector_terms': [{'match_expressions': [{'key': 'scheduler',\n",
      "                                                                                                                           'operator': 'In',\n",
      "                                                                                                                           'values': ['batch']}],\n",
      "                                                                                                    'match_fields': None}]}},\n",
      " 'pod_affinity': None,\n",
      " 'pod_anti_affinity': None}, 'kedaSpec': None, 'output_dir': '/workflow'}\n",
      "15-Sep-21 15:20:15 -  INFO - workflow online-inference: {'name': 'online-inference', 'nodes': [{'name': 'predictor-online', 'node_type': 'service', 'image': None, 'env': None, 'envfrom': None, 'mainfile': None, 'requirements': None, 'dockerfile': None, 'base_image': None, 'service_type': None, 'implementation_type': 'TENSORFLOW_SERVER', 'modelUri': 's3://scanflow/scanflow-mnist-dataengineer/1/d41424882d314d048c611b7e84960c8e/artifacts/mnist-tf/model', 'envSecretRefName': 'scanflow-secret', 'endpoint': {'type': 'GRPC'}, 'parameters': [{'name': 'model_name', 'type': 'STRING', 'value': 'predictor-online'}, {'name': 'model_input', 'type': 'STRING', 'value': 'input_1'}, {'name': 'model_output', 'type': 'STRING', 'value': 'dense_1'}], 'resources': {'limits': {'cpu': '500m', 'memory': '1Gi'},\n",
      " 'requests': {'cpu': '500m', 'memory': '1Gi'}}, 'affinity': None}], 'edges': None, 'affinity': {'node_affinity': {'preferred_during_scheduling_ignored_during_execution': None,\n",
      "                   'required_during_scheduling_ignored_during_execution': {'node_selector_terms': [{'match_expressions': [{'key': 'scheduler',\n",
      "                                                                                                                           'operator': 'In',\n",
      "                                                                                                                           'values': ['service']}],\n",
      "                                                                                                    'match_fields': None}]}},\n",
      " 'pod_affinity': None,\n",
      " 'pod_anti_affinity': None}, 'kedaSpec': {'triggers': [{'type': 'prometheus', 'metadata': {'serverAddress': 'http://prometheus.istio-system:9090', 'metricName': 'istio_requests_total', 'query': 'sum(irate(istio_requests_total{connection_security_policy=\"mutual_tls\",destination_service=~\"online-inference-online-inference.scanflow-mnist-dataengineer.svc.cluster.local\",reporter=\"destination\",destination_workload=~\"online-inference-online-inference-0-predictor-online\",destination_workload_namespace=~\"scanflow-mnist-dataengineer\"}[5m]))', 'threshold': 1}}], 'pollingInterval': 10, 'cooldownPeriod': 10, 'minReplicaCount': 1, 'maxReplicaCount': 5}, 'output_dir': '/workflow'}\n",
      "15-Sep-21 15:20:15 -  INFO - Scanflowapp: {'app_name': 'mnist', 'app_dir': '/gpfs/bsc_home/xpliu/pv/jupyterhubpeini/scanflow/examples/mnist/dataengineer', 'team_name': 'dataengineer', 'workflows': [{'name': 'batch-inference', 'nodes': [{'name': 'load-data', 'node_type': 'executor', 'mainfile': 'loaddata.py', 'parameters': {'app_name': 'mnist', 'team_name': 'data'}, 'requirements': None, 'dockerfile': None, 'base_image': None, 'env': None, 'image': {'limits': {'cpu': '500m', 'memory': '1Gi'},\n",
      " 'requests': {'cpu': '500m', 'memory': '1Gi'}}, 'resources': None, 'affinity': None}, {'name': 'predictor-batch', 'node_type': 'executor', 'mainfile': 'predictor.py', 'parameters': {'model_name': 'mnist_cnn', 'input_data': '/workflow/load-data/mnist/data/mnist_sample/test_images.npy'}, 'requirements': None, 'dockerfile': None, 'base_image': 'modeling-cnn1', 'env': None, 'image': {'limits': {'cpu': '500m', 'memory': '1Gi'},\n",
      " 'requests': {'cpu': '500m', 'memory': '1Gi'}}, 'resources': None, 'affinity': None}], 'edges': [{'depender': 'predictor-batch', 'dependee': 'load-data', 'edge_type': 'dependency', 'priority': 0}], 'affinity': {'node_affinity': {'preferred_during_scheduling_ignored_during_execution': None,\n",
      "                   'required_during_scheduling_ignored_during_execution': {'node_selector_terms': [{'match_expressions': [{'key': 'scheduler',\n",
      "                                                                                                                           'operator': 'In',\n",
      "                                                                                                                           'values': ['batch']}],\n",
      "                                                                                                    'match_fields': None}]}},\n",
      " 'pod_affinity': None,\n",
      " 'pod_anti_affinity': None}, 'kedaSpec': None, 'output_dir': '/workflow'}, {'name': 'online-inference', 'nodes': [{'name': 'predictor-online', 'node_type': 'service', 'image': None, 'env': None, 'envfrom': None, 'mainfile': None, 'requirements': None, 'dockerfile': None, 'base_image': None, 'service_type': None, 'implementation_type': 'TENSORFLOW_SERVER', 'modelUri': 's3://scanflow/scanflow-mnist-dataengineer/1/d41424882d314d048c611b7e84960c8e/artifacts/mnist-tf/model', 'envSecretRefName': 'scanflow-secret', 'endpoint': {'type': 'GRPC'}, 'parameters': [{'name': 'model_name', 'type': 'STRING', 'value': 'predictor-online'}, {'name': 'model_input', 'type': 'STRING', 'value': 'input_1'}, {'name': 'model_output', 'type': 'STRING', 'value': 'dense_1'}], 'resources': {'limits': {'cpu': '500m', 'memory': '1Gi'},\n",
      " 'requests': {'cpu': '500m', 'memory': '1Gi'}}, 'affinity': None}], 'edges': None, 'affinity': {'node_affinity': {'preferred_during_scheduling_ignored_during_execution': None,\n",
      "                   'required_during_scheduling_ignored_during_execution': {'node_selector_terms': [{'match_expressions': [{'key': 'scheduler',\n",
      "                                                                                                                           'operator': 'In',\n",
      "                                                                                                                           'values': ['service']}],\n",
      "                                                                                                    'match_fields': None}]}},\n",
      " 'pod_affinity': None,\n",
      " 'pod_anti_affinity': None}, 'kedaSpec': {'triggers': [{'type': 'prometheus', 'metadata': {'serverAddress': 'http://prometheus.istio-system:9090', 'metricName': 'istio_requests_total', 'query': 'sum(irate(istio_requests_total{connection_security_policy=\"mutual_tls\",destination_service=~\"online-inference-online-inference.scanflow-mnist-dataengineer.svc.cluster.local\",reporter=\"destination\",destination_workload=~\"online-inference-online-inference-0-predictor-online\",destination_workload_namespace=~\"scanflow-mnist-dataengineer\"}[5m]))', 'threshold': 1}}], 'pollingInterval': 10, 'cooldownPeriod': 10, 'minReplicaCount': 1, 'maxReplicaCount': 5}, 'output_dir': '/workflow'}], 'agents': None, 'tracker': None}\n"
     ]
    }
   ],
   "source": [
    "dic = app.to_dict()"
   ]
  },
  {
   "cell_type": "markdown",
   "metadata": {},
   "source": [
    "  \n",
    "### Step3: Build scanflow application (local)\n",
    "   \n",
    "  1. build images for Executor -> save to image registry\n",
    "\n"
   ]
  },
  {
   "cell_type": "code",
   "execution_count": 9,
   "metadata": {},
   "outputs": [
    {
     "name": "stderr",
     "output_type": "stream",
     "text": [
      "15-Sep-21 15:20:18 -  INFO - Building image 172.30.0.49:5000/load-data\n",
      "15-Sep-21 15:20:18 -  INFO - Building image 172.30.0.49:5000/predictor-batch\n",
      "15-Sep-21 15:20:18 -  INFO - Building image 172.30.0.49:5000/predictor-online\n",
      "15-Sep-21 15:20:18 -  INFO - [+] Image [172.30.0.49:5000/predictor-online] not found in repository. Building a new one.\n",
      "15-Sep-21 15:20:18 -  INFO - [+] Dockerfile: [Dockerfile_scanflow_service] was not created.\n",
      "15-Sep-21 15:20:18 -  INFO - dockerfile for using None from /gpfs/bsc_home/xpliu/pv/jupyterhubpeini/scanflow/examples/mnist/dataengineer/workflows\n"
     ]
    }
   ],
   "source": [
    "build_app = client.build_ScanflowApplication(app = app, trackerPort=46669)"
   ]
  },
  {
   "cell_type": "code",
   "execution_count": 10,
   "metadata": {},
   "outputs": [
    {
     "name": "stderr",
     "output_type": "stream",
     "text": [
      "15-Sep-21 15:20:22 -  INFO - workflow batch-inference: {'name': 'batch-inference', 'nodes': [{'name': 'load-data', 'node_type': 'executor', 'mainfile': 'loaddata.py', 'parameters': {'app_name': 'mnist', 'team_name': 'data'}, 'requirements': None, 'dockerfile': None, 'base_image': None, 'env': None, 'image': '172.30.0.49:5000/load-data:latest', 'resources': None, 'affinity': None}, {'name': 'predictor-batch', 'node_type': 'executor', 'mainfile': 'predictor.py', 'parameters': {'model_name': 'mnist_cnn', 'input_data': '/workflow/load-data/mnist/data/mnist_sample/test_images.npy'}, 'requirements': None, 'dockerfile': None, 'base_image': 'modeling-cnn1', 'env': None, 'image': '172.30.0.49:5000/predictor-batch:latest', 'resources': None, 'affinity': None}], 'edges': [{'depender': 'predictor-batch', 'dependee': 'load-data', 'edge_type': 'dependency', 'priority': 0}], 'affinity': {'node_affinity': {'preferred_during_scheduling_ignored_during_execution': None,\n",
      "                   'required_during_scheduling_ignored_during_execution': {'node_selector_terms': [{'match_expressions': [{'key': 'scheduler',\n",
      "                                                                                                                           'operator': 'In',\n",
      "                                                                                                                           'values': ['batch']}],\n",
      "                                                                                                    'match_fields': None}]}},\n",
      " 'pod_affinity': None,\n",
      " 'pod_anti_affinity': None}, 'kedaSpec': None, 'output_dir': '/workflow'}\n",
      "15-Sep-21 15:20:22 -  INFO - workflow online-inference: {'name': 'online-inference', 'nodes': [{'name': 'predictor-online', 'node_type': 'service', 'image': None, 'env': None, 'envfrom': None, 'mainfile': None, 'requirements': None, 'dockerfile': None, 'base_image': None, 'service_type': None, 'implementation_type': 'TENSORFLOW_SERVER', 'modelUri': 's3://scanflow/scanflow-mnist-dataengineer/1/d41424882d314d048c611b7e84960c8e/artifacts/mnist-tf/model', 'envSecretRefName': 'scanflow-secret', 'endpoint': {'type': 'GRPC'}, 'parameters': [{'name': 'model_name', 'type': 'STRING', 'value': 'predictor-online'}, {'name': 'model_input', 'type': 'STRING', 'value': 'input_1'}, {'name': 'model_output', 'type': 'STRING', 'value': 'dense_1'}], 'resources': {'limits': {'cpu': '500m', 'memory': '1Gi'},\n",
      " 'requests': {'cpu': '500m', 'memory': '1Gi'}}, 'affinity': None}], 'edges': None, 'affinity': {'node_affinity': {'preferred_during_scheduling_ignored_during_execution': None,\n",
      "                   'required_during_scheduling_ignored_during_execution': {'node_selector_terms': [{'match_expressions': [{'key': 'scheduler',\n",
      "                                                                                                                           'operator': 'In',\n",
      "                                                                                                                           'values': ['service']}],\n",
      "                                                                                                    'match_fields': None}]}},\n",
      " 'pod_affinity': None,\n",
      " 'pod_anti_affinity': None}, 'kedaSpec': {'triggers': [{'type': 'prometheus', 'metadata': {'serverAddress': 'http://prometheus.istio-system:9090', 'metricName': 'istio_requests_total', 'query': 'sum(irate(istio_requests_total{connection_security_policy=\"mutual_tls\",destination_service=~\"online-inference-online-inference.scanflow-mnist-dataengineer.svc.cluster.local\",reporter=\"destination\",destination_workload=~\"online-inference-online-inference-0-predictor-online\",destination_workload_namespace=~\"scanflow-mnist-dataengineer\"}[5m]))', 'threshold': 1}}], 'pollingInterval': 10, 'cooldownPeriod': 10, 'minReplicaCount': 1, 'maxReplicaCount': 5}, 'output_dir': '/workflow'}\n",
      "15-Sep-21 15:20:22 -  INFO - Scanflowapp: {'app_name': 'mnist', 'app_dir': '/gpfs/bsc_home/xpliu/pv/jupyterhubpeini/scanflow/examples/mnist/dataengineer', 'team_name': 'dataengineer', 'workflows': [{'name': 'batch-inference', 'nodes': [{'name': 'load-data', 'node_type': 'executor', 'mainfile': 'loaddata.py', 'parameters': {'app_name': 'mnist', 'team_name': 'data'}, 'requirements': None, 'dockerfile': None, 'base_image': None, 'env': None, 'image': '172.30.0.49:5000/load-data:latest', 'resources': None, 'affinity': None}, {'name': 'predictor-batch', 'node_type': 'executor', 'mainfile': 'predictor.py', 'parameters': {'model_name': 'mnist_cnn', 'input_data': '/workflow/load-data/mnist/data/mnist_sample/test_images.npy'}, 'requirements': None, 'dockerfile': None, 'base_image': 'modeling-cnn1', 'env': None, 'image': '172.30.0.49:5000/predictor-batch:latest', 'resources': None, 'affinity': None}], 'edges': [{'depender': 'predictor-batch', 'dependee': 'load-data', 'edge_type': 'dependency', 'priority': 0}], 'affinity': {'node_affinity': {'preferred_during_scheduling_ignored_during_execution': None,\n",
      "                   'required_during_scheduling_ignored_during_execution': {'node_selector_terms': [{'match_expressions': [{'key': 'scheduler',\n",
      "                                                                                                                           'operator': 'In',\n",
      "                                                                                                                           'values': ['batch']}],\n",
      "                                                                                                    'match_fields': None}]}},\n",
      " 'pod_affinity': None,\n",
      " 'pod_anti_affinity': None}, 'kedaSpec': None, 'output_dir': '/workflow'}, {'name': 'online-inference', 'nodes': [{'name': 'predictor-online', 'node_type': 'service', 'image': None, 'env': None, 'envfrom': None, 'mainfile': None, 'requirements': None, 'dockerfile': None, 'base_image': None, 'service_type': None, 'implementation_type': 'TENSORFLOW_SERVER', 'modelUri': 's3://scanflow/scanflow-mnist-dataengineer/1/d41424882d314d048c611b7e84960c8e/artifacts/mnist-tf/model', 'envSecretRefName': 'scanflow-secret', 'endpoint': {'type': 'GRPC'}, 'parameters': [{'name': 'model_name', 'type': 'STRING', 'value': 'predictor-online'}, {'name': 'model_input', 'type': 'STRING', 'value': 'input_1'}, {'name': 'model_output', 'type': 'STRING', 'value': 'dense_1'}], 'resources': {'limits': {'cpu': '500m', 'memory': '1Gi'},\n",
      " 'requests': {'cpu': '500m', 'memory': '1Gi'}}, 'affinity': None}], 'edges': None, 'affinity': {'node_affinity': {'preferred_during_scheduling_ignored_during_execution': None,\n",
      "                   'required_during_scheduling_ignored_during_execution': {'node_selector_terms': [{'match_expressions': [{'key': 'scheduler',\n",
      "                                                                                                                           'operator': 'In',\n",
      "                                                                                                                           'values': ['service']}],\n",
      "                                                                                                    'match_fields': None}]}},\n",
      " 'pod_affinity': None,\n",
      " 'pod_anti_affinity': None}, 'kedaSpec': {'triggers': [{'type': 'prometheus', 'metadata': {'serverAddress': 'http://prometheus.istio-system:9090', 'metricName': 'istio_requests_total', 'query': 'sum(irate(istio_requests_total{connection_security_policy=\"mutual_tls\",destination_service=~\"online-inference-online-inference.scanflow-mnist-dataengineer.svc.cluster.local\",reporter=\"destination\",destination_workload=~\"online-inference-online-inference-0-predictor-online\",destination_workload_namespace=~\"scanflow-mnist-dataengineer\"}[5m]))', 'threshold': 1}}], 'pollingInterval': 10, 'cooldownPeriod': 10, 'minReplicaCount': 1, 'maxReplicaCount': 5}, 'output_dir': '/workflow'}], 'agents': None, 'tracker': {'image': '172.30.0.49:5000/scanflow-tracker', 'nodePort': 46669}}\n"
     ]
    },
    {
     "data": {
      "text/plain": [
       "{'app_name': 'mnist',\n",
       " 'app_dir': '/gpfs/bsc_home/xpliu/pv/jupyterhubpeini/scanflow/examples/mnist/dataengineer',\n",
       " 'team_name': 'dataengineer',\n",
       " 'workflows': [{'name': 'batch-inference',\n",
       "   'nodes': [{'name': 'load-data',\n",
       "     'node_type': 'executor',\n",
       "     'mainfile': 'loaddata.py',\n",
       "     'parameters': {'app_name': 'mnist', 'team_name': 'data'},\n",
       "     'requirements': None,\n",
       "     'dockerfile': None,\n",
       "     'base_image': None,\n",
       "     'env': None,\n",
       "     'image': '172.30.0.49:5000/load-data:latest',\n",
       "     'resources': None,\n",
       "     'affinity': None},\n",
       "    {'name': 'predictor-batch',\n",
       "     'node_type': 'executor',\n",
       "     'mainfile': 'predictor.py',\n",
       "     'parameters': {'model_name': 'mnist_cnn',\n",
       "      'input_data': '/workflow/load-data/mnist/data/mnist_sample/test_images.npy'},\n",
       "     'requirements': None,\n",
       "     'dockerfile': None,\n",
       "     'base_image': 'modeling-cnn1',\n",
       "     'env': None,\n",
       "     'image': '172.30.0.49:5000/predictor-batch:latest',\n",
       "     'resources': None,\n",
       "     'affinity': None}],\n",
       "   'edges': [{'depender': 'predictor-batch',\n",
       "     'dependee': 'load-data',\n",
       "     'edge_type': 'dependency',\n",
       "     'priority': 0}],\n",
       "   'affinity': {'node_affinity': {'preferred_during_scheduling_ignored_during_execution': None,\n",
       "                      'required_during_scheduling_ignored_during_execution': {'node_selector_terms': [{'match_expressions': [{'key': 'scheduler',\n",
       "                                                                                                                              'operator': 'In',\n",
       "                                                                                                                              'values': ['batch']}],\n",
       "                                                                                                       'match_fields': None}]}},\n",
       "    'pod_affinity': None,\n",
       "    'pod_anti_affinity': None},\n",
       "   'kedaSpec': None,\n",
       "   'output_dir': '/workflow'},\n",
       "  {'name': 'online-inference',\n",
       "   'nodes': [{'name': 'predictor-online',\n",
       "     'node_type': 'service',\n",
       "     'image': None,\n",
       "     'env': None,\n",
       "     'envfrom': None,\n",
       "     'mainfile': None,\n",
       "     'requirements': None,\n",
       "     'dockerfile': None,\n",
       "     'base_image': None,\n",
       "     'service_type': None,\n",
       "     'implementation_type': 'TENSORFLOW_SERVER',\n",
       "     'modelUri': 's3://scanflow/scanflow-mnist-dataengineer/1/d41424882d314d048c611b7e84960c8e/artifacts/mnist-tf/model',\n",
       "     'envSecretRefName': 'scanflow-secret',\n",
       "     'endpoint': {'type': 'GRPC'},\n",
       "     'parameters': [{'name': 'model_name',\n",
       "       'type': 'STRING',\n",
       "       'value': 'predictor-online'},\n",
       "      {'name': 'model_input', 'type': 'STRING', 'value': 'input_1'},\n",
       "      {'name': 'model_output', 'type': 'STRING', 'value': 'dense_1'}],\n",
       "     'resources': {'limits': {'cpu': '500m', 'memory': '1Gi'},\n",
       "      'requests': {'cpu': '500m', 'memory': '1Gi'}},\n",
       "     'affinity': None}],\n",
       "   'edges': None,\n",
       "   'affinity': {'node_affinity': {'preferred_during_scheduling_ignored_during_execution': None,\n",
       "                      'required_during_scheduling_ignored_during_execution': {'node_selector_terms': [{'match_expressions': [{'key': 'scheduler',\n",
       "                                                                                                                              'operator': 'In',\n",
       "                                                                                                                              'values': ['service']}],\n",
       "                                                                                                       'match_fields': None}]}},\n",
       "    'pod_affinity': None,\n",
       "    'pod_anti_affinity': None},\n",
       "   'kedaSpec': {'triggers': [{'type': 'prometheus',\n",
       "      'metadata': {'serverAddress': 'http://prometheus.istio-system:9090',\n",
       "       'metricName': 'istio_requests_total',\n",
       "       'query': 'sum(irate(istio_requests_total{connection_security_policy=\"mutual_tls\",destination_service=~\"online-inference-online-inference.scanflow-mnist-dataengineer.svc.cluster.local\",reporter=\"destination\",destination_workload=~\"online-inference-online-inference-0-predictor-online\",destination_workload_namespace=~\"scanflow-mnist-dataengineer\"}[5m]))',\n",
       "       'threshold': 1}}],\n",
       "    'pollingInterval': 10,\n",
       "    'cooldownPeriod': 10,\n",
       "    'minReplicaCount': 1,\n",
       "    'maxReplicaCount': 5},\n",
       "   'output_dir': '/workflow'}],\n",
       " 'agents': None,\n",
       " 'tracker': {'image': '172.30.0.49:5000/scanflow-tracker', 'nodePort': 46669}}"
      ]
     },
     "execution_count": 10,
     "metadata": {},
     "output_type": "execute_result"
    }
   ],
   "source": [
    "build_app.to_dict()"
   ]
  },
  {
   "cell_type": "markdown",
   "metadata": {},
   "source": [
    "### Step4: Deploy scanflow environment (local/incluster)\n",
    "  \n",
    "  1. Create k8s environment\n",
    "        - create namespace\n",
    "        - create RBAC, secret, configmap, PV, PVC\n",
    "        \n",
    "  2. Deploy scanflow-local-tracker (deployment, service)\n",
    "\n",
    "       "
   ]
  },
  {
   "cell_type": "code",
   "execution_count": 13,
   "metadata": {},
   "outputs": [
    {
     "name": "stderr",
     "output_type": "stream",
     "text": [
      "15-Sep-21 15:22:00 -  INFO - loading kubernetes configuration from /gpfs/bsc_home/xpliu/.kube/config\n",
      "15-Sep-21 15:22:00 -  INFO - found local kubernetes configuration\n"
     ]
    }
   ],
   "source": [
    "deployerClient = ScanflowDeployerClient(user_type=\"local\",\n",
    "                                        deployer=\"seldon\",\n",
    "                                        k8s_config_file=\"/gpfs/bsc_home/xpliu/.kube/config\")"
   ]
  },
  {
   "cell_type": "code",
   "execution_count": 20,
   "metadata": {
    "scrolled": false
   },
   "outputs": [
    {
     "name": "stderr",
     "output_type": "stream",
     "text": [
      "15-Sep-21 15:32:25 -  INFO - [++]Creating env\n",
      "15-Sep-21 15:32:25 -  INFO - [++]Creating namespace \"scanflow-mnist-dataengineer\"\n",
      "15-Sep-21 15:32:26 -  ERROR - create_namespace error\n",
      "15-Sep-21 15:32:26 -  INFO - [++]Creating Role for 'default service account'\n",
      "15-Sep-21 15:32:26 -  ERROR - create_rolebinding error\n",
      "15-Sep-21 15:32:26 -  INFO - [++]Creating s3 secret {'AWS_ACCESS_KEY_ID': 'admin', 'AWS_SECRET_ACCESS_KEY': 'admin123', 'MLFLOW_S3_ENDPOINT_URL': 'http://minio.minio-system.svc.cluster.local:9000', 'AWS_ENDPOINT_URL': 'http://minio.minio-system.svc.cluster.local:9000'}\n"
     ]
    },
    {
     "ename": "ApiException",
     "evalue": "(403)\nReason: Forbidden\nHTTP response headers: HTTPHeaderDict({'Cache-Control': 'no-cache, private', 'Content-Type': 'application/json', 'Date': 'Wed, 15 Sep 2021 13:32:26 GMT', 'Content-Length': '454'})\nHTTP response body: {\"kind\":\"Status\",\"apiVersion\":\"v1\",\"metadata\":{},\"status\":\"Failure\",\"message\":\"secrets \\\"scanflow-secret\\\" is forbidden: unable to create new content in namespace scanflow-mnist-dataengineer because it is being terminated\",\"reason\":\"Forbidden\",\"details\":{\"name\":\"scanflow-secret\",\"kind\":\"secrets\",\"causes\":[{\"reason\":\"NamespaceTerminating\",\"message\":\"namespace scanflow-mnist-dataengineer is being terminated\",\"field\":\"metadata.namespace\"}]},\"code\":403}\n\n",
     "output_type": "error",
     "traceback": [
      "\u001b[0;31m---------------------------------------------------------------------------\u001b[0m",
      "\u001b[0;31mApiException\u001b[0m                              Traceback (most recent call last)",
      "\u001b[0;32m<ipython-input-20-98ee6a7341bc>\u001b[0m in \u001b[0;36m<module>\u001b[0;34m\u001b[0m\n\u001b[0;32m----> 1\u001b[0;31m \u001b[0;32mawait\u001b[0m \u001b[0mdeployerClient\u001b[0m\u001b[0;34m.\u001b[0m\u001b[0mcreate_environment\u001b[0m\u001b[0;34m(\u001b[0m\u001b[0mapp\u001b[0m\u001b[0;34m=\u001b[0m\u001b[0mbuild_app\u001b[0m\u001b[0;34m)\u001b[0m\u001b[0;34m\u001b[0m\u001b[0;34m\u001b[0m\u001b[0m\n\u001b[0m",
      "\u001b[0;32m~/pv/jupyterhubpeini/scanflow/scanflow/client/scanflowDeployerClient.py\u001b[0m in \u001b[0;36mcreate_environment\u001b[0;34m(self, app, scanflowEnv)\u001b[0m\n\u001b[1;32m    103\u001b[0m \u001b[0;34m\u001b[0m\u001b[0m\n\u001b[1;32m    104\u001b[0m         \u001b[0;32melse\u001b[0m\u001b[0;34m:\u001b[0m \u001b[0;31m#local\u001b[0m\u001b[0;34m\u001b[0m\u001b[0;34m\u001b[0m\u001b[0m\n\u001b[0;32m--> 105\u001b[0;31m             \u001b[0mresult\u001b[0m \u001b[0;34m=\u001b[0m \u001b[0mself\u001b[0m\u001b[0;34m.\u001b[0m\u001b[0mdeployerbackend\u001b[0m\u001b[0;34m.\u001b[0m\u001b[0mcreate_environment\u001b[0m\u001b[0;34m(\u001b[0m\u001b[0mscanflowEnv\u001b[0m\u001b[0;34m.\u001b[0m\u001b[0mnamespace\u001b[0m\u001b[0;34m,\u001b[0m \u001b[0mscanflowEnv\u001b[0m\u001b[0;34m.\u001b[0m\u001b[0msecret\u001b[0m\u001b[0;34m.\u001b[0m\u001b[0m__dict__\u001b[0m\u001b[0;34m,\u001b[0m \u001b[0mscanflowEnv\u001b[0m\u001b[0;34m.\u001b[0m\u001b[0mtracker_config\u001b[0m\u001b[0;34m.\u001b[0m\u001b[0m__dict__\u001b[0m\u001b[0;34m,\u001b[0m \u001b[0mscanflowEnv\u001b[0m\u001b[0;34m.\u001b[0m\u001b[0mclient_config\u001b[0m\u001b[0;34m.\u001b[0m\u001b[0m__dict__\u001b[0m\u001b[0;34m,\u001b[0m \u001b[0mapp\u001b[0m\u001b[0;34m.\u001b[0m\u001b[0mtracker\u001b[0m\u001b[0;34m,\u001b[0m \u001b[0mapp\u001b[0m\u001b[0;34m.\u001b[0m\u001b[0magents\u001b[0m\u001b[0;34m)\u001b[0m\u001b[0;34m\u001b[0m\u001b[0;34m\u001b[0m\u001b[0m\n\u001b[0m\u001b[1;32m    106\u001b[0m             \u001b[0;32mreturn\u001b[0m \u001b[0mresult\u001b[0m\u001b[0;34m\u001b[0m\u001b[0;34m\u001b[0m\u001b[0m\n\u001b[1;32m    107\u001b[0m \u001b[0;34m\u001b[0m\u001b[0m\n",
      "\u001b[0;32m~/pv/jupyterhubpeini/scanflow/scanflow/deployer/deployer.py\u001b[0m in \u001b[0;36mcreate_environment\u001b[0;34m(self, namespace, scanflowSecret, scanflowTrackerConfig, scanflowClientConfig, tracker, agents)\u001b[0m\n\u001b[1;32m     37\u001b[0m         \u001b[0mstep2\u001b[0m \u001b[0;34m=\u001b[0m \u001b[0mself\u001b[0m\u001b[0;34m.\u001b[0m\u001b[0m__create_role\u001b[0m\u001b[0;34m(\u001b[0m\u001b[0mnamespace\u001b[0m\u001b[0;34m)\u001b[0m\u001b[0;34m\u001b[0m\u001b[0;34m\u001b[0m\u001b[0m\n\u001b[1;32m     38\u001b[0m         \u001b[0;31m# 3. create secret\u001b[0m\u001b[0;34m\u001b[0m\u001b[0;34m\u001b[0m\u001b[0;34m\u001b[0m\u001b[0m\n\u001b[0;32m---> 39\u001b[0;31m         \u001b[0mstep3\u001b[0m \u001b[0;34m=\u001b[0m \u001b[0mself\u001b[0m\u001b[0;34m.\u001b[0m\u001b[0m__create_secret\u001b[0m\u001b[0;34m(\u001b[0m\u001b[0mnamespace\u001b[0m\u001b[0;34m,\u001b[0m \u001b[0mscanflowSecret\u001b[0m\u001b[0;34m)\u001b[0m\u001b[0;34m\u001b[0m\u001b[0;34m\u001b[0m\u001b[0m\n\u001b[0m\u001b[1;32m     40\u001b[0m         \u001b[0;31m# 4. create tracker configmap\u001b[0m\u001b[0;34m\u001b[0m\u001b[0;34m\u001b[0m\u001b[0;34m\u001b[0m\u001b[0m\n\u001b[1;32m     41\u001b[0m         \u001b[0mstep4\u001b[0m \u001b[0;34m=\u001b[0m \u001b[0mself\u001b[0m\u001b[0;34m.\u001b[0m\u001b[0m__create_configmap_tracker\u001b[0m\u001b[0;34m(\u001b[0m\u001b[0mnamespace\u001b[0m\u001b[0;34m,\u001b[0m \u001b[0mscanflowTrackerConfig\u001b[0m\u001b[0;34m)\u001b[0m\u001b[0;34m\u001b[0m\u001b[0;34m\u001b[0m\u001b[0m\n",
      "\u001b[0;32m~/pv/jupyterhubpeini/scanflow/scanflow/deployer/deployer.py\u001b[0m in \u001b[0;36m__create_secret\u001b[0;34m(self, namespace, stringData)\u001b[0m\n\u001b[1;32m    117\u001b[0m         \u001b[0mlogging\u001b[0m\u001b[0;34m.\u001b[0m\u001b[0minfo\u001b[0m\u001b[0;34m(\u001b[0m\u001b[0;34mf\"[++]Creating s3 secret {stringData}\"\u001b[0m\u001b[0;34m)\u001b[0m\u001b[0;34m\u001b[0m\u001b[0;34m\u001b[0m\u001b[0m\n\u001b[1;32m    118\u001b[0m         \u001b[0msecret\u001b[0m \u001b[0;34m=\u001b[0m \u001b[0mself\u001b[0m\u001b[0;34m.\u001b[0m\u001b[0mkubeclient\u001b[0m\u001b[0;34m.\u001b[0m\u001b[0mbuild_secret\u001b[0m\u001b[0;34m(\u001b[0m\u001b[0;34m\"scanflow-secret\"\u001b[0m\u001b[0;34m,\u001b[0m\u001b[0mnamespace\u001b[0m\u001b[0;34m,\u001b[0m \u001b[0mstringData\u001b[0m\u001b[0;34m)\u001b[0m\u001b[0;34m\u001b[0m\u001b[0;34m\u001b[0m\u001b[0m\n\u001b[0;32m--> 119\u001b[0;31m         \u001b[0;32mreturn\u001b[0m \u001b[0mself\u001b[0m\u001b[0;34m.\u001b[0m\u001b[0mkubeclient\u001b[0m\u001b[0;34m.\u001b[0m\u001b[0mcreate_secret\u001b[0m\u001b[0;34m(\u001b[0m\u001b[0mnamespace\u001b[0m\u001b[0;34m,\u001b[0m \u001b[0msecret\u001b[0m\u001b[0;34m)\u001b[0m\u001b[0;34m\u001b[0m\u001b[0;34m\u001b[0m\u001b[0m\n\u001b[0m\u001b[1;32m    120\u001b[0m \u001b[0;34m\u001b[0m\u001b[0m\n\u001b[1;32m    121\u001b[0m     \u001b[0;32mdef\u001b[0m \u001b[0m__delete_secret\u001b[0m\u001b[0;34m(\u001b[0m\u001b[0mself\u001b[0m\u001b[0;34m,\u001b[0m \u001b[0mnamespace\u001b[0m\u001b[0;34m)\u001b[0m\u001b[0;34m:\u001b[0m\u001b[0;34m\u001b[0m\u001b[0;34m\u001b[0m\u001b[0m\n",
      "\u001b[0;32m~/pv/jupyterhubpeini/scanflow/scanflow/templates/kubernetes.py\u001b[0m in \u001b[0;36mcreate_secret\u001b[0;34m(self, namespace, body)\u001b[0m\n\u001b[1;32m    174\u001b[0m         \u001b[0mapi_instance\u001b[0m \u001b[0;34m=\u001b[0m \u001b[0mclient\u001b[0m\u001b[0;34m.\u001b[0m\u001b[0mCoreV1Api\u001b[0m\u001b[0;34m(\u001b[0m\u001b[0;34m)\u001b[0m\u001b[0;34m\u001b[0m\u001b[0;34m\u001b[0m\u001b[0m\n\u001b[1;32m    175\u001b[0m         \u001b[0;31m#try:\u001b[0m\u001b[0;34m\u001b[0m\u001b[0;34m\u001b[0m\u001b[0;34m\u001b[0m\u001b[0m\n\u001b[0;32m--> 176\u001b[0;31m         \u001b[0mback\u001b[0m \u001b[0;34m=\u001b[0m \u001b[0mapi_instance\u001b[0m\u001b[0;34m.\u001b[0m\u001b[0mcreate_namespaced_secret\u001b[0m\u001b[0;34m(\u001b[0m\u001b[0mnamespace\u001b[0m\u001b[0;34m=\u001b[0m\u001b[0mnamespace\u001b[0m\u001b[0;34m,\u001b[0m \u001b[0mbody\u001b[0m\u001b[0;34m=\u001b[0m\u001b[0mbody\u001b[0m\u001b[0;34m)\u001b[0m\u001b[0;34m\u001b[0m\u001b[0;34m\u001b[0m\u001b[0m\n\u001b[0m\u001b[1;32m    177\u001b[0m         \u001b[0mlogging\u001b[0m\u001b[0;34m.\u001b[0m\u001b[0minfo\u001b[0m\u001b[0;34m(\u001b[0m\u001b[0;34mf\"create_secret true\"\u001b[0m\u001b[0;34m)\u001b[0m\u001b[0;34m\u001b[0m\u001b[0;34m\u001b[0m\u001b[0m\n\u001b[1;32m    178\u001b[0m         \u001b[0;32mreturn\u001b[0m \u001b[0;32mTrue\u001b[0m\u001b[0;34m\u001b[0m\u001b[0;34m\u001b[0m\u001b[0m\n",
      "\u001b[0;32m~/anaconda3/lib/python3.8/site-packages/kubernetes/client/api/core_v1_api.py\u001b[0m in \u001b[0;36mcreate_namespaced_secret\u001b[0;34m(self, namespace, body, **kwargs)\u001b[0m\n\u001b[1;32m   8164\u001b[0m         \"\"\"\n\u001b[1;32m   8165\u001b[0m         \u001b[0mkwargs\u001b[0m\u001b[0;34m[\u001b[0m\u001b[0;34m'_return_http_data_only'\u001b[0m\u001b[0;34m]\u001b[0m \u001b[0;34m=\u001b[0m \u001b[0;32mTrue\u001b[0m\u001b[0;34m\u001b[0m\u001b[0;34m\u001b[0m\u001b[0m\n\u001b[0;32m-> 8166\u001b[0;31m         \u001b[0;32mreturn\u001b[0m \u001b[0mself\u001b[0m\u001b[0;34m.\u001b[0m\u001b[0mcreate_namespaced_secret_with_http_info\u001b[0m\u001b[0;34m(\u001b[0m\u001b[0mnamespace\u001b[0m\u001b[0;34m,\u001b[0m \u001b[0mbody\u001b[0m\u001b[0;34m,\u001b[0m \u001b[0;34m**\u001b[0m\u001b[0mkwargs\u001b[0m\u001b[0;34m)\u001b[0m  \u001b[0;31m# noqa: E501\u001b[0m\u001b[0;34m\u001b[0m\u001b[0;34m\u001b[0m\u001b[0m\n\u001b[0m\u001b[1;32m   8167\u001b[0m \u001b[0;34m\u001b[0m\u001b[0m\n\u001b[1;32m   8168\u001b[0m     \u001b[0;32mdef\u001b[0m \u001b[0mcreate_namespaced_secret_with_http_info\u001b[0m\u001b[0;34m(\u001b[0m\u001b[0mself\u001b[0m\u001b[0;34m,\u001b[0m \u001b[0mnamespace\u001b[0m\u001b[0;34m,\u001b[0m \u001b[0mbody\u001b[0m\u001b[0;34m,\u001b[0m \u001b[0;34m**\u001b[0m\u001b[0mkwargs\u001b[0m\u001b[0;34m)\u001b[0m\u001b[0;34m:\u001b[0m  \u001b[0;31m# noqa: E501\u001b[0m\u001b[0;34m\u001b[0m\u001b[0;34m\u001b[0m\u001b[0m\n",
      "\u001b[0;32m~/anaconda3/lib/python3.8/site-packages/kubernetes/client/api/core_v1_api.py\u001b[0m in \u001b[0;36mcreate_namespaced_secret_with_http_info\u001b[0;34m(self, namespace, body, **kwargs)\u001b[0m\n\u001b[1;32m   8259\u001b[0m         \u001b[0mauth_settings\u001b[0m \u001b[0;34m=\u001b[0m \u001b[0;34m[\u001b[0m\u001b[0;34m'BearerToken'\u001b[0m\u001b[0;34m]\u001b[0m  \u001b[0;31m# noqa: E501\u001b[0m\u001b[0;34m\u001b[0m\u001b[0;34m\u001b[0m\u001b[0m\n\u001b[1;32m   8260\u001b[0m \u001b[0;34m\u001b[0m\u001b[0m\n\u001b[0;32m-> 8261\u001b[0;31m         return self.api_client.call_api(\n\u001b[0m\u001b[1;32m   8262\u001b[0m             \u001b[0;34m'/api/v1/namespaces/{namespace}/secrets'\u001b[0m\u001b[0;34m,\u001b[0m \u001b[0;34m'POST'\u001b[0m\u001b[0;34m,\u001b[0m\u001b[0;34m\u001b[0m\u001b[0;34m\u001b[0m\u001b[0m\n\u001b[1;32m   8263\u001b[0m             \u001b[0mpath_params\u001b[0m\u001b[0;34m,\u001b[0m\u001b[0;34m\u001b[0m\u001b[0;34m\u001b[0m\u001b[0m\n",
      "\u001b[0;32m~/anaconda3/lib/python3.8/site-packages/kubernetes/client/api_client.py\u001b[0m in \u001b[0;36mcall_api\u001b[0;34m(self, resource_path, method, path_params, query_params, header_params, body, post_params, files, response_type, auth_settings, async_req, _return_http_data_only, collection_formats, _preload_content, _request_timeout, _host)\u001b[0m\n\u001b[1;32m    346\u001b[0m         \"\"\"\n\u001b[1;32m    347\u001b[0m         \u001b[0;32mif\u001b[0m \u001b[0;32mnot\u001b[0m \u001b[0masync_req\u001b[0m\u001b[0;34m:\u001b[0m\u001b[0;34m\u001b[0m\u001b[0;34m\u001b[0m\u001b[0m\n\u001b[0;32m--> 348\u001b[0;31m             return self.__call_api(resource_path, method,\n\u001b[0m\u001b[1;32m    349\u001b[0m                                    \u001b[0mpath_params\u001b[0m\u001b[0;34m,\u001b[0m \u001b[0mquery_params\u001b[0m\u001b[0;34m,\u001b[0m \u001b[0mheader_params\u001b[0m\u001b[0;34m,\u001b[0m\u001b[0;34m\u001b[0m\u001b[0;34m\u001b[0m\u001b[0m\n\u001b[1;32m    350\u001b[0m                                    \u001b[0mbody\u001b[0m\u001b[0;34m,\u001b[0m \u001b[0mpost_params\u001b[0m\u001b[0;34m,\u001b[0m \u001b[0mfiles\u001b[0m\u001b[0;34m,\u001b[0m\u001b[0;34m\u001b[0m\u001b[0;34m\u001b[0m\u001b[0m\n",
      "\u001b[0;32m~/anaconda3/lib/python3.8/site-packages/kubernetes/client/api_client.py\u001b[0m in \u001b[0;36m__call_api\u001b[0;34m(self, resource_path, method, path_params, query_params, header_params, body, post_params, files, response_type, auth_settings, _return_http_data_only, collection_formats, _preload_content, _request_timeout, _host)\u001b[0m\n\u001b[1;32m    178\u001b[0m \u001b[0;34m\u001b[0m\u001b[0m\n\u001b[1;32m    179\u001b[0m         \u001b[0;31m# perform request and return response\u001b[0m\u001b[0;34m\u001b[0m\u001b[0;34m\u001b[0m\u001b[0;34m\u001b[0m\u001b[0m\n\u001b[0;32m--> 180\u001b[0;31m         response_data = self.request(\n\u001b[0m\u001b[1;32m    181\u001b[0m             \u001b[0mmethod\u001b[0m\u001b[0;34m,\u001b[0m \u001b[0murl\u001b[0m\u001b[0;34m,\u001b[0m \u001b[0mquery_params\u001b[0m\u001b[0;34m=\u001b[0m\u001b[0mquery_params\u001b[0m\u001b[0;34m,\u001b[0m \u001b[0mheaders\u001b[0m\u001b[0;34m=\u001b[0m\u001b[0mheader_params\u001b[0m\u001b[0;34m,\u001b[0m\u001b[0;34m\u001b[0m\u001b[0;34m\u001b[0m\u001b[0m\n\u001b[1;32m    182\u001b[0m             \u001b[0mpost_params\u001b[0m\u001b[0;34m=\u001b[0m\u001b[0mpost_params\u001b[0m\u001b[0;34m,\u001b[0m \u001b[0mbody\u001b[0m\u001b[0;34m=\u001b[0m\u001b[0mbody\u001b[0m\u001b[0;34m,\u001b[0m\u001b[0;34m\u001b[0m\u001b[0;34m\u001b[0m\u001b[0m\n",
      "\u001b[0;32m~/anaconda3/lib/python3.8/site-packages/kubernetes/client/api_client.py\u001b[0m in \u001b[0;36mrequest\u001b[0;34m(self, method, url, query_params, headers, post_params, body, _preload_content, _request_timeout)\u001b[0m\n\u001b[1;32m    389\u001b[0m                                             _request_timeout=_request_timeout)\n\u001b[1;32m    390\u001b[0m         \u001b[0;32melif\u001b[0m \u001b[0mmethod\u001b[0m \u001b[0;34m==\u001b[0m \u001b[0;34m\"POST\"\u001b[0m\u001b[0;34m:\u001b[0m\u001b[0;34m\u001b[0m\u001b[0;34m\u001b[0m\u001b[0m\n\u001b[0;32m--> 391\u001b[0;31m             return self.rest_client.POST(url,\n\u001b[0m\u001b[1;32m    392\u001b[0m                                          \u001b[0mquery_params\u001b[0m\u001b[0;34m=\u001b[0m\u001b[0mquery_params\u001b[0m\u001b[0;34m,\u001b[0m\u001b[0;34m\u001b[0m\u001b[0;34m\u001b[0m\u001b[0m\n\u001b[1;32m    393\u001b[0m                                          \u001b[0mheaders\u001b[0m\u001b[0;34m=\u001b[0m\u001b[0mheaders\u001b[0m\u001b[0;34m,\u001b[0m\u001b[0;34m\u001b[0m\u001b[0;34m\u001b[0m\u001b[0m\n",
      "\u001b[0;32m~/anaconda3/lib/python3.8/site-packages/kubernetes/client/rest.py\u001b[0m in \u001b[0;36mPOST\u001b[0;34m(self, url, headers, query_params, post_params, body, _preload_content, _request_timeout)\u001b[0m\n\u001b[1;32m    272\u001b[0m     def POST(self, url, headers=None, query_params=None, post_params=None,\n\u001b[1;32m    273\u001b[0m              body=None, _preload_content=True, _request_timeout=None):\n\u001b[0;32m--> 274\u001b[0;31m         return self.request(\"POST\", url,\n\u001b[0m\u001b[1;32m    275\u001b[0m                             \u001b[0mheaders\u001b[0m\u001b[0;34m=\u001b[0m\u001b[0mheaders\u001b[0m\u001b[0;34m,\u001b[0m\u001b[0;34m\u001b[0m\u001b[0;34m\u001b[0m\u001b[0m\n\u001b[1;32m    276\u001b[0m                             \u001b[0mquery_params\u001b[0m\u001b[0;34m=\u001b[0m\u001b[0mquery_params\u001b[0m\u001b[0;34m,\u001b[0m\u001b[0;34m\u001b[0m\u001b[0;34m\u001b[0m\u001b[0m\n",
      "\u001b[0;32m~/anaconda3/lib/python3.8/site-packages/kubernetes/client/rest.py\u001b[0m in \u001b[0;36mrequest\u001b[0;34m(self, method, url, query_params, headers, body, post_params, _preload_content, _request_timeout)\u001b[0m\n\u001b[1;32m    231\u001b[0m \u001b[0;34m\u001b[0m\u001b[0m\n\u001b[1;32m    232\u001b[0m         \u001b[0;32mif\u001b[0m \u001b[0;32mnot\u001b[0m \u001b[0;36m200\u001b[0m \u001b[0;34m<=\u001b[0m \u001b[0mr\u001b[0m\u001b[0;34m.\u001b[0m\u001b[0mstatus\u001b[0m \u001b[0;34m<=\u001b[0m \u001b[0;36m299\u001b[0m\u001b[0;34m:\u001b[0m\u001b[0;34m\u001b[0m\u001b[0;34m\u001b[0m\u001b[0m\n\u001b[0;32m--> 233\u001b[0;31m             \u001b[0;32mraise\u001b[0m \u001b[0mApiException\u001b[0m\u001b[0;34m(\u001b[0m\u001b[0mhttp_resp\u001b[0m\u001b[0;34m=\u001b[0m\u001b[0mr\u001b[0m\u001b[0;34m)\u001b[0m\u001b[0;34m\u001b[0m\u001b[0;34m\u001b[0m\u001b[0m\n\u001b[0m\u001b[1;32m    234\u001b[0m \u001b[0;34m\u001b[0m\u001b[0m\n\u001b[1;32m    235\u001b[0m         \u001b[0;32mreturn\u001b[0m \u001b[0mr\u001b[0m\u001b[0;34m\u001b[0m\u001b[0;34m\u001b[0m\u001b[0m\n",
      "\u001b[0;31mApiException\u001b[0m: (403)\nReason: Forbidden\nHTTP response headers: HTTPHeaderDict({'Cache-Control': 'no-cache, private', 'Content-Type': 'application/json', 'Date': 'Wed, 15 Sep 2021 13:32:26 GMT', 'Content-Length': '454'})\nHTTP response body: {\"kind\":\"Status\",\"apiVersion\":\"v1\",\"metadata\":{},\"status\":\"Failure\",\"message\":\"secrets \\\"scanflow-secret\\\" is forbidden: unable to create new content in namespace scanflow-mnist-dataengineer because it is being terminated\",\"reason\":\"Forbidden\",\"details\":{\"name\":\"scanflow-secret\",\"kind\":\"secrets\",\"causes\":[{\"reason\":\"NamespaceTerminating\",\"message\":\"namespace scanflow-mnist-dataengineer is being terminated\",\"field\":\"metadata.namespace\"}]},\"code\":403}\n\n"
     ]
    }
   ],
   "source": [
    "await deployerClient.create_environment(app=build_app)"
   ]
  },
  {
   "cell_type": "code",
   "execution_count": null,
   "metadata": {},
   "outputs": [],
   "source": []
  },
  {
   "cell_type": "markdown",
   "metadata": {},
   "source": [
    "### Step5: download prepared production mnist model\n",
    "   - download mnist-checker model (e.g., mnist_detector)\n",
    "   - download mnist model (e.g., mnist_cnn)            \n"
   ]
  },
  {
   "cell_type": "code",
   "execution_count": 17,
   "metadata": {},
   "outputs": [],
   "source": [
    "trackerClient = ScanflowTrackerClient(scanflow_tracker_local_uri=\"http://172.30.0.50:46669\",\n",
    "                        verbose=True)"
   ]
  },
  {
   "cell_type": "code",
   "execution_count": 18,
   "metadata": {},
   "outputs": [
    {
     "name": "stderr",
     "output_type": "stream",
     "text": [
      "09-Jun-21 10:21:32 -  INFO - Found credentials in environment variables.\n",
      "09-Jun-21 10:21:33 -  INFO - mnist--scanflow-model-datascience--{'training_dataset_len': 60000.0, 'accuracy': 0.9}--{}\n",
      "09-Jun-21 10:21:34 -  INFO - mnist_cnn exists\n",
      "2021/06/09 10:21:34 INFO mlflow.tracking._model_registry.client: Waiting up to 300 seconds for model version to finish creation.                     Model name: mnist_cnn, version 9\n"
     ]
    }
   ],
   "source": [
    "trackerClient.download_app_model(model_name=\"mnist_cnn\")"
   ]
  },
  {
   "cell_type": "code",
   "execution_count": 46,
   "metadata": {},
   "outputs": [
    {
     "name": "stderr",
     "output_type": "stream",
     "text": [
      "10-Jun-21 11:15:23 -  INFO - Found credentials in environment variables.\n",
      "10-Jun-21 11:15:24 -  INFO - mnist--scanflow-model-datascience--{'loss': 1.5987423658370972, 'sparse_categorical_accuracy': 0.5139076113700867, 'val_loss': 0.5347447395324707, 'val_sparse_categorical_accuracy': 0.8608940839767456}--{'epochs': '10', 'steps_per_epoch': '58', 'validation_steps': '9', 'validation_freq': '1', 'batch_size': 'None', 'validation_split': '0.0', 'shuffle': 'True', 'class_weight': 'None', 'sample_weight': 'None', 'initial_epoch': '0', 'validation_batch_size': 'None', 'max_queue_size': '10', 'workers': '1', 'use_multiprocessing': 'False', 'opt_name': 'SGD', 'opt_learning_rate': \"{'class_name': 'ExponentialDecay', 'config': {'initial_learning_rate': 0.05, 'decay_steps': 100000, 'decay_rate': 0.96, 'staircase': False, 'name': None}}\", 'opt_decay': '0.0', 'opt_momentum': '0.0', 'opt_nesterov': 'False'}\n",
      "10-Jun-21 11:15:25 -  INFO - mnist-tf exists\n",
      "2021/06/10 11:15:25 INFO mlflow.tracking._model_registry.client: Waiting up to 300 seconds for model version to finish creation.                     Model name: mnist-tf, version 2\n"
     ]
    }
   ],
   "source": [
    "trackerClient.download_app_model(model_name=\"mnist-tf\")"
   ]
  },
  {
   "cell_type": "markdown",
   "metadata": {},
   "source": [
    "### Step6: Submit the metadata and artifacts to the central Scanflow-tracker\n",
    "\n",
    "  #### 6.1. Submit scanflowapp metadata\n",
    "  ```bash\n",
    "   mnist\n",
    "    - dataengineer\n",
    "     - workflows\n",
    "        - batch-inference.json\n",
    "        - detector-inference.json\n",
    "     - mnist.json\n",
    "  ```"
   ]
  },
  {
   "cell_type": "code",
   "execution_count": 18,
   "metadata": {},
   "outputs": [],
   "source": [
    "trackerClient = ScanflowTrackerClient(scanflow_tracker_local_uri=\"http://172.30.0.50:46669\",\n",
    "                        verbose=True)"
   ]
  },
  {
   "cell_type": "code",
   "execution_count": 19,
   "metadata": {},
   "outputs": [
    {
     "name": "stderr",
     "output_type": "stream",
     "text": [
      "14-Jun-21 23:06:03 -  INFO - Connecting tracking server uri: http://172.30.0.50:46667\n",
      "14-Jun-21 23:06:03 -  INFO - save app to artifact uri: s3://scanflow/1/09dbc72504584286802a914e2f70ac36/artifacts\n",
      "14-Jun-21 23:06:03 -  INFO - Scanflowagent-tracker: {'name': 'tracker', 'template': 'monitor', 'sensors': [{'name': 'count_number_of_predictions', 'isCustom': True, 'func_name': 'count_number_of_predictions', 'trigger': {'weeks': 0, 'days': 0, 'hours': 1, 'minutes': 0, 'seconds': 0, 'start_date': None, 'end_date': None, 'timezone': None, 'jitter': None}, 'args': None, 'kwargs': None, 'next_run_time': None}], 'dockerfile': None, 'image': '172.30.0.49:5000/tracker-agent:latest'}\n",
      "14-Jun-21 23:06:03 -  INFO - Scanflowagent-checker: {'name': 'checker', 'template': 'analyzer', 'sensors': [{'name': 'count_number_of_newdata', 'isCustom': True, 'func_name': 'count_number_of_newdata', 'trigger': {'weeks': 0, 'days': 0, 'hours': 1, 'minutes': 0, 'seconds': 0, 'start_date': None, 'end_date': None, 'timezone': None, 'jitter': None}, 'args': None, 'kwargs': None, 'next_run_time': None}], 'dockerfile': None, 'image': '172.30.0.49:5000/checker-agent:latest'}\n",
      "14-Jun-21 23:06:03 -  INFO - Scanflowagent-planner: {'name': 'planner', 'template': 'planner', 'sensors': [{'name': 'check_model_accuracy', 'isCustom': True, 'func_name': 'check_model_accuracy', 'trigger': {'weeks': 0, 'days': 0, 'hours': 1, 'minutes': 0, 'seconds': 0, 'start_date': None, 'end_date': None, 'timezone': None, 'jitter': None}, 'args': None, 'kwargs': None, 'next_run_time': None}], 'dockerfile': None, 'image': '172.30.0.49:5000/planner-agent:latest'}\n",
      "14-Jun-21 23:06:03 -  INFO - Scanflowagent-executor: {'name': 'executor', 'template': 'executor', 'sensors': None, 'dockerfile': None, 'image': '172.30.0.49:5000/executor-agent:latest'}\n",
      "14-Jun-21 23:06:03 -  INFO - Scanflowapp: {'app_name': 'mnist', 'app_dir': '/gpfs/bsc_home/xpliu/pv/jupyterhubpeini/scanflow/examples/mnist/dataengineer', 'team_name': 'dataengineer', 'workflows': [{'name': 'batch-inference', 'nodes': [{'name': 'load-data', 'node_type': 'executor', 'mainfile': 'loaddata.py', 'parameters': {'app_name': 'mnist', 'team_name': 'data'}, 'requirements': None, 'dockerfile': None, 'base_image': None, 'env': None, 'image': '172.30.0.49:5000/load-data:latest', 'resources': None}, {'name': 'predictor-batch', 'node_type': 'executor', 'mainfile': 'predictor.py', 'parameters': {'model_name': 'mnist_cnn', 'input_data': '/workflow/load-data/mnist/data/mnist_sample/test_images.npy'}, 'requirements': None, 'dockerfile': None, 'base_image': 'modeling-cnn1', 'env': None, 'image': '172.30.0.49:5000/predictor-batch:latest', 'resources': None}], 'edges': [{'depender': 'predictor-batch', 'dependee': 'load-data', 'edge_type': 'dependency', 'priority': 0}], 'affinity': None, 'kedaSpec': None, 'output_dir': '/workflow'}, {'name': 'online-inference', 'nodes': [{'name': 'predictor-online', 'node_type': 'service', 'image': None, 'env': None, 'envfrom': None, 'requirements': None, 'dockerfile': None, 'base_image': None, 'service_type': None, 'implementation_type': 'TENSORFLOW_SERVER', 'modelUri': 's3://scanflow/scanflow-mnist-dataengineer/1/d41424882d314d048c611b7e84960c8e/artifacts/mnist-tf/model', 'envSecretRefName': 'scanflow-secret', 'endpoint': {'type': 'GRPC'}, 'parameters': [{'name': 'model_name', 'type': 'STRING', 'value': 'predictor-online'}, {'name': 'model_input', 'type': 'STRING', 'value': 'input_1'}, {'name': 'model_output', 'type': 'STRING', 'value': 'dense_1'}], 'resources': None}], 'edges': None, 'affinity': None, 'kedaSpec': None, 'output_dir': '/workflow'}, {'name': 'detector-inference', 'nodes': [{'name': 'load-data', 'node_type': 'executor', 'mainfile': 'loaddata.py', 'parameters': {'experiment_name': 'checker', 'run_id': '', 'path': 'data'}, 'requirements': None, 'dockerfile': None, 'base_image': None, 'env': None, 'image': '172.30.0.49:5000/load-data:latest', 'resources': None}, {'name': 'detector-batch', 'node_type': 'executor', 'mainfile': 'checker.py', 'parameters': {'model_name': 'mnist_detector', 'input_data': '/workflow/load-data/data/x_inference.npy'}, 'requirements': None, 'dockerfile': None, 'base_image': 'checker', 'env': None, 'image': '172.30.0.49:5000/detector-batch:latest', 'resources': None}, {'name': 'pick-data', 'node_type': 'executor', 'mainfile': 'pick-data.py', 'parameters': {'e_inference': '/workflow/detector-batch/E_inference.csv', 'x_inference_artifact': '/workflow/load-data/data/x_inference.npy', 'y_inference_artifact': '/workflow/load-data/data/y_inference.npy'}, 'requirements': None, 'dockerfile': None, 'base_image': 'checker', 'env': None, 'image': '172.30.0.49:5000/pick-data:latest', 'resources': None}], 'edges': [{'depender': 'detector-batch', 'dependee': 'load-data', 'edge_type': 'dependency', 'priority': 0}, {'depender': 'pick-data', 'dependee': 'detector-batch', 'edge_type': 'dependency', 'priority': 0}], 'affinity': None, 'kedaSpec': None, 'output_dir': '/workflow'}], 'agents': [{'name': 'tracker', 'template': 'monitor', 'sensors': [{'name': 'count_number_of_predictions', 'isCustom': True, 'func_name': 'count_number_of_predictions', 'trigger': {'weeks': 0, 'days': 0, 'hours': 1, 'minutes': 0, 'seconds': 0, 'start_date': None, 'end_date': None, 'timezone': None, 'jitter': None}, 'args': None, 'kwargs': None, 'next_run_time': None}], 'dockerfile': None, 'image': '172.30.0.49:5000/tracker-agent:latest'}, {'name': 'checker', 'template': 'analyzer', 'sensors': [{'name': 'count_number_of_newdata', 'isCustom': True, 'func_name': 'count_number_of_newdata', 'trigger': {'weeks': 0, 'days': 0, 'hours': 1, 'minutes': 0, 'seconds': 0, 'start_date': None, 'end_date': None, 'timezone': None, 'jitter': None}, 'args': None, 'kwargs': None, 'next_run_time': None}], 'dockerfile': None, 'image': '172.30.0.49:5000/checker-agent:latest'}, {'name': 'planner', 'template': 'planner', 'sensors': [{'name': 'check_model_accuracy', 'isCustom': True, 'func_name': 'check_model_accuracy', 'trigger': {'weeks': 0, 'days': 0, 'hours': 1, 'minutes': 0, 'seconds': 0, 'start_date': None, 'end_date': None, 'timezone': None, 'jitter': None}, 'args': None, 'kwargs': None, 'next_run_time': None}], 'dockerfile': None, 'image': '172.30.0.49:5000/planner-agent:latest'}, {'name': 'executor', 'template': 'executor', 'sensors': None, 'dockerfile': None, 'image': '172.30.0.49:5000/executor-agent:latest'}], 'tracker': {'image': '172.30.0.49:5000/scanflow-tracker', 'nodePort': 46669}}\n",
      "14-Jun-21 23:06:03 -  INFO - Found credentials in environment variables.\n",
      "14-Jun-21 23:06:03 -  INFO - Scanflowagent-tracker: {'name': 'tracker', 'template': 'monitor', 'sensors': [{'name': 'count_number_of_predictions', 'isCustom': True, 'func_name': 'count_number_of_predictions', 'trigger': {'weeks': 0, 'days': 0, 'hours': 1, 'minutes': 0, 'seconds': 0, 'start_date': None, 'end_date': None, 'timezone': None, 'jitter': None}, 'args': None, 'kwargs': None, 'next_run_time': None}], 'dockerfile': None, 'image': '172.30.0.49:5000/tracker-agent:latest'}\n",
      "14-Jun-21 23:06:03 -  INFO - Scanflowagent-checker: {'name': 'checker', 'template': 'analyzer', 'sensors': [{'name': 'count_number_of_newdata', 'isCustom': True, 'func_name': 'count_number_of_newdata', 'trigger': {'weeks': 0, 'days': 0, 'hours': 1, 'minutes': 0, 'seconds': 0, 'start_date': None, 'end_date': None, 'timezone': None, 'jitter': None}, 'args': None, 'kwargs': None, 'next_run_time': None}], 'dockerfile': None, 'image': '172.30.0.49:5000/checker-agent:latest'}\n",
      "14-Jun-21 23:06:03 -  INFO - Scanflowagent-planner: {'name': 'planner', 'template': 'planner', 'sensors': [{'name': 'check_model_accuracy', 'isCustom': True, 'func_name': 'check_model_accuracy', 'trigger': {'weeks': 0, 'days': 0, 'hours': 1, 'minutes': 0, 'seconds': 0, 'start_date': None, 'end_date': None, 'timezone': None, 'jitter': None}, 'args': None, 'kwargs': None, 'next_run_time': None}], 'dockerfile': None, 'image': '172.30.0.49:5000/planner-agent:latest'}\n",
      "14-Jun-21 23:06:03 -  INFO - Scanflowagent-executor: {'name': 'executor', 'template': 'executor', 'sensors': None, 'dockerfile': None, 'image': '172.30.0.49:5000/executor-agent:latest'}\n"
     ]
    }
   ],
   "source": [
    "trackerClient.save_app_meta(build_app)"
   ]
  },
  {
   "cell_type": "markdown",
   "metadata": {},
   "source": [
    "#### 6.2. Submit artifacts\n",
    "\n",
    "  ```bash\n",
    "mnist\n",
    "    - workflows\n",
    "       - load_data\n",
    "         - loaddata.py\n",
    "       - predictor-batch\n",
    "         - predictor.py\n",
    "       - predictor-online\n",
    "```\n"
   ]
  },
  {
   "cell_type": "code",
   "execution_count": 20,
   "metadata": {},
   "outputs": [
    {
     "name": "stderr",
     "output_type": "stream",
     "text": [
      "14-Jun-21 23:06:08 -  INFO - Connecting tracking server uri: http://172.30.0.50:46667\n",
      "14-Jun-21 23:06:08 -  INFO - save app in /gpfs/bsc_home/xpliu/pv/jupyterhubpeini/scanflow/examples/mnist/dataengineer to artifact uri: s3://scanflow/1/c5639371ccf6485b9e3618e788169932/artifacts\n"
     ]
    }
   ],
   "source": [
    "trackerClient.save_app_artifacts(app_name=app_name, \n",
    "                                team_name=team_name, \n",
    "                                app_dir=app_dir)"
   ]
  },
  {
   "cell_type": "code",
   "execution_count": null,
   "metadata": {},
   "outputs": [],
   "source": []
  },
  {
   "cell_type": "markdown",
   "metadata": {},
   "source": [
    "### Step7: ****[Inference]****\n",
    "\n",
    "#### 7.1. Batch Inference\n",
    "\n",
    "Batch worklflow(workflow[0]:batch-inference) is defined by dataengineer, client could use it by changing the parameters.\n",
    "\n",
    "Below simulate the client makes predictions by using default parameters"
   ]
  },
  {
   "cell_type": "code",
   "execution_count": 16,
   "metadata": {},
   "outputs": [
    {
     "name": "stderr",
     "output_type": "stream",
     "text": [
      "25-May-21 15:58:22 -  INFO - [+] output dir /workflow\n",
      "25-May-21 15:58:22 -  INFO - [+] Create batch-inference output PV\n",
      "25-May-21 15:58:22 -  INFO - create_pv true\n",
      "25-May-21 15:58:22 -  INFO - [+] Create batch-inference output PVC\n",
      "25-May-21 15:58:22 -  INFO - create_pvc true\n",
      "25-May-21 15:58:22 -  INFO - output dir created\n",
      "25-May-21 15:58:22 -  INFO - env for executor {'AWS_ACCESS_KEY_ID': 'admin', 'AWS_SECRET_ACCESS_KEY': 'admin123', 'MLFLOW_S3_ENDPOINT_URL': 'http://minio.minio-system.svc.cluster.local:9000', 'SCANFLOW_TRACKER_URI': 'http://scanflow-tracker-service.scanflow-system.svc.cluster.local', 'SCANFLOW_SERVER_URI': 'http://scanflow-server-service.scanflow-system.svc.cluster.local', 'SCANFLOW_TRACKER_LOCAL_URI': 'http://scanflow-tracker.scanflow-mnist-dataengineer.svc.cluster.local'}\n",
      "25-May-21 15:58:22 -  INFO - [+] Building workflow: [batch-inference:load-data].\n",
      "25-May-21 15:58:22 -  INFO - ['--app_name', 'mnist', '--team_name', 'data']\n",
      "25-May-21 15:58:22 -  INFO - [+] Building workflow: [batch-inference:predictor-batch].\n",
      "25-May-21 15:58:22 -  INFO - ['--model_name', 'mnist_cnn', '--input_data', '/workflow/load-data/mnist/data/mnist_sample/test_images.npy']\n",
      "25-May-21 15:58:22 -  INFO - [+] Building workflow: [batch-inference- dependencies]\n",
      "25-May-21 15:58:22 -  INFO - [+] Building workflow: [batch-inference- dag]\n",
      "25-May-21 15:58:22 -  INFO - Found local kubernetes config. Initialized with kube_config.\n",
      "25-May-21 15:58:22 -  INFO - Checking workflow name/generatedName batch-inference\n",
      "25-May-21 15:58:22 -  INFO - Submitting workflow to Argo\n",
      "25-May-21 15:58:22 -  INFO - Workflow batch-inference has been submitted in \"scanflow-mnist-dataengineer\" namespace!\n",
      "25-May-21 15:58:22 -  INFO - [+++] Workflow: [batch-inference] has been submitted to argo {'apiVersion': 'argoproj.io/v1alpha1', 'kind': 'Workflow', 'metadata': {'creationTimestamp': '2021-05-25T13:58:22Z', 'generation': 1, 'managedFields': [{'apiVersion': 'argoproj.io/v1alpha1', 'fieldsType': 'FieldsV1', 'fieldsV1': {'f:spec': {'.': {}, 'f:activeDeadlineSeconds': {}, 'f:entrypoint': {}, 'f:templates': {}, 'f:ttlSecondsAfterFinished': {}, 'f:volumes': {}}}, 'manager': 'OpenAPI-Generator', 'operation': 'Update', 'time': '2021-05-25T13:58:22Z'}], 'name': 'batch-inference', 'namespace': 'scanflow-mnist-dataengineer', 'resourceVersion': '44766998', 'selfLink': '/apis/argoproj.io/v1alpha1/namespaces/scanflow-mnist-dataengineer/workflows/batch-inference', 'uid': '73ef5d5e-228b-4993-ae69-332e6b69c3a5'}, 'spec': {'activeDeadlineSeconds': 3600, 'entrypoint': 'batch-inference', 'templates': [{'dag': {'tasks': [{'arguments': {'parameters': [{'name': 'para-load-data-0', 'value': '--app_name'}, {'name': 'para-load-data-1', 'value': 'mnist'}, {'name': 'para-load-data-2', 'value': '--team_name'}, {'name': 'para-load-data-3', 'value': 'data'}]}, 'name': 'load-data', 'template': 'load-data'}, {'arguments': {'parameters': [{'name': 'para-predictor-batch-0', 'value': '--model_name'}, {'name': 'para-predictor-batch-1', 'value': 'mnist_cnn'}, {'name': 'para-predictor-batch-2', 'value': '--input_data'}, {'name': 'para-predictor-batch-3', 'value': '/workflow/load-data/mnist/data/mnist_sample/test_images.npy'}]}, 'dependencies': ['load-data'], 'name': 'predictor-batch', 'template': 'predictor-batch'}]}, 'name': 'batch-inference'}, {'container': {'args': ['{{inputs.parameters.para-load-data-0}}', '{{inputs.parameters.para-load-data-1}}', '{{inputs.parameters.para-load-data-2}}', '{{inputs.parameters.para-load-data-3}}'], 'command': None, 'env': [{'name': 'AWS_ACCESS_KEY_ID', 'value': 'admin'}, {'name': 'AWS_SECRET_ACCESS_KEY', 'value': 'admin123'}, {'name': 'MLFLOW_S3_ENDPOINT_URL', 'value': 'http://minio.minio-system.svc.cluster.local:9000'}, {'name': 'SCANFLOW_TRACKER_URI', 'value': 'http://scanflow-tracker-service.scanflow-system.svc.cluster.local'}, {'name': 'SCANFLOW_SERVER_URI', 'value': 'http://scanflow-server-service.scanflow-system.svc.cluster.local'}, {'name': 'SCANFLOW_TRACKER_LOCAL_URI', 'value': 'http://scanflow-tracker.scanflow-mnist-dataengineer.svc.cluster.local'}], 'image': '172.30.0.49:5000/load-data:latest', 'volumeMounts': [{'mountPath': '/workflow', 'name': 'outputpath'}, {'mountPath': '/scanflow', 'name': 'scanflowpath'}]}, 'inputs': {'parameters': [{'name': 'para-load-data-0'}, {'name': 'para-load-data-1'}, {'name': 'para-load-data-2'}, {'name': 'para-load-data-3'}]}, 'name': 'load-data', 'volumes': []}, {'container': {'args': ['{{inputs.parameters.para-predictor-batch-0}}', '{{inputs.parameters.para-predictor-batch-1}}', '{{inputs.parameters.para-predictor-batch-2}}', '{{inputs.parameters.para-predictor-batch-3}}'], 'command': None, 'env': [{'name': 'AWS_ACCESS_KEY_ID', 'value': 'admin'}, {'name': 'AWS_SECRET_ACCESS_KEY', 'value': 'admin123'}, {'name': 'MLFLOW_S3_ENDPOINT_URL', 'value': 'http://minio.minio-system.svc.cluster.local:9000'}, {'name': 'SCANFLOW_TRACKER_URI', 'value': 'http://scanflow-tracker-service.scanflow-system.svc.cluster.local'}, {'name': 'SCANFLOW_SERVER_URI', 'value': 'http://scanflow-server-service.scanflow-system.svc.cluster.local'}, {'name': 'SCANFLOW_TRACKER_LOCAL_URI', 'value': 'http://scanflow-tracker.scanflow-mnist-dataengineer.svc.cluster.local'}], 'image': '172.30.0.49:5000/predictor-batch:latest', 'volumeMounts': [{'mountPath': '/workflow', 'name': 'outputpath'}, {'mountPath': '/scanflow', 'name': 'scanflowpath'}]}, 'inputs': {'parameters': [{'name': 'para-predictor-batch-0'}, {'name': 'para-predictor-batch-1'}, {'name': 'para-predictor-batch-2'}, {'name': 'para-predictor-batch-3'}]}, 'name': 'predictor-batch', 'volumes': []}], 'ttlSecondsAfterFinished': 5400, 'volumes': [{'name': 'outputpath', 'persistentVolumeClaim': {'claimName': 'batch-inference'}}, {'name': 'scanflowpath', 'persistentVolumeClaim': {'claimName': 'scanflow-scanflow-mnist-dataengineer'}}]}}\n"
     ]
    },
    {
     "name": "stdout",
     "output_type": "stream",
     "text": [
      "OrderedDict([('apiVersion', 'argoproj.io/v1alpha1'), ('kind', 'Workflow'), ('metadata', {'name': 'batch-inference'}), ('spec', {'entrypoint': 'batch-inference', 'volumes': [OrderedDict([('name', 'outputpath'), ('persistentVolumeClaim', {'claimName': 'batch-inference'})]), OrderedDict([('name', 'scanflowpath'), ('persistentVolumeClaim', {'claimName': 'scanflow-scanflow-mnist-dataengineer'})])], 'templates': [OrderedDict([('name', 'batch-inference'), ('dag', {'tasks': [OrderedDict([('name', 'load-data'), ('template', 'load-data'), ('arguments', OrderedDict([('parameters', [{'name': 'para-load-data-0', 'value': '--app_name'}, {'name': 'para-load-data-1', 'value': 'mnist'}, {'name': 'para-load-data-2', 'value': '--team_name'}, {'name': 'para-load-data-3', 'value': 'data'}])]))]), OrderedDict([('name', 'predictor-batch'), ('dependencies', ['load-data']), ('template', 'predictor-batch'), ('arguments', OrderedDict([('parameters', [{'name': 'para-predictor-batch-0', 'value': '--model_name'}, {'name': 'para-predictor-batch-1', 'value': 'mnist_cnn'}, {'name': 'para-predictor-batch-2', 'value': '--input_data'}, {'name': 'para-predictor-batch-3', 'value': '/workflow/load-data/mnist/data/mnist_sample/test_images.npy'}])]))])]})]), OrderedDict([('name', 'load-data'), ('inputs', OrderedDict([('parameters', [{'name': 'para-load-data-0'}, {'name': 'para-load-data-1'}, {'name': 'para-load-data-2'}, {'name': 'para-load-data-3'}])])), ('container', OrderedDict([('image', '172.30.0.49:5000/load-data:latest'), ('command', None), ('args', ['\"{{inputs.parameters.para-load-data-0}}\"', '\"{{inputs.parameters.para-load-data-1}}\"', '\"{{inputs.parameters.para-load-data-2}}\"', '\"{{inputs.parameters.para-load-data-3}}\"']), ('env', [{'name': 'AWS_ACCESS_KEY_ID', 'value': 'admin'}, {'name': 'AWS_SECRET_ACCESS_KEY', 'value': 'admin123'}, {'name': 'MLFLOW_S3_ENDPOINT_URL', 'value': 'http://minio.minio-system.svc.cluster.local:9000'}, {'name': 'SCANFLOW_TRACKER_URI', 'value': 'http://scanflow-tracker-service.scanflow-system.svc.cluster.local'}, {'name': 'SCANFLOW_SERVER_URI', 'value': 'http://scanflow-server-service.scanflow-system.svc.cluster.local'}, {'name': 'SCANFLOW_TRACKER_LOCAL_URI', 'value': 'http://scanflow-tracker.scanflow-mnist-dataengineer.svc.cluster.local'}]), ('volumeMounts', [OrderedDict([('name', 'outputpath'), ('mountPath', '/workflow')]), OrderedDict([('name', 'scanflowpath'), ('mountPath', '/scanflow')])])])), ('volumes', [])]), OrderedDict([('name', 'predictor-batch'), ('inputs', OrderedDict([('parameters', [{'name': 'para-predictor-batch-0'}, {'name': 'para-predictor-batch-1'}, {'name': 'para-predictor-batch-2'}, {'name': 'para-predictor-batch-3'}])])), ('container', OrderedDict([('image', '172.30.0.49:5000/predictor-batch:latest'), ('command', None), ('args', ['\"{{inputs.parameters.para-predictor-batch-0}}\"', '\"{{inputs.parameters.para-predictor-batch-1}}\"', '\"{{inputs.parameters.para-predictor-batch-2}}\"', '\"{{inputs.parameters.para-predictor-batch-3}}\"']), ('env', [{'name': 'AWS_ACCESS_KEY_ID', 'value': 'admin'}, {'name': 'AWS_SECRET_ACCESS_KEY', 'value': 'admin123'}, {'name': 'MLFLOW_S3_ENDPOINT_URL', 'value': 'http://minio.minio-system.svc.cluster.local:9000'}, {'name': 'SCANFLOW_TRACKER_URI', 'value': 'http://scanflow-tracker-service.scanflow-system.svc.cluster.local'}, {'name': 'SCANFLOW_SERVER_URI', 'value': 'http://scanflow-server-service.scanflow-system.svc.cluster.local'}, {'name': 'SCANFLOW_TRACKER_LOCAL_URI', 'value': 'http://scanflow-tracker.scanflow-mnist-dataengineer.svc.cluster.local'}]), ('volumeMounts', [OrderedDict([('name', 'outputpath'), ('mountPath', '/workflow')]), OrderedDict([('name', 'scanflowpath'), ('mountPath', '/scanflow')])])])), ('volumes', [])])], 'activeDeadlineSeconds': 3600, 'ttlSecondsAfterFinished': 5400.0})])\n"
     ]
    },
    {
     "data": {
      "text/plain": [
       "True"
      ]
     },
     "execution_count": 16,
     "metadata": {},
     "output_type": "execute_result"
    }
   ],
   "source": [
    "await deployerClient.run_workflow(app_name='mnist', \n",
    "                                  team_name='dataengineer',\n",
    "                                  workflow = build_app.workflows[0])"
   ]
  },
  {
   "cell_type": "markdown",
   "metadata": {},
   "source": [
    "#### 7.2. Online Inference \n",
    "Online workflow(workflow[1]:online-inference) is defined by dataengineer, first dataengineer should deploy the workflow as services by using seldon, then client could send request to get the predictions."
   ]
  },
  {
   "cell_type": "code",
   "execution_count": 49,
   "metadata": {},
   "outputs": [
    {
     "name": "stderr",
     "output_type": "stream",
     "text": [
      "10-Jun-21 17:59:22 -  INFO - env for executor {'AWS_ACCESS_KEY_ID': 'admin', 'AWS_SECRET_ACCESS_KEY': 'admin123', 'MLFLOW_S3_ENDPOINT_URL': 'http://minio.minio-system.svc.cluster.local:9000', 'AWS_ENDPOINT_URL': 'http://minio.minio-system.svc.cluster.local:9000', 'SCANFLOW_TRACKER_URI': 'http://scanflow-tracker-service.scanflow-system.svc.cluster.local', 'SCANFLOW_SERVER_URI': 'http://scanflow-server-service.scanflow-system.svc.cluster.local', 'SCANFLOW_TRACKER_LOCAL_URI': 'http://scanflow-tracker.scanflow-mnist-dataengineer.svc.cluster.local'}\n",
      "10-Jun-21 17:59:22 -  INFO - [+] Building workflow: [online-inference- service]\n",
      "10-Jun-21 17:59:22 -  INFO - [+] Building workflow: [online-inference- edges]\n",
      "10-Jun-21 17:59:22 -  INFO - [+] workflow does not have edges]\n",
      "10-Jun-21 17:59:22 -  INFO - [+] Building workflow: [online-inference- graph]\n",
      "10-Jun-21 17:59:22 -  INFO - [+++] Workflow: deploying [online-inference] to seldon OrderedDict([('apiVersion', 'machinelearning.seldon.io/v1'), ('kind', 'SeldonDeployment'), ('metadata', {'name': 'online-inference', 'namespace': 'scanflow-mnist-dataengineer'}), ('spec', {'name': 'online-inference', 'predictors': [{'name': 'online-inference', 'replica': 1, 'graph': {'name': 'predictor-online', 'implementation': 'TENSORFLOW_SERVER', 'endpoint': {'type': 'GRPC'}, 'parameters': [{'name': 'model_name', 'type': 'STRING', 'value': 'predictor-online'}, {'name': 'model_input', 'type': 'STRING', 'value': 'input_1'}, {'name': 'model_output', 'type': 'STRING', 'value': 'dense_1'}], 'modelUri': 's3://scanflow/scanflow-mnist-dataengineer/1/d41424882d314d048c611b7e84960c8e/artifacts/mnist-tf/model', 'envSecretRefName': 'scanflow-secret'}}]})])\n",
      "10-Jun-21 17:59:22 -  INFO - seldon deployment apiVersion: machinelearning.seldon.io/v1\n",
      "kind: SeldonDeployment\n",
      "metadata:\n",
      "  name: online-inference\n",
      "  namespace: scanflow-mnist-dataengineer\n",
      "spec:\n",
      "  name: online-inference\n",
      "  predictors:\n",
      "    - graph:\n",
      "        endpoint:\n",
      "          type: GRPC\n",
      "        envSecretRefName: scanflow-secret\n",
      "        implementation: TENSORFLOW_SERVER\n",
      "        modelUri: s3://scanflow/scanflow-mnist-dataengineer/1/d41424882d314d048c611b7e84960c8e/artifacts/mnist-tf/model\n",
      "        name: predictor-online\n",
      "        parameters:\n",
      "          - name: model_name\n",
      "            type: STRING\n",
      "            value: predictor-online\n",
      "          - name: model_input\n",
      "            type: STRING\n",
      "            value: input_1\n",
      "          - name: model_output\n",
      "            type: STRING\n",
      "            value: dense_1\n",
      "      name: online-inference\n",
      "      replica: 1\n",
      "\n",
      "10-Jun-21 17:59:22 -  INFO - Submitting workflow to Seldon\n",
      "10-Jun-21 17:59:22 -  INFO - Workflow online-inference has been submitted in \"scanflow-mnist-dataengineer\" namespace!\n"
     ]
    },
    {
     "data": {
      "text/plain": [
       "{'apiVersion': 'machinelearning.seldon.io/v1',\n",
       " 'kind': 'SeldonDeployment',\n",
       " 'metadata': {'creationTimestamp': '2021-06-10T15:59:22Z',\n",
       "  'generation': 1,\n",
       "  'managedFields': [{'apiVersion': 'machinelearning.seldon.io/v1',\n",
       "    'fieldsType': 'FieldsV1',\n",
       "    'fieldsV1': {'f:spec': {'.': {}, 'f:name': {}, 'f:predictors': {}}},\n",
       "    'manager': 'OpenAPI-Generator',\n",
       "    'operation': 'Update',\n",
       "    'time': '2021-06-10T15:59:22Z'}],\n",
       "  'name': 'online-inference',\n",
       "  'namespace': 'scanflow-mnist-dataengineer',\n",
       "  'resourceVersion': '53359234',\n",
       "  'selfLink': '/apis/machinelearning.seldon.io/v1/namespaces/scanflow-mnist-dataengineer/seldondeployments/online-inference',\n",
       "  'uid': '557c7d19-a09b-45aa-a051-57fda8347aa9'},\n",
       " 'spec': {'name': 'online-inference',\n",
       "  'predictors': [{'graph': {'endpoint': {'type': 'GRPC'},\n",
       "     'envSecretRefName': 'scanflow-secret',\n",
       "     'implementation': 'TENSORFLOW_SERVER',\n",
       "     'modelUri': 's3://scanflow/scanflow-mnist-dataengineer/1/d41424882d314d048c611b7e84960c8e/artifacts/mnist-tf/model',\n",
       "     'name': 'predictor-online',\n",
       "     'parameters': [{'name': 'model_name',\n",
       "       'type': 'STRING',\n",
       "       'value': 'predictor-online'},\n",
       "      {'name': 'model_input', 'type': 'STRING', 'value': 'input_1'},\n",
       "      {'name': 'model_output', 'type': 'STRING', 'value': 'dense_1'}]},\n",
       "    'name': 'online-inference'}]}}"
      ]
     },
     "execution_count": 49,
     "metadata": {},
     "output_type": "execute_result"
    }
   ],
   "source": [
    "await deployerClient.deploy_workflow(app_name='mnist', \n",
    "                                  team_name='dataengineer',\n",
    "                                  workflow = build_app.workflows[1])"
   ]
  },
  {
   "cell_type": "code",
   "execution_count": 50,
   "metadata": {},
   "outputs": [
    {
     "data": {
      "image/png": "[encoded data removed]",
      "text/plain": [
       "<IPython.core.display.Image object>"
      ]
     },
     "execution_count": 50,
     "metadata": {
      "image/png": {
       "height": 400,
       "width": 1200
      }
     },
     "output_type": "execute_result"
    }
   ],
   "source": [
    "from IPython.display import Image\n",
    "Image(\"/gpfs/bsc_home/xpliu/pv/jupyterhubpeini/scanflow/images/seldon-api.PNG\", width=1200, height=400)"
   ]
  },
  {
   "cell_type": "markdown",
   "metadata": {},
   "source": [
    " \n",
    "[online-inference] http://172.30.0.53:40000/seldon/scanflow-mnist-dataengineer/online-inference/api/v1.0/doc/#/\n",
    "  "
   ]
  },
  {
   "cell_type": "code",
   "execution_count": 15,
   "metadata": {},
   "outputs": [
    {
     "data": {
      "text/plain": [
       "True"
      ]
     },
     "execution_count": 15,
     "metadata": {},
     "output_type": "execute_result"
    }
   ],
   "source": [
    "await deployerClient.delete_workflow(app_name='mnist', \n",
    "                                  team_name='dataengineer',\n",
    "                                  workflow = build_app.workflows[1])"
   ]
  },
  {
   "cell_type": "markdown",
   "metadata": {},
   "source": [
    "\n",
    "  \n",
    "### Step8: Clean scanflow environment\n",
    "  \n",
    "  1. delete environment\n",
    "  "
   ]
  },
  {
   "cell_type": "code",
   "execution_count": 19,
   "metadata": {
    "scrolled": false
   },
   "outputs": [
    {
     "name": "stderr",
     "output_type": "stream",
     "text": [
      "15-Sep-21 15:25:02 -  INFO - [++] Stopping tracker: [scanflow-tracker].\n",
      "15-Sep-21 15:25:02 -  ERROR - delete_deployment error\n",
      "15-Sep-21 15:25:02 -  ERROR - delete_service error\n",
      "15-Sep-21 15:25:02 -  INFO - [++]Delete tracker configmap scanflow-tracker-env\n",
      "15-Sep-21 15:25:02 -  ERROR - delete_configmap error\n",
      "15-Sep-21 15:25:02 -  INFO - [++]Delete client configmap scanflow-client-env\n",
      "15-Sep-21 15:25:02 -  ERROR - delete_configmap error\n",
      "15-Sep-21 15:25:02 -  INFO - [++]Delete s3 secret scanflow-secret\n",
      "15-Sep-21 15:25:02 -  ERROR - delete_secret error\n",
      "15-Sep-21 15:25:02 -  INFO - [++]Delete rolebinding default-admin\n",
      "15-Sep-21 15:25:02 -  ERROR - delete_rolebinding error\n",
      "15-Sep-21 15:25:02 -  INFO - [++]Delete namespace \"scanflow-mnist-dataengineer\"\n",
      "15-Sep-21 15:25:02 -  INFO - delete_namespace true\n",
      "15-Sep-21 15:25:02 -  ERROR - delete_pvc error\n",
      "15-Sep-21 15:25:02 -  ERROR - delete_pv error\n"
     ]
    },
    {
     "data": {
      "text/plain": [
       "False"
      ]
     },
     "execution_count": 19,
     "metadata": {},
     "output_type": "execute_result"
    }
   ],
   "source": [
    "await deployerClient.clean_environment(app=build_app)"
   ]
  },
  {
   "cell_type": "code",
   "execution_count": null,
   "metadata": {},
   "outputs": [],
   "source": []
  },
  {
   "cell_type": "code",
   "execution_count": null,
   "metadata": {},
   "outputs": [],
   "source": []
  },
  {
   "cell_type": "code",
   "execution_count": null,
   "metadata": {},
   "outputs": [],
   "source": []
  }
 ],
 "metadata": {
  "kernelspec": {
   "display_name": "Python 3",
   "language": "python",
   "name": "python3"
  },
  "language_info": {
   "codemirror_mode": {
    "name": "ipython",
    "version": 3
   },
   "file_extension": ".py",
   "mimetype": "text/x-python",
   "name": "python",
   "nbconvert_exporter": "python",
   "pygments_lexer": "ipython3",
   "version": "3.8.5"
  }
 },
 "nbformat": 4,
 "nbformat_minor": 4
}
