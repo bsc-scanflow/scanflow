{
 "cells": [
  {
   "cell_type": "markdown",
   "id": "6acdbd28-a67a-41b4-b4e6-16e3a0a5626e",
   "metadata": {},
   "source": [
    "# Mlperf DataEngineer (Inference Stage)\n",
    "\n",
    "****Inference Scenarios****\n",
    "\n",
    "| scenarios | reference app | framework | model/dataset |\n",
    "| ---- | ---- | ---- | ---- |\n",
    "| batch-inference-single | [scenarios/job-single](https://github.com/peiniliu/inference/tree/dev/vision/classification_and_detection/scenarios/job-single) | tensorflow | resnet/imagenet2012 |\n",
    "| batch-inference-workflow | [scenarios/job-pipeline](https://github.com/peiniliu/inference/tree/dev/vision/classification_and_detection/scenarios/job-pipeline) | tensorflow | resnet/imagenet2012 |\n",
    "| online-inference-single | [scenarios/service-single](https://github.com/peiniliu/inference/tree/dev/vision/classification_and_detection/scenarios/service-single) | tensorflow | resnet/imagenet2012 |\n",
    "| online-inference-graph | [scenarios/service-graph](https://github.com/peiniliu/inference/tree/dev/vision/classification_and_detection/scenarios/service-graph) | tensorflow | resnet/imagenet2012 |"
   ]
  },
  {
   "cell_type": "code",
   "execution_count": 1,
   "id": "bca50738-a9da-45ec-97fa-9d1722b71dfa",
   "metadata": {},
   "outputs": [],
   "source": [
    "import sys\n",
    "import os\n",
    "sys.path.insert(0,'../..')\n",
    "\n",
    "import scanflow\n",
    "from scanflow.client import ScanflowClient\n",
    "from scanflow.client import ScanflowTrackerClient\n",
    "from scanflow.client import ScanflowDeployerClient"
   ]
  },
  {
   "cell_type": "code",
   "execution_count": 2,
   "id": "a3ed2df1-257b-4bc5-a641-2d65a168dc84",
   "metadata": {},
   "outputs": [
    {
     "name": "stdout",
     "output_type": "stream",
     "text": [
      "http://172.30.0.50:46666\n",
      "http://172.30.0.50:46667\n",
      "http://172.30.0.50:43447\n",
      "admin\n",
      "admin123\n"
     ]
    }
   ],
   "source": [
    "from scanflow.tools import env\n",
    "print(env.get_env(\"SCANFLOW_SERVER_URI\"))\n",
    "print(env.get_env(\"SCANFLOW_TRACKER_URI\"))\n",
    "#print(env.get_env(\"SCANFLOW_TRACKER_LOCAL_URI\"))\n",
    "print(env.get_env(\"MLFLOW_S3_ENDPOINT_URL\"))\n",
    "print(env.get_env(\"AWS_ACCESS_KEY_ID\"))\n",
    "print(env.get_env(\"AWS_SECRET_ACCESS_KEY\"))"
   ]
  },
  {
   "cell_type": "code",
   "execution_count": 3,
   "id": "ed52145b-41df-4f05-8d7c-cb3c765ff964",
   "metadata": {},
   "outputs": [],
   "source": [
    "# App folder\n",
    "scanflow_path = \"/gpfs/bsc_home/xpliu/pv/jupyterhubpeini/scanflow\"\n",
    "app_dir = os.path.join(scanflow_path, \"examples/mlperf/dataengineer\")\n",
    "app_name = \"mlperf\"\n",
    "team_name = \"dataengineer\"\n",
    "\n",
    "# scanflow client\n",
    "client = ScanflowClient(\n",
    "              #if you defined \"SCANFLOW_SERVER_URI\", you dont need to provide this\n",
    "              #scanflow_server_uri=\"http://172.30.0.50:46666\",\n",
    "              verbose=True)"
   ]
  },
  {
   "cell_type": "markdown",
   "id": "bc52568a-191e-42a4-8779-8de6244dff31",
   "metadata": {},
   "source": [
    "### Scenario 1: Batch-inference-single"
   ]
  },
  {
   "cell_type": "code",
   "execution_count": 4,
   "id": "8e0203c6-8c72-4c5e-a16b-493aa4482ee0",
   "metadata": {},
   "outputs": [],
   "source": [
    "#predictor\n",
    "executor1 = client.ScanflowExecutor(name='predictor-batch', \n",
    "                      mainfile='/tmp/inference/vision/classification_and_detection/python/main.py',\n",
    "                      parameters={'model_name': 'mlperf-resnet',\n",
    "                                  #mlperf params\n",
    "                                  'dataset': 'imagenet_tflocal_preprocess',\n",
    "                                  'dataset-path': '/workflow/data_imagenet',\n",
    "                                  'scenario': 'Offline', # four scenarios\n",
    "                                  'model': '/workflow/model/0',\n",
    "                                  'model_name': 'resnet50',\n",
    "                                  'inputs': 'input_image',\n",
    "                                  'outputs': 'predictions/Softmax:0',\n",
    "                                  'backend': 'tflocal',\n",
    "                                  'mlperf_conf': '/tmp/inference/mlperf.conf',\n",
    "                                  'user_conf': '/tmp/inference/vision/classification_and_detection/user.conf',\n",
    "                                  'device': 'cpu',\n",
    "                                  'cache_dir': '/workflow/preprocessed'\n",
    "                                  'output': '/workflow/output',\n",
    "                                  },\n",
    "                      base_image='mlperf')\n",
    "\n",
    "\n",
    "##workflow1 batch-inference-single\n",
    "##-- predictor-batch\n",
    "workflow1 = client.ScanflowWorkflow(name='batch-inference-single', \n",
    "                     nodes=[executor1],\n",
    "                     output_dir = \"/workflow\")\n",
    "              "
   ]
  },
  {
   "cell_type": "markdown",
   "id": "ae951f15-6924-4d69-9e40-b1bf426b59d2",
   "metadata": {},
   "source": [
    "### Scenario 2: Batch-inference-graph"
   ]
  },
  {
   "cell_type": "code",
   "execution_count": 4,
   "id": "765614a0-2cea-49bc-a9a8-ad5b51c9537f",
   "metadata": {},
   "outputs": [],
   "source": [
    "#predictor\n",
    "executor1 = client.ScanflowExecutor(name='download-model',\n",
    "                                    mainfile='download.py',\n",
    "                                    parameters={'model_name': 'mlperf-resnet',\n",
    "                                                'model_uri': ''},\n",
    "                                   )\n",
    "\n",
    "executor2 = client.ScanflowExecutor(name='preprocessing-batch', \n",
    "                      mainfile='/tmp/inference/vision/classification_and_detection/python/preprocessing.py',\n",
    "                      parameters={'app_name': app_name,\n",
    "                                  'team_name': 'data'},\n",
    "                      base_image='mlperf')\n",
    "\n",
    "executor3 = client.ScanflowExecutor(name='predictor-batch', \n",
    "                      mainfile='predictor.py',\n",
    "                      parameters={'model_name': 'mlperf-resnet',\n",
    "                                  #mlperf params\n",
    "                                  'dataset': 'imagenet_tflocal_preprocess',\n",
    "                                  'dataset-path': '/workflow/data_imagenet',\n",
    "                                  'scenario': 'Offline', # four scenarios\n",
    "                                  'model': '/workflow/model/0',\n",
    "                                  'model-name': 'resnet50',\n",
    "                                  'inputs': 'input_image',\n",
    "                                  'outputs': 'predictions/Softmax:0',\n",
    "                                  'backend': 'tflocal',\n",
    "                                  'mlperf_conf': '/tmp/inference/mlperf.conf',\n",
    "                                  'user_conf': '/tmp/inference/vision/classification_and_detection/user.conf',\n",
    "                                  'device': 'cpu',\n",
    "                                  'cache_dir': '/workflow/preprocessed'\n",
    "                                  'output': '/workflow/output', },\n",
    "                      base_image='mlperf')\n",
    "\n",
    "executor4 = client.ScanflowExecutor(name='postprocessing-batch', \n",
    "                      mainfile='postprocessing.py',\n",
    "                      parameters={'app_name': app_name,\n",
    "                                  'team_name': 'data'},\n",
    "                      requirements='requirements.txt')\n",
    "\n",
    "dependency1 = client.ScanflowDependency(dependee='download-model',\n",
    "                                    depender='preprocessing-batch')\n",
    "dependency2 = client.ScanflowDependency(dependee='preprocessing-batch',\n",
    "                                    depender='predictor-batch')\n",
    "dependency3 = client.ScanflowDependency(dependee='predictor-batch',\n",
    "                                    depender='postprocessing-batch')\n",
    "\n",
    "##workflow1 batch-inference-graph\n",
    "workflow1 = client.ScanflowWorkflow(name='batch-inference-graph', \n",
    "                     nodes=[executor1, executor2, executor3, executor4],\n",
    "                     edges=[dependency1, dependency2, dependency3],\n",
    "                     output_dir = \"/workflow\")\n",
    "              "
   ]
  },
  {
   "cell_type": "code",
   "execution_count": null,
   "id": "4ae2856d-0faf-430d-9c96-cd568bf281d0",
   "metadata": {},
   "outputs": [],
   "source": []
  },
  {
   "cell_type": "markdown",
   "id": "71137f04-076e-4c55-8ebf-8656f46b7018",
   "metadata": {},
   "source": [
    "### Scenario 3: Online-inference-single"
   ]
  },
  {
   "cell_type": "code",
   "execution_count": 5,
   "id": "805a1a27-4daa-4cfe-82f0-ddbe14273e27",
   "metadata": {},
   "outputs": [],
   "source": [
    "#predictor online\n",
    "service = client.ScanflowService(name='predictor-online',\n",
    "                                 implementation_type = 'TENSORFLOW_SERVER',\n",
    "                                 modelUri = 's3://scanflow/3/e90820f4af0b4f7a8a3264b4c49689ce/artifacts/mlperf-resnet/model',\n",
    "                                 envSecretRefName = 'scanflow-secret',\n",
    "                                 endpoint = {'type': 'GRPC'},\n",
    "                                 parameters=[{'name': 'model_name', 'type':'STRING', 'value':'predictor-online'},\n",
    "                                             {'name': 'model_input', 'type':'STRING', 'value':'input_image'},\n",
    "                                             {'name': 'model_output', 'type':'STRING', 'value':'predictions/Softmax:0'}]\n",
    "                                )\n",
    "\n",
    "##workflow3 online-inference-single\n",
    "##       -- predictor-online\n",
    "workflow3 = client.ScanflowWorkflow(name='online-inference-single', \n",
    "                     nodes=[service],\n",
    "                     output_dir = \"/workflow\")"
   ]
  },
  {
   "cell_type": "markdown",
   "id": "802ff704-af40-415c-8362-3af9960c0e0a",
   "metadata": {},
   "source": [
    "### Scenario 4: Online-inference-graph"
   ]
  },
  {
   "cell_type": "code",
   "execution_count": null,
   "id": "149dc0fb-fb15-4907-a181-ede491b1499e",
   "metadata": {},
   "outputs": [],
   "source": [
    "#predictor online\n",
    "service1 = client.ScanflowService(name='preprocessing-online',\n",
    "                                  )\n",
    "\n",
    "service2 = client.ScanflowService(name='predictor-online',\n",
    "                                 implementation_type = 'TENSORFLOW_SERVER',\n",
    "                                 modelUri = 's3://scanflow/3/e90820f4af0b4f7a8a3264b4c49689ce/artifacts/mlperf-resnet/model',\n",
    "                                 envSecretRefName = 'scanflow-secret',\n",
    "                                 endpoint = {'type': 'GRPC'},\n",
    "                                 parameters=[{'name': 'model_name', 'type':'STRING', 'value':'predictor-online'},\n",
    "                                             {'name': 'model_input', 'type':'STRING', 'value':'input_image'},\n",
    "                                             {'name': 'model_output', 'type':'STRING', 'value':'predictions/Softmax:0'}]\n",
    "                                )\n",
    "\n",
    "##workflow4 online-inference-graph\n",
    "workflow4 = client.ScanflowWorkflow(name='online-inference-graph', \n",
    "                     nodes=[service],\n",
    "                     output_dir = \"/workflow\")"
   ]
  },
  {
   "cell_type": "code",
   "execution_count": 11,
   "id": "c6584b28-e863-4e49-b2dd-b707f089a34b",
   "metadata": {},
   "outputs": [],
   "source": [
    "app = client.ScanflowApplication(app_name = app_name,\n",
    "                                 app_dir = app_dir,\n",
    "                                 team_name = team_name,\n",
    "                                 workflows=[workflow1, workflow2, workflow3, workflow4])"
   ]
  },
  {
   "cell_type": "code",
   "execution_count": 12,
   "id": "6dbe87be-41e1-4fa0-84f5-efa4ea1c498d",
   "metadata": {},
   "outputs": [
    {
     "name": "stderr",
     "output_type": "stream",
     "text": [
      "14-Jun-21 23:04:26 -  INFO - Scanflowagent-tracker: {'name': 'tracker', 'template': 'monitor', 'sensors': [{'name': 'count_number_of_predictions', 'isCustom': True, 'func_name': 'count_number_of_predictions', 'trigger': {'weeks': 0, 'days': 0, 'hours': 1, 'minutes': 0, 'seconds': 0, 'start_date': None, 'end_date': None, 'timezone': None, 'jitter': None}, 'args': None, 'kwargs': None, 'next_run_time': None}], 'dockerfile': None, 'image': None}\n",
      "14-Jun-21 23:04:26 -  INFO - Scanflowagent-checker: {'name': 'checker', 'template': 'analyzer', 'sensors': [{'name': 'count_number_of_newdata', 'isCustom': True, 'func_name': 'count_number_of_newdata', 'trigger': {'weeks': 0, 'days': 0, 'hours': 1, 'minutes': 0, 'seconds': 0, 'start_date': None, 'end_date': None, 'timezone': None, 'jitter': None}, 'args': None, 'kwargs': None, 'next_run_time': None}], 'dockerfile': None, 'image': None}\n",
      "14-Jun-21 23:04:26 -  INFO - Scanflowagent-planner: {'name': 'planner', 'template': 'planner', 'sensors': [{'name': 'check_model_accuracy', 'isCustom': True, 'func_name': 'check_model_accuracy', 'trigger': {'weeks': 0, 'days': 0, 'hours': 1, 'minutes': 0, 'seconds': 0, 'start_date': None, 'end_date': None, 'timezone': None, 'jitter': None}, 'args': None, 'kwargs': None, 'next_run_time': None}], 'dockerfile': None, 'image': None}\n",
      "14-Jun-21 23:04:26 -  INFO - Scanflowagent-executor: {'name': 'executor', 'template': 'executor', 'sensors': None, 'dockerfile': None, 'image': None}\n",
      "14-Jun-21 23:04:26 -  INFO - Scanflowapp: {'app_name': 'mnist', 'app_dir': '/gpfs/bsc_home/xpliu/pv/jupyterhubpeini/scanflow/examples/mnist/dataengineer', 'team_name': 'dataengineer', 'workflows': [{'name': 'batch-inference', 'nodes': [{'name': 'load-data', 'node_type': 'executor', 'mainfile': 'loaddata.py', 'parameters': {'app_name': 'mnist', 'team_name': 'data'}, 'requirements': None, 'dockerfile': None, 'base_image': None, 'env': None, 'image': None, 'resources': None}, {'name': 'predictor-batch', 'node_type': 'executor', 'mainfile': 'predictor.py', 'parameters': {'model_name': 'mnist_cnn', 'input_data': '/workflow/load-data/mnist/data/mnist_sample/test_images.npy'}, 'requirements': None, 'dockerfile': None, 'base_image': 'modeling-cnn1', 'env': None, 'image': None, 'resources': None}], 'edges': [{'depender': 'predictor-batch', 'dependee': 'load-data', 'edge_type': 'dependency', 'priority': 0}], 'affinity': None, 'kedaSpec': None, 'output_dir': '/workflow'}, {'name': 'online-inference', 'nodes': [{'name': 'predictor-online', 'node_type': 'service', 'image': None, 'env': None, 'envfrom': None, 'requirements': None, 'dockerfile': None, 'base_image': None, 'service_type': None, 'implementation_type': 'TENSORFLOW_SERVER', 'modelUri': 's3://scanflow/scanflow-mnist-dataengineer/1/d41424882d314d048c611b7e84960c8e/artifacts/mnist-tf/model', 'envSecretRefName': 'scanflow-secret', 'endpoint': {'type': 'GRPC'}, 'parameters': [{'name': 'model_name', 'type': 'STRING', 'value': 'predictor-online'}, {'name': 'model_input', 'type': 'STRING', 'value': 'input_1'}, {'name': 'model_output', 'type': 'STRING', 'value': 'dense_1'}], 'resources': None}], 'edges': None, 'affinity': None, 'kedaSpec': None, 'output_dir': '/workflow'}, {'name': 'detector-inference', 'nodes': [{'name': 'load-data', 'node_type': 'executor', 'mainfile': 'loaddata.py', 'parameters': {'experiment_name': 'checker', 'run_id': '', 'path': 'data'}, 'requirements': None, 'dockerfile': None, 'base_image': None, 'env': None, 'image': None, 'resources': None}, {'name': 'detector-batch', 'node_type': 'executor', 'mainfile': 'checker.py', 'parameters': {'model_name': 'mnist_detector', 'input_data': '/workflow/load-data/data/x_inference.npy'}, 'requirements': None, 'dockerfile': None, 'base_image': 'checker', 'env': None, 'image': None, 'resources': None}, {'name': 'pick-data', 'node_type': 'executor', 'mainfile': 'pick-data.py', 'parameters': {'e_inference': '/workflow/detector-batch/E_inference.csv', 'x_inference_artifact': '/workflow/load-data/data/x_inference.npy', 'y_inference_artifact': '/workflow/load-data/data/y_inference.npy'}, 'requirements': None, 'dockerfile': None, 'base_image': 'checker', 'env': None, 'image': None, 'resources': None}], 'edges': [{'depender': 'detector-batch', 'dependee': 'load-data', 'edge_type': 'dependency', 'priority': 0}, {'depender': 'pick-data', 'dependee': 'detector-batch', 'edge_type': 'dependency', 'priority': 0}], 'affinity': None, 'kedaSpec': None, 'output_dir': '/workflow'}], 'agents': [{'name': 'tracker', 'template': 'monitor', 'sensors': [{'name': 'count_number_of_predictions', 'isCustom': True, 'func_name': 'count_number_of_predictions', 'trigger': {'weeks': 0, 'days': 0, 'hours': 1, 'minutes': 0, 'seconds': 0, 'start_date': None, 'end_date': None, 'timezone': None, 'jitter': None}, 'args': None, 'kwargs': None, 'next_run_time': None}], 'dockerfile': None, 'image': None}, {'name': 'checker', 'template': 'analyzer', 'sensors': [{'name': 'count_number_of_newdata', 'isCustom': True, 'func_name': 'count_number_of_newdata', 'trigger': {'weeks': 0, 'days': 0, 'hours': 1, 'minutes': 0, 'seconds': 0, 'start_date': None, 'end_date': None, 'timezone': None, 'jitter': None}, 'args': None, 'kwargs': None, 'next_run_time': None}], 'dockerfile': None, 'image': None}, {'name': 'planner', 'template': 'planner', 'sensors': [{'name': 'check_model_accuracy', 'isCustom': True, 'func_name': 'check_model_accuracy', 'trigger': {'weeks': 0, 'days': 0, 'hours': 1, 'minutes': 0, 'seconds': 0, 'start_date': None, 'end_date': None, 'timezone': None, 'jitter': None}, 'args': None, 'kwargs': None, 'next_run_time': None}], 'dockerfile': None, 'image': None}, {'name': 'executor', 'template': 'executor', 'sensors': None, 'dockerfile': None, 'image': None}], 'tracker': None}\n"
     ]
    }
   ],
   "source": [
    "dic = app.to_dict()"
   ]
  },
  {
   "cell_type": "code",
   "execution_count": 13,
   "id": "62751406-c836-47f3-bcab-a88e42ad6ffd",
   "metadata": {},
   "outputs": [
    {
     "name": "stderr",
     "output_type": "stream",
     "text": [
      "14-Jun-21 23:04:27 -  INFO - Building image 172.30.0.49:5000/tracker-agent\n",
      "14-Jun-21 23:04:27 -  INFO - Building image 172.30.0.49:5000/checker-agent\n",
      "14-Jun-21 23:04:27 -  INFO - Building image 172.30.0.49:5000/planner-agent\n",
      "14-Jun-21 23:04:27 -  INFO - Building image 172.30.0.49:5000/executor-agent\n",
      "14-Jun-21 23:04:27 -  INFO - Building image 172.30.0.49:5000/load-data\n",
      "14-Jun-21 23:04:27 -  INFO - Building image 172.30.0.49:5000/predictor-batch\n",
      "14-Jun-21 23:04:27 -  INFO - Building image 172.30.0.49:5000/predictor-online\n",
      "14-Jun-21 23:04:27 -  INFO - [+] Image [172.30.0.49:5000/predictor-online] not found in repository. Building a new one.\n",
      "14-Jun-21 23:04:27 -  INFO - [+] Dockerfile: [Dockerfile_scanflow_service] was not created.\n",
      "14-Jun-21 23:04:27 -  INFO - dockerfile for using None from /gpfs/bsc_home/xpliu/pv/jupyterhubpeini/scanflow/examples/mnist/dataengineer/workflows\n",
      "14-Jun-21 23:04:27 -  INFO - Building image 172.30.0.49:5000/load-data\n",
      "14-Jun-21 23:04:27 -  INFO - Building image 172.30.0.49:5000/detector-batch\n",
      "14-Jun-21 23:04:27 -  INFO - Building image 172.30.0.49:5000/pick-data\n"
     ]
    }
   ],
   "source": [
    "build_app = client.build_ScanflowApplication(app = app, trackerPort=46669)"
   ]
  },
  {
   "cell_type": "code",
   "execution_count": 14,
   "id": "79a7fa62-cc7a-46cc-9ffa-bfcee38b6a15",
   "metadata": {},
   "outputs": [
    {
     "name": "stderr",
     "output_type": "stream",
     "text": [
      "14-Jun-21 23:04:28 -  INFO - Scanflowagent-tracker: {'name': 'tracker', 'template': 'monitor', 'sensors': [{'name': 'count_number_of_predictions', 'isCustom': True, 'func_name': 'count_number_of_predictions', 'trigger': {'weeks': 0, 'days': 0, 'hours': 1, 'minutes': 0, 'seconds': 0, 'start_date': None, 'end_date': None, 'timezone': None, 'jitter': None}, 'args': None, 'kwargs': None, 'next_run_time': None}], 'dockerfile': None, 'image': '172.30.0.49:5000/tracker-agent:latest'}\n",
      "14-Jun-21 23:04:28 -  INFO - Scanflowagent-checker: {'name': 'checker', 'template': 'analyzer', 'sensors': [{'name': 'count_number_of_newdata', 'isCustom': True, 'func_name': 'count_number_of_newdata', 'trigger': {'weeks': 0, 'days': 0, 'hours': 1, 'minutes': 0, 'seconds': 0, 'start_date': None, 'end_date': None, 'timezone': None, 'jitter': None}, 'args': None, 'kwargs': None, 'next_run_time': None}], 'dockerfile': None, 'image': '172.30.0.49:5000/checker-agent:latest'}\n",
      "14-Jun-21 23:04:28 -  INFO - Scanflowagent-planner: {'name': 'planner', 'template': 'planner', 'sensors': [{'name': 'check_model_accuracy', 'isCustom': True, 'func_name': 'check_model_accuracy', 'trigger': {'weeks': 0, 'days': 0, 'hours': 1, 'minutes': 0, 'seconds': 0, 'start_date': None, 'end_date': None, 'timezone': None, 'jitter': None}, 'args': None, 'kwargs': None, 'next_run_time': None}], 'dockerfile': None, 'image': '172.30.0.49:5000/planner-agent:latest'}\n",
      "14-Jun-21 23:04:28 -  INFO - Scanflowagent-executor: {'name': 'executor', 'template': 'executor', 'sensors': None, 'dockerfile': None, 'image': '172.30.0.49:5000/executor-agent:latest'}\n",
      "14-Jun-21 23:04:28 -  INFO - Scanflowapp: {'app_name': 'mnist', 'app_dir': '/gpfs/bsc_home/xpliu/pv/jupyterhubpeini/scanflow/examples/mnist/dataengineer', 'team_name': 'dataengineer', 'workflows': [{'name': 'batch-inference', 'nodes': [{'name': 'load-data', 'node_type': 'executor', 'mainfile': 'loaddata.py', 'parameters': {'app_name': 'mnist', 'team_name': 'data'}, 'requirements': None, 'dockerfile': None, 'base_image': None, 'env': None, 'image': '172.30.0.49:5000/load-data:latest', 'resources': None}, {'name': 'predictor-batch', 'node_type': 'executor', 'mainfile': 'predictor.py', 'parameters': {'model_name': 'mnist_cnn', 'input_data': '/workflow/load-data/mnist/data/mnist_sample/test_images.npy'}, 'requirements': None, 'dockerfile': None, 'base_image': 'modeling-cnn1', 'env': None, 'image': '172.30.0.49:5000/predictor-batch:latest', 'resources': None}], 'edges': [{'depender': 'predictor-batch', 'dependee': 'load-data', 'edge_type': 'dependency', 'priority': 0}], 'affinity': None, 'kedaSpec': None, 'output_dir': '/workflow'}, {'name': 'online-inference', 'nodes': [{'name': 'predictor-online', 'node_type': 'service', 'image': None, 'env': None, 'envfrom': None, 'requirements': None, 'dockerfile': None, 'base_image': None, 'service_type': None, 'implementation_type': 'TENSORFLOW_SERVER', 'modelUri': 's3://scanflow/scanflow-mnist-dataengineer/1/d41424882d314d048c611b7e84960c8e/artifacts/mnist-tf/model', 'envSecretRefName': 'scanflow-secret', 'endpoint': {'type': 'GRPC'}, 'parameters': [{'name': 'model_name', 'type': 'STRING', 'value': 'predictor-online'}, {'name': 'model_input', 'type': 'STRING', 'value': 'input_1'}, {'name': 'model_output', 'type': 'STRING', 'value': 'dense_1'}], 'resources': None}], 'edges': None, 'affinity': None, 'kedaSpec': None, 'output_dir': '/workflow'}, {'name': 'detector-inference', 'nodes': [{'name': 'load-data', 'node_type': 'executor', 'mainfile': 'loaddata.py', 'parameters': {'experiment_name': 'checker', 'run_id': '', 'path': 'data'}, 'requirements': None, 'dockerfile': None, 'base_image': None, 'env': None, 'image': '172.30.0.49:5000/load-data:latest', 'resources': None}, {'name': 'detector-batch', 'node_type': 'executor', 'mainfile': 'checker.py', 'parameters': {'model_name': 'mnist_detector', 'input_data': '/workflow/load-data/data/x_inference.npy'}, 'requirements': None, 'dockerfile': None, 'base_image': 'checker', 'env': None, 'image': '172.30.0.49:5000/detector-batch:latest', 'resources': None}, {'name': 'pick-data', 'node_type': 'executor', 'mainfile': 'pick-data.py', 'parameters': {'e_inference': '/workflow/detector-batch/E_inference.csv', 'x_inference_artifact': '/workflow/load-data/data/x_inference.npy', 'y_inference_artifact': '/workflow/load-data/data/y_inference.npy'}, 'requirements': None, 'dockerfile': None, 'base_image': 'checker', 'env': None, 'image': '172.30.0.49:5000/pick-data:latest', 'resources': None}], 'edges': [{'depender': 'detector-batch', 'dependee': 'load-data', 'edge_type': 'dependency', 'priority': 0}, {'depender': 'pick-data', 'dependee': 'detector-batch', 'edge_type': 'dependency', 'priority': 0}], 'affinity': None, 'kedaSpec': None, 'output_dir': '/workflow'}], 'agents': [{'name': 'tracker', 'template': 'monitor', 'sensors': [{'name': 'count_number_of_predictions', 'isCustom': True, 'func_name': 'count_number_of_predictions', 'trigger': {'weeks': 0, 'days': 0, 'hours': 1, 'minutes': 0, 'seconds': 0, 'start_date': None, 'end_date': None, 'timezone': None, 'jitter': None}, 'args': None, 'kwargs': None, 'next_run_time': None}], 'dockerfile': None, 'image': '172.30.0.49:5000/tracker-agent:latest'}, {'name': 'checker', 'template': 'analyzer', 'sensors': [{'name': 'count_number_of_newdata', 'isCustom': True, 'func_name': 'count_number_of_newdata', 'trigger': {'weeks': 0, 'days': 0, 'hours': 1, 'minutes': 0, 'seconds': 0, 'start_date': None, 'end_date': None, 'timezone': None, 'jitter': None}, 'args': None, 'kwargs': None, 'next_run_time': None}], 'dockerfile': None, 'image': '172.30.0.49:5000/checker-agent:latest'}, {'name': 'planner', 'template': 'planner', 'sensors': [{'name': 'check_model_accuracy', 'isCustom': True, 'func_name': 'check_model_accuracy', 'trigger': {'weeks': 0, 'days': 0, 'hours': 1, 'minutes': 0, 'seconds': 0, 'start_date': None, 'end_date': None, 'timezone': None, 'jitter': None}, 'args': None, 'kwargs': None, 'next_run_time': None}], 'dockerfile': None, 'image': '172.30.0.49:5000/planner-agent:latest'}, {'name': 'executor', 'template': 'executor', 'sensors': None, 'dockerfile': None, 'image': '172.30.0.49:5000/executor-agent:latest'}], 'tracker': {'image': '172.30.0.49:5000/scanflow-tracker', 'nodePort': 46669}}\n"
     ]
    },
    {
     "data": {
      "text/plain": [
       "{'app_name': 'mnist',\n",
       " 'app_dir': '/gpfs/bsc_home/xpliu/pv/jupyterhubpeini/scanflow/examples/mnist/dataengineer',\n",
       " 'team_name': 'dataengineer',\n",
       " 'workflows': [{'name': 'batch-inference',\n",
       "   'nodes': [{'name': 'load-data',\n",
       "     'node_type': 'executor',\n",
       "     'mainfile': 'loaddata.py',\n",
       "     'parameters': {'app_name': 'mnist', 'team_name': 'data'},\n",
       "     'requirements': None,\n",
       "     'dockerfile': None,\n",
       "     'base_image': None,\n",
       "     'env': None,\n",
       "     'image': '172.30.0.49:5000/load-data:latest',\n",
       "     'resources': None},\n",
       "    {'name': 'predictor-batch',\n",
       "     'node_type': 'executor',\n",
       "     'mainfile': 'predictor.py',\n",
       "     'parameters': {'model_name': 'mnist_cnn',\n",
       "      'input_data': '/workflow/load-data/mnist/data/mnist_sample/test_images.npy'},\n",
       "     'requirements': None,\n",
       "     'dockerfile': None,\n",
       "     'base_image': 'modeling-cnn1',\n",
       "     'env': None,\n",
       "     'image': '172.30.0.49:5000/predictor-batch:latest',\n",
       "     'resources': None}],\n",
       "   'edges': [{'depender': 'predictor-batch',\n",
       "     'dependee': 'load-data',\n",
       "     'edge_type': 'dependency',\n",
       "     'priority': 0}],\n",
       "   'affinity': None,\n",
       "   'kedaSpec': None,\n",
       "   'output_dir': '/workflow'},\n",
       "  {'name': 'online-inference',\n",
       "   'nodes': [{'name': 'predictor-online',\n",
       "     'node_type': 'service',\n",
       "     'image': None,\n",
       "     'env': None,\n",
       "     'envfrom': None,\n",
       "     'requirements': None,\n",
       "     'dockerfile': None,\n",
       "     'base_image': None,\n",
       "     'service_type': None,\n",
       "     'implementation_type': 'TENSORFLOW_SERVER',\n",
       "     'modelUri': 's3://scanflow/scanflow-mnist-dataengineer/1/d41424882d314d048c611b7e84960c8e/artifacts/mnist-tf/model',\n",
       "     'envSecretRefName': 'scanflow-secret',\n",
       "     'endpoint': {'type': 'GRPC'},\n",
       "     'parameters': [{'name': 'model_name',\n",
       "       'type': 'STRING',\n",
       "       'value': 'predictor-online'},\n",
       "      {'name': 'model_input', 'type': 'STRING', 'value': 'input_1'},\n",
       "      {'name': 'model_output', 'type': 'STRING', 'value': 'dense_1'}],\n",
       "     'resources': None}],\n",
       "   'edges': None,\n",
       "   'affinity': None,\n",
       "   'kedaSpec': None,\n",
       "   'output_dir': '/workflow'},\n",
       "  {'name': 'detector-inference',\n",
       "   'nodes': [{'name': 'load-data',\n",
       "     'node_type': 'executor',\n",
       "     'mainfile': 'loaddata.py',\n",
       "     'parameters': {'experiment_name': 'checker',\n",
       "      'run_id': '',\n",
       "      'path': 'data'},\n",
       "     'requirements': None,\n",
       "     'dockerfile': None,\n",
       "     'base_image': None,\n",
       "     'env': None,\n",
       "     'image': '172.30.0.49:5000/load-data:latest',\n",
       "     'resources': None},\n",
       "    {'name': 'detector-batch',\n",
       "     'node_type': 'executor',\n",
       "     'mainfile': 'checker.py',\n",
       "     'parameters': {'model_name': 'mnist_detector',\n",
       "      'input_data': '/workflow/load-data/data/x_inference.npy'},\n",
       "     'requirements': None,\n",
       "     'dockerfile': None,\n",
       "     'base_image': 'checker',\n",
       "     'env': None,\n",
       "     'image': '172.30.0.49:5000/detector-batch:latest',\n",
       "     'resources': None},\n",
       "    {'name': 'pick-data',\n",
       "     'node_type': 'executor',\n",
       "     'mainfile': 'pick-data.py',\n",
       "     'parameters': {'e_inference': '/workflow/detector-batch/E_inference.csv',\n",
       "      'x_inference_artifact': '/workflow/load-data/data/x_inference.npy',\n",
       "      'y_inference_artifact': '/workflow/load-data/data/y_inference.npy'},\n",
       "     'requirements': None,\n",
       "     'dockerfile': None,\n",
       "     'base_image': 'checker',\n",
       "     'env': None,\n",
       "     'image': '172.30.0.49:5000/pick-data:latest',\n",
       "     'resources': None}],\n",
       "   'edges': [{'depender': 'detector-batch',\n",
       "     'dependee': 'load-data',\n",
       "     'edge_type': 'dependency',\n",
       "     'priority': 0},\n",
       "    {'depender': 'pick-data',\n",
       "     'dependee': 'detector-batch',\n",
       "     'edge_type': 'dependency',\n",
       "     'priority': 0}],\n",
       "   'affinity': None,\n",
       "   'kedaSpec': None,\n",
       "   'output_dir': '/workflow'}],\n",
       " 'agents': [{'name': 'tracker',\n",
       "   'template': 'monitor',\n",
       "   'sensors': [{'name': 'count_number_of_predictions',\n",
       "     'isCustom': True,\n",
       "     'func_name': 'count_number_of_predictions',\n",
       "     'trigger': {'weeks': 0,\n",
       "      'days': 0,\n",
       "      'hours': 1,\n",
       "      'minutes': 0,\n",
       "      'seconds': 0,\n",
       "      'start_date': None,\n",
       "      'end_date': None,\n",
       "      'timezone': None,\n",
       "      'jitter': None},\n",
       "     'args': None,\n",
       "     'kwargs': None,\n",
       "     'next_run_time': None}],\n",
       "   'dockerfile': None,\n",
       "   'image': '172.30.0.49:5000/tracker-agent:latest'},\n",
       "  {'name': 'checker',\n",
       "   'template': 'analyzer',\n",
       "   'sensors': [{'name': 'count_number_of_newdata',\n",
       "     'isCustom': True,\n",
       "     'func_name': 'count_number_of_newdata',\n",
       "     'trigger': {'weeks': 0,\n",
       "      'days': 0,\n",
       "      'hours': 1,\n",
       "      'minutes': 0,\n",
       "      'seconds': 0,\n",
       "      'start_date': None,\n",
       "      'end_date': None,\n",
       "      'timezone': None,\n",
       "      'jitter': None},\n",
       "     'args': None,\n",
       "     'kwargs': None,\n",
       "     'next_run_time': None}],\n",
       "   'dockerfile': None,\n",
       "   'image': '172.30.0.49:5000/checker-agent:latest'},\n",
       "  {'name': 'planner',\n",
       "   'template': 'planner',\n",
       "   'sensors': [{'name': 'check_model_accuracy',\n",
       "     'isCustom': True,\n",
       "     'func_name': 'check_model_accuracy',\n",
       "     'trigger': {'weeks': 0,\n",
       "      'days': 0,\n",
       "      'hours': 1,\n",
       "      'minutes': 0,\n",
       "      'seconds': 0,\n",
       "      'start_date': None,\n",
       "      'end_date': None,\n",
       "      'timezone': None,\n",
       "      'jitter': None},\n",
       "     'args': None,\n",
       "     'kwargs': None,\n",
       "     'next_run_time': None}],\n",
       "   'dockerfile': None,\n",
       "   'image': '172.30.0.49:5000/planner-agent:latest'},\n",
       "  {'name': 'executor',\n",
       "   'template': 'executor',\n",
       "   'sensors': None,\n",
       "   'dockerfile': None,\n",
       "   'image': '172.30.0.49:5000/executor-agent:latest'}],\n",
       " 'tracker': {'image': '172.30.0.49:5000/scanflow-tracker', 'nodePort': 46669}}"
      ]
     },
     "execution_count": 14,
     "metadata": {},
     "output_type": "execute_result"
    }
   ],
   "source": [
    "build_app.to_dict()"
   ]
  },
  {
   "cell_type": "code",
   "execution_count": null,
   "id": "103cb53f-6fd5-4e53-9418-6c2e36061bb8",
   "metadata": {},
   "outputs": [],
   "source": []
  },
  {
   "cell_type": "code",
   "execution_count": null,
   "id": "fbed76fc-d8b7-46cb-8f3a-426ab2a6c932",
   "metadata": {},
   "outputs": [],
   "source": []
  },
  {
   "cell_type": "code",
   "execution_count": 15,
   "id": "07d64053-4c8e-4da3-887b-2c7411e05960",
   "metadata": {},
   "outputs": [],
   "source": [
    "deployerClient = ScanflowDeployerClient(user_type=\"incluster\",\n",
    "                                        deployer=\"seldon\",\n",
    "                                        k8s_config_file=\"/gpfs/bsc_home/xpliu/.kube/config\")"
   ]
  },
  {
   "cell_type": "code",
   "execution_count": 16,
   "id": "3d7cda60-17b6-40b3-89f0-89d07330ec3e",
   "metadata": {},
   "outputs": [
    {
     "name": "stderr",
     "output_type": "stream",
     "text": [
      "14-Jun-21 23:04:36 -  INFO - Scanflowagent-tracker: {'name': 'tracker', 'template': 'monitor', 'sensors': [{'name': 'count_number_of_predictions', 'isCustom': True, 'func_name': 'count_number_of_predictions', 'trigger': {'weeks': 0, 'days': 0, 'hours': 1, 'minutes': 0, 'seconds': 0, 'start_date': None, 'end_date': None, 'timezone': None, 'jitter': None}, 'args': None, 'kwargs': None, 'next_run_time': None}], 'dockerfile': None, 'image': '172.30.0.49:5000/tracker-agent:latest'}\n",
      "14-Jun-21 23:04:36 -  INFO - Scanflowagent-checker: {'name': 'checker', 'template': 'analyzer', 'sensors': [{'name': 'count_number_of_newdata', 'isCustom': True, 'func_name': 'count_number_of_newdata', 'trigger': {'weeks': 0, 'days': 0, 'hours': 1, 'minutes': 0, 'seconds': 0, 'start_date': None, 'end_date': None, 'timezone': None, 'jitter': None}, 'args': None, 'kwargs': None, 'next_run_time': None}], 'dockerfile': None, 'image': '172.30.0.49:5000/checker-agent:latest'}\n",
      "14-Jun-21 23:04:36 -  INFO - Scanflowagent-planner: {'name': 'planner', 'template': 'planner', 'sensors': [{'name': 'check_model_accuracy', 'isCustom': True, 'func_name': 'check_model_accuracy', 'trigger': {'weeks': 0, 'days': 0, 'hours': 1, 'minutes': 0, 'seconds': 0, 'start_date': None, 'end_date': None, 'timezone': None, 'jitter': None}, 'args': None, 'kwargs': None, 'next_run_time': None}], 'dockerfile': None, 'image': '172.30.0.49:5000/planner-agent:latest'}\n",
      "14-Jun-21 23:04:36 -  INFO - Scanflowagent-executor: {'name': 'executor', 'template': 'executor', 'sensors': None, 'dockerfile': None, 'image': '172.30.0.49:5000/executor-agent:latest'}\n",
      "14-Jun-21 23:04:36 -  INFO - Scanflowapp: {'app_name': 'mnist', 'app_dir': '/gpfs/bsc_home/xpliu/pv/jupyterhubpeini/scanflow/examples/mnist/dataengineer', 'team_name': 'dataengineer', 'workflows': [{'name': 'batch-inference', 'nodes': [{'name': 'load-data', 'node_type': 'executor', 'mainfile': 'loaddata.py', 'parameters': {'app_name': 'mnist', 'team_name': 'data'}, 'requirements': None, 'dockerfile': None, 'base_image': None, 'env': None, 'image': '172.30.0.49:5000/load-data:latest', 'resources': None}, {'name': 'predictor-batch', 'node_type': 'executor', 'mainfile': 'predictor.py', 'parameters': {'model_name': 'mnist_cnn', 'input_data': '/workflow/load-data/mnist/data/mnist_sample/test_images.npy'}, 'requirements': None, 'dockerfile': None, 'base_image': 'modeling-cnn1', 'env': None, 'image': '172.30.0.49:5000/predictor-batch:latest', 'resources': None}], 'edges': [{'depender': 'predictor-batch', 'dependee': 'load-data', 'edge_type': 'dependency', 'priority': 0}], 'affinity': None, 'kedaSpec': None, 'output_dir': '/workflow'}, {'name': 'online-inference', 'nodes': [{'name': 'predictor-online', 'node_type': 'service', 'image': None, 'env': None, 'envfrom': None, 'requirements': None, 'dockerfile': None, 'base_image': None, 'service_type': None, 'implementation_type': 'TENSORFLOW_SERVER', 'modelUri': 's3://scanflow/scanflow-mnist-dataengineer/1/d41424882d314d048c611b7e84960c8e/artifacts/mnist-tf/model', 'envSecretRefName': 'scanflow-secret', 'endpoint': {'type': 'GRPC'}, 'parameters': [{'name': 'model_name', 'type': 'STRING', 'value': 'predictor-online'}, {'name': 'model_input', 'type': 'STRING', 'value': 'input_1'}, {'name': 'model_output', 'type': 'STRING', 'value': 'dense_1'}], 'resources': None}], 'edges': None, 'affinity': None, 'kedaSpec': None, 'output_dir': '/workflow'}, {'name': 'detector-inference', 'nodes': [{'name': 'load-data', 'node_type': 'executor', 'mainfile': 'loaddata.py', 'parameters': {'experiment_name': 'checker', 'run_id': '', 'path': 'data'}, 'requirements': None, 'dockerfile': None, 'base_image': None, 'env': None, 'image': '172.30.0.49:5000/load-data:latest', 'resources': None}, {'name': 'detector-batch', 'node_type': 'executor', 'mainfile': 'checker.py', 'parameters': {'model_name': 'mnist_detector', 'input_data': '/workflow/load-data/data/x_inference.npy'}, 'requirements': None, 'dockerfile': None, 'base_image': 'checker', 'env': None, 'image': '172.30.0.49:5000/detector-batch:latest', 'resources': None}, {'name': 'pick-data', 'node_type': 'executor', 'mainfile': 'pick-data.py', 'parameters': {'e_inference': '/workflow/detector-batch/E_inference.csv', 'x_inference_artifact': '/workflow/load-data/data/x_inference.npy', 'y_inference_artifact': '/workflow/load-data/data/y_inference.npy'}, 'requirements': None, 'dockerfile': None, 'base_image': 'checker', 'env': None, 'image': '172.30.0.49:5000/pick-data:latest', 'resources': None}], 'edges': [{'depender': 'detector-batch', 'dependee': 'load-data', 'edge_type': 'dependency', 'priority': 0}, {'depender': 'pick-data', 'dependee': 'detector-batch', 'edge_type': 'dependency', 'priority': 0}], 'affinity': None, 'kedaSpec': None, 'output_dir': '/workflow'}], 'agents': [{'name': 'tracker', 'template': 'monitor', 'sensors': [{'name': 'count_number_of_predictions', 'isCustom': True, 'func_name': 'count_number_of_predictions', 'trigger': {'weeks': 0, 'days': 0, 'hours': 1, 'minutes': 0, 'seconds': 0, 'start_date': None, 'end_date': None, 'timezone': None, 'jitter': None}, 'args': None, 'kwargs': None, 'next_run_time': None}], 'dockerfile': None, 'image': '172.30.0.49:5000/tracker-agent:latest'}, {'name': 'checker', 'template': 'analyzer', 'sensors': [{'name': 'count_number_of_newdata', 'isCustom': True, 'func_name': 'count_number_of_newdata', 'trigger': {'weeks': 0, 'days': 0, 'hours': 1, 'minutes': 0, 'seconds': 0, 'start_date': None, 'end_date': None, 'timezone': None, 'jitter': None}, 'args': None, 'kwargs': None, 'next_run_time': None}], 'dockerfile': None, 'image': '172.30.0.49:5000/checker-agent:latest'}, {'name': 'planner', 'template': 'planner', 'sensors': [{'name': 'check_model_accuracy', 'isCustom': True, 'func_name': 'check_model_accuracy', 'trigger': {'weeks': 0, 'days': 0, 'hours': 1, 'minutes': 0, 'seconds': 0, 'start_date': None, 'end_date': None, 'timezone': None, 'jitter': None}, 'args': None, 'kwargs': None, 'next_run_time': None}], 'dockerfile': None, 'image': '172.30.0.49:5000/planner-agent:latest'}, {'name': 'executor', 'template': 'executor', 'sensors': None, 'dockerfile': None, 'image': '172.30.0.49:5000/executor-agent:latest'}], 'tracker': {'image': '172.30.0.49:5000/scanflow-tracker', 'nodePort': 46669}}\n",
      "14-Jun-21 23:04:36 -  ERROR - create scanflow application env error: create environment error\n"
     ]
    },
    {
     "data": {
      "text/plain": [
       "False"
      ]
     },
     "execution_count": 16,
     "metadata": {},
     "output_type": "execute_result"
    }
   ],
   "source": [
    "await deployerClient.create_environment(app=build_app)"
   ]
  },
  {
   "cell_type": "code",
   "execution_count": null,
   "id": "dd6ff9f2-f5bf-4707-be76-68605015d6d1",
   "metadata": {},
   "outputs": [],
   "source": []
  },
  {
   "cell_type": "code",
   "execution_count": null,
   "id": "5c34aab7-fcee-4a24-ba16-6c691de0301c",
   "metadata": {},
   "outputs": [],
   "source": []
  },
  {
   "cell_type": "code",
   "execution_count": 17,
   "id": "8d055267-cfda-4e42-aba2-1e1848fbd56f",
   "metadata": {},
   "outputs": [],
   "source": [
    "trackerClient = ScanflowTrackerClient(scanflow_tracker_local_uri=\"http://172.30.0.50:46669\",\n",
    "                        verbose=True)"
   ]
  },
  {
   "cell_type": "code",
   "execution_count": 18,
   "id": "c945a490-37d7-4e08-9758-11d3d1305cf8",
   "metadata": {},
   "outputs": [
    {
     "name": "stderr",
     "output_type": "stream",
     "text": [
      "09-Jun-21 10:21:32 -  INFO - Found credentials in environment variables.\n",
      "09-Jun-21 10:21:33 -  INFO - mnist--scanflow-model-datascience--{'training_dataset_len': 60000.0, 'accuracy': 0.9}--{}\n",
      "09-Jun-21 10:21:34 -  INFO - mnist_cnn exists\n",
      "2021/06/09 10:21:34 INFO mlflow.tracking._model_registry.client: Waiting up to 300 seconds for model version to finish creation.                     Model name: mnist_cnn, version 9\n"
     ]
    }
   ],
   "source": [
    "trackerClient.download_app_model(model_name=\"mlperf-resnet\")"
   ]
  },
  {
   "cell_type": "code",
   "execution_count": 19,
   "id": "622e8a4b-b31f-4bed-9710-b4003381c1b4",
   "metadata": {},
   "outputs": [
    {
     "name": "stderr",
     "output_type": "stream",
     "text": [
      "14-Jun-21 23:06:03 -  INFO - Connecting tracking server uri: http://172.30.0.50:46667\n",
      "14-Jun-21 23:06:03 -  INFO - save app to artifact uri: s3://scanflow/1/09dbc72504584286802a914e2f70ac36/artifacts\n",
      "14-Jun-21 23:06:03 -  INFO - Scanflowagent-tracker: {'name': 'tracker', 'template': 'monitor', 'sensors': [{'name': 'count_number_of_predictions', 'isCustom': True, 'func_name': 'count_number_of_predictions', 'trigger': {'weeks': 0, 'days': 0, 'hours': 1, 'minutes': 0, 'seconds': 0, 'start_date': None, 'end_date': None, 'timezone': None, 'jitter': None}, 'args': None, 'kwargs': None, 'next_run_time': None}], 'dockerfile': None, 'image': '172.30.0.49:5000/tracker-agent:latest'}\n",
      "14-Jun-21 23:06:03 -  INFO - Scanflowagent-checker: {'name': 'checker', 'template': 'analyzer', 'sensors': [{'name': 'count_number_of_newdata', 'isCustom': True, 'func_name': 'count_number_of_newdata', 'trigger': {'weeks': 0, 'days': 0, 'hours': 1, 'minutes': 0, 'seconds': 0, 'start_date': None, 'end_date': None, 'timezone': None, 'jitter': None}, 'args': None, 'kwargs': None, 'next_run_time': None}], 'dockerfile': None, 'image': '172.30.0.49:5000/checker-agent:latest'}\n",
      "14-Jun-21 23:06:03 -  INFO - Scanflowagent-planner: {'name': 'planner', 'template': 'planner', 'sensors': [{'name': 'check_model_accuracy', 'isCustom': True, 'func_name': 'check_model_accuracy', 'trigger': {'weeks': 0, 'days': 0, 'hours': 1, 'minutes': 0, 'seconds': 0, 'start_date': None, 'end_date': None, 'timezone': None, 'jitter': None}, 'args': None, 'kwargs': None, 'next_run_time': None}], 'dockerfile': None, 'image': '172.30.0.49:5000/planner-agent:latest'}\n",
      "14-Jun-21 23:06:03 -  INFO - Scanflowagent-executor: {'name': 'executor', 'template': 'executor', 'sensors': None, 'dockerfile': None, 'image': '172.30.0.49:5000/executor-agent:latest'}\n",
      "14-Jun-21 23:06:03 -  INFO - Scanflowapp: {'app_name': 'mnist', 'app_dir': '/gpfs/bsc_home/xpliu/pv/jupyterhubpeini/scanflow/examples/mnist/dataengineer', 'team_name': 'dataengineer', 'workflows': [{'name': 'batch-inference', 'nodes': [{'name': 'load-data', 'node_type': 'executor', 'mainfile': 'loaddata.py', 'parameters': {'app_name': 'mnist', 'team_name': 'data'}, 'requirements': None, 'dockerfile': None, 'base_image': None, 'env': None, 'image': '172.30.0.49:5000/load-data:latest', 'resources': None}, {'name': 'predictor-batch', 'node_type': 'executor', 'mainfile': 'predictor.py', 'parameters': {'model_name': 'mnist_cnn', 'input_data': '/workflow/load-data/mnist/data/mnist_sample/test_images.npy'}, 'requirements': None, 'dockerfile': None, 'base_image': 'modeling-cnn1', 'env': None, 'image': '172.30.0.49:5000/predictor-batch:latest', 'resources': None}], 'edges': [{'depender': 'predictor-batch', 'dependee': 'load-data', 'edge_type': 'dependency', 'priority': 0}], 'affinity': None, 'kedaSpec': None, 'output_dir': '/workflow'}, {'name': 'online-inference', 'nodes': [{'name': 'predictor-online', 'node_type': 'service', 'image': None, 'env': None, 'envfrom': None, 'requirements': None, 'dockerfile': None, 'base_image': None, 'service_type': None, 'implementation_type': 'TENSORFLOW_SERVER', 'modelUri': 's3://scanflow/scanflow-mnist-dataengineer/1/d41424882d314d048c611b7e84960c8e/artifacts/mnist-tf/model', 'envSecretRefName': 'scanflow-secret', 'endpoint': {'type': 'GRPC'}, 'parameters': [{'name': 'model_name', 'type': 'STRING', 'value': 'predictor-online'}, {'name': 'model_input', 'type': 'STRING', 'value': 'input_1'}, {'name': 'model_output', 'type': 'STRING', 'value': 'dense_1'}], 'resources': None}], 'edges': None, 'affinity': None, 'kedaSpec': None, 'output_dir': '/workflow'}, {'name': 'detector-inference', 'nodes': [{'name': 'load-data', 'node_type': 'executor', 'mainfile': 'loaddata.py', 'parameters': {'experiment_name': 'checker', 'run_id': '', 'path': 'data'}, 'requirements': None, 'dockerfile': None, 'base_image': None, 'env': None, 'image': '172.30.0.49:5000/load-data:latest', 'resources': None}, {'name': 'detector-batch', 'node_type': 'executor', 'mainfile': 'checker.py', 'parameters': {'model_name': 'mnist_detector', 'input_data': '/workflow/load-data/data/x_inference.npy'}, 'requirements': None, 'dockerfile': None, 'base_image': 'checker', 'env': None, 'image': '172.30.0.49:5000/detector-batch:latest', 'resources': None}, {'name': 'pick-data', 'node_type': 'executor', 'mainfile': 'pick-data.py', 'parameters': {'e_inference': '/workflow/detector-batch/E_inference.csv', 'x_inference_artifact': '/workflow/load-data/data/x_inference.npy', 'y_inference_artifact': '/workflow/load-data/data/y_inference.npy'}, 'requirements': None, 'dockerfile': None, 'base_image': 'checker', 'env': None, 'image': '172.30.0.49:5000/pick-data:latest', 'resources': None}], 'edges': [{'depender': 'detector-batch', 'dependee': 'load-data', 'edge_type': 'dependency', 'priority': 0}, {'depender': 'pick-data', 'dependee': 'detector-batch', 'edge_type': 'dependency', 'priority': 0}], 'affinity': None, 'kedaSpec': None, 'output_dir': '/workflow'}], 'agents': [{'name': 'tracker', 'template': 'monitor', 'sensors': [{'name': 'count_number_of_predictions', 'isCustom': True, 'func_name': 'count_number_of_predictions', 'trigger': {'weeks': 0, 'days': 0, 'hours': 1, 'minutes': 0, 'seconds': 0, 'start_date': None, 'end_date': None, 'timezone': None, 'jitter': None}, 'args': None, 'kwargs': None, 'next_run_time': None}], 'dockerfile': None, 'image': '172.30.0.49:5000/tracker-agent:latest'}, {'name': 'checker', 'template': 'analyzer', 'sensors': [{'name': 'count_number_of_newdata', 'isCustom': True, 'func_name': 'count_number_of_newdata', 'trigger': {'weeks': 0, 'days': 0, 'hours': 1, 'minutes': 0, 'seconds': 0, 'start_date': None, 'end_date': None, 'timezone': None, 'jitter': None}, 'args': None, 'kwargs': None, 'next_run_time': None}], 'dockerfile': None, 'image': '172.30.0.49:5000/checker-agent:latest'}, {'name': 'planner', 'template': 'planner', 'sensors': [{'name': 'check_model_accuracy', 'isCustom': True, 'func_name': 'check_model_accuracy', 'trigger': {'weeks': 0, 'days': 0, 'hours': 1, 'minutes': 0, 'seconds': 0, 'start_date': None, 'end_date': None, 'timezone': None, 'jitter': None}, 'args': None, 'kwargs': None, 'next_run_time': None}], 'dockerfile': None, 'image': '172.30.0.49:5000/planner-agent:latest'}, {'name': 'executor', 'template': 'executor', 'sensors': None, 'dockerfile': None, 'image': '172.30.0.49:5000/executor-agent:latest'}], 'tracker': {'image': '172.30.0.49:5000/scanflow-tracker', 'nodePort': 46669}}\n",
      "14-Jun-21 23:06:03 -  INFO - Found credentials in environment variables.\n",
      "14-Jun-21 23:06:03 -  INFO - Scanflowagent-tracker: {'name': 'tracker', 'template': 'monitor', 'sensors': [{'name': 'count_number_of_predictions', 'isCustom': True, 'func_name': 'count_number_of_predictions', 'trigger': {'weeks': 0, 'days': 0, 'hours': 1, 'minutes': 0, 'seconds': 0, 'start_date': None, 'end_date': None, 'timezone': None, 'jitter': None}, 'args': None, 'kwargs': None, 'next_run_time': None}], 'dockerfile': None, 'image': '172.30.0.49:5000/tracker-agent:latest'}\n",
      "14-Jun-21 23:06:03 -  INFO - Scanflowagent-checker: {'name': 'checker', 'template': 'analyzer', 'sensors': [{'name': 'count_number_of_newdata', 'isCustom': True, 'func_name': 'count_number_of_newdata', 'trigger': {'weeks': 0, 'days': 0, 'hours': 1, 'minutes': 0, 'seconds': 0, 'start_date': None, 'end_date': None, 'timezone': None, 'jitter': None}, 'args': None, 'kwargs': None, 'next_run_time': None}], 'dockerfile': None, 'image': '172.30.0.49:5000/checker-agent:latest'}\n",
      "14-Jun-21 23:06:03 -  INFO - Scanflowagent-planner: {'name': 'planner', 'template': 'planner', 'sensors': [{'name': 'check_model_accuracy', 'isCustom': True, 'func_name': 'check_model_accuracy', 'trigger': {'weeks': 0, 'days': 0, 'hours': 1, 'minutes': 0, 'seconds': 0, 'start_date': None, 'end_date': None, 'timezone': None, 'jitter': None}, 'args': None, 'kwargs': None, 'next_run_time': None}], 'dockerfile': None, 'image': '172.30.0.49:5000/planner-agent:latest'}\n",
      "14-Jun-21 23:06:03 -  INFO - Scanflowagent-executor: {'name': 'executor', 'template': 'executor', 'sensors': None, 'dockerfile': None, 'image': '172.30.0.49:5000/executor-agent:latest'}\n"
     ]
    }
   ],
   "source": [
    "trackerClient.save_app_meta(build_app)"
   ]
  },
  {
   "cell_type": "code",
   "execution_count": 20,
   "id": "126e7ba8-f209-469d-884e-4e6eb54c98be",
   "metadata": {},
   "outputs": [
    {
     "name": "stderr",
     "output_type": "stream",
     "text": [
      "14-Jun-21 23:06:08 -  INFO - Connecting tracking server uri: http://172.30.0.50:46667\n",
      "14-Jun-21 23:06:08 -  INFO - save app in /gpfs/bsc_home/xpliu/pv/jupyterhubpeini/scanflow/examples/mnist/dataengineer to artifact uri: s3://scanflow/1/c5639371ccf6485b9e3618e788169932/artifacts\n"
     ]
    }
   ],
   "source": [
    "trackerClient.save_app_artifacts(app_name=app_name, \n",
    "                                team_name=team_name, \n",
    "                                app_dir=app_dir)"
   ]
  },
  {
   "cell_type": "code",
   "execution_count": null,
   "id": "03540c98-02c7-40fc-a7fd-a5509ab4aed0",
   "metadata": {},
   "outputs": [],
   "source": []
  },
  {
   "cell_type": "code",
   "execution_count": null,
   "id": "2f7ed49b-afc2-416b-99f6-5eee3a9566b9",
   "metadata": {},
   "outputs": [],
   "source": []
  },
  {
   "cell_type": "code",
   "execution_count": null,
   "id": "1d896180-5ea3-4d01-8736-c579ee115504",
   "metadata": {},
   "outputs": [],
   "source": []
  },
  {
   "cell_type": "code",
   "execution_count": null,
   "id": "2080a57a-04dd-4d86-928e-a048e21888be",
   "metadata": {},
   "outputs": [],
   "source": []
  },
  {
   "cell_type": "code",
   "execution_count": null,
   "id": "6f1c2443-7ddf-42b7-a21b-0777ca31484f",
   "metadata": {},
   "outputs": [],
   "source": []
  },
  {
   "cell_type": "code",
   "execution_count": 16,
   "id": "510d43ca-b754-495a-86d7-e13b943419b5",
   "metadata": {},
   "outputs": [
    {
     "name": "stderr",
     "output_type": "stream",
     "text": [
      "25-May-21 15:58:22 -  INFO - [+] output dir /workflow\n",
      "25-May-21 15:58:22 -  INFO - [+] Create batch-inference output PV\n",
      "25-May-21 15:58:22 -  INFO - create_pv true\n",
      "25-May-21 15:58:22 -  INFO - [+] Create batch-inference output PVC\n",
      "25-May-21 15:58:22 -  INFO - create_pvc true\n",
      "25-May-21 15:58:22 -  INFO - output dir created\n",
      "25-May-21 15:58:22 -  INFO - env for executor {'AWS_ACCESS_KEY_ID': 'admin', 'AWS_SECRET_ACCESS_KEY': 'admin123', 'MLFLOW_S3_ENDPOINT_URL': 'http://minio.minio-system.svc.cluster.local:9000', 'SCANFLOW_TRACKER_URI': 'http://scanflow-tracker-service.scanflow-system.svc.cluster.local', 'SCANFLOW_SERVER_URI': 'http://scanflow-server-service.scanflow-system.svc.cluster.local', 'SCANFLOW_TRACKER_LOCAL_URI': 'http://scanflow-tracker.scanflow-mnist-dataengineer.svc.cluster.local'}\n",
      "25-May-21 15:58:22 -  INFO - [+] Building workflow: [batch-inference:load-data].\n",
      "25-May-21 15:58:22 -  INFO - ['--app_name', 'mnist', '--team_name', 'data']\n",
      "25-May-21 15:58:22 -  INFO - [+] Building workflow: [batch-inference:predictor-batch].\n",
      "25-May-21 15:58:22 -  INFO - ['--model_name', 'mnist_cnn', '--input_data', '/workflow/load-data/mnist/data/mnist_sample/test_images.npy']\n",
      "25-May-21 15:58:22 -  INFO - [+] Building workflow: [batch-inference- dependencies]\n",
      "25-May-21 15:58:22 -  INFO - [+] Building workflow: [batch-inference- dag]\n",
      "25-May-21 15:58:22 -  INFO - Found local kubernetes config. Initialized with kube_config.\n",
      "25-May-21 15:58:22 -  INFO - Checking workflow name/generatedName batch-inference\n",
      "25-May-21 15:58:22 -  INFO - Submitting workflow to Argo\n",
      "25-May-21 15:58:22 -  INFO - Workflow batch-inference has been submitted in \"scanflow-mnist-dataengineer\" namespace!\n",
      "25-May-21 15:58:22 -  INFO - [+++] Workflow: [batch-inference] has been submitted to argo {'apiVersion': 'argoproj.io/v1alpha1', 'kind': 'Workflow', 'metadata': {'creationTimestamp': '2021-05-25T13:58:22Z', 'generation': 1, 'managedFields': [{'apiVersion': 'argoproj.io/v1alpha1', 'fieldsType': 'FieldsV1', 'fieldsV1': {'f:spec': {'.': {}, 'f:activeDeadlineSeconds': {}, 'f:entrypoint': {}, 'f:templates': {}, 'f:ttlSecondsAfterFinished': {}, 'f:volumes': {}}}, 'manager': 'OpenAPI-Generator', 'operation': 'Update', 'time': '2021-05-25T13:58:22Z'}], 'name': 'batch-inference', 'namespace': 'scanflow-mnist-dataengineer', 'resourceVersion': '44766998', 'selfLink': '/apis/argoproj.io/v1alpha1/namespaces/scanflow-mnist-dataengineer/workflows/batch-inference', 'uid': '73ef5d5e-228b-4993-ae69-332e6b69c3a5'}, 'spec': {'activeDeadlineSeconds': 3600, 'entrypoint': 'batch-inference', 'templates': [{'dag': {'tasks': [{'arguments': {'parameters': [{'name': 'para-load-data-0', 'value': '--app_name'}, {'name': 'para-load-data-1', 'value': 'mnist'}, {'name': 'para-load-data-2', 'value': '--team_name'}, {'name': 'para-load-data-3', 'value': 'data'}]}, 'name': 'load-data', 'template': 'load-data'}, {'arguments': {'parameters': [{'name': 'para-predictor-batch-0', 'value': '--model_name'}, {'name': 'para-predictor-batch-1', 'value': 'mnist_cnn'}, {'name': 'para-predictor-batch-2', 'value': '--input_data'}, {'name': 'para-predictor-batch-3', 'value': '/workflow/load-data/mnist/data/mnist_sample/test_images.npy'}]}, 'dependencies': ['load-data'], 'name': 'predictor-batch', 'template': 'predictor-batch'}]}, 'name': 'batch-inference'}, {'container': {'args': ['{{inputs.parameters.para-load-data-0}}', '{{inputs.parameters.para-load-data-1}}', '{{inputs.parameters.para-load-data-2}}', '{{inputs.parameters.para-load-data-3}}'], 'command': None, 'env': [{'name': 'AWS_ACCESS_KEY_ID', 'value': 'admin'}, {'name': 'AWS_SECRET_ACCESS_KEY', 'value': 'admin123'}, {'name': 'MLFLOW_S3_ENDPOINT_URL', 'value': 'http://minio.minio-system.svc.cluster.local:9000'}, {'name': 'SCANFLOW_TRACKER_URI', 'value': 'http://scanflow-tracker-service.scanflow-system.svc.cluster.local'}, {'name': 'SCANFLOW_SERVER_URI', 'value': 'http://scanflow-server-service.scanflow-system.svc.cluster.local'}, {'name': 'SCANFLOW_TRACKER_LOCAL_URI', 'value': 'http://scanflow-tracker.scanflow-mnist-dataengineer.svc.cluster.local'}], 'image': '172.30.0.49:5000/load-data:latest', 'volumeMounts': [{'mountPath': '/workflow', 'name': 'outputpath'}, {'mountPath': '/scanflow', 'name': 'scanflowpath'}]}, 'inputs': {'parameters': [{'name': 'para-load-data-0'}, {'name': 'para-load-data-1'}, {'name': 'para-load-data-2'}, {'name': 'para-load-data-3'}]}, 'name': 'load-data', 'volumes': []}, {'container': {'args': ['{{inputs.parameters.para-predictor-batch-0}}', '{{inputs.parameters.para-predictor-batch-1}}', '{{inputs.parameters.para-predictor-batch-2}}', '{{inputs.parameters.para-predictor-batch-3}}'], 'command': None, 'env': [{'name': 'AWS_ACCESS_KEY_ID', 'value': 'admin'}, {'name': 'AWS_SECRET_ACCESS_KEY', 'value': 'admin123'}, {'name': 'MLFLOW_S3_ENDPOINT_URL', 'value': 'http://minio.minio-system.svc.cluster.local:9000'}, {'name': 'SCANFLOW_TRACKER_URI', 'value': 'http://scanflow-tracker-service.scanflow-system.svc.cluster.local'}, {'name': 'SCANFLOW_SERVER_URI', 'value': 'http://scanflow-server-service.scanflow-system.svc.cluster.local'}, {'name': 'SCANFLOW_TRACKER_LOCAL_URI', 'value': 'http://scanflow-tracker.scanflow-mnist-dataengineer.svc.cluster.local'}], 'image': '172.30.0.49:5000/predictor-batch:latest', 'volumeMounts': [{'mountPath': '/workflow', 'name': 'outputpath'}, {'mountPath': '/scanflow', 'name': 'scanflowpath'}]}, 'inputs': {'parameters': [{'name': 'para-predictor-batch-0'}, {'name': 'para-predictor-batch-1'}, {'name': 'para-predictor-batch-2'}, {'name': 'para-predictor-batch-3'}]}, 'name': 'predictor-batch', 'volumes': []}], 'ttlSecondsAfterFinished': 5400, 'volumes': [{'name': 'outputpath', 'persistentVolumeClaim': {'claimName': 'batch-inference'}}, {'name': 'scanflowpath', 'persistentVolumeClaim': {'claimName': 'scanflow-scanflow-mnist-dataengineer'}}]}}\n"
     ]
    },
    {
     "name": "stdout",
     "output_type": "stream",
     "text": [
      "OrderedDict([('apiVersion', 'argoproj.io/v1alpha1'), ('kind', 'Workflow'), ('metadata', {'name': 'batch-inference'}), ('spec', {'entrypoint': 'batch-inference', 'volumes': [OrderedDict([('name', 'outputpath'), ('persistentVolumeClaim', {'claimName': 'batch-inference'})]), OrderedDict([('name', 'scanflowpath'), ('persistentVolumeClaim', {'claimName': 'scanflow-scanflow-mnist-dataengineer'})])], 'templates': [OrderedDict([('name', 'batch-inference'), ('dag', {'tasks': [OrderedDict([('name', 'load-data'), ('template', 'load-data'), ('arguments', OrderedDict([('parameters', [{'name': 'para-load-data-0', 'value': '--app_name'}, {'name': 'para-load-data-1', 'value': 'mnist'}, {'name': 'para-load-data-2', 'value': '--team_name'}, {'name': 'para-load-data-3', 'value': 'data'}])]))]), OrderedDict([('name', 'predictor-batch'), ('dependencies', ['load-data']), ('template', 'predictor-batch'), ('arguments', OrderedDict([('parameters', [{'name': 'para-predictor-batch-0', 'value': '--model_name'}, {'name': 'para-predictor-batch-1', 'value': 'mnist_cnn'}, {'name': 'para-predictor-batch-2', 'value': '--input_data'}, {'name': 'para-predictor-batch-3', 'value': '/workflow/load-data/mnist/data/mnist_sample/test_images.npy'}])]))])]})]), OrderedDict([('name', 'load-data'), ('inputs', OrderedDict([('parameters', [{'name': 'para-load-data-0'}, {'name': 'para-load-data-1'}, {'name': 'para-load-data-2'}, {'name': 'para-load-data-3'}])])), ('container', OrderedDict([('image', '172.30.0.49:5000/load-data:latest'), ('command', None), ('args', ['\"{{inputs.parameters.para-load-data-0}}\"', '\"{{inputs.parameters.para-load-data-1}}\"', '\"{{inputs.parameters.para-load-data-2}}\"', '\"{{inputs.parameters.para-load-data-3}}\"']), ('env', [{'name': 'AWS_ACCESS_KEY_ID', 'value': 'admin'}, {'name': 'AWS_SECRET_ACCESS_KEY', 'value': 'admin123'}, {'name': 'MLFLOW_S3_ENDPOINT_URL', 'value': 'http://minio.minio-system.svc.cluster.local:9000'}, {'name': 'SCANFLOW_TRACKER_URI', 'value': 'http://scanflow-tracker-service.scanflow-system.svc.cluster.local'}, {'name': 'SCANFLOW_SERVER_URI', 'value': 'http://scanflow-server-service.scanflow-system.svc.cluster.local'}, {'name': 'SCANFLOW_TRACKER_LOCAL_URI', 'value': 'http://scanflow-tracker.scanflow-mnist-dataengineer.svc.cluster.local'}]), ('volumeMounts', [OrderedDict([('name', 'outputpath'), ('mountPath', '/workflow')]), OrderedDict([('name', 'scanflowpath'), ('mountPath', '/scanflow')])])])), ('volumes', [])]), OrderedDict([('name', 'predictor-batch'), ('inputs', OrderedDict([('parameters', [{'name': 'para-predictor-batch-0'}, {'name': 'para-predictor-batch-1'}, {'name': 'para-predictor-batch-2'}, {'name': 'para-predictor-batch-3'}])])), ('container', OrderedDict([('image', '172.30.0.49:5000/predictor-batch:latest'), ('command', None), ('args', ['\"{{inputs.parameters.para-predictor-batch-0}}\"', '\"{{inputs.parameters.para-predictor-batch-1}}\"', '\"{{inputs.parameters.para-predictor-batch-2}}\"', '\"{{inputs.parameters.para-predictor-batch-3}}\"']), ('env', [{'name': 'AWS_ACCESS_KEY_ID', 'value': 'admin'}, {'name': 'AWS_SECRET_ACCESS_KEY', 'value': 'admin123'}, {'name': 'MLFLOW_S3_ENDPOINT_URL', 'value': 'http://minio.minio-system.svc.cluster.local:9000'}, {'name': 'SCANFLOW_TRACKER_URI', 'value': 'http://scanflow-tracker-service.scanflow-system.svc.cluster.local'}, {'name': 'SCANFLOW_SERVER_URI', 'value': 'http://scanflow-server-service.scanflow-system.svc.cluster.local'}, {'name': 'SCANFLOW_TRACKER_LOCAL_URI', 'value': 'http://scanflow-tracker.scanflow-mnist-dataengineer.svc.cluster.local'}]), ('volumeMounts', [OrderedDict([('name', 'outputpath'), ('mountPath', '/workflow')]), OrderedDict([('name', 'scanflowpath'), ('mountPath', '/scanflow')])])])), ('volumes', [])])], 'activeDeadlineSeconds': 3600, 'ttlSecondsAfterFinished': 5400.0})])\n"
     ]
    },
    {
     "data": {
      "text/plain": [
       "True"
      ]
     },
     "execution_count": 16,
     "metadata": {},
     "output_type": "execute_result"
    }
   ],
   "source": [
    "await deployerClient.run_workflow(app_name='mlperf', \n",
    "                                  team_name='dataengineer',\n",
    "                                  workflow = build_app.workflows[0])"
   ]
  },
  {
   "cell_type": "code",
   "execution_count": null,
   "id": "d554471d-2d27-4d5e-96b8-ac1c709cb152",
   "metadata": {},
   "outputs": [],
   "source": [
    "await deployerClient.deploy_workflow(app_name='mlperf', \n",
    "                                  team_name='dataengineer',\n",
    "                                  workflow = build_app.workflows[2])"
   ]
  },
  {
   "cell_type": "code",
   "execution_count": null,
   "id": "6a050429-825a-414e-9110-eac96c52cf02",
   "metadata": {},
   "outputs": [],
   "source": [
    "await deployerClient.deploy_workflow(app_name='mlperf', \n",
    "                                  team_name='dataengineer',\n",
    "                                  workflow = build_app.workflows[3])"
   ]
  }
 ],
 "metadata": {
  "kernelspec": {
   "display_name": "Python 3",
   "language": "python",
   "name": "python3"
  },
  "language_info": {
   "codemirror_mode": {
    "name": "ipython",
    "version": 3
   },
   "file_extension": ".py",
   "mimetype": "text/x-python",
   "name": "python",
   "nbconvert_exporter": "python",
   "pygments_lexer": "ipython3",
   "version": "3.8.5"
  }
 },
 "nbformat": 4,
 "nbformat_minor": 5
}
