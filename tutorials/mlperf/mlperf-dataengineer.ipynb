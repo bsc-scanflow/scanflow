{
 "cells": [
  {
   "cell_type": "markdown",
   "id": "6acdbd28-a67a-41b4-b4e6-16e3a0a5626e",
   "metadata": {},
   "source": [
    "# Mlperf DataEngineer (Inference Stage)\n",
    "\n",
    "****Inference Scenarios****\n",
    "\n",
    "| scenarios | reference app | framework | model/dataset |\n",
    "| ---- | ---- | ---- | ---- |\n",
    "| batch-inference-single | [scenarios/job-single](https://github.com/peiniliu/inference/tree/dev/vision/classification_and_detection/scenarios/job-single) | tensorflow | resnet/imagenet2012 |\n",
    "| batch-inference-workflow | [scenarios/job-pipeline](https://github.com/peiniliu/inference/tree/dev/vision/classification_and_detection/scenarios/job-pipeline) | tensorflow | resnet/imagenet2012 |\n",
    "| online-inference-single | [scenarios/service-single](https://github.com/peiniliu/inference/tree/dev/vision/classification_and_detection/scenarios/service-single) | tensorflow | resnet/imagenet2012 |\n",
    "| online-inference-graph | [scenarios/service-graph](https://github.com/peiniliu/inference/tree/dev/vision/classification_and_detection/scenarios/service-graph) | tensorflow | resnet/imagenet2012 |"
   ]
  },
  {
   "cell_type": "code",
   "execution_count": 1,
   "id": "bca50738-a9da-45ec-97fa-9d1722b71dfa",
   "metadata": {},
   "outputs": [],
   "source": [
    "import sys\n",
    "import os\n",
    "sys.path.insert(0,'../..')\n",
    "\n",
    "import scanflow\n",
    "from scanflow.client import ScanflowClient\n",
    "from scanflow.client import ScanflowTrackerClient\n",
    "from scanflow.client import ScanflowDeployerClient"
   ]
  },
  {
   "cell_type": "code",
   "execution_count": 2,
   "id": "a3ed2df1-257b-4bc5-a641-2d65a168dc84",
   "metadata": {},
   "outputs": [
    {
     "name": "stdout",
     "output_type": "stream",
     "text": [
      "http://172.30.0.50:46666\n",
      "http://172.30.0.50:46667\n",
      "http://172.30.0.50:43447\n",
      "admin\n",
      "admin123\n"
     ]
    }
   ],
   "source": [
    "from scanflow.tools import env\n",
    "print(env.get_env(\"SCANFLOW_SERVER_URI\"))\n",
    "print(env.get_env(\"SCANFLOW_TRACKER_URI\"))\n",
    "#print(env.get_env(\"SCANFLOW_TRACKER_LOCAL_URI\"))\n",
    "print(env.get_env(\"MLFLOW_S3_ENDPOINT_URL\"))\n",
    "print(env.get_env(\"AWS_ACCESS_KEY_ID\"))\n",
    "print(env.get_env(\"AWS_SECRET_ACCESS_KEY\"))"
   ]
  },
  {
   "cell_type": "code",
   "execution_count": 3,
   "id": "ed52145b-41df-4f05-8d7c-cb3c765ff964",
   "metadata": {},
   "outputs": [],
   "source": [
    "# App folder\n",
    "scanflow_path = \"/gpfs/bsc_home/xpliu/pv/jupyterhubpeini/scanflow\"\n",
    "app_dir = os.path.join(scanflow_path, \"examples/mlperf/dataengineer\")\n",
    "app_name = \"mlperf\"\n",
    "team_name = \"dataengineer\"\n",
    "\n",
    "# scanflow client\n",
    "client = ScanflowClient(\n",
    "              #if you defined \"SCANFLOW_SERVER_URI\", you dont need to provide this\n",
    "              #scanflow_server_uri=\"http://172.30.0.50:46666\",\n",
    "              verbose=True)"
   ]
  },
  {
   "cell_type": "markdown",
   "id": "bc52568a-191e-42a4-8779-8de6244dff31",
   "metadata": {},
   "source": [
    "### Scenario 1: Batch-inference-single"
   ]
  },
  {
   "cell_type": "code",
   "execution_count": 4,
   "id": "8e0203c6-8c72-4c5e-a16b-493aa4482ee0",
   "metadata": {},
   "outputs": [],
   "source": [
    "#predictor\n",
    "executor1 = client.ScanflowExecutor(name='predictor-batch', \n",
    "                      mainfile='/tmp/inference/vision/classification_and_detection/python/main.py',\n",
    "                      parameters={#mlperf params\n",
    "                                  'dataset': 'imagenet_tflocal',\n",
    "#                                   'dataset-path': '/workflow/data_imagenet',\n",
    "                                  'dataset-path': '/tmp/inference/vision/classification_and_detection/test_imagenet',\n",
    "                                  'scenario': 'Offline', # four scenarios\n",
    "                                  'count': 2,\n",
    "                                  'model': '/workflow/model/0',\n",
    "                                  'model-name': 'resnet50',\n",
    "                                  'inputs': 'input_image',\n",
    "                                  'outputs': 'predictions/Softmax:0',\n",
    "                                  'backend': 'tflocal',\n",
    "                                  'cache_dir': '/workflow',\n",
    "                                  'output': '/workflow/output',\n",
    "                                  'mlperf_conf': '/tmp/inference/mlperf.conf',\n",
    "                                  'user_conf': '/tmp/inference/vision/classification_and_detection/user.conf',\n",
    "                                  },\n",
    "                      env={'PYTHONPATH':':/tmp/inference/vision/classification_and_detection/python'},\n",
    "                      base_image='mlperf')\n",
    "\n",
    "\n",
    "##workflow1 batch-inference-single\n",
    "##-- predictor-batch\n",
    "workflow1 = client.ScanflowWorkflow(name='batch-inference-single', \n",
    "                     nodes=[executor1],\n",
    "                     output_dir = \"/workflow\")\n",
    "              "
   ]
  },
  {
   "cell_type": "markdown",
   "id": "ae951f15-6924-4d69-9e40-b1bf426b59d2",
   "metadata": {},
   "source": [
    "### Scenario 2: Batch-inference-graph"
   ]
  },
  {
   "cell_type": "code",
   "execution_count": 5,
   "id": "861a2a24-8875-4c61-9c25-d5286267f697",
   "metadata": {},
   "outputs": [],
   "source": [
    "#predictor\n",
    "executor1 = client.ScanflowExecutor(name='download-model',\n",
    "                                    mainfile='download.py',\n",
    "                                    parameters={'app_name': app_name,\n",
    "                                                'team_name': team_name,\n",
    "                                                'model_name': 'mlperf-resnet'})\n",
    "\n",
    "executor2 = client.ScanflowExecutor(name='preprocessing-batch', \n",
    "                      mainfile='/tmp/inference/vision/classification_and_detection/python/main.py',\n",
    "                      parameters={#mlperf params\n",
    "                                  'dataset': 'imagenet_tflocal_preprocess',\n",
    "#                                   'dataset-path': '/workflow/data_imagenet',\n",
    "                                  'dataset-path': '/tmp/inference/vision/classification_and_detection/test_imagenet',\n",
    "                                  'scenario': 'Offline', # four scenarios\n",
    "                                  'count': 2,\n",
    "                                  'preprocess': 1,\n",
    "                                  'model': '/workflow/model/mlperf-resnet/model/0',\n",
    "                                  'model-name': 'resnet50',\n",
    "                                  'inputs': 'input_image',\n",
    "                                  'outputs': 'predictions/Softmax:0',\n",
    "                                  'backend': 'tflocal',\n",
    "                                  'cache_dir': '/workflow',\n",
    "                                  'output': '/workflow/output', \n",
    "                                  'mlperf_conf': '/tmp/inference/mlperf.conf',\n",
    "                                  'user_conf': '/tmp/inference/vision/classification_and_detection/user.conf'},\n",
    "                      env={'PYTHONPATH':':/tmp/inference/vision/classification_and_detection/python'},\n",
    "                      base_image='mlperf')\n",
    "\n",
    "executor3 = client.ScanflowExecutor(name='predictor-batch', \n",
    "                      mainfile='/tmp/inference/vision/classification_and_detection/python/main.py',\n",
    "                      parameters={#mlperf params\n",
    "                                  'dataset': 'imagenet_tflocal_preprocess',\n",
    "#                                     'dataset-path': '/workflow/data_imagenet',\n",
    "                                  'dataset-path': '/tmp/inference/vision/classification_and_detection/test_imagenet',\n",
    "                                  'scenario': 'Offline', # four scenarios\n",
    "                                  'count': 2,\n",
    "                                  'preprocess': 2,\n",
    "                                  'model': '/workflow/model/mlperf-resnet/model/0',\n",
    "                                  'model-name': 'resnet50',\n",
    "                                  'inputs': 'input_image',\n",
    "                                  'outputs': 'predictions/Softmax:0',\n",
    "                                  'backend': 'tflocal',\n",
    "                                  'cache_dir': '/workflow',\n",
    "                                  'output': '/workflow/output',\n",
    "                                  'mlperf_conf': '/tmp/inference/mlperf.conf',\n",
    "                                  'user_conf': '/tmp/inference/vision/classification_and_detection/user.conf'},\n",
    "                      env={'PYTHONPATH':':/tmp/inference/vision/classification_and_detection/python'},\n",
    "                      base_image='mlperf')\n",
    "\n",
    "executor4 = client.ScanflowExecutor(name='postprocessing-batch', \n",
    "                      mainfile='upload.py',\n",
    "                      parameters={'output': '/workflow/output'})\n",
    "\n",
    "dependency1 = client.ScanflowDependency(dependee='download-model',\n",
    "                                    depender='preprocessing-batch')\n",
    "dependency2 = client.ScanflowDependency(dependee='preprocessing-batch',\n",
    "                                    depender='predictor-batch')\n",
    "dependency3 = client.ScanflowDependency(dependee='predictor-batch',\n",
    "                                    depender='postprocessing-batch')\n",
    "\n",
    "##workflow1 batch-inference-graph\n",
    "workflow2 = client.ScanflowWorkflow(name='batch-inference-graph', \n",
    "                     nodes=[executor1, executor2, executor3, executor4],\n",
    "                     edges=[dependency1, dependency2, dependency3],\n",
    "                     output_dir = \"/workflow\")\n",
    "              "
   ]
  },
  {
   "cell_type": "markdown",
   "id": "71137f04-076e-4c55-8ebf-8656f46b7018",
   "metadata": {},
   "source": [
    "### Scenario 3: Online-inference-single"
   ]
  },
  {
   "cell_type": "code",
   "execution_count": 6,
   "id": "149dc0fb-fb15-4907-a181-ede491b1499e",
   "metadata": {},
   "outputs": [],
   "source": [
    "#predictor online graph\n",
    "service = client.ScanflowService(name='predictor-online',\n",
    "                                 implementation_type = 'TENSORFLOW_SERVER',\n",
    "                                 modelUri = 's3://scanflow/scanflow-mlperf-dataengineer/1/fde8c5e912a84b8385e1154053c3e759/artifacts/mlperf-resnet/model',\n",
    "                                 envSecretRefName = 'scanflow-secret',\n",
    "                                 endpoint = {'type': 'GRPC'},\n",
    "                                 parameters=[{'name': 'model_name', 'type':'STRING', 'value':'predictor-online'},\n",
    "                                             {'name': 'model_input', 'type':'STRING', 'value':'input_image'},\n",
    "                                             {'name': 'model_output', 'type':'STRING', 'value':'predictions/Softmax:0'}]\n",
    "                                )\n",
    "\n",
    "##workflow3 online-inference-graph\n",
    "##       -- preprocessing\n",
    "##       -- predictor-online\n",
    "##       -- postprocessing\n",
    "workflow3 = client.ScanflowWorkflow(name='online-inference-single', \n",
    "                     nodes=[service],\n",
    "                     output_dir = \"/workflow\")"
   ]
  },
  {
   "cell_type": "markdown",
   "id": "802ff704-af40-415c-8362-3af9960c0e0a",
   "metadata": {},
   "source": [
    "### Scenario 4: Online-inference-graph"
   ]
  },
  {
   "cell_type": "code",
   "execution_count": 7,
   "id": "805a1a27-4daa-4cfe-82f0-ddbe14273e27",
   "metadata": {},
   "outputs": [],
   "source": [
    "#predictor online\n",
    "service1 = client.ScanflowService(name='preprocessing-online',\n",
    "                                  mainfile='ImageNetTransformer.py',\n",
    "                                  requirements='requirements.txt',\n",
    "                                  service_type='TRANSFORMER',\n",
    "                                  endpoint = {'type': 'GRPC'},\n",
    "                                )\n",
    "\n",
    "service2 = client.ScanflowService(name='predictor-online',\n",
    "                                 implementation_type = 'TENSORFLOW_SERVER',\n",
    "                                 modelUri = 's3://scanflow/scanflow-mlperf-dataengineer/1/fde8c5e912a84b8385e1154053c3e759/artifacts/mlperf-resnet/model',\n",
    "                                 envSecretRefName = 'scanflow-secret',\n",
    "                                 endpoint = {'type': 'GRPC'},\n",
    "                                 parameters=[{'name': 'model_name', 'type':'STRING', 'value':'predictor-online'},\n",
    "                                             {'name': 'model_input', 'type':'STRING', 'value':'input_image'},\n",
    "                                             {'name': 'model_output', 'type':'STRING', 'value':'predictions/Softmax:0'}]\n",
    "                                )\n",
    "\n",
    "service3 = client.ScanflowService(name='postprocessing-online',\n",
    "                                  mainfile='upload.py',\n",
    "                                  requirements='requirements.txt',\n",
    "                                  service_type='MODEL',\n",
    "                                  endpoint = {'type': 'GRPC'},\n",
    "                                  parameters=[{'name': 'mlflow_log', 'type':'STRING', 'value':'mlfloe'}]\n",
    "                                )\n",
    "\n",
    "dependency1 = client.ScanflowDependency(dependee='preprocessing-online',\n",
    "                                    depender='predictor-online')\n",
    "dependency2 = client.ScanflowDependency(dependee='predictor-online',\n",
    "                                    depender='postprocessing-online')\n",
    "\n",
    "##workflow3 online-inference-single\n",
    "##       -- predictor-online\n",
    "workflow4 = client.ScanflowWorkflow(name='online-inference-graph', \n",
    "                     nodes=[service1, service2, service3],\n",
    "                     edges=[dependency1, dependency2],\n",
    "                     output_dir = \"/workflow\")"
   ]
  },
  {
   "cell_type": "code",
   "execution_count": 8,
   "id": "c6584b28-e863-4e49-b2dd-b707f089a34b",
   "metadata": {},
   "outputs": [],
   "source": [
    "app = client.ScanflowApplication(app_name = app_name,\n",
    "                                 app_dir = app_dir,\n",
    "                                 team_name = team_name,\n",
    "                                 workflows=[workflow1, workflow2, workflow3, workflow4])"
   ]
  },
  {
   "cell_type": "code",
   "execution_count": 9,
   "id": "6dbe87be-41e1-4fa0-84f5-efa4ea1c498d",
   "metadata": {},
   "outputs": [
    {
     "name": "stderr",
     "output_type": "stream",
     "text": [
      "25-Jun-21 15:43:59 -  INFO - Scanflowapp: {'app_name': 'mlperf', 'app_dir': '/gpfs/bsc_home/xpliu/pv/jupyterhubpeini/scanflow/examples/mlperf/dataengineer', 'team_name': 'dataengineer', 'workflows': [{'name': 'batch-inference-single', 'nodes': [{'name': 'predictor-batch', 'node_type': 'executor', 'mainfile': '/tmp/inference/vision/classification_and_detection/python/main.py', 'parameters': {'dataset': 'imagenet_tflocal', 'dataset-path': '/tmp/inference/vision/classification_and_detection/test_imagenet', 'scenario': 'Offline', 'count': 2, 'model': '/workflow/model/0', 'model-name': 'resnet50', 'inputs': 'input_image', 'outputs': 'predictions/Softmax:0', 'backend': 'tflocal', 'cache_dir': '/workflow', 'output': '/workflow/output', 'mlperf_conf': '/tmp/inference/mlperf.conf', 'user_conf': '/tmp/inference/vision/classification_and_detection/user.conf'}, 'requirements': None, 'dockerfile': None, 'base_image': 'mlperf', 'env': {'PYTHONPATH': ':/tmp/inference/vision/classification_and_detection/python'}, 'image': None, 'resources': None}], 'edges': None, 'affinity': None, 'kedaSpec': None, 'output_dir': '/workflow'}, {'name': 'batch-inference-graph', 'nodes': [{'name': 'download-model', 'node_type': 'executor', 'mainfile': 'download.py', 'parameters': {'app_name': 'mlperf', 'team_name': 'dataengineer', 'model_name': 'mlperf-resnet'}, 'requirements': None, 'dockerfile': None, 'base_image': None, 'env': None, 'image': None, 'resources': None}, {'name': 'preprocessing-batch', 'node_type': 'executor', 'mainfile': '/tmp/inference/vision/classification_and_detection/python/main.py', 'parameters': {'dataset': 'imagenet_tflocal_preprocess', 'dataset-path': '/tmp/inference/vision/classification_and_detection/test_imagenet', 'scenario': 'Offline', 'count': 2, 'preprocess': 1, 'model': '/workflow/model/mlperf-resnet/model/0', 'model-name': 'resnet50', 'inputs': 'input_image', 'outputs': 'predictions/Softmax:0', 'backend': 'tflocal', 'cache_dir': '/workflow', 'output': '/workflow/output', 'mlperf_conf': '/tmp/inference/mlperf.conf', 'user_conf': '/tmp/inference/vision/classification_and_detection/user.conf'}, 'requirements': None, 'dockerfile': None, 'base_image': 'mlperf', 'env': {'PYTHONPATH': ':/tmp/inference/vision/classification_and_detection/python'}, 'image': None, 'resources': None}, {'name': 'predictor-batch', 'node_type': 'executor', 'mainfile': '/tmp/inference/vision/classification_and_detection/python/main.py', 'parameters': {'dataset': 'imagenet_tflocal_preprocess', 'dataset-path': '/tmp/inference/vision/classification_and_detection/test_imagenet', 'scenario': 'Offline', 'count': 2, 'preprocess': 2, 'model': '/workflow/model/mlperf-resnet/model/0', 'model-name': 'resnet50', 'inputs': 'input_image', 'outputs': 'predictions/Softmax:0', 'backend': 'tflocal', 'cache_dir': '/workflow', 'output': '/workflow/output', 'mlperf_conf': '/tmp/inference/mlperf.conf', 'user_conf': '/tmp/inference/vision/classification_and_detection/user.conf'}, 'requirements': None, 'dockerfile': None, 'base_image': 'mlperf', 'env': {'PYTHONPATH': ':/tmp/inference/vision/classification_and_detection/python'}, 'image': None, 'resources': None}, {'name': 'postprocessing-batch', 'node_type': 'executor', 'mainfile': 'upload.py', 'parameters': {'output': '/workflow/output'}, 'requirements': None, 'dockerfile': None, 'base_image': None, 'env': None, 'image': None, 'resources': None}], 'edges': [{'depender': 'preprocessing-batch', 'dependee': 'download-model', 'edge_type': 'dependency', 'priority': 0}, {'depender': 'predictor-batch', 'dependee': 'preprocessing-batch', 'edge_type': 'dependency', 'priority': 0}, {'depender': 'postprocessing-batch', 'dependee': 'predictor-batch', 'edge_type': 'dependency', 'priority': 0}], 'affinity': None, 'kedaSpec': None, 'output_dir': '/workflow'}, {'name': 'online-inference-single', 'nodes': [{'name': 'predictor-online', 'node_type': 'service', 'image': None, 'env': None, 'envfrom': None, 'mainfile': None, 'requirements': None, 'dockerfile': None, 'base_image': None, 'service_type': None, 'implementation_type': 'TENSORFLOW_SERVER', 'modelUri': 's3://scanflow/scanflow-mlperf-dataengineer/1/fde8c5e912a84b8385e1154053c3e759/artifacts/mlperf-resnet/model', 'envSecretRefName': 'scanflow-secret', 'endpoint': {'type': 'GRPC'}, 'parameters': [{'name': 'model_name', 'type': 'STRING', 'value': 'predictor-online'}, {'name': 'model_input', 'type': 'STRING', 'value': 'input_image'}, {'name': 'model_output', 'type': 'STRING', 'value': 'predictions/Softmax:0'}], 'resources': None}], 'edges': None, 'affinity': None, 'kedaSpec': None, 'output_dir': '/workflow'}, {'name': 'online-inference-graph', 'nodes': [{'name': 'preprocessing-online', 'node_type': 'service', 'image': None, 'env': None, 'envfrom': None, 'mainfile': 'ImageNetTransformer.py', 'requirements': 'requirements.txt', 'dockerfile': None, 'base_image': None, 'service_type': 'TRANSFORMER', 'implementation_type': None, 'modelUri': None, 'envSecretRefName': None, 'endpoint': {'type': 'GRPC'}, 'parameters': None, 'resources': None}, {'name': 'predictor-online', 'node_type': 'service', 'image': None, 'env': None, 'envfrom': None, 'mainfile': None, 'requirements': None, 'dockerfile': None, 'base_image': None, 'service_type': None, 'implementation_type': 'TENSORFLOW_SERVER', 'modelUri': 's3://scanflow/scanflow-mlperf-dataengineer/1/fde8c5e912a84b8385e1154053c3e759/artifacts/mlperf-resnet/model', 'envSecretRefName': 'scanflow-secret', 'endpoint': {'type': 'GRPC'}, 'parameters': [{'name': 'model_name', 'type': 'STRING', 'value': 'predictor-online'}, {'name': 'model_input', 'type': 'STRING', 'value': 'input_image'}, {'name': 'model_output', 'type': 'STRING', 'value': 'predictions/Softmax:0'}], 'resources': None}, {'name': 'postprocessing-online', 'node_type': 'service', 'image': None, 'env': None, 'envfrom': None, 'mainfile': 'upload.py', 'requirements': 'requirements.txt', 'dockerfile': None, 'base_image': None, 'service_type': 'MODEL', 'implementation_type': None, 'modelUri': None, 'envSecretRefName': None, 'endpoint': {'type': 'GRPC'}, 'parameters': [{'name': 'mlflow_log', 'type': 'STRING', 'value': 'mlfloe'}], 'resources': None}], 'edges': [{'depender': 'predictor-online', 'dependee': 'preprocessing-online', 'edge_type': 'dependency', 'priority': 0}, {'depender': 'postprocessing-online', 'dependee': 'predictor-online', 'edge_type': 'dependency', 'priority': 0}], 'affinity': None, 'kedaSpec': None, 'output_dir': '/workflow'}], 'agents': None, 'tracker': None}\n"
     ]
    }
   ],
   "source": [
    "dic = app.to_dict()"
   ]
  },
  {
   "cell_type": "code",
   "execution_count": 10,
   "id": "62751406-c836-47f3-bcab-a88e42ad6ffd",
   "metadata": {},
   "outputs": [
    {
     "name": "stderr",
     "output_type": "stream",
     "text": [
      "25-Jun-21 15:43:59 -  INFO - Building image 172.30.0.49:5000/predictor-batch\n",
      "25-Jun-21 15:43:59 -  INFO - Building image 172.30.0.49:5000/download-model\n",
      "25-Jun-21 15:43:59 -  INFO - Building image 172.30.0.49:5000/preprocessing-batch\n",
      "25-Jun-21 15:43:59 -  INFO - Building image 172.30.0.49:5000/predictor-batch\n",
      "25-Jun-21 15:43:59 -  INFO - Building image 172.30.0.49:5000/postprocessing-batch\n",
      "25-Jun-21 15:43:59 -  INFO - Building image 172.30.0.49:5000/predictor-online\n",
      "25-Jun-21 15:43:59 -  INFO - [+] Image [172.30.0.49:5000/predictor-online] not found in repository. Building a new one.\n",
      "25-Jun-21 15:43:59 -  INFO - [+] Dockerfile: [Dockerfile_scanflow_service] was not created.\n",
      "25-Jun-21 15:43:59 -  INFO - dockerfile for using None from /gpfs/bsc_home/xpliu/pv/jupyterhubpeini/scanflow/examples/mlperf/dataengineer/workflows\n",
      "25-Jun-21 15:43:59 -  INFO - Building image 172.30.0.49:5000/preprocessing-online\n",
      "25-Jun-21 15:43:59 -  INFO - Building image 172.30.0.49:5000/predictor-online\n",
      "25-Jun-21 15:43:59 -  INFO - [+] Image [172.30.0.49:5000/predictor-online] not found in repository. Building a new one.\n",
      "25-Jun-21 15:43:59 -  INFO - [+] Dockerfile: [Dockerfile_scanflow_service] was not created.\n",
      "25-Jun-21 15:43:59 -  INFO - dockerfile for using None from /gpfs/bsc_home/xpliu/pv/jupyterhubpeini/scanflow/examples/mlperf/dataengineer/workflows\n",
      "25-Jun-21 15:43:59 -  INFO - Building image 172.30.0.49:5000/postprocessing-online\n",
      "25-Jun-21 15:43:59 -  INFO - [+] Image [172.30.0.49:5000/postprocessing-online] not found in repository. Building a new one.\n",
      "25-Jun-21 15:43:59 -  INFO - postprocessing-online 's Dockerfile \n",
      "\n",
      "FROM python:3.7-slim \n",
      "\n",
      "COPY postprocessing-online /app\n",
      "WORKDIR /app\n",
      "EXPOSE 5000\n",
      "\n",
      "RUN pip install -r /app/requirements.txt\n",
      "\n",
      "ENV MODEL_NAME upload\n",
      "ENV SERVICE_TYPE MODEL\n",
      "\n",
      "CMD exec seldon-core-microservice $MODEL_NAME --service-type $SERVICE_TYPE\n",
      "\n",
      "25-Jun-21 15:43:59 -  INFO - [+] Dockerfile: [Dockerfile_scanflow_service] was created successfully.\n",
      "25-Jun-21 15:43:59 -  INFO - dockerfile for using /gpfs/bsc_home/xpliu/pv/jupyterhubpeini/scanflow/examples/mlperf/dataengineer/workflows/postprocessing-online/Dockerfile_scanflow_service from /gpfs/bsc_home/xpliu/pv/jupyterhubpeini/scanflow/examples/mlperf/dataengineer/workflows\n",
      "25-Jun-21 15:45:41 -  INFO - [+] Image [postprocessing-online] was built successfully. image_tag ['172.30.0.49:5000/postprocessing-online:latest']\n",
      "25-Jun-21 15:46:54 -  INFO - [+] Image [postprocessing-online] was pushed to registry successfully.\n"
     ]
    }
   ],
   "source": [
    "build_app = client.build_ScanflowApplication(app = app, trackerPort=46671)"
   ]
  },
  {
   "cell_type": "code",
   "execution_count": 12,
   "id": "79a7fa62-cc7a-46cc-9ffa-bfcee38b6a15",
   "metadata": {},
   "outputs": [
    {
     "name": "stderr",
     "output_type": "stream",
     "text": [
      "25-Jun-21 15:51:17 -  INFO - Scanflowapp: {'app_name': 'mlperf', 'app_dir': '/gpfs/bsc_home/xpliu/pv/jupyterhubpeini/scanflow/examples/mlperf/dataengineer', 'team_name': 'dataengineer', 'workflows': [{'name': 'batch-inference-single', 'nodes': [{'name': 'predictor-batch', 'node_type': 'executor', 'mainfile': '/tmp/inference/vision/classification_and_detection/python/main.py', 'parameters': {'dataset': 'imagenet_tflocal', 'dataset-path': '/tmp/inference/vision/classification_and_detection/test_imagenet', 'scenario': 'Offline', 'count': 2, 'model': '/workflow/model/0', 'model-name': 'resnet50', 'inputs': 'input_image', 'outputs': 'predictions/Softmax:0', 'backend': 'tflocal', 'cache_dir': '/workflow', 'output': '/workflow/output', 'mlperf_conf': '/tmp/inference/mlperf.conf', 'user_conf': '/tmp/inference/vision/classification_and_detection/user.conf'}, 'requirements': None, 'dockerfile': None, 'base_image': 'mlperf', 'env': {'PYTHONPATH': ':/tmp/inference/vision/classification_and_detection/python'}, 'image': '172.30.0.49:5000/predictor-batch:latest', 'resources': None}], 'edges': None, 'affinity': None, 'kedaSpec': None, 'output_dir': '/workflow'}, {'name': 'batch-inference-graph', 'nodes': [{'name': 'download-model', 'node_type': 'executor', 'mainfile': 'download.py', 'parameters': {'app_name': 'mlperf', 'team_name': 'dataengineer', 'model_name': 'mlperf-resnet'}, 'requirements': None, 'dockerfile': None, 'base_image': None, 'env': None, 'image': '172.30.0.49:5000/download-model:latest', 'resources': None}, {'name': 'preprocessing-batch', 'node_type': 'executor', 'mainfile': '/tmp/inference/vision/classification_and_detection/python/main.py', 'parameters': {'dataset': 'imagenet_tflocal_preprocess', 'dataset-path': '/tmp/inference/vision/classification_and_detection/test_imagenet', 'scenario': 'Offline', 'count': 2, 'preprocess': 1, 'model': '/workflow/model/mlperf-resnet/model/0', 'model-name': 'resnet50', 'inputs': 'input_image', 'outputs': 'predictions/Softmax:0', 'backend': 'tflocal', 'cache_dir': '/workflow', 'output': '/workflow/output', 'mlperf_conf': '/tmp/inference/mlperf.conf', 'user_conf': '/tmp/inference/vision/classification_and_detection/user.conf'}, 'requirements': None, 'dockerfile': None, 'base_image': 'mlperf', 'env': {'PYTHONPATH': ':/tmp/inference/vision/classification_and_detection/python'}, 'image': '172.30.0.49:5000/preprocessing-batch:latest', 'resources': None}, {'name': 'predictor-batch', 'node_type': 'executor', 'mainfile': '/tmp/inference/vision/classification_and_detection/python/main.py', 'parameters': {'dataset': 'imagenet_tflocal_preprocess', 'dataset-path': '/tmp/inference/vision/classification_and_detection/test_imagenet', 'scenario': 'Offline', 'count': 2, 'preprocess': 2, 'model': '/workflow/model/mlperf-resnet/model/0', 'model-name': 'resnet50', 'inputs': 'input_image', 'outputs': 'predictions/Softmax:0', 'backend': 'tflocal', 'cache_dir': '/workflow', 'output': '/workflow/output', 'mlperf_conf': '/tmp/inference/mlperf.conf', 'user_conf': '/tmp/inference/vision/classification_and_detection/user.conf'}, 'requirements': None, 'dockerfile': None, 'base_image': 'mlperf', 'env': {'PYTHONPATH': ':/tmp/inference/vision/classification_and_detection/python'}, 'image': '172.30.0.49:5000/predictor-batch:latest', 'resources': None}, {'name': 'postprocessing-batch', 'node_type': 'executor', 'mainfile': 'upload.py', 'parameters': {'output': '/workflow/output'}, 'requirements': None, 'dockerfile': None, 'base_image': None, 'env': None, 'image': '172.30.0.49:5000/postprocessing-batch:latest', 'resources': None}], 'edges': [{'depender': 'preprocessing-batch', 'dependee': 'download-model', 'edge_type': 'dependency', 'priority': 0}, {'depender': 'predictor-batch', 'dependee': 'preprocessing-batch', 'edge_type': 'dependency', 'priority': 0}, {'depender': 'postprocessing-batch', 'dependee': 'predictor-batch', 'edge_type': 'dependency', 'priority': 0}], 'affinity': None, 'kedaSpec': None, 'output_dir': '/workflow'}, {'name': 'online-inference-single', 'nodes': [{'name': 'predictor-online', 'node_type': 'service', 'image': None, 'env': None, 'envfrom': None, 'mainfile': None, 'requirements': None, 'dockerfile': None, 'base_image': None, 'service_type': None, 'implementation_type': 'TENSORFLOW_SERVER', 'modelUri': 's3://scanflow/scanflow-mlperf-dataengineer/1/fde8c5e912a84b8385e1154053c3e759/artifacts/mlperf-resnet/model', 'envSecretRefName': 'scanflow-secret', 'endpoint': {'type': 'GRPC'}, 'parameters': [{'name': 'model_name', 'type': 'STRING', 'value': 'predictor-online'}, {'name': 'model_input', 'type': 'STRING', 'value': 'input_image'}, {'name': 'model_output', 'type': 'STRING', 'value': 'predictions/Softmax:0'}], 'resources': None}], 'edges': None, 'affinity': None, 'kedaSpec': None, 'output_dir': '/workflow'}, {'name': 'online-inference-graph', 'nodes': [{'name': 'preprocessing-online', 'node_type': 'service', 'image': '172.30.0.49:5000/preprocessing-online:latest', 'env': None, 'envfrom': None, 'mainfile': 'ImageNetTransformer.py', 'requirements': 'requirements.txt', 'dockerfile': None, 'base_image': None, 'service_type': 'TRANSFORMER', 'implementation_type': None, 'modelUri': None, 'envSecretRefName': None, 'endpoint': {'type': 'GRPC'}, 'parameters': None, 'resources': None}, {'name': 'predictor-online', 'node_type': 'service', 'image': None, 'env': None, 'envfrom': None, 'mainfile': None, 'requirements': None, 'dockerfile': None, 'base_image': None, 'service_type': None, 'implementation_type': 'TENSORFLOW_SERVER', 'modelUri': 's3://scanflow/scanflow-mlperf-dataengineer/1/fde8c5e912a84b8385e1154053c3e759/artifacts/mlperf-resnet/model', 'envSecretRefName': 'scanflow-secret', 'endpoint': {'type': 'GRPC'}, 'parameters': [{'name': 'model_name', 'type': 'STRING', 'value': 'predictor-online'}, {'name': 'model_input', 'type': 'STRING', 'value': 'input_image'}, {'name': 'model_output', 'type': 'STRING', 'value': 'predictions/Softmax:0'}], 'resources': None}, {'name': 'postprocessing-online', 'node_type': 'service', 'image': '172.30.0.49:5000/postprocessing-online:latest', 'env': None, 'envfrom': None, 'mainfile': 'upload.py', 'requirements': 'requirements.txt', 'dockerfile': None, 'base_image': None, 'service_type': 'MODEL', 'implementation_type': None, 'modelUri': None, 'envSecretRefName': None, 'endpoint': {'type': 'GRPC'}, 'parameters': [{'name': 'mlflow_log', 'type': 'STRING', 'value': 'mlfloe'}], 'resources': None}], 'edges': [{'depender': 'predictor-online', 'dependee': 'preprocessing-online', 'edge_type': 'dependency', 'priority': 0}, {'depender': 'postprocessing-online', 'dependee': 'predictor-online', 'edge_type': 'dependency', 'priority': 0}], 'affinity': None, 'kedaSpec': None, 'output_dir': '/workflow'}], 'agents': None, 'tracker': {'image': '172.30.0.49:5000/scanflow-tracker', 'nodePort': 46671}}\n"
     ]
    },
    {
     "data": {
      "text/plain": [
       "{'app_name': 'mlperf',\n",
       " 'app_dir': '/gpfs/bsc_home/xpliu/pv/jupyterhubpeini/scanflow/examples/mlperf/dataengineer',\n",
       " 'team_name': 'dataengineer',\n",
       " 'workflows': [{'name': 'batch-inference-single',\n",
       "   'nodes': [{'name': 'predictor-batch',\n",
       "     'node_type': 'executor',\n",
       "     'mainfile': '/tmp/inference/vision/classification_and_detection/python/main.py',\n",
       "     'parameters': {'dataset': 'imagenet_tflocal',\n",
       "      'dataset-path': '/tmp/inference/vision/classification_and_detection/test_imagenet',\n",
       "      'scenario': 'Offline',\n",
       "      'count': 2,\n",
       "      'model': '/workflow/model/0',\n",
       "      'model-name': 'resnet50',\n",
       "      'inputs': 'input_image',\n",
       "      'outputs': 'predictions/Softmax:0',\n",
       "      'backend': 'tflocal',\n",
       "      'cache_dir': '/workflow',\n",
       "      'output': '/workflow/output',\n",
       "      'mlperf_conf': '/tmp/inference/mlperf.conf',\n",
       "      'user_conf': '/tmp/inference/vision/classification_and_detection/user.conf'},\n",
       "     'requirements': None,\n",
       "     'dockerfile': None,\n",
       "     'base_image': 'mlperf',\n",
       "     'env': {'PYTHONPATH': ':/tmp/inference/vision/classification_and_detection/python'},\n",
       "     'image': '172.30.0.49:5000/predictor-batch:latest',\n",
       "     'resources': None}],\n",
       "   'edges': None,\n",
       "   'affinity': None,\n",
       "   'kedaSpec': None,\n",
       "   'output_dir': '/workflow'},\n",
       "  {'name': 'batch-inference-graph',\n",
       "   'nodes': [{'name': 'download-model',\n",
       "     'node_type': 'executor',\n",
       "     'mainfile': 'download.py',\n",
       "     'parameters': {'app_name': 'mlperf',\n",
       "      'team_name': 'dataengineer',\n",
       "      'model_name': 'mlperf-resnet'},\n",
       "     'requirements': None,\n",
       "     'dockerfile': None,\n",
       "     'base_image': None,\n",
       "     'env': None,\n",
       "     'image': '172.30.0.49:5000/download-model:latest',\n",
       "     'resources': None},\n",
       "    {'name': 'preprocessing-batch',\n",
       "     'node_type': 'executor',\n",
       "     'mainfile': '/tmp/inference/vision/classification_and_detection/python/main.py',\n",
       "     'parameters': {'dataset': 'imagenet_tflocal_preprocess',\n",
       "      'dataset-path': '/tmp/inference/vision/classification_and_detection/test_imagenet',\n",
       "      'scenario': 'Offline',\n",
       "      'count': 2,\n",
       "      'preprocess': 1,\n",
       "      'model': '/workflow/model/mlperf-resnet/model/0',\n",
       "      'model-name': 'resnet50',\n",
       "      'inputs': 'input_image',\n",
       "      'outputs': 'predictions/Softmax:0',\n",
       "      'backend': 'tflocal',\n",
       "      'cache_dir': '/workflow',\n",
       "      'output': '/workflow/output',\n",
       "      'mlperf_conf': '/tmp/inference/mlperf.conf',\n",
       "      'user_conf': '/tmp/inference/vision/classification_and_detection/user.conf'},\n",
       "     'requirements': None,\n",
       "     'dockerfile': None,\n",
       "     'base_image': 'mlperf',\n",
       "     'env': {'PYTHONPATH': ':/tmp/inference/vision/classification_and_detection/python'},\n",
       "     'image': '172.30.0.49:5000/preprocessing-batch:latest',\n",
       "     'resources': None},\n",
       "    {'name': 'predictor-batch',\n",
       "     'node_type': 'executor',\n",
       "     'mainfile': '/tmp/inference/vision/classification_and_detection/python/main.py',\n",
       "     'parameters': {'dataset': 'imagenet_tflocal_preprocess',\n",
       "      'dataset-path': '/tmp/inference/vision/classification_and_detection/test_imagenet',\n",
       "      'scenario': 'Offline',\n",
       "      'count': 2,\n",
       "      'preprocess': 2,\n",
       "      'model': '/workflow/model/mlperf-resnet/model/0',\n",
       "      'model-name': 'resnet50',\n",
       "      'inputs': 'input_image',\n",
       "      'outputs': 'predictions/Softmax:0',\n",
       "      'backend': 'tflocal',\n",
       "      'cache_dir': '/workflow',\n",
       "      'output': '/workflow/output',\n",
       "      'mlperf_conf': '/tmp/inference/mlperf.conf',\n",
       "      'user_conf': '/tmp/inference/vision/classification_and_detection/user.conf'},\n",
       "     'requirements': None,\n",
       "     'dockerfile': None,\n",
       "     'base_image': 'mlperf',\n",
       "     'env': {'PYTHONPATH': ':/tmp/inference/vision/classification_and_detection/python'},\n",
       "     'image': '172.30.0.49:5000/predictor-batch:latest',\n",
       "     'resources': None},\n",
       "    {'name': 'postprocessing-batch',\n",
       "     'node_type': 'executor',\n",
       "     'mainfile': 'upload.py',\n",
       "     'parameters': {'output': '/workflow/output'},\n",
       "     'requirements': None,\n",
       "     'dockerfile': None,\n",
       "     'base_image': None,\n",
       "     'env': None,\n",
       "     'image': '172.30.0.49:5000/postprocessing-batch:latest',\n",
       "     'resources': None}],\n",
       "   'edges': [{'depender': 'preprocessing-batch',\n",
       "     'dependee': 'download-model',\n",
       "     'edge_type': 'dependency',\n",
       "     'priority': 0},\n",
       "    {'depender': 'predictor-batch',\n",
       "     'dependee': 'preprocessing-batch',\n",
       "     'edge_type': 'dependency',\n",
       "     'priority': 0},\n",
       "    {'depender': 'postprocessing-batch',\n",
       "     'dependee': 'predictor-batch',\n",
       "     'edge_type': 'dependency',\n",
       "     'priority': 0}],\n",
       "   'affinity': None,\n",
       "   'kedaSpec': None,\n",
       "   'output_dir': '/workflow'},\n",
       "  {'name': 'online-inference-single',\n",
       "   'nodes': [{'name': 'predictor-online',\n",
       "     'node_type': 'service',\n",
       "     'image': None,\n",
       "     'env': None,\n",
       "     'envfrom': None,\n",
       "     'mainfile': None,\n",
       "     'requirements': None,\n",
       "     'dockerfile': None,\n",
       "     'base_image': None,\n",
       "     'service_type': None,\n",
       "     'implementation_type': 'TENSORFLOW_SERVER',\n",
       "     'modelUri': 's3://scanflow/scanflow-mlperf-dataengineer/1/fde8c5e912a84b8385e1154053c3e759/artifacts/mlperf-resnet/model',\n",
       "     'envSecretRefName': 'scanflow-secret',\n",
       "     'endpoint': {'type': 'GRPC'},\n",
       "     'parameters': [{'name': 'model_name',\n",
       "       'type': 'STRING',\n",
       "       'value': 'predictor-online'},\n",
       "      {'name': 'model_input', 'type': 'STRING', 'value': 'input_image'},\n",
       "      {'name': 'model_output',\n",
       "       'type': 'STRING',\n",
       "       'value': 'predictions/Softmax:0'}],\n",
       "     'resources': None}],\n",
       "   'edges': None,\n",
       "   'affinity': None,\n",
       "   'kedaSpec': None,\n",
       "   'output_dir': '/workflow'},\n",
       "  {'name': 'online-inference-graph',\n",
       "   'nodes': [{'name': 'preprocessing-online',\n",
       "     'node_type': 'service',\n",
       "     'image': '172.30.0.49:5000/preprocessing-online:latest',\n",
       "     'env': None,\n",
       "     'envfrom': None,\n",
       "     'mainfile': 'ImageNetTransformer.py',\n",
       "     'requirements': 'requirements.txt',\n",
       "     'dockerfile': None,\n",
       "     'base_image': None,\n",
       "     'service_type': 'TRANSFORMER',\n",
       "     'implementation_type': None,\n",
       "     'modelUri': None,\n",
       "     'envSecretRefName': None,\n",
       "     'endpoint': {'type': 'GRPC'},\n",
       "     'parameters': None,\n",
       "     'resources': None},\n",
       "    {'name': 'predictor-online',\n",
       "     'node_type': 'service',\n",
       "     'image': None,\n",
       "     'env': None,\n",
       "     'envfrom': None,\n",
       "     'mainfile': None,\n",
       "     'requirements': None,\n",
       "     'dockerfile': None,\n",
       "     'base_image': None,\n",
       "     'service_type': None,\n",
       "     'implementation_type': 'TENSORFLOW_SERVER',\n",
       "     'modelUri': 's3://scanflow/scanflow-mlperf-dataengineer/1/fde8c5e912a84b8385e1154053c3e759/artifacts/mlperf-resnet/model',\n",
       "     'envSecretRefName': 'scanflow-secret',\n",
       "     'endpoint': {'type': 'GRPC'},\n",
       "     'parameters': [{'name': 'model_name',\n",
       "       'type': 'STRING',\n",
       "       'value': 'predictor-online'},\n",
       "      {'name': 'model_input', 'type': 'STRING', 'value': 'input_image'},\n",
       "      {'name': 'model_output',\n",
       "       'type': 'STRING',\n",
       "       'value': 'predictions/Softmax:0'}],\n",
       "     'resources': None},\n",
       "    {'name': 'postprocessing-online',\n",
       "     'node_type': 'service',\n",
       "     'image': '172.30.0.49:5000/postprocessing-online:latest',\n",
       "     'env': None,\n",
       "     'envfrom': None,\n",
       "     'mainfile': 'upload.py',\n",
       "     'requirements': 'requirements.txt',\n",
       "     'dockerfile': None,\n",
       "     'base_image': None,\n",
       "     'service_type': 'MODEL',\n",
       "     'implementation_type': None,\n",
       "     'modelUri': None,\n",
       "     'envSecretRefName': None,\n",
       "     'endpoint': {'type': 'GRPC'},\n",
       "     'parameters': [{'name': 'mlflow_log',\n",
       "       'type': 'STRING',\n",
       "       'value': 'mlfloe'}],\n",
       "     'resources': None}],\n",
       "   'edges': [{'depender': 'predictor-online',\n",
       "     'dependee': 'preprocessing-online',\n",
       "     'edge_type': 'dependency',\n",
       "     'priority': 0},\n",
       "    {'depender': 'postprocessing-online',\n",
       "     'dependee': 'predictor-online',\n",
       "     'edge_type': 'dependency',\n",
       "     'priority': 0}],\n",
       "   'affinity': None,\n",
       "   'kedaSpec': None,\n",
       "   'output_dir': '/workflow'}],\n",
       " 'agents': None,\n",
       " 'tracker': {'image': '172.30.0.49:5000/scanflow-tracker', 'nodePort': 46671}}"
      ]
     },
     "execution_count": 12,
     "metadata": {},
     "output_type": "execute_result"
    }
   ],
   "source": [
    "build_app.to_dict()"
   ]
  },
  {
   "cell_type": "code",
   "execution_count": null,
   "id": "103cb53f-6fd5-4e53-9418-6c2e36061bb8",
   "metadata": {},
   "outputs": [],
   "source": []
  },
  {
   "cell_type": "code",
   "execution_count": null,
   "id": "fbed76fc-d8b7-46cb-8f3a-426ab2a6c932",
   "metadata": {},
   "outputs": [],
   "source": []
  },
  {
   "cell_type": "code",
   "execution_count": 13,
   "id": "07d64053-4c8e-4da3-887b-2c7411e05960",
   "metadata": {},
   "outputs": [
    {
     "name": "stderr",
     "output_type": "stream",
     "text": [
      "25-Jun-21 15:51:18 -  INFO - loading kubernetes configuration from /gpfs/bsc_home/xpliu/.kube/config\n",
      "25-Jun-21 15:51:18 -  INFO - found local kubernetes configuration\n"
     ]
    }
   ],
   "source": [
    "deployerClient = ScanflowDeployerClient(user_type=\"local\",\n",
    "                                        deployer=\"seldon\",\n",
    "                                        k8s_config_file=\"/gpfs/bsc_home/xpliu/.kube/config\")"
   ]
  },
  {
   "cell_type": "code",
   "execution_count": 27,
   "id": "3d7cda60-17b6-40b3-89f0-89d07330ec3e",
   "metadata": {},
   "outputs": [
    {
     "name": "stderr",
     "output_type": "stream",
     "text": [
      "25-Jun-21 15:27:49 -  INFO - [++]Creating env\n",
      "25-Jun-21 15:27:49 -  INFO - [++]Creating namespace \"scanflow-mlperf-dataengineer\"\n",
      "25-Jun-21 15:27:49 -  ERROR - create_namespace error\n",
      "25-Jun-21 15:27:49 -  INFO - [++]Creating Role for 'default service account'\n",
      "25-Jun-21 15:27:49 -  ERROR - create_rolebinding error\n",
      "25-Jun-21 15:27:49 -  INFO - [++]Creating s3 secret {'AWS_ACCESS_KEY_ID': 'admin', 'AWS_SECRET_ACCESS_KEY': 'admin123', 'MLFLOW_S3_ENDPOINT_URL': 'http://minio.minio-system.svc.cluster.local:9000', 'AWS_ENDPOINT_URL': 'http://minio.minio-system.svc.cluster.local:9000'}\n"
     ]
    },
    {
     "ename": "ApiException",
     "evalue": "(409)\nReason: Conflict\nHTTP response headers: HTTPHeaderDict({'Cache-Control': 'no-cache, private', 'Content-Type': 'application/json', 'Date': 'Fri, 25 Jun 2021 13:27:49 GMT', 'Content-Length': '214'})\nHTTP response body: {\"kind\":\"Status\",\"apiVersion\":\"v1\",\"metadata\":{},\"status\":\"Failure\",\"message\":\"secrets \\\"scanflow-secret\\\" already exists\",\"reason\":\"AlreadyExists\",\"details\":{\"name\":\"scanflow-secret\",\"kind\":\"secrets\"},\"code\":409}\n\n",
     "output_type": "error",
     "traceback": [
      "\u001b[0;31m---------------------------------------------------------------------------\u001b[0m",
      "\u001b[0;31mApiException\u001b[0m                              Traceback (most recent call last)",
      "\u001b[0;32m<ipython-input-27-98ee6a7341bc>\u001b[0m in \u001b[0;36m<module>\u001b[0;34m\u001b[0m\n\u001b[0;32m----> 1\u001b[0;31m \u001b[0;32mawait\u001b[0m \u001b[0mdeployerClient\u001b[0m\u001b[0;34m.\u001b[0m\u001b[0mcreate_environment\u001b[0m\u001b[0;34m(\u001b[0m\u001b[0mapp\u001b[0m\u001b[0;34m=\u001b[0m\u001b[0mbuild_app\u001b[0m\u001b[0;34m)\u001b[0m\u001b[0;34m\u001b[0m\u001b[0;34m\u001b[0m\u001b[0m\n\u001b[0m",
      "\u001b[0;32m~/pv/jupyterhubpeini/scanflow/scanflow/client/scanflowDeployerClient.py\u001b[0m in \u001b[0;36mcreate_environment\u001b[0;34m(self, app, scanflowEnv)\u001b[0m\n\u001b[1;32m    103\u001b[0m \u001b[0;34m\u001b[0m\u001b[0m\n\u001b[1;32m    104\u001b[0m         \u001b[0;32melse\u001b[0m\u001b[0;34m:\u001b[0m \u001b[0;31m#local\u001b[0m\u001b[0;34m\u001b[0m\u001b[0;34m\u001b[0m\u001b[0m\n\u001b[0;32m--> 105\u001b[0;31m             \u001b[0mresult\u001b[0m \u001b[0;34m=\u001b[0m \u001b[0mself\u001b[0m\u001b[0;34m.\u001b[0m\u001b[0mdeployerbackend\u001b[0m\u001b[0;34m.\u001b[0m\u001b[0mcreate_environment\u001b[0m\u001b[0;34m(\u001b[0m\u001b[0mscanflowEnv\u001b[0m\u001b[0;34m.\u001b[0m\u001b[0mnamespace\u001b[0m\u001b[0;34m,\u001b[0m \u001b[0mscanflowEnv\u001b[0m\u001b[0;34m.\u001b[0m\u001b[0msecret\u001b[0m\u001b[0;34m.\u001b[0m\u001b[0m__dict__\u001b[0m\u001b[0;34m,\u001b[0m \u001b[0mscanflowEnv\u001b[0m\u001b[0;34m.\u001b[0m\u001b[0mtracker_config\u001b[0m\u001b[0;34m.\u001b[0m\u001b[0m__dict__\u001b[0m\u001b[0;34m,\u001b[0m \u001b[0mscanflowEnv\u001b[0m\u001b[0;34m.\u001b[0m\u001b[0mclient_config\u001b[0m\u001b[0;34m.\u001b[0m\u001b[0m__dict__\u001b[0m\u001b[0;34m,\u001b[0m \u001b[0mapp\u001b[0m\u001b[0;34m.\u001b[0m\u001b[0mtracker\u001b[0m\u001b[0;34m,\u001b[0m \u001b[0mapp\u001b[0m\u001b[0;34m.\u001b[0m\u001b[0magents\u001b[0m\u001b[0;34m)\u001b[0m\u001b[0;34m\u001b[0m\u001b[0;34m\u001b[0m\u001b[0m\n\u001b[0m\u001b[1;32m    106\u001b[0m             \u001b[0;32mreturn\u001b[0m \u001b[0mresult\u001b[0m\u001b[0;34m\u001b[0m\u001b[0;34m\u001b[0m\u001b[0m\n\u001b[1;32m    107\u001b[0m \u001b[0;34m\u001b[0m\u001b[0m\n",
      "\u001b[0;32m~/pv/jupyterhubpeini/scanflow/scanflow/deployer/deployer.py\u001b[0m in \u001b[0;36mcreate_environment\u001b[0;34m(self, namespace, scanflowSecret, scanflowTrackerConfig, scanflowClientConfig, tracker, agents)\u001b[0m\n\u001b[1;32m     37\u001b[0m         \u001b[0mstep2\u001b[0m \u001b[0;34m=\u001b[0m \u001b[0mself\u001b[0m\u001b[0;34m.\u001b[0m\u001b[0m__create_role\u001b[0m\u001b[0;34m(\u001b[0m\u001b[0mnamespace\u001b[0m\u001b[0;34m)\u001b[0m\u001b[0;34m\u001b[0m\u001b[0;34m\u001b[0m\u001b[0m\n\u001b[1;32m     38\u001b[0m         \u001b[0;31m# 3. create secret\u001b[0m\u001b[0;34m\u001b[0m\u001b[0;34m\u001b[0m\u001b[0;34m\u001b[0m\u001b[0m\n\u001b[0;32m---> 39\u001b[0;31m         \u001b[0mstep3\u001b[0m \u001b[0;34m=\u001b[0m \u001b[0mself\u001b[0m\u001b[0;34m.\u001b[0m\u001b[0m__create_secret\u001b[0m\u001b[0;34m(\u001b[0m\u001b[0mnamespace\u001b[0m\u001b[0;34m,\u001b[0m \u001b[0mscanflowSecret\u001b[0m\u001b[0;34m)\u001b[0m\u001b[0;34m\u001b[0m\u001b[0;34m\u001b[0m\u001b[0m\n\u001b[0m\u001b[1;32m     40\u001b[0m         \u001b[0;31m# 4. create tracker configmap\u001b[0m\u001b[0;34m\u001b[0m\u001b[0;34m\u001b[0m\u001b[0;34m\u001b[0m\u001b[0m\n\u001b[1;32m     41\u001b[0m         \u001b[0mstep4\u001b[0m \u001b[0;34m=\u001b[0m \u001b[0mself\u001b[0m\u001b[0;34m.\u001b[0m\u001b[0m__create_configmap_tracker\u001b[0m\u001b[0;34m(\u001b[0m\u001b[0mnamespace\u001b[0m\u001b[0;34m,\u001b[0m \u001b[0mscanflowTrackerConfig\u001b[0m\u001b[0;34m)\u001b[0m\u001b[0;34m\u001b[0m\u001b[0;34m\u001b[0m\u001b[0m\n",
      "\u001b[0;32m~/pv/jupyterhubpeini/scanflow/scanflow/deployer/deployer.py\u001b[0m in \u001b[0;36m__create_secret\u001b[0;34m(self, namespace, stringData)\u001b[0m\n\u001b[1;32m    117\u001b[0m         \u001b[0mlogging\u001b[0m\u001b[0;34m.\u001b[0m\u001b[0minfo\u001b[0m\u001b[0;34m(\u001b[0m\u001b[0;34mf\"[++]Creating s3 secret {stringData}\"\u001b[0m\u001b[0;34m)\u001b[0m\u001b[0;34m\u001b[0m\u001b[0;34m\u001b[0m\u001b[0m\n\u001b[1;32m    118\u001b[0m         \u001b[0msecret\u001b[0m \u001b[0;34m=\u001b[0m \u001b[0mself\u001b[0m\u001b[0;34m.\u001b[0m\u001b[0mkubeclient\u001b[0m\u001b[0;34m.\u001b[0m\u001b[0mbuild_secret\u001b[0m\u001b[0;34m(\u001b[0m\u001b[0;34m\"scanflow-secret\"\u001b[0m\u001b[0;34m,\u001b[0m\u001b[0mnamespace\u001b[0m\u001b[0;34m,\u001b[0m \u001b[0mstringData\u001b[0m\u001b[0;34m)\u001b[0m\u001b[0;34m\u001b[0m\u001b[0;34m\u001b[0m\u001b[0m\n\u001b[0;32m--> 119\u001b[0;31m         \u001b[0;32mreturn\u001b[0m \u001b[0mself\u001b[0m\u001b[0;34m.\u001b[0m\u001b[0mkubeclient\u001b[0m\u001b[0;34m.\u001b[0m\u001b[0mcreate_secret\u001b[0m\u001b[0;34m(\u001b[0m\u001b[0mnamespace\u001b[0m\u001b[0;34m,\u001b[0m \u001b[0msecret\u001b[0m\u001b[0;34m)\u001b[0m\u001b[0;34m\u001b[0m\u001b[0;34m\u001b[0m\u001b[0m\n\u001b[0m\u001b[1;32m    120\u001b[0m \u001b[0;34m\u001b[0m\u001b[0m\n\u001b[1;32m    121\u001b[0m     \u001b[0;32mdef\u001b[0m \u001b[0m__delete_secret\u001b[0m\u001b[0;34m(\u001b[0m\u001b[0mself\u001b[0m\u001b[0;34m,\u001b[0m \u001b[0mnamespace\u001b[0m\u001b[0;34m)\u001b[0m\u001b[0;34m:\u001b[0m\u001b[0;34m\u001b[0m\u001b[0;34m\u001b[0m\u001b[0m\n",
      "\u001b[0;32m~/pv/jupyterhubpeini/scanflow/scanflow/templates/kubernetes.py\u001b[0m in \u001b[0;36mcreate_secret\u001b[0;34m(self, namespace, body)\u001b[0m\n\u001b[1;32m    174\u001b[0m         \u001b[0mapi_instance\u001b[0m \u001b[0;34m=\u001b[0m \u001b[0mclient\u001b[0m\u001b[0;34m.\u001b[0m\u001b[0mCoreV1Api\u001b[0m\u001b[0;34m(\u001b[0m\u001b[0;34m)\u001b[0m\u001b[0;34m\u001b[0m\u001b[0;34m\u001b[0m\u001b[0m\n\u001b[1;32m    175\u001b[0m         \u001b[0;31m#try:\u001b[0m\u001b[0;34m\u001b[0m\u001b[0;34m\u001b[0m\u001b[0;34m\u001b[0m\u001b[0m\n\u001b[0;32m--> 176\u001b[0;31m         \u001b[0mback\u001b[0m \u001b[0;34m=\u001b[0m \u001b[0mapi_instance\u001b[0m\u001b[0;34m.\u001b[0m\u001b[0mcreate_namespaced_secret\u001b[0m\u001b[0;34m(\u001b[0m\u001b[0mnamespace\u001b[0m\u001b[0;34m=\u001b[0m\u001b[0mnamespace\u001b[0m\u001b[0;34m,\u001b[0m \u001b[0mbody\u001b[0m\u001b[0;34m=\u001b[0m\u001b[0mbody\u001b[0m\u001b[0;34m)\u001b[0m\u001b[0;34m\u001b[0m\u001b[0;34m\u001b[0m\u001b[0m\n\u001b[0m\u001b[1;32m    177\u001b[0m         \u001b[0mlogging\u001b[0m\u001b[0;34m.\u001b[0m\u001b[0minfo\u001b[0m\u001b[0;34m(\u001b[0m\u001b[0;34mf\"create_secret true\"\u001b[0m\u001b[0;34m)\u001b[0m\u001b[0;34m\u001b[0m\u001b[0;34m\u001b[0m\u001b[0m\n\u001b[1;32m    178\u001b[0m         \u001b[0;32mreturn\u001b[0m \u001b[0;32mTrue\u001b[0m\u001b[0;34m\u001b[0m\u001b[0;34m\u001b[0m\u001b[0m\n",
      "\u001b[0;32m~/anaconda3/lib/python3.8/site-packages/kubernetes/client/api/core_v1_api.py\u001b[0m in \u001b[0;36mcreate_namespaced_secret\u001b[0;34m(self, namespace, body, **kwargs)\u001b[0m\n\u001b[1;32m   8164\u001b[0m         \"\"\"\n\u001b[1;32m   8165\u001b[0m         \u001b[0mkwargs\u001b[0m\u001b[0;34m[\u001b[0m\u001b[0;34m'_return_http_data_only'\u001b[0m\u001b[0;34m]\u001b[0m \u001b[0;34m=\u001b[0m \u001b[0;32mTrue\u001b[0m\u001b[0;34m\u001b[0m\u001b[0;34m\u001b[0m\u001b[0m\n\u001b[0;32m-> 8166\u001b[0;31m         \u001b[0;32mreturn\u001b[0m \u001b[0mself\u001b[0m\u001b[0;34m.\u001b[0m\u001b[0mcreate_namespaced_secret_with_http_info\u001b[0m\u001b[0;34m(\u001b[0m\u001b[0mnamespace\u001b[0m\u001b[0;34m,\u001b[0m \u001b[0mbody\u001b[0m\u001b[0;34m,\u001b[0m \u001b[0;34m**\u001b[0m\u001b[0mkwargs\u001b[0m\u001b[0;34m)\u001b[0m  \u001b[0;31m# noqa: E501\u001b[0m\u001b[0;34m\u001b[0m\u001b[0;34m\u001b[0m\u001b[0m\n\u001b[0m\u001b[1;32m   8167\u001b[0m \u001b[0;34m\u001b[0m\u001b[0m\n\u001b[1;32m   8168\u001b[0m     \u001b[0;32mdef\u001b[0m \u001b[0mcreate_namespaced_secret_with_http_info\u001b[0m\u001b[0;34m(\u001b[0m\u001b[0mself\u001b[0m\u001b[0;34m,\u001b[0m \u001b[0mnamespace\u001b[0m\u001b[0;34m,\u001b[0m \u001b[0mbody\u001b[0m\u001b[0;34m,\u001b[0m \u001b[0;34m**\u001b[0m\u001b[0mkwargs\u001b[0m\u001b[0;34m)\u001b[0m\u001b[0;34m:\u001b[0m  \u001b[0;31m# noqa: E501\u001b[0m\u001b[0;34m\u001b[0m\u001b[0;34m\u001b[0m\u001b[0m\n",
      "\u001b[0;32m~/anaconda3/lib/python3.8/site-packages/kubernetes/client/api/core_v1_api.py\u001b[0m in \u001b[0;36mcreate_namespaced_secret_with_http_info\u001b[0;34m(self, namespace, body, **kwargs)\u001b[0m\n\u001b[1;32m   8259\u001b[0m         \u001b[0mauth_settings\u001b[0m \u001b[0;34m=\u001b[0m \u001b[0;34m[\u001b[0m\u001b[0;34m'BearerToken'\u001b[0m\u001b[0;34m]\u001b[0m  \u001b[0;31m# noqa: E501\u001b[0m\u001b[0;34m\u001b[0m\u001b[0;34m\u001b[0m\u001b[0m\n\u001b[1;32m   8260\u001b[0m \u001b[0;34m\u001b[0m\u001b[0m\n\u001b[0;32m-> 8261\u001b[0;31m         return self.api_client.call_api(\n\u001b[0m\u001b[1;32m   8262\u001b[0m             \u001b[0;34m'/api/v1/namespaces/{namespace}/secrets'\u001b[0m\u001b[0;34m,\u001b[0m \u001b[0;34m'POST'\u001b[0m\u001b[0;34m,\u001b[0m\u001b[0;34m\u001b[0m\u001b[0;34m\u001b[0m\u001b[0m\n\u001b[1;32m   8263\u001b[0m             \u001b[0mpath_params\u001b[0m\u001b[0;34m,\u001b[0m\u001b[0;34m\u001b[0m\u001b[0;34m\u001b[0m\u001b[0m\n",
      "\u001b[0;32m~/anaconda3/lib/python3.8/site-packages/kubernetes/client/api_client.py\u001b[0m in \u001b[0;36mcall_api\u001b[0;34m(self, resource_path, method, path_params, query_params, header_params, body, post_params, files, response_type, auth_settings, async_req, _return_http_data_only, collection_formats, _preload_content, _request_timeout, _host)\u001b[0m\n\u001b[1;32m    346\u001b[0m         \"\"\"\n\u001b[1;32m    347\u001b[0m         \u001b[0;32mif\u001b[0m \u001b[0;32mnot\u001b[0m \u001b[0masync_req\u001b[0m\u001b[0;34m:\u001b[0m\u001b[0;34m\u001b[0m\u001b[0;34m\u001b[0m\u001b[0m\n\u001b[0;32m--> 348\u001b[0;31m             return self.__call_api(resource_path, method,\n\u001b[0m\u001b[1;32m    349\u001b[0m                                    \u001b[0mpath_params\u001b[0m\u001b[0;34m,\u001b[0m \u001b[0mquery_params\u001b[0m\u001b[0;34m,\u001b[0m \u001b[0mheader_params\u001b[0m\u001b[0;34m,\u001b[0m\u001b[0;34m\u001b[0m\u001b[0;34m\u001b[0m\u001b[0m\n\u001b[1;32m    350\u001b[0m                                    \u001b[0mbody\u001b[0m\u001b[0;34m,\u001b[0m \u001b[0mpost_params\u001b[0m\u001b[0;34m,\u001b[0m \u001b[0mfiles\u001b[0m\u001b[0;34m,\u001b[0m\u001b[0;34m\u001b[0m\u001b[0;34m\u001b[0m\u001b[0m\n",
      "\u001b[0;32m~/anaconda3/lib/python3.8/site-packages/kubernetes/client/api_client.py\u001b[0m in \u001b[0;36m__call_api\u001b[0;34m(self, resource_path, method, path_params, query_params, header_params, body, post_params, files, response_type, auth_settings, _return_http_data_only, collection_formats, _preload_content, _request_timeout, _host)\u001b[0m\n\u001b[1;32m    178\u001b[0m \u001b[0;34m\u001b[0m\u001b[0m\n\u001b[1;32m    179\u001b[0m         \u001b[0;31m# perform request and return response\u001b[0m\u001b[0;34m\u001b[0m\u001b[0;34m\u001b[0m\u001b[0;34m\u001b[0m\u001b[0m\n\u001b[0;32m--> 180\u001b[0;31m         response_data = self.request(\n\u001b[0m\u001b[1;32m    181\u001b[0m             \u001b[0mmethod\u001b[0m\u001b[0;34m,\u001b[0m \u001b[0murl\u001b[0m\u001b[0;34m,\u001b[0m \u001b[0mquery_params\u001b[0m\u001b[0;34m=\u001b[0m\u001b[0mquery_params\u001b[0m\u001b[0;34m,\u001b[0m \u001b[0mheaders\u001b[0m\u001b[0;34m=\u001b[0m\u001b[0mheader_params\u001b[0m\u001b[0;34m,\u001b[0m\u001b[0;34m\u001b[0m\u001b[0;34m\u001b[0m\u001b[0m\n\u001b[1;32m    182\u001b[0m             \u001b[0mpost_params\u001b[0m\u001b[0;34m=\u001b[0m\u001b[0mpost_params\u001b[0m\u001b[0;34m,\u001b[0m \u001b[0mbody\u001b[0m\u001b[0;34m=\u001b[0m\u001b[0mbody\u001b[0m\u001b[0;34m,\u001b[0m\u001b[0;34m\u001b[0m\u001b[0;34m\u001b[0m\u001b[0m\n",
      "\u001b[0;32m~/anaconda3/lib/python3.8/site-packages/kubernetes/client/api_client.py\u001b[0m in \u001b[0;36mrequest\u001b[0;34m(self, method, url, query_params, headers, post_params, body, _preload_content, _request_timeout)\u001b[0m\n\u001b[1;32m    389\u001b[0m                                             _request_timeout=_request_timeout)\n\u001b[1;32m    390\u001b[0m         \u001b[0;32melif\u001b[0m \u001b[0mmethod\u001b[0m \u001b[0;34m==\u001b[0m \u001b[0;34m\"POST\"\u001b[0m\u001b[0;34m:\u001b[0m\u001b[0;34m\u001b[0m\u001b[0;34m\u001b[0m\u001b[0m\n\u001b[0;32m--> 391\u001b[0;31m             return self.rest_client.POST(url,\n\u001b[0m\u001b[1;32m    392\u001b[0m                                          \u001b[0mquery_params\u001b[0m\u001b[0;34m=\u001b[0m\u001b[0mquery_params\u001b[0m\u001b[0;34m,\u001b[0m\u001b[0;34m\u001b[0m\u001b[0;34m\u001b[0m\u001b[0m\n\u001b[1;32m    393\u001b[0m                                          \u001b[0mheaders\u001b[0m\u001b[0;34m=\u001b[0m\u001b[0mheaders\u001b[0m\u001b[0;34m,\u001b[0m\u001b[0;34m\u001b[0m\u001b[0;34m\u001b[0m\u001b[0m\n",
      "\u001b[0;32m~/anaconda3/lib/python3.8/site-packages/kubernetes/client/rest.py\u001b[0m in \u001b[0;36mPOST\u001b[0;34m(self, url, headers, query_params, post_params, body, _preload_content, _request_timeout)\u001b[0m\n\u001b[1;32m    272\u001b[0m     def POST(self, url, headers=None, query_params=None, post_params=None,\n\u001b[1;32m    273\u001b[0m              body=None, _preload_content=True, _request_timeout=None):\n\u001b[0;32m--> 274\u001b[0;31m         return self.request(\"POST\", url,\n\u001b[0m\u001b[1;32m    275\u001b[0m                             \u001b[0mheaders\u001b[0m\u001b[0;34m=\u001b[0m\u001b[0mheaders\u001b[0m\u001b[0;34m,\u001b[0m\u001b[0;34m\u001b[0m\u001b[0;34m\u001b[0m\u001b[0m\n\u001b[1;32m    276\u001b[0m                             \u001b[0mquery_params\u001b[0m\u001b[0;34m=\u001b[0m\u001b[0mquery_params\u001b[0m\u001b[0;34m,\u001b[0m\u001b[0;34m\u001b[0m\u001b[0;34m\u001b[0m\u001b[0m\n",
      "\u001b[0;32m~/anaconda3/lib/python3.8/site-packages/kubernetes/client/rest.py\u001b[0m in \u001b[0;36mrequest\u001b[0;34m(self, method, url, query_params, headers, body, post_params, _preload_content, _request_timeout)\u001b[0m\n\u001b[1;32m    231\u001b[0m \u001b[0;34m\u001b[0m\u001b[0m\n\u001b[1;32m    232\u001b[0m         \u001b[0;32mif\u001b[0m \u001b[0;32mnot\u001b[0m \u001b[0;36m200\u001b[0m \u001b[0;34m<=\u001b[0m \u001b[0mr\u001b[0m\u001b[0;34m.\u001b[0m\u001b[0mstatus\u001b[0m \u001b[0;34m<=\u001b[0m \u001b[0;36m299\u001b[0m\u001b[0;34m:\u001b[0m\u001b[0;34m\u001b[0m\u001b[0;34m\u001b[0m\u001b[0m\n\u001b[0;32m--> 233\u001b[0;31m             \u001b[0;32mraise\u001b[0m \u001b[0mApiException\u001b[0m\u001b[0;34m(\u001b[0m\u001b[0mhttp_resp\u001b[0m\u001b[0;34m=\u001b[0m\u001b[0mr\u001b[0m\u001b[0;34m)\u001b[0m\u001b[0;34m\u001b[0m\u001b[0;34m\u001b[0m\u001b[0m\n\u001b[0m\u001b[1;32m    234\u001b[0m \u001b[0;34m\u001b[0m\u001b[0m\n\u001b[1;32m    235\u001b[0m         \u001b[0;32mreturn\u001b[0m \u001b[0mr\u001b[0m\u001b[0;34m\u001b[0m\u001b[0;34m\u001b[0m\u001b[0m\n",
      "\u001b[0;31mApiException\u001b[0m: (409)\nReason: Conflict\nHTTP response headers: HTTPHeaderDict({'Cache-Control': 'no-cache, private', 'Content-Type': 'application/json', 'Date': 'Fri, 25 Jun 2021 13:27:49 GMT', 'Content-Length': '214'})\nHTTP response body: {\"kind\":\"Status\",\"apiVersion\":\"v1\",\"metadata\":{},\"status\":\"Failure\",\"message\":\"secrets \\\"scanflow-secret\\\" already exists\",\"reason\":\"AlreadyExists\",\"details\":{\"name\":\"scanflow-secret\",\"kind\":\"secrets\"},\"code\":409}\n\n"
     ]
    }
   ],
   "source": [
    "await deployerClient.create_environment(app=build_app)"
   ]
  },
  {
   "cell_type": "code",
   "execution_count": null,
   "id": "dd6ff9f2-f5bf-4707-be76-68605015d6d1",
   "metadata": {},
   "outputs": [],
   "source": []
  },
  {
   "cell_type": "code",
   "execution_count": null,
   "id": "5c34aab7-fcee-4a24-ba16-6c691de0301c",
   "metadata": {},
   "outputs": [],
   "source": []
  },
  {
   "cell_type": "code",
   "execution_count": 15,
   "id": "8d055267-cfda-4e42-aba2-1e1848fbd56f",
   "metadata": {},
   "outputs": [],
   "source": [
    "trackerClient = ScanflowTrackerClient(scanflow_tracker_local_uri=\"http://172.30.0.50:46671\",\n",
    "                        verbose=True)"
   ]
  },
  {
   "cell_type": "code",
   "execution_count": 18,
   "id": "c945a490-37d7-4e08-9758-11d3d1305cf8",
   "metadata": {},
   "outputs": [
    {
     "name": "stderr",
     "output_type": "stream",
     "text": [
      "18-Jun-21 18:27:49 -  INFO - mlperf--scanflow-model-datascience--{}--{}\n"
     ]
    },
    {
     "name": "stdout",
     "output_type": "stream",
     "text": [
      "INFO: 'mlperf' does not exist. Creating a new experiment\n"
     ]
    },
    {
     "name": "stderr",
     "output_type": "stream",
     "text": [
      "2021/06/18 18:27:52 INFO mlflow.tracking._model_registry.client: Waiting up to 300 seconds for model version to finish creation.                     Model name: mlperf-resnet, version 1\n"
     ]
    }
   ],
   "source": [
    "trackerClient.download_app_model(model_name=\"mlperf-resnet\")"
   ]
  },
  {
   "cell_type": "code",
   "execution_count": 16,
   "id": "622e8a4b-b31f-4bed-9710-b4003381c1b4",
   "metadata": {},
   "outputs": [
    {
     "name": "stderr",
     "output_type": "stream",
     "text": [
      "24-Jun-21 19:04:28 -  INFO - Connecting tracking server uri: http://172.30.0.50:46667\n",
      "24-Jun-21 19:04:28 -  INFO - save app to artifact uri: s3://scanflow/3/75da025e9adc45af9ccf0592e1f7616f/artifacts\n",
      "24-Jun-21 19:04:28 -  INFO - Scanflowapp: {'app_name': 'mlperf', 'app_dir': '/gpfs/bsc_home/xpliu/pv/jupyterhubpeini/scanflow/examples/mlperf/dataengineer', 'team_name': 'dataengineer', 'workflows': [{'name': 'batch-inference-single', 'nodes': [{'name': 'predictor-batch', 'node_type': 'executor', 'mainfile': '/tmp/inference/vision/classification_and_detection/python/main.py', 'parameters': {'dataset': 'imagenet_tflocal', 'dataset-path': '/tmp/inference/vision/classification_and_detection/test_imagenet', 'scenario': 'Offline', 'count': 2, 'model': '/workflow/model/0', 'model-name': 'resnet50', 'inputs': 'input_image', 'outputs': 'predictions/Softmax:0', 'backend': 'tflocal', 'cache_dir': '/workflow', 'output': '/workflow/output', 'mlperf_conf': '/tmp/inference/mlperf.conf', 'user_conf': '/tmp/inference/vision/classification_and_detection/user.conf'}, 'requirements': None, 'dockerfile': None, 'base_image': 'mlperf', 'env': {'PYTHONPATH': ':/tmp/inference/vision/classification_and_detection/python'}, 'image': '172.30.0.49:5000/predictor-batch:latest', 'resources': None}], 'edges': None, 'affinity': None, 'kedaSpec': None, 'output_dir': '/workflow'}, {'name': 'batch-inference-graph', 'nodes': [{'name': 'download-model', 'node_type': 'executor', 'mainfile': 'download.py', 'parameters': {'app_name': 'mlperf', 'team_name': 'dataengineer', 'model_name': 'mlperf-resnet'}, 'requirements': None, 'dockerfile': None, 'base_image': None, 'env': None, 'image': '172.30.0.49:5000/download-model:latest', 'resources': None}, {'name': 'preprocessing-batch', 'node_type': 'executor', 'mainfile': '/tmp/inference/vision/classification_and_detection/python/main.py', 'parameters': {'dataset': 'imagenet_tflocal_preprocess', 'dataset-path': '/tmp/inference/vision/classification_and_detection/test_imagenet', 'scenario': 'Offline', 'count': 2, 'preprocess': 1, 'model': '/workflow/model/mlperf-resnet/model/0', 'model-name': 'resnet50', 'inputs': 'input_image', 'outputs': 'predictions/Softmax:0', 'backend': 'tflocal', 'cache_dir': '/workflow', 'output': '/workflow/output', 'mlperf_conf': '/tmp/inference/mlperf.conf', 'user_conf': '/tmp/inference/vision/classification_and_detection/user.conf'}, 'requirements': None, 'dockerfile': None, 'base_image': 'mlperf', 'env': {'PYTHONPATH': ':/tmp/inference/vision/classification_and_detection/python'}, 'image': '172.30.0.49:5000/preprocessing-batch:latest', 'resources': None}, {'name': 'predictor-batch', 'node_type': 'executor', 'mainfile': '/tmp/inference/vision/classification_and_detection/python/main.py', 'parameters': {'dataset': 'imagenet_tflocal_preprocess', 'dataset-path': '/tmp/inference/vision/classification_and_detection/test_imagenet', 'scenario': 'Offline', 'count': 2, 'preprocess': 2, 'model': '/workflow/model/mlperf-resnet/model/0', 'model-name': 'resnet50', 'inputs': 'input_image', 'outputs': 'predictions/Softmax:0', 'backend': 'tflocal', 'cache_dir': '/workflow', 'output': '/workflow/output', 'mlperf_conf': '/tmp/inference/mlperf.conf', 'user_conf': '/tmp/inference/vision/classification_and_detection/user.conf'}, 'requirements': None, 'dockerfile': None, 'base_image': 'mlperf', 'env': {'PYTHONPATH': ':/tmp/inference/vision/classification_and_detection/python'}, 'image': '172.30.0.49:5000/predictor-batch:latest', 'resources': None}, {'name': 'postprocessing-batch', 'node_type': 'executor', 'mainfile': 'upload.py', 'parameters': {'output': '/workflow/output'}, 'requirements': None, 'dockerfile': None, 'base_image': None, 'env': None, 'image': '172.30.0.49:5000/postprocessing-batch:latest', 'resources': None}], 'edges': [{'depender': 'preprocessing-batch', 'dependee': 'download-model', 'edge_type': 'dependency', 'priority': 0}, {'depender': 'predictor-batch', 'dependee': 'preprocessing-batch', 'edge_type': 'dependency', 'priority': 0}, {'depender': 'postprocessing-batch', 'dependee': 'predictor-batch', 'edge_type': 'dependency', 'priority': 0}], 'affinity': None, 'kedaSpec': None, 'output_dir': '/workflow'}, {'name': 'online-inference-single', 'nodes': [{'name': 'predictor-online', 'node_type': 'service', 'image': None, 'env': None, 'envfrom': None, 'mainfile': None, 'requirements': None, 'dockerfile': None, 'base_image': None, 'service_type': None, 'implementation_type': 'TENSORFLOW_SERVER', 'modelUri': 's3://scanflow/scanflow-mlperf-dataengineer/1/fde8c5e912a84b8385e1154053c3e759/artifacts/mlperf-resnet/model', 'envSecretRefName': 'scanflow-secret', 'endpoint': {'type': 'GRPC'}, 'parameters': [{'name': 'model_name', 'type': 'STRING', 'value': 'predictor-online'}, {'name': 'model_input', 'type': 'STRING', 'value': 'input_image'}, {'name': 'model_output', 'type': 'STRING', 'value': 'predictions/Softmax:0'}], 'resources': None}], 'edges': None, 'affinity': None, 'kedaSpec': None, 'output_dir': '/workflow'}, {'name': 'online-inference-graph', 'nodes': [{'name': 'preprocessing-online', 'node_type': 'service', 'image': '172.30.0.49:5000/preprocessing-online:latest', 'env': None, 'envfrom': None, 'mainfile': 'ImageNetTransformer.py', 'requirements': 'requirements.txt', 'dockerfile': None, 'base_image': None, 'service_type': 'TRANSFORMER', 'implementation_type': None, 'modelUri': None, 'envSecretRefName': None, 'endpoint': {'type': 'GRPC'}, 'parameters': None, 'resources': None}, {'name': 'predictor-online', 'node_type': 'service', 'image': None, 'env': None, 'envfrom': None, 'mainfile': None, 'requirements': None, 'dockerfile': None, 'base_image': None, 'service_type': None, 'implementation_type': 'TENSORFLOW_SERVER', 'modelUri': 's3://scanflow/scanflow-mlperf-dataengineer/1/fde8c5e912a84b8385e1154053c3e759/artifacts/mlperf-resnet/model', 'envSecretRefName': 'scanflow-secret', 'endpoint': {'type': 'GRPC'}, 'parameters': [{'name': 'model_name', 'type': 'STRING', 'value': 'predictor-online'}, {'name': 'model_input', 'type': 'STRING', 'value': 'input_image'}, {'name': 'model_output', 'type': 'STRING', 'value': 'predictions/Softmax:0'}], 'resources': None}, {'name': 'postprocessing-online', 'node_type': 'service', 'image': '172.30.0.49:5000/postprocessing-online:latest', 'env': None, 'envfrom': None, 'mainfile': 'upload.py', 'requirements': 'requirements.txt', 'dockerfile': None, 'base_image': None, 'service_type': 'MODEL', 'implementation_type': None, 'modelUri': None, 'envSecretRefName': None, 'endpoint': {'type': 'GRPC'}, 'parameters': None, 'resources': None}], 'edges': [{'depender': 'predictor-online', 'dependee': 'preprocessing-online', 'edge_type': 'dependency', 'priority': 0}, {'depender': 'postprocessing-online', 'dependee': 'predictor-online', 'edge_type': 'dependency', 'priority': 0}], 'affinity': None, 'kedaSpec': None, 'output_dir': '/workflow'}], 'agents': None, 'tracker': {'image': '172.30.0.49:5000/scanflow-tracker', 'nodePort': 46671}}\n",
      "24-Jun-21 19:04:28 -  INFO - Found credentials in environment variables.\n"
     ]
    }
   ],
   "source": [
    "trackerClient.save_app_meta(build_app)"
   ]
  },
  {
   "cell_type": "code",
   "execution_count": 17,
   "id": "126e7ba8-f209-469d-884e-4e6eb54c98be",
   "metadata": {},
   "outputs": [
    {
     "name": "stderr",
     "output_type": "stream",
     "text": [
      "24-Jun-21 19:04:32 -  INFO - Connecting tracking server uri: http://172.30.0.50:46667\n",
      "24-Jun-21 19:04:32 -  INFO - save app in /gpfs/bsc_home/xpliu/pv/jupyterhubpeini/scanflow/examples/mlperf/dataengineer to artifact uri: s3://scanflow/3/ff5f2b8a5a33410f974c31f08776a5e4/artifacts\n"
     ]
    }
   ],
   "source": [
    "trackerClient.save_app_artifacts(app_name=app_name, \n",
    "                                team_name=team_name, \n",
    "                                app_dir=app_dir)"
   ]
  },
  {
   "cell_type": "code",
   "execution_count": null,
   "id": "03540c98-02c7-40fc-a7fd-a5509ab4aed0",
   "metadata": {},
   "outputs": [],
   "source": []
  },
  {
   "cell_type": "code",
   "execution_count": null,
   "id": "2f7ed49b-afc2-416b-99f6-5eee3a9566b9",
   "metadata": {},
   "outputs": [],
   "source": []
  },
  {
   "cell_type": "code",
   "execution_count": null,
   "id": "1d896180-5ea3-4d01-8736-c579ee115504",
   "metadata": {},
   "outputs": [],
   "source": []
  },
  {
   "cell_type": "code",
   "execution_count": null,
   "id": "2080a57a-04dd-4d86-928e-a048e21888be",
   "metadata": {},
   "outputs": [],
   "source": []
  },
  {
   "cell_type": "code",
   "execution_count": null,
   "id": "6f1c2443-7ddf-42b7-a21b-0777ca31484f",
   "metadata": {},
   "outputs": [],
   "source": []
  },
  {
   "cell_type": "code",
   "execution_count": 13,
   "id": "d554471d-2d27-4d5e-96b8-ac1c709cb152",
   "metadata": {},
   "outputs": [
    {
     "name": "stderr",
     "output_type": "stream",
     "text": [
      "24-Jun-21 19:10:50 -  INFO - env for executor {'AWS_ACCESS_KEY_ID': 'admin', 'AWS_SECRET_ACCESS_KEY': 'admin123', 'MLFLOW_S3_ENDPOINT_URL': 'http://minio.minio-system.svc.cluster.local:9000', 'AWS_ENDPOINT_URL': 'http://minio.minio-system.svc.cluster.local:9000', 'SCANFLOW_TRACKER_URI': 'http://scanflow-tracker-service.scanflow-system.svc.cluster.local', 'SCANFLOW_SERVER_URI': 'http://scanflow-server-service.scanflow-system.svc.cluster.local', 'SCANFLOW_TRACKER_LOCAL_URI': 'http://scanflow-tracker.scanflow-mlperf-dataengineer.svc.cluster.local'}\n",
      "24-Jun-21 19:10:50 -  INFO - [+] Building workflow: [online-inference-single- service]\n",
      "24-Jun-21 19:10:50 -  INFO - [+] Building workflow: [online-inference-single- edges]\n",
      "24-Jun-21 19:10:50 -  INFO - [+] workflow does not have edges\n",
      "24-Jun-21 19:10:50 -  INFO - [+] Building workflow: [online-inference-single- graph]\n",
      "24-Jun-21 19:10:50 -  INFO - [+++] Workflow: deploying [online-inference-single] to seldon OrderedDict([('apiVersion', 'machinelearning.seldon.io/v1'), ('kind', 'SeldonDeployment'), ('metadata', {'name': 'online-inference-single', 'namespace': 'scanflow-mlperf-dataengineer'}), ('spec', {'name': 'online-inference-single', 'predictors': [{'name': 'online-inference-single', 'replicas': 1, 'componentSpecs': [{}], 'graph': {'name': 'predictor-online', 'implementation': 'TENSORFLOW_SERVER', 'endpoint': {'type': 'GRPC'}, 'parameters': [{'name': 'model_name', 'type': 'STRING', 'value': 'predictor-online'}, {'name': 'model_input', 'type': 'STRING', 'value': 'input_image'}, {'name': 'model_output', 'type': 'STRING', 'value': 'predictions/Softmax:0'}], 'modelUri': 's3://scanflow/scanflow-mlperf-dataengineer/1/fde8c5e912a84b8385e1154053c3e759/artifacts/mlperf-resnet/model', 'envSecretRefName': 'scanflow-secret', 'children': []}}]})])\n",
      "24-Jun-21 19:10:50 -  INFO - seldon deployment apiVersion: machinelearning.seldon.io/v1\n",
      "kind: SeldonDeployment\n",
      "metadata:\n",
      "  name: online-inference-single\n",
      "  namespace: scanflow-mlperf-dataengineer\n",
      "spec:\n",
      "  name: online-inference-single\n",
      "  predictors:\n",
      "    - graph:\n",
      "        endpoint:\n",
      "          type: GRPC\n",
      "        envSecretRefName: scanflow-secret\n",
      "        implementation: TENSORFLOW_SERVER\n",
      "        modelUri: s3://scanflow/scanflow-mlperf-dataengineer/1/fde8c5e912a84b8385e1154053c3e759/artifacts/mlperf-resnet/model\n",
      "        name: predictor-online\n",
      "        parameters:\n",
      "          - name: model_name\n",
      "            type: STRING\n",
      "            value: predictor-online\n",
      "          - name: model_input\n",
      "            type: STRING\n",
      "            value: input_image\n",
      "          - name: model_output\n",
      "            type: STRING\n",
      "            value: predictions/Softmax:0\n",
      "      name: online-inference-single\n",
      "      replicas: 1\n",
      " {'apiVersion': 'machinelearning.seldon.io/v1', 'kind': 'SeldonDeployment', 'metadata': {'name': 'online-inference-single', 'namespace': 'scanflow-mlperf-dataengineer'}, 'spec': {'name': 'online-inference-single', 'predictors': [{'graph': {'endpoint': {'type': 'GRPC'}, 'envSecretRefName': 'scanflow-secret', 'implementation': 'TENSORFLOW_SERVER', 'modelUri': 's3://scanflow/scanflow-mlperf-dataengineer/1/fde8c5e912a84b8385e1154053c3e759/artifacts/mlperf-resnet/model', 'name': 'predictor-online', 'parameters': [{'name': 'model_name', 'type': 'STRING', 'value': 'predictor-online'}, {'name': 'model_input', 'type': 'STRING', 'value': 'input_image'}, {'name': 'model_output', 'type': 'STRING', 'value': 'predictions/Softmax:0'}]}, 'name': 'online-inference-single', 'replicas': 1}]}}\n",
      "24-Jun-21 19:10:50 -  INFO - Submitting workflow to Seldon\n",
      "24-Jun-21 19:10:50 -  INFO - Workflow online-inference-single has been submitted in \"scanflow-mlperf-dataengineer\" namespace!\n"
     ]
    },
    {
     "data": {
      "text/plain": [
       "{'apiVersion': 'machinelearning.seldon.io/v1',\n",
       " 'kind': 'SeldonDeployment',\n",
       " 'metadata': {'creationTimestamp': '2021-06-24T17:10:50Z',\n",
       "  'generation': 1,\n",
       "  'managedFields': [{'apiVersion': 'machinelearning.seldon.io/v1',\n",
       "    'fieldsType': 'FieldsV1',\n",
       "    'fieldsV1': {'f:spec': {'.': {}, 'f:name': {}, 'f:predictors': {}}},\n",
       "    'manager': 'OpenAPI-Generator',\n",
       "    'operation': 'Update',\n",
       "    'time': '2021-06-24T17:10:50Z'}],\n",
       "  'name': 'online-inference-single',\n",
       "  'namespace': 'scanflow-mlperf-dataengineer',\n",
       "  'resourceVersion': '60866133',\n",
       "  'selfLink': '/apis/machinelearning.seldon.io/v1/namespaces/scanflow-mlperf-dataengineer/seldondeployments/online-inference-single',\n",
       "  'uid': '55c9034e-7b34-4a5b-938e-7145ea5b99fb'},\n",
       " 'spec': {'name': 'online-inference-single',\n",
       "  'predictors': [{'graph': {'endpoint': {'type': 'GRPC'},\n",
       "     'envSecretRefName': 'scanflow-secret',\n",
       "     'implementation': 'TENSORFLOW_SERVER',\n",
       "     'modelUri': 's3://scanflow/scanflow-mlperf-dataengineer/1/fde8c5e912a84b8385e1154053c3e759/artifacts/mlperf-resnet/model',\n",
       "     'name': 'predictor-online',\n",
       "     'parameters': [{'name': 'model_name',\n",
       "       'type': 'STRING',\n",
       "       'value': 'predictor-online'},\n",
       "      {'name': 'model_input', 'type': 'STRING', 'value': 'input_image'},\n",
       "      {'name': 'model_output',\n",
       "       'type': 'STRING',\n",
       "       'value': 'predictions/Softmax:0'}]},\n",
       "    'name': 'online-inference-single',\n",
       "    'replicas': 1}]}}"
      ]
     },
     "execution_count": 13,
     "metadata": {},
     "output_type": "execute_result"
    }
   ],
   "source": [
    "await deployerClient.deploy_workflow(app_name='mlperf', \n",
    "                                  team_name='dataengineer',\n",
    "                                  workflow = build_app.workflows[2])"
   ]
  },
  {
   "cell_type": "markdown",
   "id": "5b5f40d3-f879-40b4-a490-347ce38ffb73",
   "metadata": {},
   "source": [
    "[online-inference-single]http://172.30.0.53:40000/seldon/scanflow-mlperf-dataengineer/online-inference-single/api/v1.0/doc/#/\n",
    "\n",
    "1. server: 172.30.0.50:40000\n",
    "2. namespace: scanflow-mlperf-dataengineer\n",
    "3. deployment: online-inference-single"
   ]
  },
  {
   "cell_type": "code",
   "execution_count": 16,
   "id": "f1fe08e9-b740-4070-88cc-549928bbbcd8",
   "metadata": {},
   "outputs": [
    {
     "data": {
      "image/png": "[encoded data removed]",
      "text/plain": [
       "<IPython.core.display.Image object>"
      ]
     },
     "execution_count": 16,
     "metadata": {
      "image/png": {
       "height": 400,
       "width": 800
      }
     },
     "output_type": "execute_result"
    }
   ],
   "source": [
    "from IPython.display import Image\n",
    "Image(\"/gpfs/bsc_home/xpliu/pv/jupyterhubpeini/scanflow/images/mlperf/online-inference-single.PNG\", width=800, height=400)"
   ]
  },
  {
   "cell_type": "code",
   "execution_count": 14,
   "id": "6a050429-825a-414e-9110-eac96c52cf02",
   "metadata": {},
   "outputs": [
    {
     "name": "stderr",
     "output_type": "stream",
     "text": [
      "25-Jun-21 15:51:25 -  INFO - env for executor {'AWS_ACCESS_KEY_ID': 'admin', 'AWS_SECRET_ACCESS_KEY': 'admin123', 'MLFLOW_S3_ENDPOINT_URL': 'http://minio.minio-system.svc.cluster.local:9000', 'AWS_ENDPOINT_URL': 'http://minio.minio-system.svc.cluster.local:9000', 'SCANFLOW_TRACKER_URI': 'http://scanflow-tracker-service.scanflow-system.svc.cluster.local', 'SCANFLOW_SERVER_URI': 'http://scanflow-server-service.scanflow-system.svc.cluster.local', 'SCANFLOW_TRACKER_LOCAL_URI': 'http://scanflow-tracker.scanflow-mlperf-dataengineer.svc.cluster.local'}\n",
      "25-Jun-21 15:51:25 -  INFO - [+] Building workflow: [online-inference-graph- service]\n",
      "25-Jun-21 15:51:25 -  INFO - [+] Building workflow: [online-inference-graph- edges]\n",
      "25-Jun-21 15:51:25 -  INFO - [+] Building workflow: [online-inference-graph- graph]\n",
      "25-Jun-21 15:51:25 -  INFO - Graph head: preprocessing-online\n",
      "25-Jun-21 15:51:25 -  INFO - [+++] Workflow: deploying [online-inference-graph] to seldon OrderedDict([('apiVersion', 'machinelearning.seldon.io/v1'), ('kind', 'SeldonDeployment'), ('metadata', {'name': 'online-inference-graph', 'namespace': 'scanflow-mlperf-dataengineer'}), ('spec', {'name': 'online-inference-graph', 'predictors': [{'name': 'online-inference-graph', 'replicas': 1, 'componentSpecs': [{'spec': {'active_deadline_seconds': None, 'affinity': None, 'automount_service_account_token': None, 'containers': [{'args': None, 'command': None, 'env': [{'name': 'AWS_ACCESS_KEY_ID', 'value': 'admin', 'value_from': None}, {'name': 'AWS_SECRET_ACCESS_KEY', 'value': 'admin123', 'value_from': None}, {'name': 'MLFLOW_S3_ENDPOINT_URL', 'value': 'http://minio.minio-system.svc.cluster.local:9000', 'value_from': None}, {'name': 'AWS_ENDPOINT_URL', 'value': 'http://minio.minio-system.svc.cluster.local:9000', 'value_from': None}, {'name': 'SCANFLOW_TRACKER_URI', 'value': 'http://scanflow-tracker-service.scanflow-system.svc.cluster.local', 'value_from': None}, {'name': 'SCANFLOW_SERVER_URI', 'value': 'http://scanflow-server-service.scanflow-system.svc.cluster.local', 'value_from': None}, {'name': 'SCANFLOW_TRACKER_LOCAL_URI', 'value': 'http://scanflow-tracker.scanflow-mlperf-dataengineer.svc.cluster.local', 'value_from': None}], 'env_from': None, 'image': '172.30.0.49:5000/preprocessing-online:latest', 'image_pull_policy': 'Always', 'lifecycle': None, 'liveness_probe': None, 'name': 'preprocessing-online', 'ports': None, 'readiness_probe': None, 'resources': None, 'security_context': None, 'startup_probe': None, 'stdin': None, 'stdin_once': None, 'termination_message_path': None, 'termination_message_policy': None, 'tty': None, 'volume_devices': None, 'volume_mounts': [{'mount_path': '/scanflow', 'mount_propagation': None, 'name': 'scanflowpath', 'read_only': None, 'sub_path': None, 'sub_path_expr': None}], 'working_dir': None}, {'args': None, 'command': None, 'env': [{'name': 'AWS_ACCESS_KEY_ID', 'value': 'admin', 'value_from': None}, {'name': 'AWS_SECRET_ACCESS_KEY', 'value': 'admin123', 'value_from': None}, {'name': 'MLFLOW_S3_ENDPOINT_URL', 'value': 'http://minio.minio-system.svc.cluster.local:9000', 'value_from': None}, {'name': 'AWS_ENDPOINT_URL', 'value': 'http://minio.minio-system.svc.cluster.local:9000', 'value_from': None}, {'name': 'SCANFLOW_TRACKER_URI', 'value': 'http://scanflow-tracker-service.scanflow-system.svc.cluster.local', 'value_from': None}, {'name': 'SCANFLOW_SERVER_URI', 'value': 'http://scanflow-server-service.scanflow-system.svc.cluster.local', 'value_from': None}, {'name': 'SCANFLOW_TRACKER_LOCAL_URI', 'value': 'http://scanflow-tracker.scanflow-mlperf-dataengineer.svc.cluster.local', 'value_from': None}], 'env_from': None, 'image': '172.30.0.49:5000/postprocessing-online:latest', 'image_pull_policy': 'Always', 'lifecycle': None, 'liveness_probe': None, 'name': 'postprocessing-online', 'ports': None, 'readiness_probe': None, 'resources': None, 'security_context': None, 'startup_probe': None, 'stdin': None, 'stdin_once': None, 'termination_message_path': None, 'termination_message_policy': None, 'tty': None, 'volume_devices': None, 'volume_mounts': [{'mount_path': '/scanflow', 'mount_propagation': None, 'name': 'scanflowpath', 'read_only': None, 'sub_path': None, 'sub_path_expr': None}], 'working_dir': None}], 'dns_config': None, 'dns_policy': None, 'enable_service_links': None, 'ephemeral_containers': None, 'host_aliases': None, 'host_ipc': None, 'host_network': None, 'host_pid': None, 'hostname': None, 'image_pull_secrets': None, 'init_containers': None, 'node_name': None, 'node_selector': None, 'overhead': None, 'preemption_policy': None, 'priority': None, 'priority_class_name': None, 'readiness_gates': None, 'restart_policy': None, 'runtime_class_name': None, 'scheduler_name': None, 'security_context': None, 'service_account': None, 'service_account_name': None, 'share_process_namespace': None, 'subdomain': None, 'termination_grace_period_seconds': None, 'tolerations': None, 'topology_spread_constraints': None, 'volumes': [{'aws_elastic_block_store': None, 'azure_disk': None, 'azure_file': None, 'cephfs': None, 'cinder': None, 'config_map': None, 'csi': None, 'downward_api': None, 'empty_dir': None, 'fc': None, 'flex_volume': None, 'flocker': None, 'gce_persistent_disk': None, 'git_repo': None, 'glusterfs': None, 'host_path': None, 'iscsi': None, 'name': 'scanflowpath', 'nfs': None, 'persistent_volume_claim': {'claim_name': 'scanflow-scanflow-mlperf-dataengineer', 'read_only': None}, 'photon_persistent_disk': None, 'portworx_volume': None, 'projected': None, 'quobyte': None, 'rbd': None, 'scale_io': None, 'secret': None, 'storageos': None, 'vsphere_volume': None}]}}], 'graph': {'name': 'preprocessing-online', 'type': 'TRANSFORMER', 'endpoint': {'type': 'GRPC'}, 'children': [{'name': 'predictor-online', 'implementation': 'TENSORFLOW_SERVER', 'endpoint': {'type': 'GRPC'}, 'parameters': [{'name': 'model_name', 'type': 'STRING', 'value': 'predictor-online'}, {'name': 'model_input', 'type': 'STRING', 'value': 'input_image'}, {'name': 'model_output', 'type': 'STRING', 'value': 'predictions/Softmax:0'}], 'modelUri': 's3://scanflow/scanflow-mlperf-dataengineer/1/fde8c5e912a84b8385e1154053c3e759/artifacts/mlperf-resnet/model', 'envSecretRefName': 'scanflow-secret', 'children': [{'name': 'postprocessing-online', 'type': 'MODEL', 'endpoint': {'type': 'GRPC'}, 'parameters': [{'name': 'mlflow_log', 'type': 'STRING', 'value': 'mlfloe'}], 'children': []}]}]}}]})])\n",
      "25-Jun-21 15:51:25 -  INFO - Submitting workflow to Seldon\n",
      "25-Jun-21 15:51:25 -  INFO - Workflow online-inference-graph has been submitted in \"scanflow-mlperf-dataengineer\" namespace!\n"
     ]
    },
    {
     "data": {
      "text/plain": [
       "{'apiVersion': 'machinelearning.seldon.io/v1',\n",
       " 'kind': 'SeldonDeployment',\n",
       " 'metadata': {'creationTimestamp': '2021-06-25T13:51:25Z',\n",
       "  'generation': 1,\n",
       "  'managedFields': [{'apiVersion': 'machinelearning.seldon.io/v1',\n",
       "    'fieldsType': 'FieldsV1',\n",
       "    'fieldsV1': {'f:spec': {'.': {}, 'f:name': {}, 'f:predictors': {}}},\n",
       "    'manager': 'OpenAPI-Generator',\n",
       "    'operation': 'Update',\n",
       "    'time': '2021-06-25T13:51:25Z'}],\n",
       "  'name': 'online-inference-graph',\n",
       "  'namespace': 'scanflow-mlperf-dataengineer',\n",
       "  'resourceVersion': '61328707',\n",
       "  'selfLink': '/apis/machinelearning.seldon.io/v1/namespaces/scanflow-mlperf-dataengineer/seldondeployments/online-inference-graph',\n",
       "  'uid': 'b0f5414b-7b6b-48ac-89dd-ffd50bba6d15'},\n",
       " 'spec': {'name': 'online-inference-graph',\n",
       "  'predictors': [{'componentSpecs': [{'spec': {'containers': [{'env': [{'name': 'AWS_ACCESS_KEY_ID',\n",
       "           'value': 'admin'},\n",
       "          {'name': 'AWS_SECRET_ACCESS_KEY', 'value': 'admin123'},\n",
       "          {'name': 'MLFLOW_S3_ENDPOINT_URL',\n",
       "           'value': 'http://minio.minio-system.svc.cluster.local:9000'},\n",
       "          {'name': 'AWS_ENDPOINT_URL',\n",
       "           'value': 'http://minio.minio-system.svc.cluster.local:9000'},\n",
       "          {'name': 'SCANFLOW_TRACKER_URI',\n",
       "           'value': 'http://scanflow-tracker-service.scanflow-system.svc.cluster.local'},\n",
       "          {'name': 'SCANFLOW_SERVER_URI',\n",
       "           'value': 'http://scanflow-server-service.scanflow-system.svc.cluster.local'},\n",
       "          {'name': 'SCANFLOW_TRACKER_LOCAL_URI',\n",
       "           'value': 'http://scanflow-tracker.scanflow-mlperf-dataengineer.svc.cluster.local'}],\n",
       "         'image': '172.30.0.49:5000/preprocessing-online:latest',\n",
       "         'name': 'preprocessing-online',\n",
       "         'volumeMounts': [{'mountPath': '/scanflow', 'name': 'scanflowpath'}]},\n",
       "        {'env': [{'name': 'AWS_ACCESS_KEY_ID', 'value': 'admin'},\n",
       "          {'name': 'AWS_SECRET_ACCESS_KEY', 'value': 'admin123'},\n",
       "          {'name': 'MLFLOW_S3_ENDPOINT_URL',\n",
       "           'value': 'http://minio.minio-system.svc.cluster.local:9000'},\n",
       "          {'name': 'AWS_ENDPOINT_URL',\n",
       "           'value': 'http://minio.minio-system.svc.cluster.local:9000'},\n",
       "          {'name': 'SCANFLOW_TRACKER_URI',\n",
       "           'value': 'http://scanflow-tracker-service.scanflow-system.svc.cluster.local'},\n",
       "          {'name': 'SCANFLOW_SERVER_URI',\n",
       "           'value': 'http://scanflow-server-service.scanflow-system.svc.cluster.local'},\n",
       "          {'name': 'SCANFLOW_TRACKER_LOCAL_URI',\n",
       "           'value': 'http://scanflow-tracker.scanflow-mlperf-dataengineer.svc.cluster.local'}],\n",
       "         'image': '172.30.0.49:5000/postprocessing-online:latest',\n",
       "         'name': 'postprocessing-online',\n",
       "         'volumeMounts': [{'mountPath': '/scanflow',\n",
       "           'name': 'scanflowpath'}]}],\n",
       "       'volumes': [{'name': 'scanflowpath',\n",
       "         'persistentVolumeClaim': {'claimName': 'scanflow-scanflow-mlperf-dataengineer'}}]}}],\n",
       "    'graph': {'children': [{'children': [{'endpoint': {'type': 'GRPC'},\n",
       "         'name': 'postprocessing-online',\n",
       "         'parameters': [{'name': 'mlflow_log',\n",
       "           'type': 'STRING',\n",
       "           'value': 'mlfloe'}],\n",
       "         'type': 'MODEL'}],\n",
       "       'endpoint': {'type': 'GRPC'},\n",
       "       'envSecretRefName': 'scanflow-secret',\n",
       "       'implementation': 'TENSORFLOW_SERVER',\n",
       "       'modelUri': 's3://scanflow/scanflow-mlperf-dataengineer/1/fde8c5e912a84b8385e1154053c3e759/artifacts/mlperf-resnet/model',\n",
       "       'name': 'predictor-online',\n",
       "       'parameters': [{'name': 'model_name',\n",
       "         'type': 'STRING',\n",
       "         'value': 'predictor-online'},\n",
       "        {'name': 'model_input', 'type': 'STRING', 'value': 'input_image'},\n",
       "        {'name': 'model_output',\n",
       "         'type': 'STRING',\n",
       "         'value': 'predictions/Softmax:0'}]}],\n",
       "     'endpoint': {'type': 'GRPC'},\n",
       "     'name': 'preprocessing-online',\n",
       "     'type': 'TRANSFORMER'},\n",
       "    'name': 'online-inference-graph',\n",
       "    'replicas': 1}]}}"
      ]
     },
     "execution_count": 14,
     "metadata": {},
     "output_type": "execute_result"
    }
   ],
   "source": [
    "await deployerClient.deploy_workflow(app_name='mlperf', \n",
    "                                  team_name='dataengineer',\n",
    "                                  workflow = build_app.workflows[3])"
   ]
  },
  {
   "cell_type": "markdown",
   "id": "6c2fea88-be92-4850-8335-ae03988b9aa1",
   "metadata": {},
   "source": [
    "[online-inference-single]http://172.30.0.53:40000/seldon/scanflow-mlperf-dataengineer/online-inference-graph/api/v1.0/doc/#/\n",
    "\n",
    "1. server: 172.30.0.50:40000\n",
    "2. namespace: scanflow-mlperf-dataengineer\n",
    "3. deployment: online-inference-graph"
   ]
  },
  {
   "cell_type": "code",
   "execution_count": 14,
   "id": "01e0d9b0-0619-4d9d-bb1d-2eae1282dabc",
   "metadata": {},
   "outputs": [
    {
     "data": {
      "image/png": "[encoded data removed]",
      "text/plain": [
       "<IPython.core.display.Image object>"
      ]
     },
     "execution_count": 14,
     "metadata": {
      "image/png": {
       "height": 400,
       "width": 800
      }
     },
     "output_type": "execute_result"
    }
   ],
   "source": [
    "from IPython.display import Image\n",
    "Image(\"/gpfs/bsc_home/xpliu/pv/jupyterhubpeini/scanflow/images/mlperf/online-inference-graph.PNG\", width=800, height=400)"
   ]
  },
  {
   "cell_type": "code",
   "execution_count": 16,
   "id": "2b2e4708-5b7a-4910-8a46-51e487e08edc",
   "metadata": {},
   "outputs": [
    {
     "data": {
      "text/plain": [
       "True"
      ]
     },
     "execution_count": 16,
     "metadata": {},
     "output_type": "execute_result"
    }
   ],
   "source": [
    "await deployerClient.delete_workflow(app_name='mlperf', \n",
    "                                  team_name='dataengineer',\n",
    "                                  workflow = build_app.workflows[3])"
   ]
  },
  {
   "cell_type": "code",
   "execution_count": null,
   "id": "8ec23aa8-f133-4110-9d97-5a586c647b10",
   "metadata": {},
   "outputs": [],
   "source": []
  },
  {
   "cell_type": "code",
   "execution_count": null,
   "id": "7be63888-7180-4ee2-99cc-84df9501e933",
   "metadata": {},
   "outputs": [],
   "source": []
  },
  {
   "cell_type": "code",
   "execution_count": null,
   "id": "0cf1bde2-b8d3-4929-89fa-aa1db490dd7a",
   "metadata": {},
   "outputs": [],
   "source": []
  },
  {
   "cell_type": "code",
   "execution_count": 16,
   "id": "5aab6224-75f5-499c-886a-0c8f9ad13d33",
   "metadata": {},
   "outputs": [
    {
     "name": "stderr",
     "output_type": "stream",
     "text": [
      "24-Jun-21 18:55:21 -  INFO - [++] Stopping tracker: [scanflow-tracker].\n",
      "24-Jun-21 18:55:21 -  INFO - delete_deployment true\n",
      "24-Jun-21 18:55:21 -  INFO - delete_service true\n",
      "24-Jun-21 18:55:21 -  INFO - [++]Delete tracker configmap scanflow-tracker-env\n",
      "24-Jun-21 18:55:21 -  INFO - delete_configmap true\n",
      "24-Jun-21 18:55:21 -  INFO - [++]Delete client configmap scanflow-client-env\n",
      "24-Jun-21 18:55:21 -  INFO - delete_configmap true\n",
      "24-Jun-21 18:55:21 -  INFO - [++]Delete s3 secret scanflow-secret\n",
      "24-Jun-21 18:55:21 -  INFO - delete_secret true\n",
      "24-Jun-21 18:55:21 -  INFO - [++]Delete rolebinding default-admin\n",
      "24-Jun-21 18:55:21 -  INFO - delete_rolebinding info\n",
      "24-Jun-21 18:55:21 -  INFO - [++]Delete namespace \"scanflow-mlperf-dataengineer\"\n",
      "24-Jun-21 18:55:21 -  INFO - delete_namespace true\n",
      "24-Jun-21 18:55:21 -  INFO - delete_pvc true\n",
      "24-Jun-21 18:55:21 -  INFO - delete_pv true\n"
     ]
    },
    {
     "data": {
      "text/plain": [
       "True"
      ]
     },
     "execution_count": 16,
     "metadata": {},
     "output_type": "execute_result"
    }
   ],
   "source": [
    "await deployerClient.clean_environment(app=build_app)"
   ]
  },
  {
   "cell_type": "code",
   "execution_count": null,
   "id": "b5498007-27b0-4402-ba9b-4738c6fdd11f",
   "metadata": {},
   "outputs": [],
   "source": []
  }
 ],
 "metadata": {
  "kernelspec": {
   "display_name": "Python 3",
   "language": "python",
   "name": "python3"
  },
  "language_info": {
   "codemirror_mode": {
    "name": "ipython",
    "version": 3
   },
   "file_extension": ".py",
   "mimetype": "text/x-python",
   "name": "python",
   "nbconvert_exporter": "python",
   "pygments_lexer": "ipython3",
   "version": "3.8.5"
  }
 },
 "nbformat": 4,
 "nbformat_minor": 5
}
