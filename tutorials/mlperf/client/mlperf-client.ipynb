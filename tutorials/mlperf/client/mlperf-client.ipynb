{
 "cells": [
  {
   "cell_type": "code",
   "execution_count": null,
   "id": "6cb44064-b899-4a35-af0f-9a6e423e73ad",
   "metadata": {},
   "outputs": [],
   "source": []
  },
  {
   "cell_type": "code",
   "execution_count": 14,
   "id": "70400eeb-c5d7-4102-bc95-bf0b5de7f403",
   "metadata": {},
   "outputs": [],
   "source": [
    "import tensorflow as tf\n",
    "model = tf.saved_model.load(\"../model/1\", tags=None, options=None)"
   ]
  },
  {
   "cell_type": "code",
   "execution_count": 15,
   "id": "b528d772-f6e8-49dc-87fe-95af7dfbd0ce",
   "metadata": {},
   "outputs": [
    {
     "name": "stdout",
     "output_type": "stream",
     "text": [
      "['serving_default']\n"
     ]
    }
   ],
   "source": [
    "signatures = list(model.signatures.keys())\n",
    "print(signatures)"
   ]
  },
  {
   "cell_type": "code",
   "execution_count": 16,
   "id": "af908628-d0c8-415e-889b-0fbb7e74058d",
   "metadata": {},
   "outputs": [
    {
     "name": "stdout",
     "output_type": "stream",
     "text": [
      "<ConcreteFunction pruned(input_image) at 0x2B32A40C5DF0>\n"
     ]
    }
   ],
   "source": [
    "##Tips: the parameter model_name,input,output should be the same as defined inside signature.\n",
    "infer = model.signatures['serving_default']\n",
    "print(infer)"
   ]
  },
  {
   "cell_type": "code",
   "execution_count": null,
   "id": "e89235d8-f007-4b6a-b48b-206c9c4a908f",
   "metadata": {},
   "outputs": [],
   "source": []
  },
  {
   "cell_type": "code",
   "execution_count": null,
   "id": "f48a8f35-f305-4e56-8e0f-92956fec4f2f",
   "metadata": {},
   "outputs": [],
   "source": [
    "sudo cp -r data_imagenet/ /gpfs/bsc_home/xpliu/pv/scanflow-output/batch-inference-single-output/\n",
    "sudo cp -r data_imagenet/ /gpfs/bsc_home/xpliu/pv/scanflow-output/batch-inference-graph-output/"
   ]
  }
 ],
 "metadata": {
  "kernelspec": {
   "display_name": "Python 3",
   "language": "python",
   "name": "python3"
  },
  "language_info": {
   "codemirror_mode": {
    "name": "ipython",
    "version": 3
   },
   "file_extension": ".py",
   "mimetype": "text/x-python",
   "name": "python",
   "nbconvert_exporter": "python",
   "pygments_lexer": "ipython3",
   "version": "3.8.5"
  }
 },
 "nbformat": 4,
 "nbformat_minor": 5
}
