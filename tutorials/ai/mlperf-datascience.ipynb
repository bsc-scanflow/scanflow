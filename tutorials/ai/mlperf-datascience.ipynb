{
 "cells": [
  {
   "cell_type": "markdown",
   "id": "3e5060d8-025f-45c6-9d8b-be1bf425daa8",
   "metadata": {},
   "source": [
    "# Mlperf model"
   ]
  },
  {
   "cell_type": "code",
   "execution_count": 2,
   "id": "9893452e",
   "metadata": {},
   "outputs": [
    {
     "name": "stdout",
     "output_type": "stream",
     "text": [
      "2.4.1\n"
     ]
    }
   ],
   "source": [
    "import os\n",
    "\n",
    "import tensorflow as tf\n",
    "from tensorflow import keras\n",
    "\n",
    "print(tf.version.VERSION)"
   ]
  },
  {
   "cell_type": "markdown",
   "id": "d9c4d3be",
   "metadata": {},
   "source": [
    "### vision"
   ]
  },
  {
   "cell_type": "code",
   "execution_count": null,
   "id": "9888efd5",
   "metadata": {},
   "outputs": [],
   "source": []
  },
  {
   "cell_type": "code",
   "execution_count": 2,
   "id": "9760af1a",
   "metadata": {},
   "outputs": [
    {
     "name": "stdout",
     "output_type": "stream",
     "text": [
      "INFO:tensorflow:Assets written to: /gpfs/bsc_home/xpliu/pv/jupyterhubpeini/scanflow/tutorials/ai/model/resnet/tf/model/0/assets\n"
     ]
    }
   ],
   "source": [
    "from tensorflow.keras.applications.resnet50 import ResNet50\n",
    "import tensorflow as tf\n",
    "import os\n",
    "import logging\n",
    "\n",
    "# import sys\n",
    "# sys.path.insert(0,'../..')\n",
    "\n",
    "\n",
    "model = ResNet50(\n",
    "    weights=\"imagenet\"\n",
    ")\n",
    "tf.saved_model.save(model, \"/gpfs/bsc_home/xpliu/pv/jupyterhubpeini/scanflow/tutorials/ai/model/resnet/tf/model/0\")\n",
    "\n"
   ]
  },
  {
   "cell_type": "code",
   "execution_count": 7,
   "id": "0b49e1b0-c77a-43cb-82ee-0e9aa58b3c6b",
   "metadata": {},
   "outputs": [
    {
     "name": "stdout",
     "output_type": "stream",
     "text": [
      "Downloading data from https://storage.googleapis.com/tensorflow/keras-applications/vgg16/vgg16_weights_tf_dim_ordering_tf_kernels.h5\n",
      "553467904/553467096 [==============================] - 63s 0us/step\n",
      "INFO:tensorflow:Assets written to: /gpfs/bsc_home/xpliu/pv/jupyterhubpeini/scanflow/tutorials/ai/model/vgg16/tf/model/0/assets\n"
     ]
    }
   ],
   "source": [
    "from tensorflow.keras.applications.vgg16 import VGG16\n",
    "import tensorflow as tf\n",
    "import os\n",
    "import logging\n",
    "\n",
    "# import sys\n",
    "# sys.path.insert(0,'../..')\n",
    "\n",
    "\n",
    "model = VGG16(\n",
    "    weights=\"imagenet\"\n",
    ")\n",
    "tf.saved_model.save(model, \"/gpfs/bsc_home/xpliu/pv/jupyterhubpeini/scanflow/tutorials/ai/model/vgg16/tf/model/0\")\n",
    "\n"
   ]
  },
  {
   "cell_type": "code",
   "execution_count": 8,
   "id": "6d7b48b2",
   "metadata": {},
   "outputs": [
    {
     "name": "stdout",
     "output_type": "stream",
     "text": [
      "Downloading data from https://storage.googleapis.com/tensorflow/keras-applications/vgg19/vgg19_weights_tf_dim_ordering_tf_kernels.h5\n",
      "574717952/574710816 [==============================] - 58s 0us/step\n",
      "INFO:tensorflow:Assets written to: /gpfs/bsc_home/xpliu/pv/jupyterhubpeini/scanflow/tutorials/ai/model/vgg19/tf/model/0/assets\n"
     ]
    }
   ],
   "source": [
    "from tensorflow.keras.applications.vgg19 import VGG19\n",
    "import tensorflow as tf\n",
    "import os\n",
    "import logging\n",
    "\n",
    "# import sys\n",
    "# sys.path.insert(0,'../..')\n",
    "\n",
    "\n",
    "model = VGG19(\n",
    "    weights=\"imagenet\"\n",
    ")\n",
    "tf.saved_model.save(model, \"/gpfs/bsc_home/xpliu/pv/jupyterhubpeini/scanflow/tutorials/ai/model/vgg19/tf/model/0\")\n",
    "\n"
   ]
  },
  {
   "cell_type": "code",
   "execution_count": 9,
   "id": "6186b833",
   "metadata": {},
   "outputs": [
    {
     "name": "stdout",
     "output_type": "stream",
     "text": [
      "INFO:tensorflow:Assets written to: /gpfs/bsc_home/xpliu/pv/jupyterhubpeini/scanflow/tutorials/ai/model/mobilenet/tf/model/0/assets\n"
     ]
    }
   ],
   "source": [
    "from tensorflow.keras.applications.mobilenet import MobileNet\n",
    "import tensorflow as tf\n",
    "import os\n",
    "import logging\n",
    "\n",
    "# import sys\n",
    "# sys.path.insert(0,'../..')\n",
    "\n",
    "\n",
    "model = MobileNet(\n",
    "    weights=\"imagenet\"\n",
    ")\n",
    "tf.saved_model.save(model, \"/gpfs/bsc_home/xpliu/pv/jupyterhubpeini/scanflow/tutorials/ai/model/mobilenet/tf/model/0\")\n",
    "\n"
   ]
  },
  {
   "cell_type": "markdown",
   "id": "a9490857",
   "metadata": {},
   "source": [
    "### object detection"
   ]
  },
  {
   "cell_type": "code",
   "execution_count": null,
   "id": "6b3e1951",
   "metadata": {},
   "outputs": [],
   "source": [
    "from tensorflow.keras.applications.mobilenet import MobileNet\n",
    "import tensorflow as tf\n",
    "import os\n",
    "import logging\n",
    "\n",
    "# import sys\n",
    "# sys.path.insert(0,'../..')\n",
    "\n",
    "\n",
    "model = MobileNet(\n",
    "    weights=\"imagenet\"\n",
    ")\n",
    "tf.saved_model.save(model, \"/gpfs/bsc_home/xpliu/pv/jupyterhubpeini/scanflow/tutorials/ai/model/mobilenet/tf/model/0\")\n",
    "\n"
   ]
  }
 ],
 "metadata": {
  "kernelspec": {
   "display_name": "Python 3",
   "language": "python",
   "name": "python3"
  },
  "language_info": {
   "codemirror_mode": {
    "name": "ipython",
    "version": 3
   },
   "file_extension": ".py",
   "mimetype": "text/x-python",
   "name": "python",
   "nbconvert_exporter": "python",
   "pygments_lexer": "ipython3",
   "version": "3.8.5"
  }
 },
 "nbformat": 4,
 "nbformat_minor": 5
}
