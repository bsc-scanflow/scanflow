{
 "cells": [
  {
   "cell_type": "markdown",
   "metadata": {},
   "source": [
    "# Mnist-Client\n",
    "\n",
    "****User****: \n",
    "- *Call Batch Inference*\n",
    "    1. Upload a bunch of data to a directory\n",
    "    2. data directory as a parameter to the batch inference\n",
    "    3. run batch-inference workflow\n",
    "- *Call Online Inference*\n",
    "    1. Prepare a single data\n",
    "    2. send request to online-inference by using seldonclient"
   ]
  },
  {
   "cell_type": "markdown",
   "metadata": {},
   "source": [
    "## Batch-inference Client\n",
    "\n",
    "for batch-inference client, client similar as we did in dataengineer team, client could call 'run_workflow'."
   ]
  },
  {
   "cell_type": "code",
   "execution_count": 16,
   "metadata": {},
   "outputs": [
    {
     "name": "stderr",
     "output_type": "stream",
     "text": [
      "25-May-21 15:58:22 -  INFO - [+] output dir /workflow\n",
      "25-May-21 15:58:22 -  INFO - [+] Create batch-inference output PV\n",
      "25-May-21 15:58:22 -  INFO - create_pv true\n",
      "25-May-21 15:58:22 -  INFO - [+] Create batch-inference output PVC\n",
      "25-May-21 15:58:22 -  INFO - create_pvc true\n",
      "25-May-21 15:58:22 -  INFO - output dir created\n",
      "25-May-21 15:58:22 -  INFO - env for executor {'AWS_ACCESS_KEY_ID': 'admin', 'AWS_SECRET_ACCESS_KEY': 'admin123', 'MLFLOW_S3_ENDPOINT_URL': 'http://minio.minio-system.svc.cluster.local:9000', 'SCANFLOW_TRACKER_URI': 'http://scanflow-tracker-service.scanflow-system.svc.cluster.local', 'SCANFLOW_SERVER_URI': 'http://scanflow-server-service.scanflow-system.svc.cluster.local', 'SCANFLOW_TRACKER_LOCAL_URI': 'http://scanflow-tracker.scanflow-mnist-dataengineer.svc.cluster.local'}\n",
      "25-May-21 15:58:22 -  INFO - [+] Building workflow: [batch-inference:load-data].\n",
      "25-May-21 15:58:22 -  INFO - ['--app_name', 'mnist', '--team_name', 'data']\n",
      "25-May-21 15:58:22 -  INFO - [+] Building workflow: [batch-inference:predictor-batch].\n",
      "25-May-21 15:58:22 -  INFO - ['--model_name', 'mnist_cnn', '--input_data', '/workflow/load-data/mnist/data/mnist_sample/test_images.npy']\n",
      "25-May-21 15:58:22 -  INFO - [+] Building workflow: [batch-inference- dependencies]\n",
      "25-May-21 15:58:22 -  INFO - [+] Building workflow: [batch-inference- dag]\n",
      "25-May-21 15:58:22 -  INFO - Found local kubernetes config. Initialized with kube_config.\n",
      "25-May-21 15:58:22 -  INFO - Checking workflow name/generatedName batch-inference\n",
      "25-May-21 15:58:22 -  INFO - Submitting workflow to Argo\n",
      "25-May-21 15:58:22 -  INFO - Workflow batch-inference has been submitted in \"scanflow-mnist-dataengineer\" namespace!\n",
      "25-May-21 15:58:22 -  INFO - [+++] Workflow: [batch-inference] has been submitted to argo {'apiVersion': 'argoproj.io/v1alpha1', 'kind': 'Workflow', 'metadata': {'creationTimestamp': '2021-05-25T13:58:22Z', 'generation': 1, 'managedFields': [{'apiVersion': 'argoproj.io/v1alpha1', 'fieldsType': 'FieldsV1', 'fieldsV1': {'f:spec': {'.': {}, 'f:activeDeadlineSeconds': {}, 'f:entrypoint': {}, 'f:templates': {}, 'f:ttlSecondsAfterFinished': {}, 'f:volumes': {}}}, 'manager': 'OpenAPI-Generator', 'operation': 'Update', 'time': '2021-05-25T13:58:22Z'}], 'name': 'batch-inference', 'namespace': 'scanflow-mnist-dataengineer', 'resourceVersion': '44766998', 'selfLink': '/apis/argoproj.io/v1alpha1/namespaces/scanflow-mnist-dataengineer/workflows/batch-inference', 'uid': '73ef5d5e-228b-4993-ae69-332e6b69c3a5'}, 'spec': {'activeDeadlineSeconds': 3600, 'entrypoint': 'batch-inference', 'templates': [{'dag': {'tasks': [{'arguments': {'parameters': [{'name': 'para-load-data-0', 'value': '--app_name'}, {'name': 'para-load-data-1', 'value': 'mnist'}, {'name': 'para-load-data-2', 'value': '--team_name'}, {'name': 'para-load-data-3', 'value': 'data'}]}, 'name': 'load-data', 'template': 'load-data'}, {'arguments': {'parameters': [{'name': 'para-predictor-batch-0', 'value': '--model_name'}, {'name': 'para-predictor-batch-1', 'value': 'mnist_cnn'}, {'name': 'para-predictor-batch-2', 'value': '--input_data'}, {'name': 'para-predictor-batch-3', 'value': '/workflow/load-data/mnist/data/mnist_sample/test_images.npy'}]}, 'dependencies': ['load-data'], 'name': 'predictor-batch', 'template': 'predictor-batch'}]}, 'name': 'batch-inference'}, {'container': {'args': ['{{inputs.parameters.para-load-data-0}}', '{{inputs.parameters.para-load-data-1}}', '{{inputs.parameters.para-load-data-2}}', '{{inputs.parameters.para-load-data-3}}'], 'command': None, 'env': [{'name': 'AWS_ACCESS_KEY_ID', 'value': 'admin'}, {'name': 'AWS_SECRET_ACCESS_KEY', 'value': 'admin123'}, {'name': 'MLFLOW_S3_ENDPOINT_URL', 'value': 'http://minio.minio-system.svc.cluster.local:9000'}, {'name': 'SCANFLOW_TRACKER_URI', 'value': 'http://scanflow-tracker-service.scanflow-system.svc.cluster.local'}, {'name': 'SCANFLOW_SERVER_URI', 'value': 'http://scanflow-server-service.scanflow-system.svc.cluster.local'}, {'name': 'SCANFLOW_TRACKER_LOCAL_URI', 'value': 'http://scanflow-tracker.scanflow-mnist-dataengineer.svc.cluster.local'}], 'image': '172.30.0.49:5000/load-data:latest', 'volumeMounts': [{'mountPath': '/workflow', 'name': 'outputpath'}, {'mountPath': '/scanflow', 'name': 'scanflowpath'}]}, 'inputs': {'parameters': [{'name': 'para-load-data-0'}, {'name': 'para-load-data-1'}, {'name': 'para-load-data-2'}, {'name': 'para-load-data-3'}]}, 'name': 'load-data', 'volumes': []}, {'container': {'args': ['{{inputs.parameters.para-predictor-batch-0}}', '{{inputs.parameters.para-predictor-batch-1}}', '{{inputs.parameters.para-predictor-batch-2}}', '{{inputs.parameters.para-predictor-batch-3}}'], 'command': None, 'env': [{'name': 'AWS_ACCESS_KEY_ID', 'value': 'admin'}, {'name': 'AWS_SECRET_ACCESS_KEY', 'value': 'admin123'}, {'name': 'MLFLOW_S3_ENDPOINT_URL', 'value': 'http://minio.minio-system.svc.cluster.local:9000'}, {'name': 'SCANFLOW_TRACKER_URI', 'value': 'http://scanflow-tracker-service.scanflow-system.svc.cluster.local'}, {'name': 'SCANFLOW_SERVER_URI', 'value': 'http://scanflow-server-service.scanflow-system.svc.cluster.local'}, {'name': 'SCANFLOW_TRACKER_LOCAL_URI', 'value': 'http://scanflow-tracker.scanflow-mnist-dataengineer.svc.cluster.local'}], 'image': '172.30.0.49:5000/predictor-batch:latest', 'volumeMounts': [{'mountPath': '/workflow', 'name': 'outputpath'}, {'mountPath': '/scanflow', 'name': 'scanflowpath'}]}, 'inputs': {'parameters': [{'name': 'para-predictor-batch-0'}, {'name': 'para-predictor-batch-1'}, {'name': 'para-predictor-batch-2'}, {'name': 'para-predictor-batch-3'}]}, 'name': 'predictor-batch', 'volumes': []}], 'ttlSecondsAfterFinished': 5400, 'volumes': [{'name': 'outputpath', 'persistentVolumeClaim': {'claimName': 'batch-inference'}}, {'name': 'scanflowpath', 'persistentVolumeClaim': {'claimName': 'scanflow-scanflow-mnist-dataengineer'}}]}}\n"
     ]
    },
    {
     "name": "stdout",
     "output_type": "stream",
     "text": [
      "OrderedDict([('apiVersion', 'argoproj.io/v1alpha1'), ('kind', 'Workflow'), ('metadata', {'name': 'batch-inference'}), ('spec', {'entrypoint': 'batch-inference', 'volumes': [OrderedDict([('name', 'outputpath'), ('persistentVolumeClaim', {'claimName': 'batch-inference'})]), OrderedDict([('name', 'scanflowpath'), ('persistentVolumeClaim', {'claimName': 'scanflow-scanflow-mnist-dataengineer'})])], 'templates': [OrderedDict([('name', 'batch-inference'), ('dag', {'tasks': [OrderedDict([('name', 'load-data'), ('template', 'load-data'), ('arguments', OrderedDict([('parameters', [{'name': 'para-load-data-0', 'value': '--app_name'}, {'name': 'para-load-data-1', 'value': 'mnist'}, {'name': 'para-load-data-2', 'value': '--team_name'}, {'name': 'para-load-data-3', 'value': 'data'}])]))]), OrderedDict([('name', 'predictor-batch'), ('dependencies', ['load-data']), ('template', 'predictor-batch'), ('arguments', OrderedDict([('parameters', [{'name': 'para-predictor-batch-0', 'value': '--model_name'}, {'name': 'para-predictor-batch-1', 'value': 'mnist_cnn'}, {'name': 'para-predictor-batch-2', 'value': '--input_data'}, {'name': 'para-predictor-batch-3', 'value': '/workflow/load-data/mnist/data/mnist_sample/test_images.npy'}])]))])]})]), OrderedDict([('name', 'load-data'), ('inputs', OrderedDict([('parameters', [{'name': 'para-load-data-0'}, {'name': 'para-load-data-1'}, {'name': 'para-load-data-2'}, {'name': 'para-load-data-3'}])])), ('container', OrderedDict([('image', '172.30.0.49:5000/load-data:latest'), ('command', None), ('args', ['\"{{inputs.parameters.para-load-data-0}}\"', '\"{{inputs.parameters.para-load-data-1}}\"', '\"{{inputs.parameters.para-load-data-2}}\"', '\"{{inputs.parameters.para-load-data-3}}\"']), ('env', [{'name': 'AWS_ACCESS_KEY_ID', 'value': 'admin'}, {'name': 'AWS_SECRET_ACCESS_KEY', 'value': 'admin123'}, {'name': 'MLFLOW_S3_ENDPOINT_URL', 'value': 'http://minio.minio-system.svc.cluster.local:9000'}, {'name': 'SCANFLOW_TRACKER_URI', 'value': 'http://scanflow-tracker-service.scanflow-system.svc.cluster.local'}, {'name': 'SCANFLOW_SERVER_URI', 'value': 'http://scanflow-server-service.scanflow-system.svc.cluster.local'}, {'name': 'SCANFLOW_TRACKER_LOCAL_URI', 'value': 'http://scanflow-tracker.scanflow-mnist-dataengineer.svc.cluster.local'}]), ('volumeMounts', [OrderedDict([('name', 'outputpath'), ('mountPath', '/workflow')]), OrderedDict([('name', 'scanflowpath'), ('mountPath', '/scanflow')])])])), ('volumes', [])]), OrderedDict([('name', 'predictor-batch'), ('inputs', OrderedDict([('parameters', [{'name': 'para-predictor-batch-0'}, {'name': 'para-predictor-batch-1'}, {'name': 'para-predictor-batch-2'}, {'name': 'para-predictor-batch-3'}])])), ('container', OrderedDict([('image', '172.30.0.49:5000/predictor-batch:latest'), ('command', None), ('args', ['\"{{inputs.parameters.para-predictor-batch-0}}\"', '\"{{inputs.parameters.para-predictor-batch-1}}\"', '\"{{inputs.parameters.para-predictor-batch-2}}\"', '\"{{inputs.parameters.para-predictor-batch-3}}\"']), ('env', [{'name': 'AWS_ACCESS_KEY_ID', 'value': 'admin'}, {'name': 'AWS_SECRET_ACCESS_KEY', 'value': 'admin123'}, {'name': 'MLFLOW_S3_ENDPOINT_URL', 'value': 'http://minio.minio-system.svc.cluster.local:9000'}, {'name': 'SCANFLOW_TRACKER_URI', 'value': 'http://scanflow-tracker-service.scanflow-system.svc.cluster.local'}, {'name': 'SCANFLOW_SERVER_URI', 'value': 'http://scanflow-server-service.scanflow-system.svc.cluster.local'}, {'name': 'SCANFLOW_TRACKER_LOCAL_URI', 'value': 'http://scanflow-tracker.scanflow-mnist-dataengineer.svc.cluster.local'}]), ('volumeMounts', [OrderedDict([('name', 'outputpath'), ('mountPath', '/workflow')]), OrderedDict([('name', 'scanflowpath'), ('mountPath', '/scanflow')])])])), ('volumes', [])])], 'activeDeadlineSeconds': 3600, 'ttlSecondsAfterFinished': 5400.0})])\n"
     ]
    },
    {
     "data": {
      "text/plain": [
       "True"
      ]
     },
     "execution_count": 16,
     "metadata": {},
     "output_type": "execute_result"
    }
   ],
   "source": [
    "await deployerClient.run_workflow(app_name='mnist', \n",
    "                                  team_name='dataengineer',\n",
    "                                  workflow = build_app.workflows[0])"
   ]
  },
  {
   "cell_type": "markdown",
   "metadata": {},
   "source": [
    "## Online-inference Client\n",
    "\n",
    "for online-inference client, client uses seldonClient to send requests."
   ]
  },
  {
   "cell_type": "code",
   "execution_count": 26,
   "metadata": {},
   "outputs": [],
   "source": [
    "from seldon_core.seldon_client import SeldonClient\n",
    "import tensorflow as tf"
   ]
  },
  {
   "cell_type": "code",
   "execution_count": 292,
   "metadata": {},
   "outputs": [],
   "source": [
    "model = tf.saved_model.load(\"model\", tags=None, options=None)"
   ]
  },
  {
   "cell_type": "code",
   "execution_count": 293,
   "metadata": {},
   "outputs": [
    {
     "name": "stdout",
     "output_type": "stream",
     "text": [
      "['serving_default']\n"
     ]
    }
   ],
   "source": [
    "signatures = list(model.signatures.keys())\n",
    "print(signatures)"
   ]
  },
  {
   "cell_type": "code",
   "execution_count": 294,
   "metadata": {},
   "outputs": [
    {
     "name": "stdout",
     "output_type": "stream",
     "text": [
      "ConcreteFunction signature_wrapper(*, input_1)\n",
      "  Args:\n",
      "    input_1: float32 Tensor, shape=(None, 28, 28, 1)\n",
      "  Returns:\n",
      "    {'dense_1': <1>}\n",
      "      <1>: float32 Tensor, shape=(None, 10)\n"
     ]
    }
   ],
   "source": [
    "##Tips: the parameter model_name,input,output should be the same as defined inside signature.\n",
    "infer = model.signatures['serving_default']\n",
    "print(infer)"
   ]
  },
  {
   "cell_type": "code",
   "execution_count": 32,
   "metadata": {},
   "outputs": [],
   "source": [
    "sc = SeldonClient(deployment_name=\"online-inference\", \\\n",
    "                  namespace=\"scanflow-mnist-dataengineer\", \\\n",
    "                  gateway=\"istio\", \\\n",
    "                  gateway_endpoint=\"172.30.0.50:40000\", payload_type='tftensor', transport=\"grpc\", \\\n",
    "                  client_return_type=\"proto\", \\\n",
    "                  grpc_max_send_message_length=419430400, grpc_max_receive_message_length=419430400)"
   ]
  },
  {
   "cell_type": "code",
   "execution_count": 4,
   "metadata": {},
   "outputs": [
    {
     "name": "stdout",
     "output_type": "stream",
     "text": [
      "(1, 28, 28)\n"
     ]
    },
    {
     "data": {
      "image/png": "[encoded data removed]",
      "text/plain": [
       "<Figure size 432x288 with 1 Axes>"
      ]
     },
     "metadata": {
      "needs_background": "light"
     },
     "output_type": "display_data"
    }
   ],
   "source": [
    "from PIL import Image \n",
    "import numpy as np\n",
    "import matplotlib.pyplot as plt\n",
    "\n",
    "image_shape = (28,28)\n",
    "img = Image.open(\"0-0.png\")\n",
    "plt.imshow(img)\n",
    "img = np.expand_dims(img.resize(image_shape), axis=0)\n",
    "img = np.asarray(img, dtype='float32')\n",
    "# print(img)\n",
    "print(img.shape)"
   ]
  },
  {
   "cell_type": "code",
   "execution_count": 51,
   "metadata": {},
   "outputs": [
    {
     "name": "stdout",
     "output_type": "stream",
     "text": [
      "(1, 28, 28, 1)\n"
     ]
    }
   ],
   "source": [
    "imagereshape = img.reshape(1, 28, 28, 1)\n",
    "print(imagereshape.shape)"
   ]
  },
  {
   "cell_type": "code",
   "execution_count": 53,
   "metadata": {},
   "outputs": [],
   "source": [
    "r = sc.predict(data=imagereshape)\n",
    "# print(r)\n",
    "preds = tf.make_ndarray(r.response.data.tftensor)"
   ]
  },
  {
   "cell_type": "code",
   "execution_count": 54,
   "metadata": {},
   "outputs": [
    {
     "name": "stdout",
     "output_type": "stream",
     "text": [
      "[[1. 0. 0. 0. 0. 0. 0. 0. 0. 0.]]\n"
     ]
    }
   ],
   "source": [
    "print(preds)"
   ]
  },
  {
   "cell_type": "code",
   "execution_count": null,
   "metadata": {},
   "outputs": [],
   "source": []
  },
  {
   "cell_type": "code",
   "execution_count": null,
   "metadata": {},
   "outputs": [],
   "source": []
  }
 ],
 "metadata": {
  "kernelspec": {
   "display_name": "Python 3",
   "language": "python",
   "name": "python3"
  },
  "language_info": {
   "codemirror_mode": {
    "name": "ipython",
    "version": 3
   },
   "file_extension": ".py",
   "mimetype": "text/x-python",
   "name": "python",
   "nbconvert_exporter": "python",
   "pygments_lexer": "ipython3",
   "version": "3.8.5"
  }
 },
 "nbformat": 4,
 "nbformat_minor": 4
}
