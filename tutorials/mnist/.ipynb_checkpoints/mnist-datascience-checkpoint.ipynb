{
 "cells": [
  {
   "cell_type": "markdown",
   "metadata": {},
   "source": [
    "# Mnist DataScience (Training Stage)"
   ]
  },
  {
   "cell_type": "code",
   "execution_count": 3,
   "metadata": {},
   "outputs": [
    {
     "name": "stdout",
     "output_type": "stream",
     "text": [
      "http://172.30.0.50:46666\n",
      "http://172.30.0.50:46667\n"
     ]
    }
   ],
   "source": [
    "from scanflow.tools import env\n",
    "print(env.get_env(\"SCANFLOW_SERVER_URI\"))\n",
    "print(env.get_env(\"SCANFLOW_TRACKER_URI\"))"
   ]
  },
  {
   "cell_type": "code",
   "execution_count": 1,
   "metadata": {},
   "outputs": [
    {
     "name": "stderr",
     "output_type": "stream",
     "text": [
      "26-Apr-21 10:01:15 -  INFO - loading kubernetes configuration from /gpfs/bsc_home/xpliu/.kube/config\n",
      "26-Apr-21 10:01:15 -  INFO - found local kubernetes configuration\n"
     ]
    }
   ],
   "source": [
    "import sys\n",
    "import matplotlib.pyplot as plt\n",
    "import os\n",
    "sys.path.insert(0,'../..')\n",
    "\n",
    "import scanflow\n",
    "from scanflow.client import ScanflowClient\n",
    "from scanflow.client import ScanflowTrackerClient\n",
    "from scanflow.client import ScanflowDeployerClient\n",
    "\n",
    "# App folder\n",
    "scanflow_path = \"/gpfs/bsc_home/xpliu/pv/jupyterhubpeini/scanflow\"\n",
    "app_dir = os.path.join(scanflow_path, \"examples/mnist/datascience\")\n",
    "app_name = \"mnist\"\n",
    "team_name = \"datascience\"\n",
    "\n",
    "# scanflow client\n",
    "client = ScanflowClient(#scanflow_server_uri=\"http://172.30.0.50:46666\",\n",
    "                        verbose=True)\n",
    "trackerClient = ScanflowTrackerClient(#scanflow_tracker_uri=\"http://172.30.0.50:46667\",\n",
    "                        verbose=True)\n",
    "deployerClient = ScanflowDeployerClient(user_type=\"local\",\n",
    "                                        deployer=\"argo\",\n",
    "                                        k8s_config_file=\"/gpfs/bsc_home/xpliu/.kube/config\")"
   ]
  },
  {
   "cell_type": "markdown",
   "metadata": {},
   "source": [
    "## 1. Develop scanflow application (local)\n",
    "\n",
    "  1. develop component (requirement.txt, script.py)\n",
    "  2. define scanflow application (Executor, Dependency, Workflow, Application)\n",
    "  ```bash\n",
    "     Application\n",
    "        - List: Workflow(DAG)\n",
    "                  - List: Executor\n",
    "                  - List: Dependency\n",
    "  ```\n",
    "  \n",
    "     For example:\n",
    "     \n",
    "  ```bash\n",
    "  mnist\n",
    "    - workflows\n",
    "       - load_data\n",
    "         - loaddata.py\n",
    "         - req_loaddata.txt\n",
    "       - modeling_cnn\n",
    "         - modeling.py\n",
    "         - req_modeling.txt\n",
    "       - checker\n",
    "         - checker.py\n",
    "         - req_checker.txt\n",
    "```\n"
   ]
  },
  {
   "cell_type": "code",
   "execution_count": 2,
   "metadata": {},
   "outputs": [],
   "source": [
    "executor1 = client.ScanflowExecutor(name='load_data', \n",
    "                      mainfile='loaddata.py',\n",
    "                      parameters={'app_name': app_name,\n",
    "                                  'team_name': 'data'})\n",
    "\n",
    "executor2 = client.ScanflowExecutor(name='modeling_cnn1', \n",
    "                      mainfile='modeling.py',\n",
    "                      parameters={'model_name': 'mnist_cnn',\n",
    "                                  'model_version': 1,\n",
    "                                  'x_train_path': './data/mnist/train_images.npy', \n",
    "                                  'y_train_path': './data/mnist/train_labels.npy',\n",
    "                                  'x_test_path': './data/mnist/test_images.npy',\n",
    "                                  'y_test_path': './data/mnist/test_labels.npy'},\n",
    "                      requirements='req_modeling.txt')\n",
    "\n",
    "executor3 = client.ScanflowExecutor(name='modeling_cnn2', \n",
    "                      mainfile='modeling.py',\n",
    "                      parameters={'model_name': 'mnist_cnn',\n",
    "                                  'model_version': 2,\n",
    "                                  'x_train_path': './data/mnist/train_images.npy', \n",
    "                                  'y_train_path': './data/mnist/train_labels.npy',\n",
    "                                  'x_test_path': './data/mnist/test_images.npy',\n",
    "                                  'y_test_path': './data/mnist/test_labels.npy'},\n",
    "                      requirements='req_modeling.txt')\n",
    "\n",
    "\n",
    "executor4 = client.ScanflowExecutor(name='checker', \n",
    "                      mainfile='checker.py',\n",
    "                      parameters={'model_name': 'mnist_detector',\n",
    "                                  'model_version': 1,\n",
    "                                  'x_train_path': './data/mnist/train_images.npy'},\n",
    "                      requirements='req_checker.txt')\n",
    "\n",
    "\n",
    "\n",
    "dependency1 = client.ScanflowDependency(dependee='load_data',\n",
    "                                    depender='modeling_cnn')\n",
    "\n",
    "dependency2 = client.ScanflowDependency(dependee='load_data',\n",
    "                                    depender='modeling_cnn1')\n",
    "\n",
    "dependency3 = client.ScanflowDependency(dependee='load_data',\n",
    "                                    depender='checker')\n",
    "\n",
    "##workflow1 mnist-wf\n",
    "## -- load_data\n",
    "##       -- modeling_cnn\n",
    "##       -- modeling_cnn1\n",
    "workflow1 = client.ScanflowWorkflow(name='mnist-wf', \n",
    "                     executors=[executor1, executor2, executor3],\n",
    "                     dependencies=[dependency1, dependency2])\n",
    "##workflow2 mnist-checker-wf\n",
    "## -- load_data\n",
    "##    -- checker\n",
    "workflow2 = client.ScanflowWorkflow(name='mnist-checker-wf', \n",
    "                     executors=[executor1, executor4],\n",
    "                     dependencies=[dependency3])\n",
    "\n",
    "\n",
    "app = client.ScanflowApplication(app_name = app_name,\n",
    "                                 app_dir = app_dir,\n",
    "                                 team_name = team_name,\n",
    "                                 workflows=[workflow1, workflow2],\n",
    "                                 verbose=True)\n",
    "              "
   ]
  },
  {
   "cell_type": "code",
   "execution_count": 3,
   "metadata": {},
   "outputs": [
    {
     "name": "stderr",
     "output_type": "stream",
     "text": [
      "26-Apr-21 10:01:19 -  INFO - Scanflowapp: {'app_name': 'mnist', 'app_dir': '/gpfs/bsc_home/xpliu/pv/jupyterhubpeini/scanflow/examples/mnist/datascience', 'team_name': 'datascience', 'workflows': [{'name': 'mnist-wf', 'executors': [{'name': 'load_data', 'mainfile': 'loaddata.py', 'parameters': {'app_name': 'mnist', 'team_name': 'data'}, 'requirements': None, 'dockerfile': None, 'env': None, 'image': None}, {'name': 'modeling_cnn1', 'mainfile': 'modeling.py', 'parameters': {'model_name': 'mnist_cnn', 'model_version': 1, 'x_train_path': './data/mnist/train_images.npy', 'y_train_path': './data/mnist/train_labels.npy', 'x_test_path': './data/mnist/test_images.npy', 'y_test_path': './data/mnist/test_labels.npy'}, 'requirements': 'req_modeling.txt', 'dockerfile': None, 'env': None, 'image': None}, {'name': 'modeling_cnn2', 'mainfile': 'modeling.py', 'parameters': {'model_name': 'mnist_cnn', 'model_version': 2, 'x_train_path': './data/mnist/train_images.npy', 'y_train_path': './data/mnist/train_labels.npy', 'x_test_path': './data/mnist/test_images.npy', 'y_test_path': './data/mnist/test_labels.npy'}, 'requirements': 'req_modeling.txt', 'dockerfile': None, 'env': None, 'image': None}], 'dependencies': [{'depender': 'modeling_cnn', 'dependee': 'load_data', 'priority': 0}, {'depender': 'modeling_cnn1', 'dependee': 'load_data', 'priority': 0}]}, {'name': 'mnist-checker-wf', 'executors': [{'name': 'load_data', 'mainfile': 'loaddata.py', 'parameters': {'app_name': 'mnist', 'team_name': 'data'}, 'requirements': None, 'dockerfile': None, 'env': None, 'image': None}, {'name': 'checker', 'mainfile': 'checker.py', 'parameters': {'model_name': 'mnist_detector', 'model_version': 1, 'x_train_path': './data/mnist/train_images.npy'}, 'requirements': 'req_checker.txt', 'dockerfile': None, 'env': None, 'image': None}], 'dependencies': [{'depender': 'checker', 'dependee': 'load_data', 'priority': 0}]}], 'agents': None, 'verbose': True}\n"
     ]
    }
   ],
   "source": [
    "dic = app.to_dict()"
   ]
  },
  {
   "cell_type": "markdown",
   "metadata": {},
   "source": [
    "  \n",
    "## 2. Build scanflow application (local build and scanflow-tracker)\n",
    "   \n",
    "  1. build images for Executor -> save to image registry\n",
    "  3. build ScanflowApplication -> save scanflowapp metadata to scanflow-tracker\n",
    "\n"
   ]
  },
  {
   "cell_type": "code",
   "execution_count": 4,
   "metadata": {},
   "outputs": [
    {
     "name": "stderr",
     "output_type": "stream",
     "text": [
      "26-Apr-21 10:01:24 -  INFO - Building image 172.30.0.49:5000/load_data\n",
      "26-Apr-21 10:01:24 -  INFO - Building image 172.30.0.49:5000/modeling_cnn1\n",
      "26-Apr-21 10:01:24 -  INFO - Building image 172.30.0.49:5000/modeling_cnn2\n",
      "26-Apr-21 10:01:24 -  INFO - Building image 172.30.0.49:5000/load_data\n",
      "26-Apr-21 10:01:24 -  INFO - Building image 172.30.0.49:5000/checker\n"
     ]
    }
   ],
   "source": [
    "build_app = client.build_ScanflowApplication(app = app)"
   ]
  },
  {
   "cell_type": "code",
   "execution_count": 5,
   "metadata": {},
   "outputs": [
    {
     "name": "stderr",
     "output_type": "stream",
     "text": [
      "26-Apr-21 10:01:25 -  INFO - Scanflowapp: {'app_name': 'mnist', 'app_dir': '/gpfs/bsc_home/xpliu/pv/jupyterhubpeini/scanflow/examples/mnist/datascience', 'team_name': 'datascience', 'workflows': [{'name': 'mnist-wf', 'executors': [{'name': 'load_data', 'mainfile': 'loaddata.py', 'parameters': {'app_name': 'mnist', 'team_name': 'data'}, 'requirements': None, 'dockerfile': None, 'env': None, 'image': '172.30.0.49:5000/load_data:latest'}, {'name': 'modeling_cnn1', 'mainfile': 'modeling.py', 'parameters': {'model_name': 'mnist_cnn', 'model_version': 1, 'x_train_path': './data/mnist/train_images.npy', 'y_train_path': './data/mnist/train_labels.npy', 'x_test_path': './data/mnist/test_images.npy', 'y_test_path': './data/mnist/test_labels.npy'}, 'requirements': 'req_modeling.txt', 'dockerfile': None, 'env': None, 'image': '172.30.0.49:5000/modeling_cnn1:latest'}, {'name': 'modeling_cnn2', 'mainfile': 'modeling.py', 'parameters': {'model_name': 'mnist_cnn', 'model_version': 2, 'x_train_path': './data/mnist/train_images.npy', 'y_train_path': './data/mnist/train_labels.npy', 'x_test_path': './data/mnist/test_images.npy', 'y_test_path': './data/mnist/test_labels.npy'}, 'requirements': 'req_modeling.txt', 'dockerfile': None, 'env': None, 'image': '172.30.0.49:5000/modeling_cnn2:latest'}], 'dependencies': [{'depender': 'modeling_cnn', 'dependee': 'load_data', 'priority': 0}, {'depender': 'modeling_cnn1', 'dependee': 'load_data', 'priority': 0}]}, {'name': 'mnist-checker-wf', 'executors': [{'name': 'load_data', 'mainfile': 'loaddata.py', 'parameters': {'app_name': 'mnist', 'team_name': 'data'}, 'requirements': None, 'dockerfile': None, 'env': None, 'image': '172.30.0.49:5000/load_data:latest'}, {'name': 'checker', 'mainfile': 'checker.py', 'parameters': {'model_name': 'mnist_detector', 'model_version': 1, 'x_train_path': './data/mnist/train_images.npy'}, 'requirements': 'req_checker.txt', 'dockerfile': None, 'env': None, 'image': '172.30.0.49:5000/checker:latest'}], 'dependencies': [{'depender': 'checker', 'dependee': 'load_data', 'priority': 0}]}], 'agents': None, 'verbose': True}\n"
     ]
    },
    {
     "data": {
      "text/plain": [
       "{'app_name': 'mnist',\n",
       " 'app_dir': '/gpfs/bsc_home/xpliu/pv/jupyterhubpeini/scanflow/examples/mnist/datascience',\n",
       " 'team_name': 'datascience',\n",
       " 'workflows': [{'name': 'mnist-wf',\n",
       "   'executors': [{'name': 'load_data',\n",
       "     'mainfile': 'loaddata.py',\n",
       "     'parameters': {'app_name': 'mnist', 'team_name': 'data'},\n",
       "     'requirements': None,\n",
       "     'dockerfile': None,\n",
       "     'env': None,\n",
       "     'image': '172.30.0.49:5000/load_data:latest'},\n",
       "    {'name': 'modeling_cnn1',\n",
       "     'mainfile': 'modeling.py',\n",
       "     'parameters': {'model_name': 'mnist_cnn',\n",
       "      'model_version': 1,\n",
       "      'x_train_path': './data/mnist/train_images.npy',\n",
       "      'y_train_path': './data/mnist/train_labels.npy',\n",
       "      'x_test_path': './data/mnist/test_images.npy',\n",
       "      'y_test_path': './data/mnist/test_labels.npy'},\n",
       "     'requirements': 'req_modeling.txt',\n",
       "     'dockerfile': None,\n",
       "     'env': None,\n",
       "     'image': '172.30.0.49:5000/modeling_cnn1:latest'},\n",
       "    {'name': 'modeling_cnn2',\n",
       "     'mainfile': 'modeling.py',\n",
       "     'parameters': {'model_name': 'mnist_cnn',\n",
       "      'model_version': 2,\n",
       "      'x_train_path': './data/mnist/train_images.npy',\n",
       "      'y_train_path': './data/mnist/train_labels.npy',\n",
       "      'x_test_path': './data/mnist/test_images.npy',\n",
       "      'y_test_path': './data/mnist/test_labels.npy'},\n",
       "     'requirements': 'req_modeling.txt',\n",
       "     'dockerfile': None,\n",
       "     'env': None,\n",
       "     'image': '172.30.0.49:5000/modeling_cnn2:latest'}],\n",
       "   'dependencies': [{'depender': 'modeling_cnn',\n",
       "     'dependee': 'load_data',\n",
       "     'priority': 0},\n",
       "    {'depender': 'modeling_cnn1', 'dependee': 'load_data', 'priority': 0}]},\n",
       "  {'name': 'mnist-checker-wf',\n",
       "   'executors': [{'name': 'load_data',\n",
       "     'mainfile': 'loaddata.py',\n",
       "     'parameters': {'app_name': 'mnist', 'team_name': 'data'},\n",
       "     'requirements': None,\n",
       "     'dockerfile': None,\n",
       "     'env': None,\n",
       "     'image': '172.30.0.49:5000/load_data:latest'},\n",
       "    {'name': 'checker',\n",
       "     'mainfile': 'checker.py',\n",
       "     'parameters': {'model_name': 'mnist_detector',\n",
       "      'model_version': 1,\n",
       "      'x_train_path': './data/mnist/train_images.npy'},\n",
       "     'requirements': 'req_checker.txt',\n",
       "     'dockerfile': None,\n",
       "     'env': None,\n",
       "     'image': '172.30.0.49:5000/checker:latest'}],\n",
       "   'dependencies': [{'depender': 'checker',\n",
       "     'dependee': 'load_data',\n",
       "     'priority': 0}]}],\n",
       " 'agents': None,\n",
       " 'verbose': True}"
      ]
     },
     "execution_count": 5,
     "metadata": {},
     "output_type": "execute_result"
    }
   ],
   "source": [
    "build_app.to_dict()"
   ]
  },
  {
   "cell_type": "code",
   "execution_count": null,
   "metadata": {},
   "outputs": [],
   "source": [
    "client.submit_ScanflowApplication(build_app)"
   ]
  },
  {
   "cell_type": "code",
   "execution_count": 9,
   "metadata": {},
   "outputs": [
    {
     "name": "stderr",
     "output_type": "stream",
     "text": [
      "26-Apr-21 10:13:38 -  INFO - Scanflowapp: {'app_name': 'mnist', 'app_dir': '/gpfs/bsc_home/xpliu/pv/jupyterhubpeini/scanflow/examples/mnist/datascience', 'team_name': 'datascience', 'workflows': [{'name': 'mnist-wf', 'executors': [{'name': 'load_data', 'mainfile': 'loaddata.py', 'parameters': {'app_name': 'mnist', 'team_name': 'data'}, 'requirements': None, 'dockerfile': None, 'env': None, 'image': '172.30.0.49:5000/load_data:latest'}, {'name': 'modeling_cnn1', 'mainfile': 'modeling.py', 'parameters': {'model_name': 'mnist_cnn', 'model_version': 1, 'x_train_path': './data/mnist/train_images.npy', 'y_train_path': './data/mnist/train_labels.npy', 'x_test_path': './data/mnist/test_images.npy', 'y_test_path': './data/mnist/test_labels.npy'}, 'requirements': 'req_modeling.txt', 'dockerfile': None, 'env': None, 'image': '172.30.0.49:5000/modeling_cnn1:latest'}, {'name': 'modeling_cnn2', 'mainfile': 'modeling.py', 'parameters': {'model_name': 'mnist_cnn', 'model_version': 2, 'x_train_path': './data/mnist/train_images.npy', 'y_train_path': './data/mnist/train_labels.npy', 'x_test_path': './data/mnist/test_images.npy', 'y_test_path': './data/mnist/test_labels.npy'}, 'requirements': 'req_modeling.txt', 'dockerfile': None, 'env': None, 'image': '172.30.0.49:5000/modeling_cnn2:latest'}], 'dependencies': [{'depender': 'modeling_cnn', 'dependee': 'load_data', 'priority': 0}, {'depender': 'modeling_cnn1', 'dependee': 'load_data', 'priority': 0}]}, {'name': 'mnist-checker-wf', 'executors': [{'name': 'load_data', 'mainfile': 'loaddata.py', 'parameters': {'app_name': 'mnist', 'team_name': 'data'}, 'requirements': None, 'dockerfile': None, 'env': None, 'image': '172.30.0.49:5000/load_data:latest'}, {'name': 'checker', 'mainfile': 'checker.py', 'parameters': {'model_name': 'mnist_detector', 'model_version': 1, 'x_train_path': './data/mnist/train_images.npy'}, 'requirements': 'req_checker.txt', 'dockerfile': None, 'env': None, 'image': '172.30.0.49:5000/checker:latest'}], 'dependencies': [{'depender': 'checker', 'dependee': 'load_data', 'priority': 0}]}], 'agents': None, 'verbose': True}\n"
     ]
    },
    {
     "name": "stdout",
     "output_type": "stream",
     "text": [
      "{\"app_name\": \"mnist\", \"app_dir\": \"/gpfs/bsc_home/xpliu/pv/jupyterhubpeini/scanflow/examples/mnist/datascience\", \"team_name\": \"datascience\", \"workflows\": [{\"name\": \"mnist-wf\", \"executors\": [{\"name\": \"load_data\", \"mainfile\": \"loaddata.py\", \"parameters\": {\"app_name\": \"mnist\", \"team_name\": \"data\"}, \"requirements\": null, \"dockerfile\": null, \"env\": null, \"image\": \"172.30.0.49:5000/load_data:latest\"}, {\"name\": \"modeling_cnn1\", \"mainfile\": \"modeling.py\", \"parameters\": {\"model_name\": \"mnist_cnn\", \"model_version\": 1, \"x_train_path\": \"./data/mnist/train_images.npy\", \"y_train_path\": \"./data/mnist/train_labels.npy\", \"x_test_path\": \"./data/mnist/test_images.npy\", \"y_test_path\": \"./data/mnist/test_labels.npy\"}, \"requirements\": \"req_modeling.txt\", \"dockerfile\": null, \"env\": null, \"image\": \"172.30.0.49:5000/modeling_cnn1:latest\"}, {\"name\": \"modeling_cnn2\", \"mainfile\": \"modeling.py\", \"parameters\": {\"model_name\": \"mnist_cnn\", \"model_version\": 2, \"x_train_path\": \"./data/mnist/train_images.npy\", \"y_train_path\": \"./data/mnist/train_labels.npy\", \"x_test_path\": \"./data/mnist/test_images.npy\", \"y_test_path\": \"./data/mnist/test_labels.npy\"}, \"requirements\": \"req_modeling.txt\", \"dockerfile\": null, \"env\": null, \"image\": \"172.30.0.49:5000/modeling_cnn2:latest\"}], \"dependencies\": [{\"depender\": \"modeling_cnn\", \"dependee\": \"load_data\", \"priority\": 0}, {\"depender\": \"modeling_cnn1\", \"dependee\": \"load_data\", \"priority\": 0}]}, {\"name\": \"mnist-checker-wf\", \"executors\": [{\"name\": \"load_data\", \"mainfile\": \"loaddata.py\", \"parameters\": {\"app_name\": \"mnist\", \"team_name\": \"data\"}, \"requirements\": null, \"dockerfile\": null, \"env\": null, \"image\": \"172.30.0.49:5000/load_data:latest\"}, {\"name\": \"checker\", \"mainfile\": \"checker.py\", \"parameters\": {\"model_name\": \"mnist_detector\", \"model_version\": 1, \"x_train_path\": \"./data/mnist/train_images.npy\"}, \"requirements\": \"req_checker.txt\", \"dockerfile\": null, \"env\": null, \"image\": \"172.30.0.49:5000/checker:latest\"}], \"dependencies\": [{\"depender\": \"checker\", \"dependee\": \"load_data\", \"priority\": 0}]}], \"agents\": null, \"verbose\": true}\n"
     ]
    }
   ],
   "source": [
    "import json\n",
    "print(json.dumps(app.to_dict()))\n"
   ]
  },
  {
   "cell_type": "markdown",
   "metadata": {},
   "source": [
    "## 3. Deploy scanflow application (scanflow-server)\n",
    "  \n",
    "  1. deploy scanflow application\n",
    "        - create namespace\n",
    "        - deploy scanflow-local-tracker (k8s)\n",
    "        - run workflows (argo)\n",
    "            - run workflow1 to train model_cnn\n",
    "            - run workflow2 to train checker\n",
    "            \n",
    "--------------------Team to Evaluate the model-------(if training stage is finished)-------------\n",
    "  \n"
   ]
  },
  {
   "cell_type": "code",
   "execution_count": null,
   "metadata": {},
   "outputs": [],
   "source": []
  },
  {
   "cell_type": "markdown",
   "metadata": {},
   "source": [
    "## 4. Save the prepared model to scanflow-tracker\n",
    "\n",
    "  1. call scanflow-server to pull checker model (e.g., drift_detector)\n",
    "  2. call scanflow-controller server pull model (e.g., mnist_cnn)\n",
    "\n"
   ]
  },
  {
   "cell_type": "markdown",
   "metadata": {},
   "source": [
    "## 5. Submit all artifacts to scanflow-tracker\n",
    "```bash\n",
    "  mnist\n",
    "    - workflows\n",
    "       - load_data\n",
    "         - loaddata.py\n",
    "         - req_loaddata.txt\n",
    "       - modeling_cnn\n",
    "         - modeling.py\n",
    "         - req_modeling.txt\n",
    "       - checker\n",
    "         - checker.py\n",
    "         - req_checker.txt\n",
    "```\n"
   ]
  },
  {
   "cell_type": "markdown",
   "metadata": {},
   "source": [
    "\n",
    "  \n",
    "## 6. Clean environment (scanflow-controller)\n",
    "  \n",
    "  1. clean training workflow, delete namespace\n",
    "  "
   ]
  },
  {
   "cell_type": "code",
   "execution_count": 13,
   "metadata": {},
   "outputs": [],
   "source": [
    "import json\n",
    "with open(\"./workflow\", 'w') as fout:\n",
    "    json.dump(dic,fout,indent=2)\n",
    "# print(json.dumps(dic, indent=2))"
   ]
  },
  {
   "cell_type": "code",
   "execution_count": 14,
   "metadata": {},
   "outputs": [
    {
     "name": "stdout",
     "output_type": "stream",
     "text": [
      "{'app_name': 'mnist', 'app_dir': '/gpfs/bsc_home/xpliu/pv/jupyterhubpeini/scanflow/examples/mnist/datascience', 'team_name': 'datascience', 'workflows': [{'name': 'mnist-wf', 'executors': [{'name': 'load_data', 'mainfile': 'loaddata.py', 'parameters': {'app_name': 'mnist', 'team_name': 'data'}, 'requirements': None, 'dockerfile': None, 'env': None, '_Executor__image': ['172.30.0.49:5000/load_data:latest']}, {'name': 'modeling_cnn1', 'mainfile': 'modeling.py', 'parameters': {'model_name': 'mnist_cnn', 'model_version': 1, 'x_train_path': './data/mnist/train_images.npy', 'y_train_path': './data/mnist/train_labels.npy', 'x_test_path': './data/mnist/test_images.npy', 'y_test_path': './data/mnist/test_labels.npy'}, 'requirements': 'req_modeling.txt', 'dockerfile': None, 'env': None, '_Executor__image': ['172.30.0.49:5000/modeling_cnn1:latest']}, {'name': 'modeling_cnn2', 'mainfile': 'modeling.py', 'parameters': {'model_name': 'mnist_cnn', 'model_version': 2, 'x_train_path': './data/mnist/train_images.npy', 'y_train_path': './data/mnist/train_labels.npy', 'x_test_path': './data/mnist/test_images.npy', 'y_test_path': './data/mnist/test_labels.npy'}, 'requirements': 'req_modeling.txt', 'dockerfile': None, 'env': None, '_Executor__image': ['172.30.0.49:5000/modeling_cnn2:latest']}], 'dependencies': [{'depender': 'modeling_cnn', 'dependee': 'load_data', 'priority': 0}, {'depender': 'modeling_cnn1', 'dependee': 'load_data', 'priority': 0}]}, {'name': 'mnist-checker-wf', 'executors': [{'name': 'load_data', 'mainfile': 'loaddata.py', 'parameters': {'app_name': 'mnist', 'team_name': 'data'}, 'requirements': None, 'dockerfile': None, 'env': None, '_Executor__image': ['172.30.0.49:5000/load_data:latest']}, {'name': 'checker', 'mainfile': 'checker.py', 'parameters': {'model_name': 'mnist_detector', 'model_version': 1, 'x_train_path': './data/mnist/train_images.npy'}, 'requirements': 'req_checker.txt', 'dockerfile': None, 'env': None, '_Executor__image': ['172.30.0.49:5000/checker:latest']}], 'dependencies': [{'depender': 'checker', 'dependee': 'load_data', 'priority': 0}]}], 'agents': None, 'verbose': True}\n"
     ]
    }
   ],
   "source": [
    "with open(\"./workflow\") as fin:\n",
    "    data = json.load(fin)\n",
    "print(data)"
   ]
  },
  {
   "cell_type": "code",
   "execution_count": 9,
   "metadata": {},
   "outputs": [
    {
     "data": {
      "image/png": "[encoded data removed]",
      "text/plain": [
       "<Figure size 720x504 with 1 Axes>"
      ]
     },
     "metadata": {},
     "output_type": "display_data"
    }
   ],
   "source": [
    "client.drawScanflowApplicationGraph(scanflowapp=app)"
   ]
  },
  {
   "cell_type": "markdown",
   "metadata": {},
   "source": [
    "## Submit All"
   ]
  },
  {
   "cell_type": "code",
   "execution_count": 6,
   "metadata": {},
   "outputs": [
    {
     "name": "stdout",
     "output_type": "stream",
     "text": [
      "{\n",
      "  \"app_name\": \"mnist\",\n",
      "  \"app_dir\": \"/gpfs/bsc_home/xpliu/pv/jupyterhubpeini/scanflow/tutorials/examples/mnist-DS/workflow\",\n",
      "  \"workflows\": [\n",
      "    {\n",
      "      \"name\": \"mnist-wf\",\n",
      "      \"executors\": [\n",
      "        {\n",
      "          \"name\": \"load_data\",\n",
      "          \"mainfile\": \"loaddata.py\",\n",
      "          \"parameters\": {\n",
      "            \"app_name\": \"mnist\",\n",
      "            \"team_name\": \"data\"\n",
      "          },\n",
      "          \"requirements\": \"req_loaddata.txt\",\n",
      "          \"dockerfile\": null,\n",
      "          \"env\": null\n",
      "        },\n",
      "        {\n",
      "          \"name\": \"modeling_cnn\",\n",
      "          \"mainfile\": \"modeling.py\",\n",
      "          \"parameters\": {\n",
      "            \"x_train_path\": \"./data/mnist/train_images.npy\",\n",
      "            \"y_train_path\": \"./data/mnist/train_labels.npy\",\n",
      "            \"x_test_path\": \"./data/mnist/test_images.npy\",\n",
      "            \"y_test_path\": \"./data/mnist/test_labels.npy\"\n",
      "          },\n",
      "          \"requirements\": \"req_modeling.txt\",\n",
      "          \"dockerfile\": null,\n",
      "          \"env\": null\n",
      "        },\n",
      "        {\n",
      "          \"name\": \"modeling_cnn1\",\n",
      "          \"mainfile\": \"modeling.py\",\n",
      "          \"parameters\": {\n",
      "            \"x_train_path\": \"./data/mnist/train_images.npy\",\n",
      "            \"y_train_path\": \"./data/mnist/train_labels.npy\",\n",
      "            \"x_test_path\": \"./data/mnist/test_images.npy\",\n",
      "            \"y_test_path\": \"./data/mnist/test_labels.npy\"\n",
      "          },\n",
      "          \"requirements\": \"req_modeling.txt\",\n",
      "          \"dockerfile\": null,\n",
      "          \"env\": null\n",
      "        }\n",
      "      ],\n",
      "      \"relations\": [\n",
      "        {\n",
      "          \"depender\": \"load_data\",\n",
      "          \"dependee\": \"modeling_cnn\",\n",
      "          \"priority\": 0\n",
      "        },\n",
      "        {\n",
      "          \"depender\": \"load_data\",\n",
      "          \"dependee\": \"modeling_cnn1\",\n",
      "          \"priority\": 0\n",
      "        }\n",
      "      ]\n",
      "    },\n",
      "    {\n",
      "      \"name\": \"mnist-checker-wf\",\n",
      "      \"executors\": [\n",
      "        {\n",
      "          \"name\": \"load_data\",\n",
      "          \"mainfile\": \"loaddata.py\",\n",
      "          \"parameters\": {\n",
      "            \"app_name\": \"mnist\",\n",
      "            \"team_name\": \"data\"\n",
      "          },\n",
      "          \"requirements\": \"req_loaddata.txt\",\n",
      "          \"dockerfile\": null,\n",
      "          \"env\": null\n",
      "        },\n",
      "        {\n",
      "          \"name\": \"checker\",\n",
      "          \"mainfile\": \"modeling.py\",\n",
      "          \"parameters\": {\n",
      "            \"x_train_path\": \"./data/mnist/train_images.npy\"\n",
      "          },\n",
      "          \"requirements\": \"req_modeling.txt\",\n",
      "          \"dockerfile\": null,\n",
      "          \"env\": null\n",
      "        }\n",
      "      ],\n",
      "      \"relations\": [\n",
      "        {\n",
      "          \"depender\": \"load_data\",\n",
      "          \"dependee\": \"checker\",\n",
      "          \"priority\": 0\n",
      "        }\n",
      "      ]\n",
      "    }\n",
      "  ],\n",
      "  \"agents\": null,\n",
      "  \"verbose\": true\n",
      "}\n"
     ]
    }
   ],
   "source": [
    "import json\n",
    "print(json.dumps(dic, indent=2))"
   ]
  },
  {
   "cell_type": "code",
   "execution_count": null,
   "metadata": {},
   "outputs": [],
   "source": []
  }
 ],
 "metadata": {
  "kernelspec": {
   "display_name": "Python 3",
   "language": "python",
   "name": "python3"
  },
  "language_info": {
   "codemirror_mode": {
    "name": "ipython",
    "version": 3
   },
   "file_extension": ".py",
   "mimetype": "text/x-python",
   "name": "python",
   "nbconvert_exporter": "python",
   "pygments_lexer": "ipython3",
   "version": "3.8.5"
  }
 },
 "nbformat": 4,
 "nbformat_minor": 4
}
