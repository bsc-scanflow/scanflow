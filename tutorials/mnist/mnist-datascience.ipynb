{
 "cells": [
  {
   "cell_type": "markdown",
   "metadata": {},
   "source": [
    "# Mnist DataScience (Training Stage)"
   ]
  },
  {
   "cell_type": "code",
   "execution_count": 9,
   "metadata": {},
   "outputs": [
    {
     "name": "stdout",
     "output_type": "stream",
     "text": [
      "http://172.30.0.50:46666\n",
      "http://172.30.0.50:46667\n"
     ]
    }
   ],
   "source": [
    "from scanflow.tools import env\n",
    "print(env.get_env(\"SCANFLOW_SERVER_URI\"))\n",
    "print(env.get_env(\"SCANFLOW_TRACKER_URI\"))"
   ]
  },
  {
   "cell_type": "code",
   "execution_count": 1,
   "metadata": {},
   "outputs": [],
   "source": [
    "import sys\n",
    "import matplotlib.pyplot as plt\n",
    "import os\n",
    "sys.path.insert(0,'../..')\n",
    "\n",
    "import scanflow\n",
    "from scanflow.client import ScanflowClient\n",
    "from scanflow.client import ScanflowTrackerClient\n",
    "from scanflow.client import ScanflowDeployerClient\n",
    "\n",
    "# App folder\n",
    "scanflow_path = \"/gpfs/bsc_home/xpliu/pv/jupyterhubpeini/scanflow\"\n",
    "app_dir = os.path.join(scanflow_path, \"examples/mnist/datascience\")\n",
    "app_name = \"mnist\"\n",
    "team_name = \"datascience\"\n",
    "\n",
    "# scanflow client\n",
    "client = ScanflowClient(#scanflow_server_uri=\"http://172.30.0.50:46666\",\n",
    "                        verbose=True)"
   ]
  },
  {
   "cell_type": "markdown",
   "metadata": {},
   "source": [
    "## 1. Develop scanflow application (local)\n",
    "\n",
    "  1. develop component (requirement.txt, script.py)\n",
    "  2. define scanflow application (Executor, Dependency, Workflow, Application)\n",
    "  ```bash\n",
    "     Application\n",
    "        - List: Workflow(DAG)\n",
    "                  - List: Executor\n",
    "                  - List: Dependency\n",
    "  ```\n",
    "  \n",
    "     For example:\n",
    "     \n",
    "  ```bash\n",
    "  mnist\n",
    "    - workflows\n",
    "       - load_data\n",
    "         - loaddata.py\n",
    "       - modeling_cnn1\n",
    "         - modeling.py\n",
    "         - req_modeling.txt\n",
    "       - modeling_cnn2\n",
    "         - modeling.py\n",
    "         - req_modeling.txt\n",
    "       - checker\n",
    "         - checker.py\n",
    "         - req_checker.txt\n",
    "```\n"
   ]
  },
  {
   "cell_type": "code",
   "execution_count": 2,
   "metadata": {},
   "outputs": [],
   "source": [
    "executor1 = client.ScanflowExecutor(name='load-data', \n",
    "                      mainfile='loaddata.py',\n",
    "                      parameters={'app_name': app_name,\n",
    "                                  'team_name': 'data'})\n",
    "\n",
    "executor2 = client.ScanflowExecutor(name='modeling-cnn1', \n",
    "                      mainfile='modeling.py',\n",
    "                      parameters={'model_name': 'mnist_cnn',\n",
    "                                  'epochs': 1,\n",
    "                                  'x_train_path': '/workflow/load-data/mnist/data/mnist/train_images.npy', \n",
    "                                  'y_train_path': '/workflow/load-data/mnist/data/mnist/train_labels.npy',\n",
    "                                  'x_test_path': '/workflow/load-data/mnist/data/mnist/test_images.npy',\n",
    "                                  'y_test_path': '/workflow/load-data/mnist/data/mnist/test_labels.npy'},\n",
    "                      requirements='req_modeling.txt')\n",
    "\n",
    "#20\n",
    "executor3 = client.ScanflowExecutor(name='modeling-cnn2', \n",
    "                      mainfile='modeling.py',\n",
    "                      parameters={'model_name': 'mnist_cnn',\n",
    "                                  'epochs': 2,\n",
    "                                  'x_train_path': '/workflow/load-data/mnist/data/mnist/train_images.npy',\n",
    "                                  'y_train_path': '/workflow/load-data/mnist/data/mnist/train_labels.npy',\n",
    "                                  'x_test_path': '/workflow/load-data/mnist/data/mnist/test_images.npy',\n",
    "                                  'y_test_path': '/workflow/load-data/mnist/data/mnist/test_labels.npy'},\n",
    "                      requirements='req_modeling.txt',\n",
    "                      base_image='modeling-cnn1')\n",
    "\n",
    "#50\n",
    "executor4 = client.ScanflowExecutor(name='checker', \n",
    "                      mainfile='checker.py',\n",
    "                      parameters={'model_name': 'mnist_detector',\n",
    "                                  'epochs': 1,\n",
    "                                  'x_train_path': '/workflow/load-data/mnist/data/mnist/train_images.npy'},\n",
    "                      requirements='req_checker.txt')\n",
    "\n",
    "\n",
    "\n",
    "dependency1 = client.ScanflowDependency(dependee='load-data',\n",
    "                                    depender='modeling-cnn1')\n",
    "\n",
    "dependency2 = client.ScanflowDependency(dependee='load-data',\n",
    "                                    depender='modeling-cnn2')\n",
    "\n",
    "dependency3 = client.ScanflowDependency(dependee='load-data',\n",
    "                                    depender='checker')\n",
    "\n",
    "##workflow1 mnist-wf\n",
    "## -- load_data\n",
    "##       -- modeling_cnn\n",
    "##       -- modeling_cnn1\n",
    "workflow1 = client.ScanflowWorkflow(name='mnist-wf', \n",
    "                     executors=[executor1, executor2, executor3],\n",
    "                     dependencies=[dependency1, dependency2],\n",
    "                     output_dir = \"/workflow\")\n",
    "##workflow2 mnist-checker-wf\n",
    "## -- load_data\n",
    "##    -- checker\n",
    "workflow2 = client.ScanflowWorkflow(name='mnist-checker-wf', \n",
    "                     executors=[executor1, executor4],\n",
    "                     dependencies=[dependency3],\n",
    "                     output_dir = \"/workflow\")\n",
    "\n",
    "\n",
    "app = client.ScanflowApplication(app_name = app_name,\n",
    "                                 app_dir = app_dir,\n",
    "                                 team_name = team_name,\n",
    "                                 workflows=[workflow1, workflow2])\n",
    "              "
   ]
  },
  {
   "cell_type": "code",
   "execution_count": 3,
   "metadata": {},
   "outputs": [
    {
     "name": "stderr",
     "output_type": "stream",
     "text": [
      "22-May-21 19:05:30 -  INFO - Scanflowapp: {'app_name': 'mnist', 'app_dir': '/gpfs/bsc_home/xpliu/pv/jupyterhubpeini/scanflow/examples/mnist/datascience', 'team_name': 'datascience', 'workflows': [{'name': 'mnist-wf', 'executors': [{'name': 'load-data', 'mainfile': 'loaddata.py', 'parameters': {'app_name': 'mnist', 'team_name': 'data'}, 'requirements': None, 'dockerfile': None, 'base_image': None, 'env': None, 'image': None}, {'name': 'modeling-cnn1', 'mainfile': 'modeling.py', 'parameters': {'model_name': 'mnist_cnn', 'epochs': 1, 'x_train_path': '/workflow/load-data/mnist/data/mnist/train_images.npy', 'y_train_path': '/workflow/load-data/mnist/data/mnist/train_labels.npy', 'x_test_path': '/workflow/load-data/mnist/data/mnist/test_images.npy', 'y_test_path': '/workflow/load-data/mnist/data/mnist/test_labels.npy'}, 'requirements': 'req_modeling.txt', 'dockerfile': None, 'base_image': None, 'env': None, 'image': None}, {'name': 'modeling-cnn2', 'mainfile': 'modeling.py', 'parameters': {'model_name': 'mnist_cnn', 'epochs': 2, 'x_train_path': '/workflow/load-data/mnist/data/mnist/train_images.npy', 'y_train_path': '/workflow/load-data/mnist/data/mnist/train_labels.npy', 'x_test_path': '/workflow/load-data/mnist/data/mnist/test_images.npy', 'y_test_path': '/workflow/load-data/mnist/data/mnist/test_labels.npy'}, 'requirements': 'req_modeling.txt', 'dockerfile': None, 'base_image': 'modeling-cnn1', 'env': None, 'image': None}], 'dependencies': [{'depender': 'modeling-cnn1', 'dependee': 'load-data', 'priority': 0}, {'depender': 'modeling-cnn2', 'dependee': 'load-data', 'priority': 0}], 'output_dir': '/workflow'}, {'name': 'mnist-checker-wf', 'executors': [{'name': 'load-data', 'mainfile': 'loaddata.py', 'parameters': {'app_name': 'mnist', 'team_name': 'data'}, 'requirements': None, 'dockerfile': None, 'base_image': None, 'env': None, 'image': None}, {'name': 'checker', 'mainfile': 'checker.py', 'parameters': {'model_name': 'mnist_detector', 'epochs': 1, 'x_train_path': '/workflow/load-data/mnist/data/mnist/train_images.npy'}, 'requirements': 'req_checker.txt', 'dockerfile': None, 'base_image': None, 'env': None, 'image': None}], 'dependencies': [{'depender': 'checker', 'dependee': 'load-data', 'priority': 0}], 'output_dir': '/workflow'}], 'agents': None, 'tracker': None}\n"
     ]
    }
   ],
   "source": [
    "dic = app.to_dict()"
   ]
  },
  {
   "cell_type": "markdown",
   "metadata": {},
   "source": [
    "  \n",
    "## 2. Build scanflow application (local build)\n",
    "   \n",
    "  1. build images for Executor -> save to image registry\n",
    "\n"
   ]
  },
  {
   "cell_type": "code",
   "execution_count": 4,
   "metadata": {},
   "outputs": [
    {
     "name": "stderr",
     "output_type": "stream",
     "text": [
      "22-May-21 19:05:31 -  INFO - Building image 172.30.0.49:5000/load-data\n",
      "22-May-21 19:05:31 -  INFO - Building image 172.30.0.49:5000/modeling-cnn1\n",
      "22-May-21 19:05:31 -  INFO - Building image 172.30.0.49:5000/modeling-cnn2\n",
      "22-May-21 19:05:31 -  INFO - Building image 172.30.0.49:5000/load-data\n",
      "22-May-21 19:05:31 -  INFO - Building image 172.30.0.49:5000/checker\n"
     ]
    }
   ],
   "source": [
    "build_app = client.build_ScanflowApplication(app = app, trackerPort=46668)"
   ]
  },
  {
   "cell_type": "code",
   "execution_count": 5,
   "metadata": {},
   "outputs": [],
   "source": [
    "#build_app.to_dict()"
   ]
  },
  {
   "cell_type": "markdown",
   "metadata": {},
   "source": [
    "## 3. Deploy scanflow application (user_type=incluster)\n",
    "  \n",
    "  1. deploy scanflow application\n",
    "        - create namespace\n",
    "        - deploy scanflow-local-tracker (k8s)\n",
    "        - run workflows (argo)\n",
    "            - run workflow1 to train model_cnn\n",
    "            - run workflow2 to train checker\n",
    "            \n"
   ]
  },
  {
   "cell_type": "code",
   "execution_count": 6,
   "metadata": {},
   "outputs": [],
   "source": [
    "deployerClient = ScanflowDeployerClient(user_type=\"incluster\",\n",
    "                                        deployer=\"argo\",\n",
    "                                        k8s_config_file=\"/gpfs/bsc_home/xpliu/.kube/config\")"
   ]
  },
  {
   "cell_type": "code",
   "execution_count": 7,
   "metadata": {},
   "outputs": [
    {
     "name": "stderr",
     "output_type": "stream",
     "text": [
      "22-May-21 18:29:55 -  INFO - Scanflowapp: {'app_name': 'mnist', 'app_dir': '/gpfs/bsc_home/xpliu/pv/jupyterhubpeini/scanflow/examples/mnist/datascience', 'team_name': 'datascience', 'workflows': [{'name': 'mnist-wf', 'executors': [{'name': 'load-data', 'mainfile': 'loaddata.py', 'parameters': {'app_name': 'mnist', 'team_name': 'data'}, 'requirements': None, 'dockerfile': None, 'base_image': None, 'env': None, 'image': '172.30.0.49:5000/load-data:latest'}, {'name': 'modeling-cnn1', 'mainfile': 'modeling.py', 'parameters': {'model_name': 'mnist_cnn', 'epochs': 1, 'x_train_path': '/workflow/load-data/mnist/data/mnist/train_images.npy', 'y_train_path': '/workflow/load-data/mnist/data/mnist/train_labels.npy', 'x_test_path': '/workflow/load-data/mnist/data/mnist/test_images.npy', 'y_test_path': '/workflow/load-data/mnist/data/mnist/test_labels.npy'}, 'requirements': 'req_modeling.txt', 'dockerfile': None, 'base_image': None, 'env': None, 'image': '172.30.0.49:5000/modeling-cnn1:latest'}, {'name': 'modeling-cnn2', 'mainfile': 'modeling.py', 'parameters': {'model_name': 'mnist_cnn', 'epochs': 2, 'x_train_path': '/workflow/load-data/mnist/data/mnist/train_images.npy', 'y_train_path': '/workflow/load-data/mnist/data/mnist/train_labels.npy', 'x_test_path': '/workflow/load-data/mnist/data/mnist/test_images.npy', 'y_test_path': '/workflow/load-data/mnist/data/mnist/test_labels.npy'}, 'requirements': 'req_modeling.txt', 'dockerfile': None, 'base_image': 'modeling-cnn1', 'env': None, 'image': '172.30.0.49:5000/modeling-cnn2:latest'}], 'dependencies': [{'depender': 'modeling-cnn1', 'dependee': 'load-data', 'priority': 0}, {'depender': 'modeling-cnn2', 'dependee': 'load-data', 'priority': 0}], 'output_dir': '/workflow'}, {'name': 'mnist-checker-wf', 'executors': [{'name': 'load-data', 'mainfile': 'loaddata.py', 'parameters': {'app_name': 'mnist', 'team_name': 'data'}, 'requirements': None, 'dockerfile': None, 'base_image': None, 'env': None, 'image': '172.30.0.49:5000/load-data:latest'}, {'name': 'checker', 'mainfile': 'checker.py', 'parameters': {'model_name': 'mnist_detector', 'epochs': 1, 'x_train_path': '/workflow/load-data/mnist/data/mnist/train_images.npy'}, 'requirements': 'req_checker.txt', 'dockerfile': None, 'base_image': None, 'env': None, 'image': '172.30.0.49:5000/checker:latest'}], 'dependencies': [{'depender': 'checker', 'dependee': 'load-data', 'priority': 0}], 'output_dir': '/workflow'}], 'agents': None, 'tracker': {'image': '172.30.0.49:5000/scanflow-tracker', 'nodePort': 46668}}\n"
     ]
    },
    {
     "data": {
      "text/plain": [
       "True"
      ]
     },
     "execution_count": 7,
     "metadata": {},
     "output_type": "execute_result"
    }
   ],
   "source": [
    "await deployerClient.create_environment(app=build_app)"
   ]
  },
  {
   "cell_type": "code",
   "execution_count": 8,
   "metadata": {},
   "outputs": [
    {
     "name": "stderr",
     "output_type": "stream",
     "text": [
      "22-May-21 19:00:41 -  INFO - Scanflowapp: {'app_name': 'mnist', 'app_dir': '/gpfs/bsc_home/xpliu/pv/jupyterhubpeini/scanflow/examples/mnist/datascience', 'team_name': 'datascience', 'workflows': [{'name': 'mnist-wf', 'executors': [{'name': 'load-data', 'mainfile': 'loaddata.py', 'parameters': {'app_name': 'mnist', 'team_name': 'data'}, 'requirements': None, 'dockerfile': None, 'base_image': None, 'env': None, 'image': '172.30.0.49:5000/load-data:latest'}, {'name': 'modeling-cnn1', 'mainfile': 'modeling.py', 'parameters': {'model_name': 'mnist_cnn', 'epochs': 1, 'x_train_path': '/workflow/load-data/mnist/data/mnist/train_images.npy', 'y_train_path': '/workflow/load-data/mnist/data/mnist/train_labels.npy', 'x_test_path': '/workflow/load-data/mnist/data/mnist/test_images.npy', 'y_test_path': '/workflow/load-data/mnist/data/mnist/test_labels.npy'}, 'requirements': 'req_modeling.txt', 'dockerfile': None, 'base_image': None, 'env': None, 'image': '172.30.0.49:5000/modeling-cnn1:latest'}, {'name': 'modeling-cnn2', 'mainfile': 'modeling.py', 'parameters': {'model_name': 'mnist_cnn', 'epochs': 2, 'x_train_path': '/workflow/load-data/mnist/data/mnist/train_images.npy', 'y_train_path': '/workflow/load-data/mnist/data/mnist/train_labels.npy', 'x_test_path': '/workflow/load-data/mnist/data/mnist/test_images.npy', 'y_test_path': '/workflow/load-data/mnist/data/mnist/test_labels.npy'}, 'requirements': 'req_modeling.txt', 'dockerfile': None, 'base_image': 'modeling-cnn1', 'env': None, 'image': '172.30.0.49:5000/modeling-cnn2:latest'}], 'dependencies': [{'depender': 'modeling-cnn1', 'dependee': 'load-data', 'priority': 0}, {'depender': 'modeling-cnn2', 'dependee': 'load-data', 'priority': 0}], 'output_dir': '/workflow'}, {'name': 'mnist-checker-wf', 'executors': [{'name': 'load-data', 'mainfile': 'loaddata.py', 'parameters': {'app_name': 'mnist', 'team_name': 'data'}, 'requirements': None, 'dockerfile': None, 'base_image': None, 'env': None, 'image': '172.30.0.49:5000/load-data:latest'}, {'name': 'checker', 'mainfile': 'checker.py', 'parameters': {'model_name': 'mnist_detector', 'epochs': 1, 'x_train_path': '/workflow/load-data/mnist/data/mnist/train_images.npy'}, 'requirements': 'req_checker.txt', 'dockerfile': None, 'base_image': None, 'env': None, 'image': '172.30.0.49:5000/checker:latest'}], 'dependencies': [{'depender': 'checker', 'dependee': 'load-data', 'priority': 0}], 'output_dir': '/workflow'}], 'agents': None, 'tracker': {'image': '172.30.0.49:5000/scanflow-tracker', 'nodePort': 46668}}\n"
     ]
    },
    {
     "ename": "TypeError",
     "evalue": "'coroutine' object is not subscriptable",
     "output_type": "error",
     "traceback": [
      "\u001b[0;31m---------------------------------------------------------------------------\u001b[0m",
      "\u001b[0;31mTypeError\u001b[0m                                 Traceback (most recent call last)",
      "\u001b[0;32m<ipython-input-8-4487d777910f>\u001b[0m in \u001b[0;36m<module>\u001b[0;34m\u001b[0m\n\u001b[0;32m----> 1\u001b[0;31m \u001b[0;32mawait\u001b[0m \u001b[0mdeployerClient\u001b[0m\u001b[0;34m.\u001b[0m\u001b[0mrun_app\u001b[0m\u001b[0;34m(\u001b[0m\u001b[0mapp\u001b[0m\u001b[0;34m=\u001b[0m\u001b[0mbuild_app\u001b[0m\u001b[0;34m)\u001b[0m\u001b[0;34m\u001b[0m\u001b[0;34m\u001b[0m\u001b[0m\n\u001b[0m",
      "\u001b[0;32m~/pv/jupyterhubpeini/scanflow/scanflow/client/scanflowDeployerClient.py\u001b[0m in \u001b[0;36mrun_app\u001b[0;34m(self, app)\u001b[0m\n\u001b[1;32m    131\u001b[0m                 \u001b[0mstatus\u001b[0m \u001b[0;34m=\u001b[0m \u001b[0mresponse\u001b[0m\u001b[0;34m.\u001b[0m\u001b[0mstatus\u001b[0m\u001b[0;34m\u001b[0m\u001b[0;34m\u001b[0m\u001b[0m\n\u001b[1;32m    132\u001b[0m                 \u001b[0mtext\u001b[0m \u001b[0;34m=\u001b[0m \u001b[0mresponse\u001b[0m\u001b[0;34m.\u001b[0m\u001b[0mjson\u001b[0m\u001b[0;34m(\u001b[0m\u001b[0;34m)\u001b[0m\u001b[0;34m\u001b[0m\u001b[0;34m\u001b[0m\u001b[0m\n\u001b[0;32m--> 133\u001b[0;31m             \u001b[0mlogging\u001b[0m\u001b[0;34m.\u001b[0m\u001b[0minfo\u001b[0m\u001b[0;34m(\u001b[0m\u001b[0;34mf\"{text['detail']}\"\u001b[0m\u001b[0;34m)\u001b[0m\u001b[0;34m\u001b[0m\u001b[0;34m\u001b[0m\u001b[0m\n\u001b[0m\u001b[1;32m    134\u001b[0m         \u001b[0;32melse\u001b[0m\u001b[0;34m:\u001b[0m \u001b[0;31m#local\u001b[0m\u001b[0;34m\u001b[0m\u001b[0;34m\u001b[0m\u001b[0m\n\u001b[1;32m    135\u001b[0m             \u001b[0mnamespace\u001b[0m \u001b[0;34m=\u001b[0m \u001b[0;34mf\"scanflow-{app.app_name}-{app.team_name}\"\u001b[0m\u001b[0;34m\u001b[0m\u001b[0;34m\u001b[0m\u001b[0m\n",
      "\u001b[0;31mTypeError\u001b[0m: 'coroutine' object is not subscriptable"
     ]
    }
   ],
   "source": [
    "await deployerClient.run_app(app=build_app)"
   ]
  },
  {
   "cell_type": "code",
   "execution_count": null,
   "metadata": {},
   "outputs": [],
   "source": [
    "from IPython.display import Image\n",
    "Image(\"/gpfs/bsc_home/xpliu/pv/jupyterhubpeini/scanflow/images/mnist-wf.PNG\", width=1200, height=400)"
   ]
  },
  {
   "cell_type": "code",
   "execution_count": 8,
   "metadata": {},
   "outputs": [
    {
     "data": {
      "image/png": "[encoded data removed]",
      "text/plain": [
       "<IPython.core.display.Image object>"
      ]
     },
     "execution_count": 8,
     "metadata": {
      "image/png": {
       "height": 400,
       "width": 1200
      }
     },
     "output_type": "execute_result"
    }
   ],
   "source": [
    "from IPython.display import Image\n",
    "Image(\"/gpfs/bsc_home/xpliu/pv/jupyterhubpeini/scanflow/images/mnist-checker-wf.PNG\", width=1200, height=400)"
   ]
  },
  {
   "cell_type": "code",
   "execution_count": 27,
   "metadata": {},
   "outputs": [
    {
     "data": {
      "image/png": "[encoded data removed]",
      "text/plain": [
       "<IPython.core.display.Image object>"
      ]
     },
     "execution_count": 27,
     "metadata": {
      "image/png": {
       "height": 400,
       "width": 1200
      }
     },
     "output_type": "execute_result"
    }
   ],
   "source": [
    "from IPython.display import Image\n",
    "Image(\"/gpfs/bsc_home/xpliu/pv/jupyterhubpeini/scanflow/images/model-registry.PNG\", width=1200, height=400)"
   ]
  },
  {
   "cell_type": "markdown",
   "metadata": {},
   "source": [
    "## --------------------Team to Evaluate the model-------(if training stage is finished)-------------"
   ]
  },
  {
   "cell_type": "markdown",
   "metadata": {},
   "source": [
    "## 4. Submit scanflow app metadata\n",
    "\n",
    "  scanflowapp metadata\n",
    "  ```bash\n",
    "   datascience\n",
    "     - workflows\n",
    "        - mnist-check-wf.json\n",
    "        - mnist-wf.json\n",
    "     - mnist.json\n",
    "  ```"
   ]
  },
  {
   "cell_type": "code",
   "execution_count": 9,
   "metadata": {},
   "outputs": [
    {
     "name": "stderr",
     "output_type": "stream",
     "text": [
      "21-May-21 15:48:17 -  INFO - Scanflowapp: {'app_name': 'mnist', 'app_dir': '/gpfs/bsc_home/xpliu/pv/jupyterhubpeini/scanflow/examples/mnist/datascience', 'team_name': 'datascience', 'workflows': [{'name': 'mnist-wf', 'executors': [{'name': 'load-data', 'mainfile': 'loaddata.py', 'parameters': {'app_name': 'mnist', 'team_name': 'data'}, 'requirements': None, 'dockerfile': None, 'base_image': None, 'env': None, 'image': '172.30.0.49:5000/load-data:latest'}, {'name': 'modeling-cnn1', 'mainfile': 'modeling.py', 'parameters': {'model_name': 'mnist_cnn', 'epochs': 1, 'x_train_path': '/workflow/load-data/mnist/data/mnist/train_images.npy', 'y_train_path': '/workflow/load-data/mnist/data/mnist/train_labels.npy', 'x_test_path': '/workflow/load-data/mnist/data/mnist/test_images.npy', 'y_test_path': '/workflow/load-data/mnist/data/mnist/test_labels.npy'}, 'requirements': 'req_modeling.txt', 'dockerfile': None, 'base_image': None, 'env': None, 'image': '172.30.0.49:5000/modeling-cnn1:latest'}, {'name': 'modeling-cnn2', 'mainfile': 'modeling.py', 'parameters': {'model_name': 'mnist_cnn', 'epochs': 2, 'x_train_path': '/workflow/load-data/mnist/data/mnist/train_images.npy', 'y_train_path': '/workflow/load-data/mnist/data/mnist/train_labels.npy', 'x_test_path': '/workflow/load-data/mnist/data/mnist/test_images.npy', 'y_test_path': '/workflow/load-data/mnist/data/mnist/test_labels.npy'}, 'requirements': 'req_modeling.txt', 'dockerfile': None, 'base_image': 'modeling-cnn1', 'env': None, 'image': '172.30.0.49:5000/modeling-cnn2:latest'}], 'dependencies': [{'depender': 'modeling-cnn1', 'dependee': 'load-data', 'priority': 0}, {'depender': 'modeling-cnn2', 'dependee': 'load-data', 'priority': 0}], 'output_dir': '/workflow'}, {'name': 'mnist-checker-wf', 'executors': [{'name': 'load-data', 'mainfile': 'loaddata.py', 'parameters': {'app_name': 'mnist', 'team_name': 'data'}, 'requirements': None, 'dockerfile': None, 'base_image': None, 'env': None, 'image': '172.30.0.49:5000/load-data:latest'}, {'name': 'checker', 'mainfile': 'checker.py', 'parameters': {'model_name': 'mnist_detector', 'epochs': 1, 'x_train_path': '/workflow/load-data/mnist/data/mnist/train_images.npy'}, 'requirements': 'req_checker.txt', 'dockerfile': None, 'base_image': None, 'env': None, 'image': '172.30.0.49:5000/checker:latest'}], 'dependencies': [{'depender': 'checker', 'dependee': 'load-data', 'priority': 0}], 'output_dir': '/workflow'}], 'agents': None, 'tracker': {'image': '172.30.0.49:5000/scanflow-tracker', 'nodePort': 46668}}\n"
     ]
    },
    {
     "ename": "TypeError",
     "evalue": "string indices must be integers",
     "output_type": "error",
     "traceback": [
      "\u001b[0;31m---------------------------------------------------------------------------\u001b[0m",
      "\u001b[0;31mTypeError\u001b[0m                                 Traceback (most recent call last)",
      "\u001b[0;32m<ipython-input-9-ce1edbc65514>\u001b[0m in \u001b[0;36m<module>\u001b[0;34m\u001b[0m\n\u001b[0;32m----> 1\u001b[0;31m \u001b[0mclient\u001b[0m\u001b[0;34m.\u001b[0m\u001b[0msubmit_ScanflowApplication\u001b[0m\u001b[0;34m(\u001b[0m\u001b[0mbuild_app\u001b[0m\u001b[0;34m)\u001b[0m\u001b[0;34m\u001b[0m\u001b[0;34m\u001b[0m\u001b[0m\n\u001b[0m",
      "\u001b[0;32m~/pv/jupyterhubpeini/scanflow/scanflow/client/scanflowClient.py\u001b[0m in \u001b[0;36msubmit_ScanflowApplication\u001b[0;34m(self, app)\u001b[0m\n\u001b[1;32m     68\u001b[0m             \u001b[0;32mreturn\u001b[0m \u001b[0;32mTrue\u001b[0m\u001b[0;34m\u001b[0m\u001b[0;34m\u001b[0m\u001b[0m\n\u001b[1;32m     69\u001b[0m         \u001b[0;32melse\u001b[0m\u001b[0;34m:\u001b[0m\u001b[0;34m\u001b[0m\u001b[0;34m\u001b[0m\u001b[0m\n\u001b[0;32m---> 70\u001b[0;31m             \u001b[0mlogging\u001b[0m\u001b[0;34m.\u001b[0m\u001b[0merror\u001b[0m\u001b[0;34m(\u001b[0m\u001b[0;34mf\"{response.text['detail']}\"\u001b[0m\u001b[0;34m)\u001b[0m\u001b[0;34m\u001b[0m\u001b[0;34m\u001b[0m\u001b[0m\n\u001b[0m\u001b[1;32m     71\u001b[0m             \u001b[0;32mreturn\u001b[0m \u001b[0;32mFalse\u001b[0m\u001b[0;34m\u001b[0m\u001b[0;34m\u001b[0m\u001b[0m\n\u001b[1;32m     72\u001b[0m \u001b[0;34m\u001b[0m\u001b[0m\n",
      "\u001b[0;31mTypeError\u001b[0m: string indices must be integers"
     ]
    }
   ],
   "source": [
    "client.submit_ScanflowApplication(build_app)"
   ]
  },
  {
   "cell_type": "markdown",
   "metadata": {},
   "source": [
    "## 4. Submit prepared production model \n",
    "\n",
    " scanflow model\n",
    "  1. submit mnist-checker model (e.g., mnist_detector)\n",
    "  2. submit mnist model (e.g., mnist_cnn)"
   ]
  },
  {
   "cell_type": "code",
   "execution_count": 7,
   "metadata": {},
   "outputs": [],
   "source": [
    "trackerClient = ScanflowTrackerClient(scanflow_tracker_local_uri=\"http://172.30.0.50:46668\",\n",
    "                        verbose=True)"
   ]
  },
  {
   "cell_type": "code",
   "execution_count": 8,
   "metadata": {},
   "outputs": [
    {
     "name": "stderr",
     "output_type": "stream",
     "text": [
      "11-May-21 16:53:18 -  INFO - Found credentials in environment variables.\n",
      "/gpfs/bsc_home/xpliu/anaconda3/lib/python3.8/site-packages/pl_bolts/utils/warnings.py:30: UserWarning: You want to use `wandb` which is not installed yet, install it with `pip install wandb`.\n",
      "  stdout_func(\n",
      "/gpfs/bsc_home/xpliu/anaconda3/lib/python3.8/site-packages/pl_bolts/utils/warnings.py:30: UserWarning: You want to use `gym` which is not installed yet, install it with `pip install gym`.\n",
      "  stdout_func(\n",
      "Registered model 'mnist_cnn' already exists. Creating a new version of this model...\n",
      "2021/05/11 16:53:23 INFO mlflow.tracking._model_registry.client: Waiting up to 300 seconds for model version to finish creation.                     Model name: mnist_cnn, version 3\n",
      "Created version '3' of model 'mnist_cnn'.\n",
      "11-May-21 16:53:23 -  INFO - unsupported model_type {model_type}\n"
     ]
    }
   ],
   "source": [
    "trackerClient.save_app_model(app_name=app_name,\n",
    "                            team_name=team_name,\n",
    "                            model_name=\"mnist_cnn\")"
   ]
  },
  {
   "cell_type": "code",
   "execution_count": 8,
   "metadata": {},
   "outputs": [
    {
     "name": "stderr",
     "output_type": "stream",
     "text": [
      "18-May-21 17:42:22 -  INFO - Found credentials in environment variables.\n",
      "2021/05/18 17:42:23 INFO mlflow.tracking._model_registry.client: Waiting up to 300 seconds for model version to finish creation.                     Model name: mnist_detector, version 6\n"
     ]
    }
   ],
   "source": [
    "trackerClient.save_app_model(app_name=app_name,\n",
    "                            team_name=team_name,\n",
    "                            model_name=\"mnist_detector\")"
   ]
  },
  {
   "cell_type": "markdown",
   "metadata": {},
   "source": [
    "## 5. save all artifacts \n",
    "\n",
    "\n",
    "\n",
    " scanflowapp artifacts\n",
    "\n",
    "  ```bash\n",
    "  mnist\n",
    "    - workflows\n",
    "       - load_data\n",
    "         - loaddata.py\n",
    "       - modeling_cnn1\n",
    "         - modeling.py\n",
    "         - req_modeling.txt\n",
    "       - modeling_cnn2\n",
    "         - modeling.py\n",
    "         - req_modeling.txt\n",
    "       - checker\n",
    "         - checker.py\n",
    "         - req_checker.txt\n",
    "```\n"
   ]
  },
  {
   "cell_type": "code",
   "execution_count": 22,
   "metadata": {},
   "outputs": [
    {
     "name": "stderr",
     "output_type": "stream",
     "text": [
      "03-May-21 09:04:08 -  INFO - Connecting tracking server uri: http://172.30.0.50:46667\n",
      "03-May-21 09:04:08 -  INFO - save app in /gpfs/bsc_home/xpliu/pv/jupyterhubpeini/scanflow/examples/mnist/datascience to artifact uri: s3://scanflow/1/eafb6072a45a4c459859d4a45ab599a2/artifacts\n"
     ]
    }
   ],
   "source": [
    "trackerClient.save_app_artifacts(app_name=app_name, \n",
    "                                team_name=team_name, \n",
    "                                app_dir=app_dir)"
   ]
  },
  {
   "cell_type": "markdown",
   "metadata": {},
   "source": [
    "\n",
    "  \n",
    "## 6. Clean environment (scanflow-server)\n",
    "  \n",
    "  1. clean training workflow, delete namespace\n",
    "  "
   ]
  },
  {
   "cell_type": "code",
   "execution_count": 7,
   "metadata": {},
   "outputs": [
    {
     "name": "stderr",
     "output_type": "stream",
     "text": [
      "22-May-21 19:05:45 -  INFO - Scanflowapp: {'app_name': 'mnist', 'app_dir': '/gpfs/bsc_home/xpliu/pv/jupyterhubpeini/scanflow/examples/mnist/datascience', 'team_name': 'datascience', 'workflows': [{'name': 'mnist-wf', 'executors': [{'name': 'load-data', 'mainfile': 'loaddata.py', 'parameters': {'app_name': 'mnist', 'team_name': 'data'}, 'requirements': None, 'dockerfile': None, 'base_image': None, 'env': None, 'image': '172.30.0.49:5000/load-data:latest'}, {'name': 'modeling-cnn1', 'mainfile': 'modeling.py', 'parameters': {'model_name': 'mnist_cnn', 'epochs': 1, 'x_train_path': '/workflow/load-data/mnist/data/mnist/train_images.npy', 'y_train_path': '/workflow/load-data/mnist/data/mnist/train_labels.npy', 'x_test_path': '/workflow/load-data/mnist/data/mnist/test_images.npy', 'y_test_path': '/workflow/load-data/mnist/data/mnist/test_labels.npy'}, 'requirements': 'req_modeling.txt', 'dockerfile': None, 'base_image': None, 'env': None, 'image': '172.30.0.49:5000/modeling-cnn1:latest'}, {'name': 'modeling-cnn2', 'mainfile': 'modeling.py', 'parameters': {'model_name': 'mnist_cnn', 'epochs': 2, 'x_train_path': '/workflow/load-data/mnist/data/mnist/train_images.npy', 'y_train_path': '/workflow/load-data/mnist/data/mnist/train_labels.npy', 'x_test_path': '/workflow/load-data/mnist/data/mnist/test_images.npy', 'y_test_path': '/workflow/load-data/mnist/data/mnist/test_labels.npy'}, 'requirements': 'req_modeling.txt', 'dockerfile': None, 'base_image': 'modeling-cnn1', 'env': None, 'image': '172.30.0.49:5000/modeling-cnn2:latest'}], 'dependencies': [{'depender': 'modeling-cnn1', 'dependee': 'load-data', 'priority': 0}, {'depender': 'modeling-cnn2', 'dependee': 'load-data', 'priority': 0}], 'output_dir': '/workflow'}, {'name': 'mnist-checker-wf', 'executors': [{'name': 'load-data', 'mainfile': 'loaddata.py', 'parameters': {'app_name': 'mnist', 'team_name': 'data'}, 'requirements': None, 'dockerfile': None, 'base_image': None, 'env': None, 'image': '172.30.0.49:5000/load-data:latest'}, {'name': 'checker', 'mainfile': 'checker.py', 'parameters': {'model_name': 'mnist_detector', 'epochs': 1, 'x_train_path': '/workflow/load-data/mnist/data/mnist/train_images.npy'}, 'requirements': 'req_checker.txt', 'dockerfile': None, 'base_image': None, 'env': None, 'image': '172.30.0.49:5000/checker:latest'}], 'dependencies': [{'depender': 'checker', 'dependee': 'load-data', 'priority': 0}], 'output_dir': '/workflow'}], 'agents': None, 'tracker': {'image': '172.30.0.49:5000/scanflow-tracker', 'nodePort': 46668}}\n"
     ]
    },
    {
     "ename": "TypeError",
     "evalue": "'coroutine' object is not subscriptable",
     "output_type": "error",
     "traceback": [
      "\u001b[0;31m---------------------------------------------------------------------------\u001b[0m",
      "\u001b[0;31mTypeError\u001b[0m                                 Traceback (most recent call last)",
      "\u001b[0;32m<ipython-input-7-03ce81da46df>\u001b[0m in \u001b[0;36m<module>\u001b[0;34m\u001b[0m\n\u001b[0;32m----> 1\u001b[0;31m \u001b[0;32mawait\u001b[0m \u001b[0mdeployerClient\u001b[0m\u001b[0;34m.\u001b[0m\u001b[0mdelete_app\u001b[0m\u001b[0;34m(\u001b[0m\u001b[0mapp\u001b[0m\u001b[0;34m=\u001b[0m\u001b[0mbuild_app\u001b[0m\u001b[0;34m)\u001b[0m\u001b[0;34m\u001b[0m\u001b[0;34m\u001b[0m\u001b[0m\n\u001b[0m",
      "\u001b[0;32m~/pv/jupyterhubpeini/scanflow/scanflow/client/scanflowDeployerClient.py\u001b[0m in \u001b[0;36mdelete_app\u001b[0;34m(self, app)\u001b[0m\n\u001b[1;32m    144\u001b[0m                 \u001b[0mstatus\u001b[0m \u001b[0;34m=\u001b[0m \u001b[0mresponse\u001b[0m\u001b[0;34m.\u001b[0m\u001b[0mstatus\u001b[0m\u001b[0;34m\u001b[0m\u001b[0;34m\u001b[0m\u001b[0m\n\u001b[1;32m    145\u001b[0m                 \u001b[0mtext\u001b[0m \u001b[0;34m=\u001b[0m \u001b[0mresponse\u001b[0m\u001b[0;34m.\u001b[0m\u001b[0mjson\u001b[0m\u001b[0;34m(\u001b[0m\u001b[0;34m)\u001b[0m\u001b[0;34m\u001b[0m\u001b[0;34m\u001b[0m\u001b[0m\n\u001b[0;32m--> 146\u001b[0;31m             \u001b[0mlogging\u001b[0m\u001b[0;34m.\u001b[0m\u001b[0minfo\u001b[0m\u001b[0;34m(\u001b[0m\u001b[0;34mf\"{text['detail']}\"\u001b[0m\u001b[0;34m)\u001b[0m\u001b[0;34m\u001b[0m\u001b[0;34m\u001b[0m\u001b[0m\n\u001b[0m\u001b[1;32m    147\u001b[0m         \u001b[0;32melse\u001b[0m\u001b[0;34m:\u001b[0m\u001b[0;34m\u001b[0m\u001b[0;34m\u001b[0m\u001b[0m\n\u001b[1;32m    148\u001b[0m             \u001b[0mnamespace\u001b[0m \u001b[0;34m=\u001b[0m \u001b[0;34mf\"scanflow-{app.app_name}-{app.team_name}\"\u001b[0m\u001b[0;34m\u001b[0m\u001b[0;34m\u001b[0m\u001b[0m\n",
      "\u001b[0;31mTypeError\u001b[0m: 'coroutine' object is not subscriptable"
     ]
    }
   ],
   "source": [
    "await deployerClient.delete_app(app=build_app)"
   ]
  },
  {
   "cell_type": "code",
   "execution_count": 8,
   "metadata": {},
   "outputs": [
    {
     "name": "stderr",
     "output_type": "stream",
     "text": [
      "22-May-21 16:32:04 -  INFO - Scanflowapp: {'app_name': 'mnist', 'app_dir': '/gpfs/bsc_home/xpliu/pv/jupyterhubpeini/scanflow/examples/mnist/datascience', 'team_name': 'datascience', 'workflows': [{'name': 'mnist-wf', 'executors': [{'name': 'load-data', 'mainfile': 'loaddata.py', 'parameters': {'app_name': 'mnist', 'team_name': 'data'}, 'requirements': None, 'dockerfile': None, 'base_image': None, 'env': None, 'image': '172.30.0.49:5000/load-data:latest'}, {'name': 'modeling-cnn1', 'mainfile': 'modeling.py', 'parameters': {'model_name': 'mnist_cnn', 'epochs': 1, 'x_train_path': '/workflow/load-data/mnist/data/mnist/train_images.npy', 'y_train_path': '/workflow/load-data/mnist/data/mnist/train_labels.npy', 'x_test_path': '/workflow/load-data/mnist/data/mnist/test_images.npy', 'y_test_path': '/workflow/load-data/mnist/data/mnist/test_labels.npy'}, 'requirements': 'req_modeling.txt', 'dockerfile': None, 'base_image': None, 'env': None, 'image': '172.30.0.49:5000/modeling-cnn1:latest'}, {'name': 'modeling-cnn2', 'mainfile': 'modeling.py', 'parameters': {'model_name': 'mnist_cnn', 'epochs': 2, 'x_train_path': '/workflow/load-data/mnist/data/mnist/train_images.npy', 'y_train_path': '/workflow/load-data/mnist/data/mnist/train_labels.npy', 'x_test_path': '/workflow/load-data/mnist/data/mnist/test_images.npy', 'y_test_path': '/workflow/load-data/mnist/data/mnist/test_labels.npy'}, 'requirements': 'req_modeling.txt', 'dockerfile': None, 'base_image': 'modeling-cnn1', 'env': None, 'image': '172.30.0.49:5000/modeling-cnn2:latest'}], 'dependencies': [{'depender': 'modeling-cnn1', 'dependee': 'load-data', 'priority': 0}, {'depender': 'modeling-cnn2', 'dependee': 'load-data', 'priority': 0}], 'output_dir': '/workflow'}, {'name': 'mnist-checker-wf', 'executors': [{'name': 'load-data', 'mainfile': 'loaddata.py', 'parameters': {'app_name': 'mnist', 'team_name': 'data'}, 'requirements': None, 'dockerfile': None, 'base_image': None, 'env': None, 'image': '172.30.0.49:5000/load-data:latest'}, {'name': 'checker', 'mainfile': 'checker.py', 'parameters': {'model_name': 'mnist_detector', 'epochs': 1, 'x_train_path': '/workflow/load-data/mnist/data/mnist/train_images.npy'}, 'requirements': 'req_checker.txt', 'dockerfile': None, 'base_image': None, 'env': None, 'image': '172.30.0.49:5000/checker:latest'}], 'dependencies': [{'depender': 'checker', 'dependee': 'load-data', 'priority': 0}], 'output_dir': '/workflow'}], 'agents': None, 'tracker': {'image': '172.30.0.49:5000/scanflow-tracker', 'nodePort': 46668}}\n"
     ]
    },
    {
     "data": {
      "text/plain": [
       "True"
      ]
     },
     "execution_count": 8,
     "metadata": {},
     "output_type": "execute_result"
    }
   ],
   "source": [
    "await deployerClient.clean_environment(app=build_app)"
   ]
  },
  {
   "cell_type": "code",
   "execution_count": null,
   "metadata": {},
   "outputs": [],
   "source": []
  },
  {
   "cell_type": "code",
   "execution_count": null,
   "metadata": {},
   "outputs": [],
   "source": []
  },
  {
   "cell_type": "code",
   "execution_count": null,
   "metadata": {},
   "outputs": [],
   "source": []
  },
  {
   "cell_type": "code",
   "execution_count": null,
   "metadata": {},
   "outputs": [],
   "source": []
  },
  {
   "cell_type": "code",
   "execution_count": 9,
   "metadata": {},
   "outputs": [
    {
     "ename": "NameError",
     "evalue": "name 'ApplicationGraph' is not defined",
     "output_type": "error",
     "traceback": [
      "\u001b[0;31m---------------------------------------------------------------------------\u001b[0m",
      "\u001b[0;31mNameError\u001b[0m                                 Traceback (most recent call last)",
      "\u001b[0;32m<ipython-input-9-62546d8dafa8>\u001b[0m in \u001b[0;36m<module>\u001b[0;34m\u001b[0m\n\u001b[0;32m----> 1\u001b[0;31m \u001b[0mclient\u001b[0m\u001b[0;34m.\u001b[0m\u001b[0mdraw_ScanflowApplication\u001b[0m\u001b[0;34m(\u001b[0m\u001b[0mscanflowapp\u001b[0m\u001b[0;34m=\u001b[0m\u001b[0mbuild_app\u001b[0m\u001b[0;34m)\u001b[0m\u001b[0;34m\u001b[0m\u001b[0;34m\u001b[0m\u001b[0m\n\u001b[0m",
      "\u001b[0;32m~/pv/jupyterhubpeini/scanflow/scanflow/client/scanflowClient.py\u001b[0m in \u001b[0;36mdraw_ScanflowApplication\u001b[0;34m(self, scanflowapp)\u001b[0m\n\u001b[1;32m     74\u001b[0m \u001b[0;34m\u001b[0m\u001b[0m\n\u001b[1;32m     75\u001b[0m     \u001b[0;32mdef\u001b[0m \u001b[0mdraw_ScanflowApplication\u001b[0m\u001b[0;34m(\u001b[0m\u001b[0mself\u001b[0m\u001b[0;34m,\u001b[0m \u001b[0mscanflowapp\u001b[0m\u001b[0;34m)\u001b[0m\u001b[0;34m:\u001b[0m\u001b[0;34m\u001b[0m\u001b[0;34m\u001b[0m\u001b[0m\n\u001b[0;32m---> 76\u001b[0;31m         \u001b[0mappGraph\u001b[0m \u001b[0;34m=\u001b[0m \u001b[0mApplicationGraph\u001b[0m\u001b[0;34m(\u001b[0m\u001b[0mscanflowapp\u001b[0m\u001b[0;34m)\u001b[0m\u001b[0;34m\u001b[0m\u001b[0;34m\u001b[0m\u001b[0m\n\u001b[0m\u001b[1;32m     77\u001b[0m         \u001b[0;32mreturn\u001b[0m \u001b[0mappGraph\u001b[0m\u001b[0;34m.\u001b[0m\u001b[0mdraw_graph\u001b[0m\u001b[0;34m(\u001b[0m\u001b[0;34m)\u001b[0m\u001b[0;34m\u001b[0m\u001b[0;34m\u001b[0m\u001b[0m\n\u001b[1;32m     78\u001b[0m \u001b[0;34m\u001b[0m\u001b[0m\n",
      "\u001b[0;31mNameError\u001b[0m: name 'ApplicationGraph' is not defined"
     ]
    }
   ],
   "source": [
    "client.draw_ScanflowApplication(scanflowapp=build_app)"
   ]
  },
  {
   "cell_type": "code",
   "execution_count": null,
   "metadata": {},
   "outputs": [],
   "source": []
  }
 ],
 "metadata": {
  "kernelspec": {
   "display_name": "Python 3",
   "language": "python",
   "name": "python3"
  },
  "language_info": {
   "codemirror_mode": {
    "name": "ipython",
    "version": 3
   },
   "file_extension": ".py",
   "mimetype": "text/x-python",
   "name": "python",
   "nbconvert_exporter": "python",
   "pygments_lexer": "ipython3",
   "version": "3.8.5"
  }
 },
 "nbformat": 4,
 "nbformat_minor": 4
}
