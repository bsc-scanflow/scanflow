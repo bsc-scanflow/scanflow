{
 "cells": [
  {
   "cell_type": "markdown",
   "metadata": {},
   "source": [
    "# Mnist Data (Discovery Stage)\n",
    "\n",
    "## Prepare the dataset\n",
    "  \n",
    "## Submit datset to Scanflow-Tracker\n",
    "```bash\n",
    "  mnist\n",
    "   - data\n",
    "     - mnist\n",
    "       - train_images.npy\n",
    "       - train_labels.npy\n",
    "       - test_images.npy\n",
    "       - test_labels.npy\n",
    "```"
   ]
  },
  {
   "cell_type": "code",
   "execution_count": null,
   "metadata": {},
   "outputs": [],
   "source": [
    "from scanflow.tools import env\n",
    "print(env.get_env(\"SCANFLOW_TRACKER_URI\"))"
   ]
  },
  {
   "cell_type": "code",
   "execution_count": 1,
   "metadata": {},
   "outputs": [
    {
     "ename": "IndentationError",
     "evalue": "unexpected indent (scanflowClient.py, line 70)",
     "output_type": "error",
     "traceback": [
      "Traceback \u001b[0;36m(most recent call last)\u001b[0m:\n",
      "  File \u001b[1;32m\"/gpfs/bsc_home/xpliu/anaconda3/lib/python3.8/site-packages/IPython/core/interactiveshell.py\"\u001b[0m, line \u001b[1;32m3418\u001b[0m, in \u001b[1;35mrun_code\u001b[0m\n    exec(code_obj, self.user_global_ns, self.user_ns)\n",
      "  File \u001b[1;32m\"<ipython-input-1-1827bb084643>\"\u001b[0m, line \u001b[1;32m7\u001b[0m, in \u001b[1;35m<module>\u001b[0m\n    from scanflow.client import ScanflowTrackerClient\n",
      "\u001b[0;36m  File \u001b[0;32m\"../../scanflow/client/__init__.py\"\u001b[0;36m, line \u001b[0;32m1\u001b[0;36m, in \u001b[0;35m<module>\u001b[0;36m\u001b[0m\n\u001b[0;31m    from .scanflowClient import ScanflowClient\u001b[0m\n",
      "\u001b[0;36m  File \u001b[0;32m\"../../scanflow/client/scanflowClient.py\"\u001b[0;36m, line \u001b[0;32m70\u001b[0m\n\u001b[0;31m    return None\u001b[0m\n\u001b[0m    ^\u001b[0m\n\u001b[0;31mIndentationError\u001b[0m\u001b[0;31m:\u001b[0m unexpected indent\n"
     ]
    }
   ],
   "source": [
    "import sys\n",
    "import matplotlib.pyplot as plt\n",
    "import os\n",
    "sys.path.insert(0,'../..')\n",
    "\n",
    "import scanflow\n",
    "from scanflow.client import ScanflowTrackerClient\n",
    "\n",
    "# App folder\n",
    "scanflow_path = \"/gpfs/bsc_home/xpliu/pv/jupyterhubpeini/scanflow\"\n",
    "app_dir = os.path.join(scanflow_path, \"examples/mnist/data\")\n",
    "app_name = \"mnist\"\n",
    "team_name = \"data\"\n",
    "\n",
    "# scanflow client\n",
    "client = ScanflowTrackerClient(scanflow_tracker_uri=\"http://172.30.0.50:46667\",\n",
    "                        verbose=True)"
   ]
  },
  {
   "cell_type": "code",
   "execution_count": 2,
   "metadata": {},
   "outputs": [
    {
     "name": "stderr",
     "output_type": "stream",
     "text": [
      "18-Apr-21 20:41:49 -  INFO - save app in /gpfs/bsc_home/xpliu/pv/jupyterhubpeini/scanflow/examples/mnist/data to artifact uri: s3://scanflow/1/f435ea1d8fa14fe3898dd91e73b62f1a/artifacts\n",
      "18-Apr-21 20:41:49 -  INFO - Found credentials in environment variables.\n"
     ]
    }
   ],
   "source": [
    "client.save_app(app_name=app_name, \n",
    "                team_name=team_name, \n",
    "                app_dir=app_dir)"
   ]
  },
  {
   "cell_type": "code",
   "execution_count": null,
   "metadata": {},
   "outputs": [],
   "source": []
  },
  {
   "cell_type": "code",
   "execution_count": null,
   "metadata": {},
   "outputs": [],
   "source": []
  },
  {
   "cell_type": "code",
   "execution_count": null,
   "metadata": {},
   "outputs": [],
   "source": []
  },
  {
   "cell_type": "markdown",
   "metadata": {},
   "source": [
    "### some tests"
   ]
  },
  {
   "cell_type": "code",
   "execution_count": 13,
   "metadata": {},
   "outputs": [
    {
     "name": "stderr",
     "output_type": "stream",
     "text": [
      "19-Apr-21 16:04:06 -  INFO - Connecting tracking server uri: http://172.30.0.50:46667\n",
      "19-Apr-21 16:04:06 -  INFO - [download_app] by 'app_name'. None. Get the latest submission by mnist\n",
      "19-Apr-21 16:04:06 -  INFO - get latest run within the experiment:['1']\n",
      "19-Apr-21 16:04:06 -  INFO - {'info': {'artifact_uri': 's3://scanflow/1/f435ea1d8fa14fe3898dd91e73b62f1a/artifacts', 'end_time': 1618771321492, 'experiment_id': '1', 'lifecycle_stage': 'active', 'run_id': 'f435ea1d8fa14fe3898dd91e73b62f1a', 'run_uuid': 'f435ea1d8fa14fe3898dd91e73b62f1a', 'start_time': 1618771309570, 'status': 'FINISHED', 'user_id': 'xpliu'}, 'data': {'metrics': {}, 'params': {}, 'tags': {'mlflow.user': 'xpliu', 'mlflow.source.name': '/gpfs/bsc_home/xpliu/anaconda3/lib/python3.8/site-packages/ipykernel_launcher.py', 'mlflow.source.type': 'LOCAL', 'mlflow.runName': 'data'}}}\n",
      "19-Apr-21 16:04:06 -  INFO - Found credentials in environment variables.\n",
      "19-Apr-21 16:04:17 -  INFO - Artifacts downloaded in: /gpfs/bsc_home/xpliu/pv/jupyterhubpeini/scanflow/tutorials/mnist/mnist\n",
      "19-Apr-21 16:04:17 -  INFO - Artifacts: ['data']\n"
     ]
    }
   ],
   "source": [
    "client.download_app(app_name=app_name, \n",
    "                    local_dir=\"/gpfs/bsc_home/xpliu/pv/jupyterhubpeini/scanflow/tutorials/mnist\")"
   ]
  },
  {
   "cell_type": "code",
   "execution_count": 2,
   "metadata": {},
   "outputs": [
    {
     "name": "stderr",
     "output_type": "stream",
     "text": [
      "19-Apr-21 16:08:35 -  INFO - Connecting tracking server uri: http://172.30.0.50:46667\n",
      "19-Apr-21 16:08:35 -  INFO - [download_app] by 'run_name'. data. Get the latest submission by data\n",
      "19-Apr-21 16:08:35 -  INFO - search_run by tag.mlflow.runName = 'data'\n",
      "19-Apr-21 16:08:35 -  INFO - get latest run within the experiment:['1']\n",
      "19-Apr-21 16:08:36 -  INFO - {'info': {'artifact_uri': 's3://scanflow/1/f435ea1d8fa14fe3898dd91e73b62f1a/artifacts', 'end_time': 1618771321492, 'experiment_id': '1', 'lifecycle_stage': 'active', 'run_id': 'f435ea1d8fa14fe3898dd91e73b62f1a', 'run_uuid': 'f435ea1d8fa14fe3898dd91e73b62f1a', 'start_time': 1618771309570, 'status': 'FINISHED', 'user_id': 'xpliu'}, 'data': {'metrics': {}, 'params': {}, 'tags': {'mlflow.user': 'xpliu', 'mlflow.source.name': '/gpfs/bsc_home/xpliu/anaconda3/lib/python3.8/site-packages/ipykernel_launcher.py', 'mlflow.source.type': 'LOCAL', 'mlflow.runName': 'data'}}}\n",
      "19-Apr-21 16:08:36 -  INFO - Found credentials in environment variables.\n",
      "19-Apr-21 16:08:46 -  INFO - Artifacts downloaded in: /gpfs/bsc_home/xpliu/pv/jupyterhubpeini/scanflow/tutorials/mnist/mnist\n",
      "19-Apr-21 16:08:46 -  INFO - Artifacts: ['data']\n"
     ]
    }
   ],
   "source": [
    "client.download_app(app_name=app_name, \n",
    "                    team_name=\"data\",\n",
    "                    local_dir=\"/gpfs/bsc_home/xpliu/pv/jupyterhubpeini/scanflow/tutorials/mnist\")"
   ]
  },
  {
   "cell_type": "code",
   "execution_count": 4,
   "metadata": {},
   "outputs": [
    {
     "name": "stderr",
     "output_type": "stream",
     "text": [
      "18-Apr-21 20:57:15 -  INFO - [download_app] by 'run_id'. aadd04288ed94baf804232a8a6ae0665\n",
      "18-Apr-21 20:57:15 -  INFO - Found credentials in environment variables.\n",
      "18-Apr-21 20:57:25 -  INFO - Artifacts downloaded in: /gpfs/bsc_home/xpliu/pv/jupyterhubpeini/scanflow/tutorials/mnist/mnist\n",
      "18-Apr-21 20:57:25 -  INFO - Artifacts: ['data']\n"
     ]
    }
   ],
   "source": [
    "client.download_app(app_name=\"mnist\", \n",
    "                    run_id=\"aadd04288ed94baf804232a8a6ae0665\",\n",
    "                    local_dir=\"/gpfs/bsc_home/xpliu/pv/jupyterhubpeini/scanflow/tutorials/mnist\")"
   ]
  },
  {
   "cell_type": "code",
   "execution_count": 4,
   "metadata": {},
   "outputs": [
    {
     "name": "stderr",
     "output_type": "stream",
     "text": [
      "19-Apr-21 15:58:03 -  INFO - Connecting tracking server uri: http://172.30.0.49:5001\n",
      "19-Apr-21 15:58:03 -  INFO - save app in /gpfs/bsc_home/xpliu/pv/jupyterhubpeini/scanflow/examples/mnist/data to artifact uri: /gpfs/bsc_home/xpliu/tensorflow-model/mlflow/artifact/1/b9accc61ea4a4d82951b4f5cd4213dce/artifacts\n"
     ]
    },
    {
     "name": "stdout",
     "output_type": "stream",
     "text": [
      "INFO: 'mnist' does not exist. Creating a new experiment\n"
     ]
    }
   ],
   "source": [
    "client.save_app(app_name=app_name, \n",
    "                team_name=\"data\", \n",
    "                app_dir=app_dir,\n",
    "               tolocal=True)"
   ]
  },
  {
   "cell_type": "code",
   "execution_count": 3,
   "metadata": {},
   "outputs": [
    {
     "name": "stderr",
     "output_type": "stream",
     "text": [
      "19-Apr-21 16:08:52 -  INFO - Connecting tracking server uri: http://172.30.0.49:5001\n",
      "19-Apr-21 16:08:52 -  INFO - [download_app] by 'run_name'. data. Get the latest submission by data\n",
      "19-Apr-21 16:08:52 -  INFO - search_run by tag.mlflow.runName = 'data'\n",
      "19-Apr-21 16:08:52 -  INFO - get latest run within the experiment:['1']\n",
      "19-Apr-21 16:08:52 -  INFO - {'info': {'artifact_uri': '/gpfs/bsc_home/xpliu/tensorflow-model/mlflow/artifact/1/b9accc61ea4a4d82951b4f5cd4213dce/artifacts', 'end_time': 1618840686810, 'experiment_id': '1', 'lifecycle_stage': 'active', 'run_id': 'b9accc61ea4a4d82951b4f5cd4213dce', 'run_uuid': 'b9accc61ea4a4d82951b4f5cd4213dce', 'start_time': 1618840683232, 'status': 'FINISHED', 'user_id': 'xpliu'}, 'data': {'metrics': {}, 'params': {}, 'tags': {'mlflow.runName': 'data', 'mlflow.user': 'xpliu', 'mlflow.source.type': 'LOCAL', 'mlflow.source.name': '/gpfs/bsc_home/xpliu/anaconda3/lib/python3.8/site-packages/ipykernel_launcher.py'}}}\n",
      "19-Apr-21 16:08:54 -  INFO - Artifacts downloaded in: /gpfs/bsc_home/xpliu/pv/jupyterhubpeini/scanflow/tutorials/mnist/mnist\n",
      "19-Apr-21 16:08:54 -  INFO - Artifacts: ['data']\n"
     ]
    }
   ],
   "source": [
    "client.download_app(app_name=app_name, \n",
    "                    team_name=\"data\",\n",
    "                    local_dir=\"/gpfs/bsc_home/xpliu/pv/jupyterhubpeini/scanflow/tutorials/mnist\",\n",
    "                   fromlocal=True)"
   ]
  },
  {
   "cell_type": "code",
   "execution_count": null,
   "metadata": {},
   "outputs": [],
   "source": []
  }
 ],
 "metadata": {
  "kernelspec": {
   "display_name": "Python 3",
   "language": "python",
   "name": "python3"
  },
  "language_info": {
   "codemirror_mode": {
    "name": "ipython",
    "version": 3
   },
   "file_extension": ".py",
   "mimetype": "text/x-python",
   "name": "python",
   "nbconvert_exporter": "python",
   "pygments_lexer": "ipython3",
   "version": "3.8.5"
  }
 },
 "nbformat": 4,
 "nbformat_minor": 4
}
