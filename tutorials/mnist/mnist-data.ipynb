{
 "cells": [
  {
   "cell_type": "markdown",
   "metadata": {},
   "source": [
    "# Mnist Data (Discovery Stage)\n",
    "\n",
    "## Prepare the dataset\n",
    "  \n",
    "## Submit datset to Scanflow-Tracker\n",
    "```bash\n",
    "  mnist\n",
    "   - data\n",
    "     - mnist\n",
    "       - train_images.npy\n",
    "       - train_labels.npy\n",
    "       - test_images.npy\n",
    "       - test_labels.npy\n",
    "```"
   ]
  },
  {
   "cell_type": "code",
   "execution_count": 3,
   "metadata": {},
   "outputs": [
    {
     "name": "stdout",
     "output_type": "stream",
     "text": [
      "http://172.30.0.50:46667\n"
     ]
    }
   ],
   "source": [
    "from scanflow.tools import env\n",
    "print(env.get_env(\"SCANFLOW_TRACKER_URI\"))"
   ]
  },
  {
   "cell_type": "code",
   "execution_count": 1,
   "metadata": {},
   "outputs": [],
   "source": [
    "import sys\n",
    "import matplotlib.pyplot as plt\n",
    "import os\n",
    "sys.path.insert(0,'../..')\n",
    "\n",
    "import scanflow\n",
    "from scanflow.client import ScanflowTrackerClient\n",
    "\n",
    "# App folder\n",
    "scanflow_path = \"/gpfs/bsc_home/xpliu/pv/jupyterhubpeini/scanflow\"\n",
    "app_dir = os.path.join(scanflow_path, \"examples/mnist/data\")\n",
    "app_name = \"mnist\"\n",
    "team_name = \"data\"\n",
    "\n",
    "# scanflow client\n",
    "trackerclient = ScanflowTrackerClient(scanflow_tracker_uri=\"http://172.30.0.50:46667\",\n",
    "                        verbose=True)"
   ]
  },
  {
   "cell_type": "code",
   "execution_count": 6,
   "metadata": {},
   "outputs": [
    {
     "name": "stderr",
     "output_type": "stream",
     "text": [
      "22-Apr-21 19:18:10 -  INFO - Connecting tracking server uri: http://172.30.0.50:46667\n",
      "22-Apr-21 19:18:10 -  INFO - save app in /gpfs/bsc_home/xpliu/pv/jupyterhubpeini/scanflow/examples/mnist/data to artifact uri: s3://scanflow/1/94d7a9ba278140cbba63b31dd63a1c33/artifacts\n",
      "22-Apr-21 19:18:11 -  INFO - Found credentials in environment variables.\n"
     ]
    }
   ],
   "source": [
    "trackerclient.save_artifacts(app_name=app_name, \n",
    "                            team_name=team_name, \n",
    "                            app_dir=app_dir)"
   ]
  },
  {
   "cell_type": "code",
   "execution_count": null,
   "metadata": {},
   "outputs": [],
   "source": []
  },
  {
   "cell_type": "code",
   "execution_count": null,
   "metadata": {},
   "outputs": [],
   "source": []
  }
 ],
 "metadata": {
  "kernelspec": {
   "display_name": "Python 3",
   "language": "python",
   "name": "python3"
  },
  "language_info": {
   "codemirror_mode": {
    "name": "ipython",
    "version": 3
   },
   "file_extension": ".py",
   "mimetype": "text/x-python",
   "name": "python",
   "nbconvert_exporter": "python",
   "pygments_lexer": "ipython3",
   "version": "3.8.5"
  }
 },
 "nbformat": 4,
 "nbformat_minor": 4
}
