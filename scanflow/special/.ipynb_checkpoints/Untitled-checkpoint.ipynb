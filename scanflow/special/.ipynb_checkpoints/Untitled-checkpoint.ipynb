{
 "cells": [
  {
   "cell_type": "code",
   "execution_count": 17,
   "metadata": {},
   "outputs": [
    {
     "data": {
      "text/plain": [
       "[<Experiment: artifact_location='file:///home/guess/Desktop/scanflow/scanflow/special/mlruns/0', experiment_id='0', lifecycle_stage='active', name='Default', tags={}>]"
      ]
     },
     "execution_count": 17,
     "metadata": {},
     "output_type": "execute_result"
    }
   ],
   "source": [
    "import mlflow\n",
    "from mlflow.tracking import MlflowClient\n",
    "\n",
    "client = MlflowClient()\n",
    "experiments = client.list_experiments()\n",
    "experiments\n"
   ]
  },
  {
   "cell_type": "code",
   "execution_count": 24,
   "metadata": {},
   "outputs": [
    {
     "data": {
      "text/plain": [
       "NoneType"
      ]
     },
     "execution_count": 24,
     "metadata": {},
     "output_type": "execute_result"
    }
   ],
   "source": [
    "type(client.get_experiment_by_name('Defaulst'))"
   ]
  },
  {
   "cell_type": "code",
   "execution_count": 19,
   "metadata": {},
   "outputs": [
    {
     "data": {
      "text/plain": [
       "<Experiment: artifact_location='file:///home/guess/Desktop/scanflow/scanflow/special/mlruns/0', experiment_id='0', lifecycle_stage='active', name='Default', tags={}>"
      ]
     },
     "execution_count": 19,
     "metadata": {},
     "output_type": "execute_result"
    }
   ],
   "source": [
    "def search_experiment(name):\n",
    "    for e in experiments:\n",
    "        if e.name == name:\n",
    "            return e\n",
    "        \n",
    "search_experiment('Default')"
   ]
  },
  {
   "cell_type": "code",
   "execution_count": 123,
   "metadata": {},
   "outputs": [
    {
     "data": {
      "text/plain": [
       "[<RunInfo: artifact_uri='file:///home/guess/Desktop/scanflow/scanflow/special/mlruns/0/688316478a4240edac605583121c6f05/artifacts', end_time=1615848505110, experiment_id='0', lifecycle_stage='active', run_id='688316478a4240edac605583121c6f05', run_uuid='688316478a4240edac605583121c6f05', start_time=1615848505101, status='FINISHED', user_id='guess'>]"
      ]
     },
     "execution_count": 123,
     "metadata": {},
     "output_type": "execute_result"
    }
   ],
   "source": [
    "runs_info = client.list_run_infos('0', order_by=[\"attribute.start_time DESC\"])\n",
    "runs_info\n"
   ]
  },
  {
   "cell_type": "code",
   "execution_count": 127,
   "metadata": {},
   "outputs": [
    {
     "data": {
      "text/plain": [
       "'688316478a4240edac605583121c6f05'"
      ]
     },
     "execution_count": 127,
     "metadata": {},
     "output_type": "execute_result"
    }
   ],
   "source": [
    "last_run_id = runs_info[0].run_id\n",
    "last_run_id"
   ]
  },
  {
   "cell_type": "code",
   "execution_count": 128,
   "metadata": {},
   "outputs": [
    {
     "data": {
      "text/plain": [
       "[<FileInfo: file_size=None, is_dir=True, path='Input'>]"
      ]
     },
     "execution_count": 128,
     "metadata": {},
     "output_type": "execute_result"
    }
   ],
   "source": [
    "client.list_artifacts(last_run_id)"
   ]
  },
  {
   "cell_type": "code",
   "execution_count": 64,
   "metadata": {},
   "outputs": [],
   "source": [
    "# client.get_run(run_id)"
   ]
  },
  {
   "cell_type": "code",
   "execution_count": 130,
   "metadata": {},
   "outputs": [
    {
     "data": {
      "text/plain": [
       "[<FileInfo: file_size=56, is_dir=False, path='Input/input_df.csv'>]"
      ]
     },
     "execution_count": 130,
     "metadata": {},
     "output_type": "execute_result"
    }
   ],
   "source": [
    "last_artifacts = client.list_artifacts(last_run_id, path='Input')\n",
    "last_artifacts"
   ]
  },
  {
   "cell_type": "code",
   "execution_count": 93,
   "metadata": {},
   "outputs": [
    {
     "name": "stdout",
     "output_type": "stream",
     "text": [
      "Anomaly/feedback_anomaly.json\n",
      "{'n_anomalies': 3, 'percentage_anomalies': 0.6}\n",
      "CPU times: user 5.17 ms, sys: 0 ns, total: 5.17 ms\n",
      "Wall time: 4.56 ms\n"
     ]
    }
   ],
   "source": [
    "%%time\n",
    "\n",
    "import json\n",
    "import os\n",
    "\n",
    "def get_feedback(last_artifacts):\n",
    "    for last_artifact in last_artifacts:\n",
    "        if 'feedback' in last_artifact.path:\n",
    "            return last_artifact.path\n",
    "    \n",
    "feedback_artif_path = get_feedback(last_artifacts)\n",
    "print(feedback_artif_path)\n",
    "client.download_artifacts(run_id, \n",
    "                          feedback_artif_path,\n",
    "                          '/tmp/')\n",
    "\n",
    "feedback_local_path = os.path.join('/tmp', feedback_artif_path)\n",
    "with open(feedback_local_path) as fread:\n",
    "    data = json.load(fread)\n",
    "\n",
    "print(data)"
   ]
  },
  {
   "cell_type": "code",
   "execution_count": 117,
   "metadata": {},
   "outputs": [
    {
     "data": {
      "text/plain": [
       "array([1, 1, 0, 1, 0, 1, 0, 1, 0, 0])"
      ]
     },
     "execution_count": 117,
     "metadata": {},
     "output_type": "execute_result"
    }
   ],
   "source": [
    "import numpy as np\n",
    "\n",
    "np.random.choice([0, 1], size=(10,), p=[2./3, 1./3])"
   ]
  },
  {
   "cell_type": "code",
   "execution_count": 133,
   "metadata": {},
   "outputs": [
    {
     "data": {
      "text/html": [
       "<div>\n",
       "<style scoped>\n",
       "    .dataframe tbody tr th:only-of-type {\n",
       "        vertical-align: middle;\n",
       "    }\n",
       "\n",
       "    .dataframe tbody tr th {\n",
       "        vertical-align: top;\n",
       "    }\n",
       "\n",
       "    .dataframe thead th {\n",
       "        text-align: right;\n",
       "    }\n",
       "</style>\n",
       "<table border=\"1\" class=\"dataframe\">\n",
       "  <thead>\n",
       "    <tr style=\"text-align: right;\">\n",
       "      <th></th>\n",
       "      <th>input</th>\n",
       "    </tr>\n",
       "  </thead>\n",
       "  <tbody>\n",
       "    <tr>\n",
       "      <th>0</th>\n",
       "      <td>img0.jpg</td>\n",
       "    </tr>\n",
       "    <tr>\n",
       "      <th>1</th>\n",
       "      <td>img1.jpg</td>\n",
       "    </tr>\n",
       "    <tr>\n",
       "      <th>2</th>\n",
       "      <td>img2.jpg</td>\n",
       "    </tr>\n",
       "    <tr>\n",
       "      <th>3</th>\n",
       "      <td>img3.jpg</td>\n",
       "    </tr>\n",
       "    <tr>\n",
       "      <th>4</th>\n",
       "      <td>img4.jpg</td>\n",
       "    </tr>\n",
       "    <tr>\n",
       "      <th>5</th>\n",
       "      <td>img5.jpg</td>\n",
       "    </tr>\n",
       "    <tr>\n",
       "      <th>6</th>\n",
       "      <td>img6.jpg</td>\n",
       "    </tr>\n",
       "    <tr>\n",
       "      <th>7</th>\n",
       "      <td>img7.jpg</td>\n",
       "    </tr>\n",
       "    <tr>\n",
       "      <th>8</th>\n",
       "      <td>img8.jpg</td>\n",
       "    </tr>\n",
       "    <tr>\n",
       "      <th>9</th>\n",
       "      <td>img9.jpg</td>\n",
       "    </tr>\n",
       "  </tbody>\n",
       "</table>\n",
       "</div>"
      ],
      "text/plain": [
       "      input\n",
       "0  img0.jpg\n",
       "1  img1.jpg\n",
       "2  img2.jpg\n",
       "3  img3.jpg\n",
       "4  img4.jpg\n",
       "5  img5.jpg\n",
       "6  img6.jpg\n",
       "7  img7.jpg\n",
       "8  img8.jpg\n",
       "9  img9.jpg"
      ]
     },
     "execution_count": 133,
     "metadata": {},
     "output_type": "execute_result"
    }
   ],
   "source": [
    "import pandas as pd\n",
    "\n",
    "n_input = 10\n",
    "d_input = {'input': [f\"img{n}.jpg\" for n in range(n_input)]}\n",
    "input_df = pd.DataFrame(d_input)\n",
    "input_df"
   ]
  },
  {
   "cell_type": "code",
   "execution_count": 134,
   "metadata": {},
   "outputs": [],
   "source": [
    "input_df.to_csv('input.csv', index=False)\n",
    "with mlflow.start_run(experiment_id='0',\n",
    "                      run_name='input') as mlrun:\n",
    "    mlflow.log_artifact('input.csv', 'Input')\n"
   ]
  },
  {
   "cell_type": "code",
   "execution_count": 100,
   "metadata": {},
   "outputs": [
    {
     "data": {
      "text/plain": [
       "'/home/guess/Downloads/Anomaly/feedback_anomaly.json'"
      ]
     },
     "execution_count": 100,
     "metadata": {},
     "output_type": "execute_result"
    }
   ],
   "source": [
    "client.download_artifacts(run_id, 'Anomaly/feedback_anomaly.json', \n",
    "                          '/home/guess/Downloads')"
   ]
  },
  {
   "cell_type": "code",
   "execution_count": 152,
   "metadata": {},
   "outputs": [
    {
     "data": {
      "text/plain": [
       "{'feedback': {'n_anomalies': 1, 'percentage_anomalies': 0.1}}"
      ]
     },
     "execution_count": 152,
     "metadata": {},
     "output_type": "execute_result"
    }
   ],
   "source": [
    "import aiohttp\n",
    "import requests\n",
    "\n",
    "url = 'http://localhost:8011/checker/anomaly'\n",
    "content = {\"run_id\":\"95e9076278b8430292f734dd4d67b340\",\n",
    "          \"input\": \"Input/input.csv\"}\n",
    "\n",
    "async with aiohttp.ClientSession() as session:\n",
    "    async with session.post(url, json=content) as response:\n",
    "        result = await response.json()\n",
    "\n",
    "\n",
    "\n",
    "result"
   ]
  },
  {
   "cell_type": "code",
   "execution_count": 1,
   "metadata": {},
   "outputs": [
    {
     "data": {
      "text/plain": [
       "'1.14.1'"
      ]
     },
     "execution_count": 1,
     "metadata": {},
     "output_type": "execute_result"
    }
   ],
   "source": [
    "import mlflow\n",
    "mlflow.__version__"
   ]
  },
  {
   "cell_type": "code",
   "execution_count": 8,
   "metadata": {},
   "outputs": [
    {
     "name": "stderr",
     "output_type": "stream",
     "text": [
      "2021/03/18 16:49:54 INFO mlflow.tracking._model_registry.client: Waiting up to 300 seconds for model version to finish creation.                     Model name: RandomForestRegression, version 2\n"
     ]
    },
    {
     "name": "stdout",
     "output_type": "stream",
     "text": [
      "Name: RandomForestRegression\n",
      "Version: 2\n",
      "Description: A new version of the model\n",
      "Status: READY\n",
      "Stage: None\n"
     ]
    }
   ],
   "source": [
    "from mlflow.tracking import MlflowClient\n",
    "from sklearn.ensemble import RandomForestRegressor\n",
    "\n",
    "mlflow.set_tracking_uri(\"sqlite:///mydb.sqlite\")\n",
    "params = {\"n_estimators\": 3, \"random_state\": 42}\n",
    "name = \"RandomForestRegression\"\n",
    "rfr = RandomForestRegressor(**params).fit([[0, 1]], [1])\n",
    "# Log MLflow entities\n",
    "with mlflow.start_run() as run:\n",
    "    mlflow.log_params(params)\n",
    "    mlflow.sklearn.log_model(rfr, artifact_path=\"sklearn-model\")\n",
    "\n",
    "# Register model name in the model registry\n",
    "client = MlflowClient()\n",
    "# client.create_registered_model(name)\n",
    "\n",
    "# Create a new version of the rfr model under the registered model name\n",
    "desc = \"A new version of the model\"\n",
    "model_uri = \"runs:/{}/sklearn-model\".format(run.info.run_id)\n",
    "mv = client.create_model_version(name, model_uri, run.info.run_id, description=desc)\n",
    "print(\"Name: {}\".format(mv.name))\n",
    "print(\"Version: {}\".format(mv.version))\n",
    "print(\"Description: {}\".format(mv.description))\n",
    "print(\"Status: {}\".format(mv.status))\n",
    "print(\"Stage: {}\".format(mv.current_stage))"
   ]
  },
  {
   "cell_type": "code",
   "execution_count": 9,
   "metadata": {},
   "outputs": [],
   "source": [
    "import pandas as pd\n",
    "from sklearn import datasets\n",
    "from sklearn.ensemble import RandomForestClassifier\n",
    "import mlflow\n",
    "import mlflow.sklearn\n",
    "from mlflow.models.signature import infer_signature\n",
    "\n",
    "iris = datasets.load_iris()\n",
    "iris_train = pd.DataFrame(iris.data, columns=iris.feature_names)\n",
    "clf = RandomForestClassifier(max_depth=7, random_state=0)\n",
    "clf.fit(iris_train, iris.target)\n",
    "signature = infer_signature(iris_train, clf.predict(iris_train))\n",
    "mlflow.sklearn.log_model(clf, artifact_path=\"iris_rf\", signature=signature)"
   ]
  },
  {
   "cell_type": "code",
   "execution_count": 10,
   "metadata": {},
   "outputs": [
    {
     "name": "stdout",
     "output_type": "stream",
     "text": [
      "1875/1875 [==============================] - 18s 10ms/step - loss: 363.1356 - accuracy: 0.1087 - val_loss: 2.3015 - val_accuracy: 0.1135\n",
      "INFO:tensorflow:Assets written to: /tmp/tmp9tok352c/model/data/model/assets\n"
     ]
    }
   ],
   "source": [
    "from tensorflow.keras.utils import to_categorical\n",
    "from tensorflow.keras.datasets import mnist\n",
    "from tensorflow.keras.models import Sequential\n",
    "from tensorflow.keras.layers import Conv2D, MaxPooling2D, Dense, Flatten\n",
    "from tensorflow.keras.optimizers import SGD\n",
    "\n",
    "import mlflow\n",
    "import mlflow.keras\n",
    "from mlflow.models.signature import infer_signature\n",
    "\n",
    "(train_X, train_Y), (test_X, test_Y) = mnist.load_data()\n",
    "trainX = train_X.reshape((train_X.shape[0], 28, 28, 1))\n",
    "testX = test_X.reshape((test_X.shape[0], 28, 28, 1))\n",
    "trainY = to_categorical(train_Y)\n",
    "testY = to_categorical(test_Y)\n",
    "\n",
    "model = Sequential()\n",
    "model.add(Conv2D(32, (3, 3), activation='relu', kernel_initializer='he_uniform', input_shape=(28, 28, 1)))\n",
    "model.add(MaxPooling2D((2, 2)))\n",
    "model.add(Flatten())\n",
    "model.add(Dense(100, activation='relu', kernel_initializer='he_uniform'))\n",
    "model.add(Dense(10, activation='softmax'))\n",
    "opt = SGD(lr=0.01, momentum=0.9)\n",
    "model.compile(optimizer=opt, loss='categorical_crossentropy', metrics=['accuracy'])\n",
    "model.fit(trainX, trainY, epochs=1, batch_size=32, validation_data=(testX, testY))\n",
    "\n",
    "signature = infer_signature(testX, model.predict(testX))\n",
    "mlflow.keras.log_model(model, \"mnist_cnn\", signature=signature)"
   ]
  },
  {
   "cell_type": "code",
   "execution_count": null,
   "metadata": {},
   "outputs": [],
   "source": []
  }
 ],
 "metadata": {
  "kernelspec": {
   "display_name": "Python 3",
   "language": "python",
   "name": "python3"
  },
  "language_info": {
   "codemirror_mode": {
    "name": "ipython",
    "version": 3
   },
   "file_extension": ".py",
   "mimetype": "text/x-python",
   "name": "python",
   "nbconvert_exporter": "python",
   "pygments_lexer": "ipython3",
   "version": "3.7.5"
  }
 },
 "nbformat": 4,
 "nbformat_minor": 4
}
